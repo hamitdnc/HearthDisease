{
 "cells": [
  {
   "cell_type": "markdown",
   "id": "8b7929a7",
   "metadata": {
    "execution": {
     "iopub.execute_input": "2021-11-07T07:14:56.207902Z",
     "iopub.status.busy": "2021-11-07T07:14:56.207246Z",
     "iopub.status.idle": "2021-11-07T07:14:56.231358Z",
     "shell.execute_reply": "2021-11-07T07:14:56.230486Z",
     "shell.execute_reply.started": "2021-11-07T07:14:56.207777Z"
    },
    "papermill": {
     "duration": 0.043043,
     "end_time": "2021-11-17T11:37:04.315931",
     "exception": false,
     "start_time": "2021-11-17T11:37:04.272888",
     "status": "completed"
    },
    "tags": []
   },
   "source": [
    "<font size=\"5\"><b><center> Heart failure prediction ❤🚑🏥</center></b></font>\n",
    "\n",
    "<center><img src=\"https://media.giphy.com/media/yeUxljCJjH1rW/giphy.gif\" style=\"width:480px;height:280px;\"></center>\n"
   ]
  },
  {
   "cell_type": "markdown",
   "id": "aa43cd36",
   "metadata": {
    "papermill": {
     "duration": 0.041942,
     "end_time": "2021-11-17T11:37:04.400123",
     "exception": false,
     "start_time": "2021-11-17T11:37:04.358181",
     "status": "completed"
    },
    "tags": []
   },
   "source": [
    "## 🔺Introduction\n",
    "\n",
    "<font size=\"4\">In this modern era people are very busy and working hard in order to satisfying their materialistic needs and not able to spend time for themselves which leads to physical stress and mental disorder. There are also reports that heart suffer because of global pandemic corona virus. Inflammation of the heart muscle can be caused by corona virus. Thus heart disease is very common now a day’s particularly in urban areas because of excess mental stress due to corona virus. As a result Heart disease has become one of the most important factors for death of men and women in the so called material world (Sahoo,2020). </font>\n",
    "\n",
    "<font size=\"4\">Cardiovascular diseases (CVDs) are the number 1 cause of death globally, taking an estimated 17.9 million lives each year, which accounts for 31% of all deaths worldwide. Four out of 5CVD deaths are due to heart attacks and strokes, and one-third of these deaths occur prematurely in people under 70 years of age. Heart failure is a common event caused by CVDs and this dataset contains 11 features that can be used to predict a possible heart disease. Both linear and machine learning models are used to predict heart failure based on various data as inputs. </font>"
   ]
  },
  {
   "cell_type": "markdown",
   "id": "3a13b33f",
   "metadata": {
    "papermill": {
     "duration": 0.042277,
     "end_time": "2021-11-17T11:37:04.485106",
     "exception": false,
     "start_time": "2021-11-17T11:37:04.442829",
     "status": "completed"
    },
    "tags": []
   },
   "source": [
    "## 🎯Objectives\n",
    "\n",
    "<font size=\"4\">People with cardiovascular disease or who are at high cardiovascular risk (due to the presence of one or more risk factors such as hypertension, diabetes, hyperlipidaemia or already established disease) need early detection and management wherein a machine learning model can be of great help. hence the main objective is <span style=\"color:red;\">to predict if some one is at high risk of being diagnoised as a heart patient.</span></font>\n",
    "\n",
    "<font size=\"4\">When a person has risk factors, their doctor can refer them to a cardiologist for further testing. These tests include a coronary calcium scan(CT) scan that takes pictures of the arteries to check for calcified plaque in the arteries, and a CT angiogram, which uses X-rays to provide detailed pictures of the heart and the blood vessels to look for disease. source: <a href=\"https://www.montefiorenyack.org/highland/press/early-detection-of-heart-disease-can-keep-you-healthy\">click here</a> </font>"
   ]
  },
  {
   "cell_type": "markdown",
   "id": "642e0be3",
   "metadata": {
    "papermill": {
     "duration": 0.040764,
     "end_time": "2021-11-17T11:37:04.567533",
     "exception": false,
     "start_time": "2021-11-17T11:37:04.526769",
     "status": "completed"
    },
    "tags": []
   },
   "source": [
    "## 🩺Description of the dataset\n",
    "\n",
    "<font size=\"4\">This dataset has created by combining different datasets already available independently but not combined before. In this dataset, 5 heart datasets are combined over 11 common features which makes it the largest heart disease dataset available so far for research purposes.</font>"
   ]
  },
  {
   "cell_type": "markdown",
   "id": "2b00f9e9",
   "metadata": {
    "papermill": {
     "duration": 0.041053,
     "end_time": "2021-11-17T11:37:04.649499",
     "exception": false,
     "start_time": "2021-11-17T11:37:04.608446",
     "status": "completed"
    },
    "tags": []
   },
   "source": [
    "<font size=\"4\">Here's a brief version of the data description file.</font>\n",
    "\n",
    "* Age: age of the patient [years]\n",
    "* Sex: sex of the patient [M: Male, F: Female]\n",
    "* ChestPainType: chest pain type [TA: Typical Angina, ATA: Atypical Angina, NAP: Non-Anginal Pain, ASY: Asymptomatic]\n",
    "* RestingBP: resting blood pressure [mm Hg]\n",
    "* Cholesterol: serum cholesterol [mm/dl]\n",
    "* FastingBS: fasting blood sugar [1: if FastingBS > 120 mg/dl, 0: otherwise]\n",
    "* RestingECG: resting electrocardiogram results [Normal: Normal, ST: having ST-T wave abnormality (T wave inversions and/or ST elevation or depression of > 0.05 mV), LVH: showing probable or definite left ventricular hypertrophy by Estes' criteria]\n",
    "* MaxHR: maximum heart rate achieved [Numeric value between 60 and 202]\n",
    "* ExerciseAngina: exercise-induced angina [Y: Yes, N: No]\n",
    "* Oldpeak: oldpeak = ST [Numeric value measured in depression]\n",
    "* ST_Slope: the slope of the peak exercise ST segment [Up: upsloping, Flat: flat, Down: downsloping]\n",
    "* HeartDisease: output class [1: heart disease, 0: Normal]"
   ]
  },
  {
   "cell_type": "markdown",
   "id": "bab893de",
   "metadata": {
    "papermill": {
     "duration": 0.040765,
     "end_time": "2021-11-17T11:37:04.731403",
     "exception": false,
     "start_time": "2021-11-17T11:37:04.690638",
     "status": "completed"
    },
    "tags": []
   },
   "source": [
    "### ✨Importing the dataset"
   ]
  },
  {
   "cell_type": "code",
   "execution_count": 1,
   "id": "00482204",
   "metadata": {
    "_cell_guid": "b1076dfc-b9ad-4769-8c92-a6c4dae69d19",
    "_uuid": "8f2839f25d086af736a60e9eeb907d3b93b6e0e5",
    "execution": {
     "iopub.execute_input": "2021-11-17T11:37:04.819762Z",
     "iopub.status.busy": "2021-11-17T11:37:04.818544Z",
     "iopub.status.idle": "2021-11-17T11:37:05.735270Z",
     "shell.execute_reply": "2021-11-17T11:37:05.734440Z",
     "shell.execute_reply.started": "2021-11-07T06:33:16.164581Z"
    },
    "papermill": {
     "duration": 0.962524,
     "end_time": "2021-11-17T11:37:05.735482",
     "exception": false,
     "start_time": "2021-11-17T11:37:04.772958",
     "status": "completed"
    },
    "tags": []
   },
   "outputs": [],
   "source": [
    "#importing libraries\n",
    "import numpy as np\n",
    "import pandas as pd\n",
    "import matplotlib.pyplot as plt\n",
    "import seaborn as sns"
   ]
  },
  {
   "cell_type": "code",
   "execution_count": 2,
   "id": "1c9ef8b1",
   "metadata": {
    "execution": {
     "iopub.execute_input": "2021-11-17T11:37:05.913460Z",
     "iopub.status.busy": "2021-11-17T11:37:05.912734Z",
     "iopub.status.idle": "2021-11-17T11:37:05.922261Z",
     "shell.execute_reply": "2021-11-17T11:37:05.921701Z",
     "shell.execute_reply.started": "2021-11-07T06:33:16.53918Z"
    },
    "papermill": {
     "duration": 0.057169,
     "end_time": "2021-11-17T11:37:05.922430",
     "exception": false,
     "start_time": "2021-11-17T11:37:05.865261",
     "status": "completed"
    },
    "tags": []
   },
   "outputs": [
    {
     "name": "stdout",
     "output_type": "stream",
     "text": [
      "/kaggle/input/heart-failure-prediction/heart.csv\n"
     ]
    }
   ],
   "source": [
    "import os\n",
    "for dirname, _, filenames in os.walk('/kaggle/input'):\n",
    "    for filename in filenames:\n",
    "        print(os.path.join(dirname, filename))\n",
    "import warnings\n",
    "warnings.filterwarnings(\"ignore\")"
   ]
  },
  {
   "cell_type": "code",
   "execution_count": 3,
   "id": "c77710de",
   "metadata": {
    "execution": {
     "iopub.execute_input": "2021-11-17T11:37:06.013782Z",
     "iopub.status.busy": "2021-11-17T11:37:06.013051Z",
     "iopub.status.idle": "2021-11-17T11:37:06.036776Z",
     "shell.execute_reply": "2021-11-17T11:37:06.037334Z",
     "shell.execute_reply.started": "2021-11-07T06:33:16.549628Z"
    },
    "papermill": {
     "duration": 0.07235,
     "end_time": "2021-11-17T11:37:06.037546",
     "exception": false,
     "start_time": "2021-11-17T11:37:05.965196",
     "status": "completed"
    },
    "tags": []
   },
   "outputs": [
    {
     "data": {
      "text/plain": [
       "(918, 12)"
      ]
     },
     "execution_count": 3,
     "metadata": {},
     "output_type": "execute_result"
    }
   ],
   "source": [
    "df = pd.read_csv('/kaggle/input/heart-failure-prediction/heart.csv')\n",
    "df.shape"
   ]
  },
  {
   "cell_type": "code",
   "execution_count": 4,
   "id": "ff074d95",
   "metadata": {
    "execution": {
     "iopub.execute_input": "2021-11-17T11:37:06.126989Z",
     "iopub.status.busy": "2021-11-17T11:37:06.126167Z",
     "iopub.status.idle": "2021-11-17T11:37:06.146536Z",
     "shell.execute_reply": "2021-11-17T11:37:06.147072Z",
     "shell.execute_reply.started": "2021-11-07T06:33:16.57975Z"
    },
    "papermill": {
     "duration": 0.06662,
     "end_time": "2021-11-17T11:37:06.147284",
     "exception": false,
     "start_time": "2021-11-17T11:37:06.080664",
     "status": "completed"
    },
    "tags": []
   },
   "outputs": [
    {
     "data": {
      "text/html": [
       "<div>\n",
       "<style scoped>\n",
       "    .dataframe tbody tr th:only-of-type {\n",
       "        vertical-align: middle;\n",
       "    }\n",
       "\n",
       "    .dataframe tbody tr th {\n",
       "        vertical-align: top;\n",
       "    }\n",
       "\n",
       "    .dataframe thead th {\n",
       "        text-align: right;\n",
       "    }\n",
       "</style>\n",
       "<table border=\"1\" class=\"dataframe\">\n",
       "  <thead>\n",
       "    <tr style=\"text-align: right;\">\n",
       "      <th></th>\n",
       "      <th>Age</th>\n",
       "      <th>Sex</th>\n",
       "      <th>ChestPainType</th>\n",
       "      <th>RestingBP</th>\n",
       "      <th>Cholesterol</th>\n",
       "      <th>FastingBS</th>\n",
       "      <th>RestingECG</th>\n",
       "      <th>MaxHR</th>\n",
       "      <th>ExerciseAngina</th>\n",
       "      <th>Oldpeak</th>\n",
       "      <th>ST_Slope</th>\n",
       "      <th>HeartDisease</th>\n",
       "    </tr>\n",
       "  </thead>\n",
       "  <tbody>\n",
       "    <tr>\n",
       "      <th>0</th>\n",
       "      <td>40</td>\n",
       "      <td>M</td>\n",
       "      <td>ATA</td>\n",
       "      <td>140</td>\n",
       "      <td>289</td>\n",
       "      <td>0</td>\n",
       "      <td>Normal</td>\n",
       "      <td>172</td>\n",
       "      <td>N</td>\n",
       "      <td>0.0</td>\n",
       "      <td>Up</td>\n",
       "      <td>0</td>\n",
       "    </tr>\n",
       "    <tr>\n",
       "      <th>1</th>\n",
       "      <td>49</td>\n",
       "      <td>F</td>\n",
       "      <td>NAP</td>\n",
       "      <td>160</td>\n",
       "      <td>180</td>\n",
       "      <td>0</td>\n",
       "      <td>Normal</td>\n",
       "      <td>156</td>\n",
       "      <td>N</td>\n",
       "      <td>1.0</td>\n",
       "      <td>Flat</td>\n",
       "      <td>1</td>\n",
       "    </tr>\n",
       "    <tr>\n",
       "      <th>2</th>\n",
       "      <td>37</td>\n",
       "      <td>M</td>\n",
       "      <td>ATA</td>\n",
       "      <td>130</td>\n",
       "      <td>283</td>\n",
       "      <td>0</td>\n",
       "      <td>ST</td>\n",
       "      <td>98</td>\n",
       "      <td>N</td>\n",
       "      <td>0.0</td>\n",
       "      <td>Up</td>\n",
       "      <td>0</td>\n",
       "    </tr>\n",
       "    <tr>\n",
       "      <th>3</th>\n",
       "      <td>48</td>\n",
       "      <td>F</td>\n",
       "      <td>ASY</td>\n",
       "      <td>138</td>\n",
       "      <td>214</td>\n",
       "      <td>0</td>\n",
       "      <td>Normal</td>\n",
       "      <td>108</td>\n",
       "      <td>Y</td>\n",
       "      <td>1.5</td>\n",
       "      <td>Flat</td>\n",
       "      <td>1</td>\n",
       "    </tr>\n",
       "    <tr>\n",
       "      <th>4</th>\n",
       "      <td>54</td>\n",
       "      <td>M</td>\n",
       "      <td>NAP</td>\n",
       "      <td>150</td>\n",
       "      <td>195</td>\n",
       "      <td>0</td>\n",
       "      <td>Normal</td>\n",
       "      <td>122</td>\n",
       "      <td>N</td>\n",
       "      <td>0.0</td>\n",
       "      <td>Up</td>\n",
       "      <td>0</td>\n",
       "    </tr>\n",
       "  </tbody>\n",
       "</table>\n",
       "</div>"
      ],
      "text/plain": [
       "   Age Sex ChestPainType  RestingBP  Cholesterol  FastingBS RestingECG  MaxHR  \\\n",
       "0   40   M           ATA        140          289          0     Normal    172   \n",
       "1   49   F           NAP        160          180          0     Normal    156   \n",
       "2   37   M           ATA        130          283          0         ST     98   \n",
       "3   48   F           ASY        138          214          0     Normal    108   \n",
       "4   54   M           NAP        150          195          0     Normal    122   \n",
       "\n",
       "  ExerciseAngina  Oldpeak ST_Slope  HeartDisease  \n",
       "0              N      0.0       Up             0  \n",
       "1              N      1.0     Flat             1  \n",
       "2              N      0.0       Up             0  \n",
       "3              Y      1.5     Flat             1  \n",
       "4              N      0.0       Up             0  "
      ]
     },
     "execution_count": 4,
     "metadata": {},
     "output_type": "execute_result"
    }
   ],
   "source": [
    "df.head()"
   ]
  },
  {
   "cell_type": "code",
   "execution_count": 5,
   "id": "2d27269e",
   "metadata": {
    "execution": {
     "iopub.execute_input": "2021-11-17T11:37:06.238214Z",
     "iopub.status.busy": "2021-11-17T11:37:06.237464Z",
     "iopub.status.idle": "2021-11-17T11:37:06.243209Z",
     "shell.execute_reply": "2021-11-17T11:37:06.243727Z",
     "shell.execute_reply.started": "2021-11-07T06:33:16.599291Z"
    },
    "papermill": {
     "duration": 0.053312,
     "end_time": "2021-11-17T11:37:06.243929",
     "exception": false,
     "start_time": "2021-11-17T11:37:06.190617",
     "status": "completed"
    },
    "tags": []
   },
   "outputs": [
    {
     "data": {
      "text/plain": [
       "Age                 int64\n",
       "Sex                object\n",
       "ChestPainType      object\n",
       "RestingBP           int64\n",
       "Cholesterol         int64\n",
       "FastingBS           int64\n",
       "RestingECG         object\n",
       "MaxHR               int64\n",
       "ExerciseAngina     object\n",
       "Oldpeak           float64\n",
       "ST_Slope           object\n",
       "HeartDisease        int64\n",
       "dtype: object"
      ]
     },
     "execution_count": 5,
     "metadata": {},
     "output_type": "execute_result"
    }
   ],
   "source": [
    "df.dtypes"
   ]
  },
  {
   "cell_type": "code",
   "execution_count": 6,
   "id": "550ec8a7",
   "metadata": {
    "execution": {
     "iopub.execute_input": "2021-11-17T11:37:06.336209Z",
     "iopub.status.busy": "2021-11-17T11:37:06.334208Z",
     "iopub.status.idle": "2021-11-17T11:37:06.358895Z",
     "shell.execute_reply": "2021-11-17T11:37:06.359441Z",
     "shell.execute_reply.started": "2021-11-07T06:33:16.607698Z"
    },
    "papermill": {
     "duration": 0.071852,
     "end_time": "2021-11-17T11:37:06.359678",
     "exception": false,
     "start_time": "2021-11-17T11:37:06.287826",
     "status": "completed"
    },
    "tags": []
   },
   "outputs": [
    {
     "name": "stdout",
     "output_type": "stream",
     "text": [
      "<class 'pandas.core.frame.DataFrame'>\n",
      "RangeIndex: 918 entries, 0 to 917\n",
      "Data columns (total 12 columns):\n",
      " #   Column          Non-Null Count  Dtype  \n",
      "---  ------          --------------  -----  \n",
      " 0   Age             918 non-null    int64  \n",
      " 1   Sex             918 non-null    object \n",
      " 2   ChestPainType   918 non-null    object \n",
      " 3   RestingBP       918 non-null    int64  \n",
      " 4   Cholesterol     918 non-null    int64  \n",
      " 5   FastingBS       918 non-null    int64  \n",
      " 6   RestingECG      918 non-null    object \n",
      " 7   MaxHR           918 non-null    int64  \n",
      " 8   ExerciseAngina  918 non-null    object \n",
      " 9   Oldpeak         918 non-null    float64\n",
      " 10  ST_Slope        918 non-null    object \n",
      " 11  HeartDisease    918 non-null    int64  \n",
      "dtypes: float64(1), int64(6), object(5)\n",
      "memory usage: 86.2+ KB\n"
     ]
    }
   ],
   "source": [
    "df.info()"
   ]
  },
  {
   "cell_type": "markdown",
   "id": "c9ad8b6b",
   "metadata": {
    "papermill": {
     "duration": 0.04325,
     "end_time": "2021-11-17T11:37:06.449388",
     "exception": false,
     "start_time": "2021-11-17T11:37:06.406138",
     "status": "completed"
    },
    "tags": []
   },
   "source": [
    "## 👨‍⚕️ Main findings of descriptive analysis"
   ]
  },
  {
   "cell_type": "code",
   "execution_count": 7,
   "id": "450ea381",
   "metadata": {
    "execution": {
     "iopub.execute_input": "2021-11-17T11:37:06.540045Z",
     "iopub.status.busy": "2021-11-17T11:37:06.539331Z",
     "iopub.status.idle": "2021-11-17T11:37:06.959832Z",
     "shell.execute_reply": "2021-11-17T11:37:06.960342Z",
     "shell.execute_reply.started": "2021-11-07T06:33:16.628853Z"
    },
    "papermill": {
     "duration": 0.467664,
     "end_time": "2021-11-17T11:37:06.960515",
     "exception": false,
     "start_time": "2021-11-17T11:37:06.492851",
     "status": "completed"
    },
    "tags": []
   },
   "outputs": [
    {
     "data": {
      "text/plain": [
       "<AxesSubplot:>"
      ]
     },
     "execution_count": 7,
     "metadata": {},
     "output_type": "execute_result"
    },
    {
     "data": {
      "image/png": "[encoded data removed]",
      "text/plain": [
       "<Figure size 432x288 with 1 Axes>"
      ]
     },
     "metadata": {
      "needs_background": "light"
     },
     "output_type": "display_data"
    }
   ],
   "source": [
    "sns.heatmap(df.isnull(),yticklabels=False,cbar=False)"
   ]
  },
  {
   "cell_type": "markdown",
   "id": "8d5e73ca",
   "metadata": {
    "papermill": {
     "duration": 0.045123,
     "end_time": "2021-11-17T11:37:07.051169",
     "exception": false,
     "start_time": "2021-11-17T11:37:07.006046",
     "status": "completed"
    },
    "tags": []
   },
   "source": [
    "<font size=\"4\"> There are no missing values in this dataset. </font>"
   ]
  },
  {
   "cell_type": "code",
   "execution_count": 8,
   "id": "7ef75aaf",
   "metadata": {
    "execution": {
     "iopub.execute_input": "2021-11-17T11:37:07.150445Z",
     "iopub.status.busy": "2021-11-17T11:37:07.148795Z",
     "iopub.status.idle": "2021-11-17T11:37:07.158751Z",
     "shell.execute_reply": "2021-11-17T11:37:07.158015Z",
     "shell.execute_reply.started": "2021-11-07T06:33:16.883617Z"
    },
    "papermill": {
     "duration": 0.063131,
     "end_time": "2021-11-17T11:37:07.158923",
     "exception": false,
     "start_time": "2021-11-17T11:37:07.095792",
     "status": "completed"
    },
    "tags": []
   },
   "outputs": [
    {
     "name": "stdout",
     "output_type": "stream",
     "text": [
      "The dataset contains 5 categorical columns\n",
      "Sex : 2 labels\n",
      "ChestPainType : 4 labels\n",
      "RestingECG : 3 labels\n",
      "ExerciseAngina : 2 labels\n",
      "ST_Slope : 3 labels\n"
     ]
    }
   ],
   "source": [
    "categorical_cols= df.select_dtypes(include=['object'])\n",
    "print(f'The dataset contains {len(categorical_cols.columns.tolist())} categorical columns')\n",
    "for cols in categorical_cols.columns:\n",
    "    print(cols,':', len(categorical_cols[cols].unique()),'labels')"
   ]
  },
  {
   "cell_type": "code",
   "execution_count": 9,
   "id": "66e303cf",
   "metadata": {
    "execution": {
     "iopub.execute_input": "2021-11-17T11:37:07.255470Z",
     "iopub.status.busy": "2021-11-17T11:37:07.254423Z",
     "iopub.status.idle": "2021-11-17T11:37:07.444537Z",
     "shell.execute_reply": "2021-11-17T11:37:07.443781Z",
     "shell.execute_reply.started": "2021-11-07T06:33:16.89917Z"
    },
    "papermill": {
     "duration": 0.239057,
     "end_time": "2021-11-17T11:37:07.444741",
     "exception": false,
     "start_time": "2021-11-17T11:37:07.205684",
     "status": "completed"
    },
    "tags": []
   },
   "outputs": [],
   "source": [
    "#dividing the dataset into train and test sets\n",
    "from sklearn.model_selection import train_test_split\n",
    "train, test = train_test_split(df,test_size=0.2,random_state= 1234)"
   ]
  },
  {
   "cell_type": "code",
   "execution_count": 10,
   "id": "35553a03",
   "metadata": {
    "execution": {
     "iopub.execute_input": "2021-11-17T11:37:07.544694Z",
     "iopub.status.busy": "2021-11-17T11:37:07.543939Z",
     "iopub.status.idle": "2021-11-17T11:37:07.679985Z",
     "shell.execute_reply": "2021-11-17T11:37:07.679410Z",
     "shell.execute_reply.started": "2021-11-07T06:33:17.080394Z"
    },
    "papermill": {
     "duration": 0.189395,
     "end_time": "2021-11-17T11:37:07.680150",
     "exception": false,
     "start_time": "2021-11-17T11:37:07.490755",
     "status": "completed"
    },
    "tags": []
   },
   "outputs": [
    {
     "data": {
      "text/html": [
       "        <script type=\"text/javascript\">\n",
       "        window.PlotlyConfig = {MathJaxConfig: 'local'};\n",
       "        if (window.MathJax) {MathJax.Hub.Config({SVG: {font: \"STIX-Web\"}});}\n",
       "        if (typeof require !== 'undefined') {\n",
       "        require.undef(\"plotly\");\n",
       "        requirejs.config({\n",
       "            paths: {\n",
       "                'plotly': ['https://cdn.plot.ly/plotly-2.4.2.min']\n",
       "            }\n",
       "        });\n",
       "        require(['plotly'], function(Plotly) {\n",
       "            window._Plotly = Plotly;\n",
       "        });\n",
       "        }\n",
       "        </script>\n",
       "        "
      ]
     },
     "metadata": {},
     "output_type": "display_data"
    },
    {
     "data": {
      "text/html": [
       "<div>                            <div id=\"f3c5b317-54af-4c96-8ba1-c76264c7395f\" class=\"plotly-graph-div\" style=\"height:525px; width:100%;\"></div>            <script type=\"text/javascript\">                require([\"plotly\"], function(Plotly) {                    window.PLOTLYENV=window.PLOTLYENV || {};                                    if (document.getElementById(\"f3c5b317-54af-4c96-8ba1-c76264c7395f\")) {                    Plotly.newPlot(                        \"f3c5b317-54af-4c96-8ba1-c76264c7395f\",                        [{\"hole\":0.3,\"labels\":[\"ASY\",\"NAP\",\"ATA\",\"TA\"],\"pull\":[0,0,0.06,0],\"type\":\"pie\",\"values\":[391,167,135,41]}],                        {\"template\":{\"data\":{\"bar\":[{\"error_x\":{\"color\":\"#2a3f5f\"},\"error_y\":{\"color\":\"#2a3f5f\"},\"marker\":{\"line\":{\"color\":\"#E5ECF6\",\"width\":0.5},\"pattern\":{\"fillmode\":\"overlay\",\"size\":10,\"solidity\":0.2}},\"type\":\"bar\"}],\"barpolar\":[{\"marker\":{\"line\":{\"color\":\"#E5ECF6\",\"width\":0.5},\"pattern\":{\"fillmode\":\"overlay\",\"size\":10,\"solidity\":0.2}},\"type\":\"barpolar\"}],\"carpet\":[{\"aaxis\":{\"endlinecolor\":\"#2a3f5f\",\"gridcolor\":\"white\",\"linecolor\":\"white\",\"minorgridcolor\":\"white\",\"startlinecolor\":\"#2a3f5f\"},\"baxis\":{\"endlinecolor\":\"#2a3f5f\",\"gridcolor\":\"white\",\"linecolor\":\"white\",\"minorgridcolor\":\"white\",\"startlinecolor\":\"#2a3f5f\"},\"type\":\"carpet\"}],\"choropleth\":[{\"colorbar\":{\"outlinewidth\":0,\"ticks\":\"\"},\"type\":\"choropleth\"}],\"contour\":[{\"colorbar\":{\"outlinewidth\":0,\"ticks\":\"\"},\"colorscale\":[[0.0,\"#0d0887\"],[0.1111111111111111,\"#46039f\"],[0.2222222222222222,\"#7201a8\"],[0.3333333333333333,\"#9c179e\"],[0.4444444444444444,\"#bd3786\"],[0.5555555555555556,\"#d8576b\"],[0.6666666666666666,\"#ed7953\"],[0.7777777777777778,\"#fb9f3a\"],[0.8888888888888888,\"#fdca26\"],[1.0,\"#f0f921\"]],\"type\":\"contour\"}],\"contourcarpet\":[{\"colorbar\":{\"outlinewidth\":0,\"ticks\":\"\"},\"type\":\"contourcarpet\"}],\"heatmap\":[{\"colorbar\":{\"outlinewidth\":0,\"ticks\":\"\"},\"colorscale\":[[0.0,\"#0d0887\"],[0.1111111111111111,\"#46039f\"],[0.2222222222222222,\"#7201a8\"],[0.3333333333333333,\"#9c179e\"],[0.4444444444444444,\"#bd3786\"],[0.5555555555555556,\"#d8576b\"],[0.6666666666666666,\"#ed7953\"],[0.7777777777777778,\"#fb9f3a\"],[0.8888888888888888,\"#fdca26\"],[1.0,\"#f0f921\"]],\"type\":\"heatmap\"}],\"heatmapgl\":[{\"colorbar\":{\"outlinewidth\":0,\"ticks\":\"\"},\"colorscale\":[[0.0,\"#0d0887\"],[0.1111111111111111,\"#46039f\"],[0.2222222222222222,\"#7201a8\"],[0.3333333333333333,\"#9c179e\"],[0.4444444444444444,\"#bd3786\"],[0.5555555555555556,\"#d8576b\"],[0.6666666666666666,\"#ed7953\"],[0.7777777777777778,\"#fb9f3a\"],[0.8888888888888888,\"#fdca26\"],[1.0,\"#f0f921\"]],\"type\":\"heatmapgl\"}],\"histogram\":[{\"marker\":{\"pattern\":{\"fillmode\":\"overlay\",\"size\":10,\"solidity\":0.2}},\"type\":\"histogram\"}],\"histogram2d\":[{\"colorbar\":{\"outlinewidth\":0,\"ticks\":\"\"},\"colorscale\":[[0.0,\"#0d0887\"],[0.1111111111111111,\"#46039f\"],[0.2222222222222222,\"#7201a8\"],[0.3333333333333333,\"#9c179e\"],[0.4444444444444444,\"#bd3786\"],[0.5555555555555556,\"#d8576b\"],[0.6666666666666666,\"#ed7953\"],[0.7777777777777778,\"#fb9f3a\"],[0.8888888888888888,\"#fdca26\"],[1.0,\"#f0f921\"]],\"type\":\"histogram2d\"}],\"histogram2dcontour\":[{\"colorbar\":{\"outlinewidth\":0,\"ticks\":\"\"},\"colorscale\":[[0.0,\"#0d0887\"],[0.1111111111111111,\"#46039f\"],[0.2222222222222222,\"#7201a8\"],[0.3333333333333333,\"#9c179e\"],[0.4444444444444444,\"#bd3786\"],[0.5555555555555556,\"#d8576b\"],[0.6666666666666666,\"#ed7953\"],[0.7777777777777778,\"#fb9f3a\"],[0.8888888888888888,\"#fdca26\"],[1.0,\"#f0f921\"]],\"type\":\"histogram2dcontour\"}],\"mesh3d\":[{\"colorbar\":{\"outlinewidth\":0,\"ticks\":\"\"},\"type\":\"mesh3d\"}],\"parcoords\":[{\"line\":{\"colorbar\":{\"outlinewidth\":0,\"ticks\":\"\"}},\"type\":\"parcoords\"}],\"pie\":[{\"automargin\":true,\"type\":\"pie\"}],\"scatter\":[{\"marker\":{\"colorbar\":{\"outlinewidth\":0,\"ticks\":\"\"}},\"type\":\"scatter\"}],\"scatter3d\":[{\"line\":{\"colorbar\":{\"outlinewidth\":0,\"ticks\":\"\"}},\"marker\":{\"colorbar\":{\"outlinewidth\":0,\"ticks\":\"\"}},\"type\":\"scatter3d\"}],\"scattercarpet\":[{\"marker\":{\"colorbar\":{\"outlinewidth\":0,\"ticks\":\"\"}},\"type\":\"scattercarpet\"}],\"scattergeo\":[{\"marker\":{\"colorbar\":{\"outlinewidth\":0,\"ticks\":\"\"}},\"type\":\"scattergeo\"}],\"scattergl\":[{\"marker\":{\"colorbar\":{\"outlinewidth\":0,\"ticks\":\"\"}},\"type\":\"scattergl\"}],\"scattermapbox\":[{\"marker\":{\"colorbar\":{\"outlinewidth\":0,\"ticks\":\"\"}},\"type\":\"scattermapbox\"}],\"scatterpolar\":[{\"marker\":{\"colorbar\":{\"outlinewidth\":0,\"ticks\":\"\"}},\"type\":\"scatterpolar\"}],\"scatterpolargl\":[{\"marker\":{\"colorbar\":{\"outlinewidth\":0,\"ticks\":\"\"}},\"type\":\"scatterpolargl\"}],\"scatterternary\":[{\"marker\":{\"colorbar\":{\"outlinewidth\":0,\"ticks\":\"\"}},\"type\":\"scatterternary\"}],\"surface\":[{\"colorbar\":{\"outlinewidth\":0,\"ticks\":\"\"},\"colorscale\":[[0.0,\"#0d0887\"],[0.1111111111111111,\"#46039f\"],[0.2222222222222222,\"#7201a8\"],[0.3333333333333333,\"#9c179e\"],[0.4444444444444444,\"#bd3786\"],[0.5555555555555556,\"#d8576b\"],[0.6666666666666666,\"#ed7953\"],[0.7777777777777778,\"#fb9f3a\"],[0.8888888888888888,\"#fdca26\"],[1.0,\"#f0f921\"]],\"type\":\"surface\"}],\"table\":[{\"cells\":{\"fill\":{\"color\":\"#EBF0F8\"},\"line\":{\"color\":\"white\"}},\"header\":{\"fill\":{\"color\":\"#C8D4E3\"},\"line\":{\"color\":\"white\"}},\"type\":\"table\"}]},\"layout\":{\"annotationdefaults\":{\"arrowcolor\":\"#2a3f5f\",\"arrowhead\":0,\"arrowwidth\":1},\"autotypenumbers\":\"strict\",\"coloraxis\":{\"colorbar\":{\"outlinewidth\":0,\"ticks\":\"\"}},\"colorscale\":{\"diverging\":[[0,\"#8e0152\"],[0.1,\"#c51b7d\"],[0.2,\"#de77ae\"],[0.3,\"#f1b6da\"],[0.4,\"#fde0ef\"],[0.5,\"#f7f7f7\"],[0.6,\"#e6f5d0\"],[0.7,\"#b8e186\"],[0.8,\"#7fbc41\"],[0.9,\"#4d9221\"],[1,\"#276419\"]],\"sequential\":[[0.0,\"#0d0887\"],[0.1111111111111111,\"#46039f\"],[0.2222222222222222,\"#7201a8\"],[0.3333333333333333,\"#9c179e\"],[0.4444444444444444,\"#bd3786\"],[0.5555555555555556,\"#d8576b\"],[0.6666666666666666,\"#ed7953\"],[0.7777777777777778,\"#fb9f3a\"],[0.8888888888888888,\"#fdca26\"],[1.0,\"#f0f921\"]],\"sequentialminus\":[[0.0,\"#0d0887\"],[0.1111111111111111,\"#46039f\"],[0.2222222222222222,\"#7201a8\"],[0.3333333333333333,\"#9c179e\"],[0.4444444444444444,\"#bd3786\"],[0.5555555555555556,\"#d8576b\"],[0.6666666666666666,\"#ed7953\"],[0.7777777777777778,\"#fb9f3a\"],[0.8888888888888888,\"#fdca26\"],[1.0,\"#f0f921\"]]},\"colorway\":[\"#636efa\",\"#EF553B\",\"#00cc96\",\"#ab63fa\",\"#FFA15A\",\"#19d3f3\",\"#FF6692\",\"#B6E880\",\"#FF97FF\",\"#FECB52\"],\"font\":{\"color\":\"#2a3f5f\"},\"geo\":{\"bgcolor\":\"white\",\"lakecolor\":\"white\",\"landcolor\":\"#E5ECF6\",\"showlakes\":true,\"showland\":true,\"subunitcolor\":\"white\"},\"hoverlabel\":{\"align\":\"left\"},\"hovermode\":\"closest\",\"mapbox\":{\"style\":\"light\"},\"paper_bgcolor\":\"white\",\"plot_bgcolor\":\"#E5ECF6\",\"polar\":{\"angularaxis\":{\"gridcolor\":\"white\",\"linecolor\":\"white\",\"ticks\":\"\"},\"bgcolor\":\"#E5ECF6\",\"radialaxis\":{\"gridcolor\":\"white\",\"linecolor\":\"white\",\"ticks\":\"\"}},\"scene\":{\"xaxis\":{\"backgroundcolor\":\"#E5ECF6\",\"gridcolor\":\"white\",\"gridwidth\":2,\"linecolor\":\"white\",\"showbackground\":true,\"ticks\":\"\",\"zerolinecolor\":\"white\"},\"yaxis\":{\"backgroundcolor\":\"#E5ECF6\",\"gridcolor\":\"white\",\"gridwidth\":2,\"linecolor\":\"white\",\"showbackground\":true,\"ticks\":\"\",\"zerolinecolor\":\"white\"},\"zaxis\":{\"backgroundcolor\":\"#E5ECF6\",\"gridcolor\":\"white\",\"gridwidth\":2,\"linecolor\":\"white\",\"showbackground\":true,\"ticks\":\"\",\"zerolinecolor\":\"white\"}},\"shapedefaults\":{\"line\":{\"color\":\"#2a3f5f\"}},\"ternary\":{\"aaxis\":{\"gridcolor\":\"white\",\"linecolor\":\"white\",\"ticks\":\"\"},\"baxis\":{\"gridcolor\":\"white\",\"linecolor\":\"white\",\"ticks\":\"\"},\"bgcolor\":\"#E5ECF6\",\"caxis\":{\"gridcolor\":\"white\",\"linecolor\":\"white\",\"ticks\":\"\"}},\"title\":{\"x\":0.05},\"xaxis\":{\"automargin\":true,\"gridcolor\":\"white\",\"linecolor\":\"white\",\"ticks\":\"\",\"title\":{\"standoff\":15},\"zerolinecolor\":\"white\",\"zerolinewidth\":2},\"yaxis\":{\"automargin\":true,\"gridcolor\":\"white\",\"linecolor\":\"white\",\"ticks\":\"\",\"title\":{\"standoff\":15},\"zerolinecolor\":\"white\",\"zerolinewidth\":2}}},\"title\":{\"text\":\"Chest pain type \"}},                        {\"responsive\": true}                    ).then(function(){\n",
       "                            \n",
       "var gd = document.getElementById('f3c5b317-54af-4c96-8ba1-c76264c7395f');\n",
       "var x = new MutationObserver(function (mutations, observer) {{\n",
       "        var display = window.getComputedStyle(gd).display;\n",
       "        if (!display || display === 'none') {{\n",
       "            console.log([gd, 'removed!']);\n",
       "            Plotly.purge(gd);\n",
       "            observer.disconnect();\n",
       "        }}\n",
       "}});\n",
       "\n",
       "// Listen for the removal of the full notebook cells\n",
       "var notebookContainer = gd.closest('#notebook-container');\n",
       "if (notebookContainer) {{\n",
       "    x.observe(notebookContainer, {childList: true});\n",
       "}}\n",
       "\n",
       "// Listen for the clearing of the current output cell\n",
       "var outputEl = gd.closest('.output');\n",
       "if (outputEl) {{\n",
       "    x.observe(outputEl, {childList: true});\n",
       "}}\n",
       "\n",
       "                        })                };                });            </script>        </div>"
      ]
     },
     "metadata": {},
     "output_type": "display_data"
    }
   ],
   "source": [
    "import plotly.graph_objects as go\n",
    "\n",
    "\n",
    "labels = [x for x in train.ChestPainType.value_counts().index]\n",
    "values = train.ChestPainType.value_counts()\n",
    "\n",
    "# Use `hole` to create a donut-like pie chart\n",
    "fig = go.Figure(data=[go.Pie(labels=labels, values=values, hole=.3,pull=[0, 0, 0.06, 0])])\n",
    "\n",
    "fig.update_layout(\n",
    "    title_text=\"Chest pain type \")\n",
    "fig.show()"
   ]
  },
  {
   "cell_type": "code",
   "execution_count": 11,
   "id": "bb95e063",
   "metadata": {
    "execution": {
     "iopub.execute_input": "2021-11-17T11:37:07.780107Z",
     "iopub.status.busy": "2021-11-17T11:37:07.779380Z",
     "iopub.status.idle": "2021-11-17T11:37:11.036590Z",
     "shell.execute_reply": "2021-11-17T11:37:11.037242Z",
     "shell.execute_reply.started": "2021-11-07T06:33:17.136714Z"
    },
    "papermill": {
     "duration": 3.310263,
     "end_time": "2021-11-17T11:37:11.037418",
     "exception": false,
     "start_time": "2021-11-17T11:37:07.727155",
     "status": "completed"
    },
    "tags": []
   },
   "outputs": [
    {
     "data": {
      "text/html": [
       "<div>                            <div id=\"73e6b6f6-6577-4a14-b56f-644b60b86607\" class=\"plotly-graph-div\" style=\"height:525px; width:100%;\"></div>            <script type=\"text/javascript\">                require([\"plotly\"], function(Plotly) {                    window.PLOTLYENV=window.PLOTLYENV || {};                                    if (document.getElementById(\"73e6b6f6-6577-4a14-b56f-644b60b86607\")) {                    Plotly.newPlot(                        \"73e6b6f6-6577-4a14-b56f-644b60b86607\",                        [{\"autobinx\":false,\"histnorm\":\"probability density\",\"legendgroup\":\"Age\",\"marker\":{\"color\":\"rgb(31, 119, 180)\"},\"name\":\"Age\",\"opacity\":0.7,\"type\":\"histogram\",\"x\":[34,54,54,63,48,62,58,42,56,39,44,41,65,57,45,54,64,41,54,54,48,58,56,41,67,58,55,39,63,57,53,54,43,45,57,37,54,52,56,54,56,51,58,55,47,53,54,57,57,58,41,35,40,66,43,56,53,73,54,53,64,41,58,46,39,61,55,53,55,43,55,55,35,29,37,59,56,51,39,57,49,70,52,58,51,65,43,50,46,41,57,52,57,58,35,40,56,66,56,65,47,67,64,41,46,53,60,42,44,52,58,55,55,58,55,51,42,43,48,31,63,60,42,65,45,38,60,54,35,76,47,47,51,33,63,38,53,41,47,48,60,51,61,55,48,60,51,46,57,50,38,65,47,52,67,51,62,69,60,63,66,57,45,54,69,65,67,59,46,55,61,38,63,62,42,53,49,58,44,49,59,40,43,54,58,52,58,62,41,41,60,58,43,68,48,52,42,56,76,61,65,63,59,35,46,50,54,43,55,52,51,48,41,45,58,59,58,45,57,58,57,43,55,39,51,51,57,69,68,69,54,52,56,60,61,50,62,41,60,63,44,63,49,63,50,51,41,67,71,49,64,52,60,58,41,71,38,57,67,48,54,70,53,55,60,46,52,50,45,59,51,51,42,55,65,37,47,56,59,36,57,29,44,49,51,54,30,54,62,62,36,50,49,65,54,54,59,68,47,48,62,49,50,62,63,55,37,39,62,40,64,62,42,40,64,44,62,61,59,54,63,53,66,57,38,54,58,54,57,45,49,63,37,54,57,62,50,55,43,60,60,52,53,36,48,56,69,69,54,54,74,35,46,75,61,74,36,33,40,62,67,48,51,49,39,44,56,51,52,66,48,45,61,46,56,55,40,60,59,53,60,47,58,57,48,46,49,55,32,37,63,49,69,51,61,56,40,44,51,55,66,48,52,52,41,65,54,56,68,60,50,54,58,72,46,59,55,58,53,62,55,60,50,45,55,38,59,53,54,40,61,44,70,44,60,57,52,58,56,65,51,61,56,59,42,55,58,58,44,43,64,57,53,61,60,60,50,67,56,58,53,61,45,31,55,49,40,66,62,62,61,62,57,47,38,64,63,65,45,64,60,39,53,56,49,56,62,58,50,48,43,46,48,46,37,64,50,57,55,60,58,53,53,55,36,41,54,77,43,54,55,57,51,55,67,51,34,52,47,61,59,60,74,46,56,55,53,42,46,50,48,61,62,59,52,64,63,45,43,43,57,39,59,57,38,56,59,44,58,59,36,62,56,57,52,44,52,65,66,61,54,34,50,47,72,42,54,46,51,64,28,64,59,38,47,56,54,68,43,58,62,59,57,53,74,57,37,44,58,57,38,65,50,61,58,34,47,43,39,39,52,53,64,62,55,47,49,60,53,57,56,63,58,44,51,34,49,34,61,65,44,59,77,55,64,55,57,43,46,69,47,63,66,51,39,60,69,40,63,54,42,37,48,70,61,48,64,46,54,49,70,64,54,67,57,55,60,63,62,65,63,41,52,41,54,49,59,56,61,52,61,59,42,62,38,50,68,54,59,72,58,59,43,42,42,74,66,41,59,51,48,57,58,63,48,43,52,62,75,52,65,32,58,56,59,62,60,54,38,72,42,51,52,47,51,61,50,39,64,44,44,53,41,41,54,67,40,65,63,56,41,32,59,68],\"xaxis\":\"x\",\"xbins\":{\"end\":77.0,\"size\":1,\"start\":28.0},\"yaxis\":\"y\"},{\"legendgroup\":\"Age\",\"marker\":{\"color\":\"rgb(31, 119, 180)\"},\"mode\":\"lines\",\"name\":\"Age\",\"showlegend\":false,\"type\":\"scatter\",\"x\":[28.0,28.098,28.196,28.294,28.392,28.49,28.588,28.686,28.784,28.882,28.98,29.078,29.176,29.274,29.372,29.47,29.568,29.666,29.764,29.862000000000002,29.96,30.058,30.156,30.254,30.352,30.45,30.548000000000002,30.646,30.744,30.842,30.94,31.038,31.136,31.234,31.332,31.43,31.528,31.626,31.724,31.822,31.92,32.018,32.116,32.214,32.312,32.41,32.508,32.606,32.704,32.802,32.9,32.998,33.096000000000004,33.194,33.292,33.39,33.488,33.586,33.684,33.782,33.88,33.978,34.076,34.174,34.272,34.37,34.468,34.566,34.664,34.762,34.86,34.958,35.056,35.153999999999996,35.252,35.35,35.448,35.546,35.644,35.742,35.84,35.938,36.036,36.134,36.232,36.33,36.428,36.525999999999996,36.624,36.722,36.82,36.918,37.016,37.114000000000004,37.212,37.31,37.408,37.506,37.604,37.702,37.8,37.897999999999996,37.996,38.094,38.192,38.29,38.388,38.486000000000004,38.584,38.682,38.78,38.878,38.976,39.074,39.172,39.269999999999996,39.368,39.466,39.564,39.662,39.76,39.858000000000004,39.956,40.054,40.152,40.25,40.348,40.446,40.544,40.641999999999996,40.74,40.838,40.936,41.034,41.132,41.230000000000004,41.328,41.426,41.524,41.622,41.72,41.818,41.916,42.013999999999996,42.112,42.21,42.308,42.406,42.504,42.602000000000004,42.7,42.798,42.896,42.994,43.092,43.19,43.288,43.385999999999996,43.484,43.582,43.68,43.778,43.876,43.974000000000004,44.072,44.17,44.268,44.366,44.464,44.562,44.66,44.757999999999996,44.856,44.954,45.052,45.15,45.248000000000005,45.346000000000004,45.444,45.542,45.64,45.738,45.836,45.934,46.032,46.129999999999995,46.228,46.326,46.424,46.522,46.620000000000005,46.718,46.816,46.914,47.012,47.11,47.208,47.306,47.403999999999996,47.501999999999995,47.6,47.698,47.796,47.894,47.992000000000004,48.09,48.188,48.286,48.384,48.482,48.58,48.678,48.775999999999996,48.873999999999995,48.972,49.07,49.168,49.266,49.364000000000004,49.462,49.56,49.658,49.756,49.854,49.952,50.05,50.147999999999996,50.245999999999995,50.344,50.442,50.54,50.638000000000005,50.736000000000004,50.834,50.932,51.03,51.128,51.226,51.324,51.422,51.519999999999996,51.617999999999995,51.716,51.814,51.912,52.010000000000005,52.108000000000004,52.206,52.304,52.402,52.5,52.598,52.696,52.794,52.891999999999996,52.989999999999995,53.088,53.186,53.284,53.382000000000005,53.480000000000004,53.578,53.676,53.774,53.872,53.97,54.068,54.166,54.263999999999996,54.361999999999995,54.46,54.558,54.656,54.754000000000005,54.852000000000004,54.95,55.048,55.146,55.244,55.342,55.44,55.538,55.635999999999996,55.734,55.832,55.93,56.028,56.126000000000005,56.224000000000004,56.322,56.42,56.518,56.616,56.714,56.812,56.91,57.007999999999996,57.106,57.204,57.302,57.4,57.498000000000005,57.596000000000004,57.694,57.792,57.89,57.988,58.086,58.184,58.282,58.379999999999995,58.478,58.576,58.674,58.772,58.870000000000005,58.968,59.066,59.164,59.262,59.36,59.458,59.556,59.653999999999996,59.751999999999995,59.85,59.948,60.046,60.144,60.242,60.34,60.438,60.536,60.634,60.732,60.83,60.928,61.026,61.124,61.222,61.32,61.418,61.516,61.614,61.712,61.81,61.908,62.006,62.104,62.202,62.3,62.398,62.496,62.594,62.692,62.79,62.888,62.986,63.084,63.182,63.28,63.378,63.476,63.574,63.672,63.77,63.868,63.966,64.064,64.162,64.25999999999999,64.358,64.456,64.554,64.652,64.75,64.848,64.946,65.044,65.142,65.24000000000001,65.338,65.436,65.53399999999999,65.632,65.72999999999999,65.828,65.926,66.024,66.122,66.22,66.318,66.416,66.51400000000001,66.612,66.71000000000001,66.80799999999999,66.906,67.00399999999999,67.102,67.2,67.298,67.396,67.494,67.592,67.69,67.788,67.886,67.98400000000001,68.082,68.18,68.27799999999999,68.376,68.47399999999999,68.572,68.67,68.768,68.866,68.964,69.062,69.16,69.25800000000001,69.356,69.45400000000001,69.55199999999999,69.65,69.74799999999999,69.846,69.944,70.042,70.14,70.238,70.336,70.434,70.532,70.63,70.72800000000001,70.826,70.924,71.02199999999999,71.12,71.218,71.316,71.414,71.512,71.61,71.708,71.806,71.904,72.00200000000001,72.1,72.19800000000001,72.29599999999999,72.394,72.49199999999999,72.59,72.688,72.786,72.884,72.982,73.08,73.178,73.27600000000001,73.374,73.47200000000001,73.57,73.668,73.76599999999999,73.864,73.962,74.06,74.158,74.256,74.354,74.452,74.55,74.648,74.74600000000001,74.844,74.94200000000001,75.03999999999999,75.138,75.23599999999999,75.334,75.432,75.53,75.628,75.726,75.824,75.922,76.02000000000001,76.118,76.21600000000001,76.314,76.412,76.50999999999999,76.608,76.706,76.804,76.902],\"xaxis\":\"x\",\"y\":[0.0013432926868265115,0.001392264801783442,0.0014421583387656653,0.0014929783502570227,0.0015447318352786595,0.001597427846276659,0.0016510775805009658,0.0017056944548958482,0.001761294163690524,0.0018178947180571157,0.0018755164673902715,0.0019341821019555733,0.0019939166368501465,0.002054747377416351,0.002116703866444916,0.0021798178136956527,0.0022441230084486014,0.0023096552159745693,0.0023764520589784743,0.0024445528852197326,0.002513998622649766,0.0025848316235244167,0.0026570954990485975,0.0027308349461891168,0.002806095568349557,0.0028829236916362816,0.00296136617845773,0.003041470240189082,0.003123283250602074,0.0032068525617047323,0.0032922253235597087,0.0033794483095532686,0.0034685677484715878,0.0035596291646074166,0.003652677226972642,0.003747755608529638,0.003844906856181996,0.003944172272084008,0.004045591806641448,0.004149203963386162,0.004255045715717422,0.004363152435315736,0.004473557831853852,0.0045862939034564945,0.004701390897199524,0.0048188772787907475,0.004938779710443844,0.005061123035843029,0.0051859302710030395,0.005313222599757013,0.005443019372556254,0.005575338107239251,0.005710194490426398,0.00584760237821728,0.0059875737949130784,0.006130118928552763,0.006275246122139837,0.006422961859543077,0.006573270745178297,0.006726175476716684,0.006881676810215294,0.0070397735172242695,0.007200462333590599,0.007363737899845187,0.007529592693227434,0.007698016951563786,0.007868998589373838,0.008042523106722694,0.008218573491472403,0.008397130115703826,0.008578170627182451,0.00876166983682389,0.008947599603179592,0.009135928715005522,0.009326622773000235,0.009519644071801336,0.009714951483313094,0.009912500342404667,0.010112242335968323,0.010314125396264315,0.01051809359940547,0.010724087069752222,0.010932041890903408,0.011141890023880024,0.01135355923301328,0.011566973019968733,0.011782050566265648,0.011998706684591135,0.012216851779161292,0.012436391815353212,0.0126572282988167,0.012879258264285168,0.013102374274327462,0.013326464428333526,0.013551412382086996,0.013777097378363736,0.014003394289092695,0.0142301736697247,0.014457301826577538,0.014684640898050395,0.014912048950728599,0.015139380091526109,0.015366484597128404,0.015593209062105763,0.015819396567152016,0.01604488686897128,0.016269516613372934,0.016493119573141545,0.016715526912224343,0.01693656747770995,0.017156068120969835,0.017373854049185202,0.01758974920829023,0.017803576698131384,0.01801515922036354,0.018224319559288157,0.018430881095485453,0.01863466835170084,0.01883550757003019,0.01903322731900264,0.01922765912870132,0.019418638151583546,0.01960600384618935,0.019789600680445437,0.01996927885081091,0.020144895013058984,0.02031631302007225,0.02048340466163841,0.020646050400888804,0.020804140101726074,0.02095757374134312,0.021106262101755268,0.021250127434154453,0.021389104089843448,0.021523139111546585,0.021652192778986695,0.02177623910281041,0.021895266261193362,0.022009276973798637,0.022118288808166398,0.022222334414093315,0.02232146168210604,0.022415733822738815,0.022505229363988282,0.022590042065023574,0.022670280744983673,0.02274606902646602,0.022817544994117374,0.02288486076954703,0.02294818200459604,0.023007687295806874,0.02306356752372308,0.02311602512140541,0.02316527327727933,0.023211535078095487,0.023255042598403955,0.023296035943494782,0.023334762253235008,0.023371474674631014,0.02340643131125846,0.02343989415792704,0.023472128029074002,0.023503399489417404,0.023533975795332694,0.023564123855260573,0.023594109217192342,0.023624195090934972,0.023654641412416414,0.02368570395677495,0.023717633506372078,0.02375067507920501,0.02378506722246662,0.023821041375212435,0.023858821303281576,0.023898622608757737,0.023940652315386838,0.023985108530484908,0.024032180182994668,0.024082046836483597,0.024134878575040864,0.024190835959232628,0.024250070048523375,0.024312722485876008,0.024378925639616012,0.024448802797092026,0.024522468404191252,0.02460002834437851,0.024681580250632187,0.024767213843445882,0.024857011287946682,0.02495104756317377,0.025049390836623043,0.025152102837335936,0.025259239221054247,0.02537084992128932,0.025486979480558176,0.025607667356499574,0.02573294819811285,0.02586285208792593,0.025997404746514966,0.026136627696435676,0.02628053838328611,0.026429150252286714,0.026582472779438156,0.02674051145697415,0.02690326773347047,0.02707073890959391,0.027242917991055826,0.027419793500890233,0.027601349253678343,0.027787564094802566,0.027978411608219688,0.028173859796601218,0.02837387073799246,0.028578400223386268,0.028787397379811525,0.02900080428367538,0.029218555569196152,0.029440578036812683,0.02966679026646099,0.029897102240571634,0.030131414981572135,0.03036962020856685,0.030611600017735302,0.030857226590817775,0.031106361935875092,0.03135885766429093,0.031614554807753645,0.03187328367870439,0.03213486377746431,0.03239910374896958,0.03266580139173453,0.03293474372134239,0.03320570709042253,0.033478457366714245,0.03375275017044141,0.034028331171824945,0.03430493644914815,0.034582292907350654,0.03486011875668725,0.03513812405050468,0.03541601128072145,0.03569347602909239,0.0359702076718425,0.03624589013474428,0.036520202695213874,0.036792820827492,0.03706341708650703,0.037331662025535485,0.03759722514235319,0.0378597758481637,0.038118984453233494,0.03837452316286263,0.03862606707706984,0.03887329518719546,0.0391158913625143,0.03935354531992783,0.039585953569852,0.039812820331558606,0.04003385841145632,0.0402487900381004,0.040457347648129374,0.04065927461779018,0.04085432593528142,0.04104226880975547,0.04122288321351688,0.041395962354672945,0.041561313078284166,0.04171875619484921,0.04186812673578194,0.042009274136346884,0.042142062347324774,0.04226636987744308,0.04238208976934128,0.04248912951250708,0.04258741089722387,0.042676869814094104,0.042757456004131174,0.042829132764755196,0.04289187661725335,0.04294567694139532,0.04299053558290488,0.04302646643940322,0.04305349503023304,0.043071658055285296,0.04308100294755052,0.043081587423653554,0.043073479036078104,0.043056754730192555,0.04303150040853853,0.042997810504168635,0.042955787564132805,0.042905541843533145,0.04284719090989068,0.042780859256955246,0.042706677926498744,0.042624784136123195,0.04253532091068247,0.042438436714559345,0.042334285081795285,0.04222302424091843,0.042104816731270665,0.04197982900770642,0.04184823103070986,0.04171019583925474,0.041565899104119855,0.04141551865983812,0.04125923401401726,0.04109722583339405,0.040929675406667344,0.04075676408488126,0.04057867270087665,0.04039558097009848,0.04020766687579432,0.04001510604237413,0.03981807110139438,0.03961673105526077,0.03941125064431653,0.03920178972345783,0.03898850265481324,0.03877153772330034,0.038551036582044076,0.03832713373469333,0.03809995606159985,0.03786962239663154,0.03763624316107145,0.0373999200606283,0.03716074585103022,0.03691880417702687,0.03667416948887839,0.03642690703958012,0.0361770729651722,0.03592471444952634,0.03566986997400677,0.03541256965137225,0.03515283564226101,0.034890682651565266,0.03462611850100018,0.03435914477320489,0.0340897575217926,0.033817948040925035,0.03354370368720219,0.03326700874598817,0.032987845333698404,0.03270619432710348,0.032422036310334267,0.032135352530026216,0.031846125848913165,0.03155434168816722,0.03125998894889516,0.03096306090342698,0.03066355604736603,0.030361478903817466,0.03005684077175394,0.029749660411105425,0.02943996465787792,0.029127788963388263,0.028813177852544305,0.028496185296993517,0.028176874999891674,0.02785532058999436,0.027531605723745335,0.02720582409499751,0.026878079352965736,0.026548484929944445,0.026217163781233108,0.025884248040573127,0.025549878595223747,0.025214204585558952,0.02487738283476232,0.024539577214828606,0.024200957955618992,0.023861700904199548,0.02352198674206545,0.023182000168165764,0.022841929055849714,0.022501963591986238,0.02216229540654545,0.02182311670088709,0.021484619382867845,0.021146994216671985,0.02081042999497738,0.020475112740710715,0.02014122494521218,0.019808944849137994,0.019478445771876594,0.019149895494650914,0.018823455701834725,0.018499281484321357,0.018177520908072238,0.017858314650231643,0.017541795704442264,0.0172280891562346,0.016917312028604258,0.016609573197139876,0.016304973373327123,0.016003605153946835,0.01570555313379932,0.015410894078352272,0.015119697152304573,0.014832024199520994,0.014547930069296965,0.014267462983490924,0.013990664938700643,0.013717572137369299,0.013448215441494077,0.013182620842468415,0.012920809940525605,0.01266280042726924,0.01240860656486441,0.012158239655633198,0.011911708496040764,0.011669019809365003,0.011430178651728856,0.01119518878660473,0.010964053023404492,0.010736773516306915,0.010513352020066794,0.01029379010017003,0.010078089295349767,0.009866251231147111,0.009658277683879357,0.009454170595058391,0.009253932036976182,0.009057564130832158,0.008865068919410439,0.008676448196918943,0.00849170329916323,0.008310834857746665,0.008133842522451123,0.007960724656360267,0.007791478008629867,0.0076260973700873645,0.007464575217050809,0.007306901348893776,0.007153062524946495,0.007003042106317059,0.006856819708136104,0.006714370867580531,0.006575666732817898,0.006440673777734878,0.006309353546978401,0.0061816624354488,0.006057551505950035,0.005936966348223951,0.005819846982086252,0.005706127806843654,0.005595737598614623,0.005488599556606643,0.00538463139882844,0.005283745507143856,0.005185849121010936,0.005090844578705079,0.004998629604299231,0.00490909763818257,0.004822138208434606,0.004737637339953261,0.004655477997853535,0.004575540561322981,0.004497703323835403,0.0044218430153930574,0.00434783534228724,0.004275555539741172,0.004204878932725213,0.00413568150021324,0.004067840438178311,0.0040012347167038866,0.0039357456267112975,0.0038712573119713714,0.0038076572822759794,0.0037448369038875625,0.0036826918636605377,0.0036211226035313183,0.0035600347223986497,0.0034993393427620993,0.0034389534398447295,0.003378800131295142,0.0033188089259388763,0.0032589159304252085,0.0031990640129884894,0.0031392029239116753,0.0030792893726365356,0.003019287061811767,0.0029591666788991223,0.002898905846271603,0.0028384890310290457,0.0027779074160292293,0.002717158733880077,0.002656247065863987,0.0025951826079653514,0.0025339814063474594,0.002472665064775653,0.002411260426608236,0.0023497992340779945,0.00228831776766262,0.002226856468396606,0.0021654595460060665,0.0021041745757580587,0.002043052086902671,0.0019821451455556503],\"yaxis\":\"y\"},{\"legendgroup\":\"Age\",\"marker\":{\"color\":\"rgb(31, 119, 180)\",\"symbol\":\"line-ns-open\"},\"mode\":\"markers\",\"name\":\"Age\",\"showlegend\":false,\"type\":\"scatter\",\"x\":[34,54,54,63,48,62,58,42,56,39,44,41,65,57,45,54,64,41,54,54,48,58,56,41,67,58,55,39,63,57,53,54,43,45,57,37,54,52,56,54,56,51,58,55,47,53,54,57,57,58,41,35,40,66,43,56,53,73,54,53,64,41,58,46,39,61,55,53,55,43,55,55,35,29,37,59,56,51,39,57,49,70,52,58,51,65,43,50,46,41,57,52,57,58,35,40,56,66,56,65,47,67,64,41,46,53,60,42,44,52,58,55,55,58,55,51,42,43,48,31,63,60,42,65,45,38,60,54,35,76,47,47,51,33,63,38,53,41,47,48,60,51,61,55,48,60,51,46,57,50,38,65,47,52,67,51,62,69,60,63,66,57,45,54,69,65,67,59,46,55,61,38,63,62,42,53,49,58,44,49,59,40,43,54,58,52,58,62,41,41,60,58,43,68,48,52,42,56,76,61,65,63,59,35,46,50,54,43,55,52,51,48,41,45,58,59,58,45,57,58,57,43,55,39,51,51,57,69,68,69,54,52,56,60,61,50,62,41,60,63,44,63,49,63,50,51,41,67,71,49,64,52,60,58,41,71,38,57,67,48,54,70,53,55,60,46,52,50,45,59,51,51,42,55,65,37,47,56,59,36,57,29,44,49,51,54,30,54,62,62,36,50,49,65,54,54,59,68,47,48,62,49,50,62,63,55,37,39,62,40,64,62,42,40,64,44,62,61,59,54,63,53,66,57,38,54,58,54,57,45,49,63,37,54,57,62,50,55,43,60,60,52,53,36,48,56,69,69,54,54,74,35,46,75,61,74,36,33,40,62,67,48,51,49,39,44,56,51,52,66,48,45,61,46,56,55,40,60,59,53,60,47,58,57,48,46,49,55,32,37,63,49,69,51,61,56,40,44,51,55,66,48,52,52,41,65,54,56,68,60,50,54,58,72,46,59,55,58,53,62,55,60,50,45,55,38,59,53,54,40,61,44,70,44,60,57,52,58,56,65,51,61,56,59,42,55,58,58,44,43,64,57,53,61,60,60,50,67,56,58,53,61,45,31,55,49,40,66,62,62,61,62,57,47,38,64,63,65,45,64,60,39,53,56,49,56,62,58,50,48,43,46,48,46,37,64,50,57,55,60,58,53,53,55,36,41,54,77,43,54,55,57,51,55,67,51,34,52,47,61,59,60,74,46,56,55,53,42,46,50,48,61,62,59,52,64,63,45,43,43,57,39,59,57,38,56,59,44,58,59,36,62,56,57,52,44,52,65,66,61,54,34,50,47,72,42,54,46,51,64,28,64,59,38,47,56,54,68,43,58,62,59,57,53,74,57,37,44,58,57,38,65,50,61,58,34,47,43,39,39,52,53,64,62,55,47,49,60,53,57,56,63,58,44,51,34,49,34,61,65,44,59,77,55,64,55,57,43,46,69,47,63,66,51,39,60,69,40,63,54,42,37,48,70,61,48,64,46,54,49,70,64,54,67,57,55,60,63,62,65,63,41,52,41,54,49,59,56,61,52,61,59,42,62,38,50,68,54,59,72,58,59,43,42,42,74,66,41,59,51,48,57,58,63,48,43,52,62,75,52,65,32,58,56,59,62,60,54,38,72,42,51,52,47,51,61,50,39,64,44,44,53,41,41,54,67,40,65,63,56,41,32,59,68],\"xaxis\":\"x\",\"y\":[\"Age\",\"Age\",\"Age\",\"Age\",\"Age\",\"Age\",\"Age\",\"Age\",\"Age\",\"Age\",\"Age\",\"Age\",\"Age\",\"Age\",\"Age\",\"Age\",\"Age\",\"Age\",\"Age\",\"Age\",\"Age\",\"Age\",\"Age\",\"Age\",\"Age\",\"Age\",\"Age\",\"Age\",\"Age\",\"Age\",\"Age\",\"Age\",\"Age\",\"Age\",\"Age\",\"Age\",\"Age\",\"Age\",\"Age\",\"Age\",\"Age\",\"Age\",\"Age\",\"Age\",\"Age\",\"Age\",\"Age\",\"Age\",\"Age\",\"Age\",\"Age\",\"Age\",\"Age\",\"Age\",\"Age\",\"Age\",\"Age\",\"Age\",\"Age\",\"Age\",\"Age\",\"Age\",\"Age\",\"Age\",\"Age\",\"Age\",\"Age\",\"Age\",\"Age\",\"Age\",\"Age\",\"Age\",\"Age\",\"Age\",\"Age\",\"Age\",\"Age\",\"Age\",\"Age\",\"Age\",\"Age\",\"Age\",\"Age\",\"Age\",\"Age\",\"Age\",\"Age\",\"Age\",\"Age\",\"Age\",\"Age\",\"Age\",\"Age\",\"Age\",\"Age\",\"Age\",\"Age\",\"Age\",\"Age\",\"Age\",\"Age\",\"Age\",\"Age\",\"Age\",\"Age\",\"Age\",\"Age\",\"Age\",\"Age\",\"Age\",\"Age\",\"Age\",\"Age\",\"Age\",\"Age\",\"Age\",\"Age\",\"Age\",\"Age\",\"Age\",\"Age\",\"Age\",\"Age\",\"Age\",\"Age\",\"Age\",\"Age\",\"Age\",\"Age\",\"Age\",\"Age\",\"Age\",\"Age\",\"Age\",\"Age\",\"Age\",\"Age\",\"Age\",\"Age\",\"Age\",\"Age\",\"Age\",\"Age\",\"Age\",\"Age\",\"Age\",\"Age\",\"Age\",\"Age\",\"Age\",\"Age\",\"Age\",\"Age\",\"Age\",\"Age\",\"Age\",\"Age\",\"Age\",\"Age\",\"Age\",\"Age\",\"Age\",\"Age\",\"Age\",\"Age\",\"Age\",\"Age\",\"Age\",\"Age\",\"Age\",\"Age\",\"Age\",\"Age\",\"Age\",\"Age\",\"Age\",\"Age\",\"Age\",\"Age\",\"Age\",\"Age\",\"Age\",\"Age\",\"Age\",\"Age\",\"Age\",\"Age\",\"Age\",\"Age\",\"Age\",\"Age\",\"Age\",\"Age\",\"Age\",\"Age\",\"Age\",\"Age\",\"Age\",\"Age\",\"Age\",\"Age\",\"Age\",\"Age\",\"Age\",\"Age\",\"Age\",\"Age\",\"Age\",\"Age\",\"Age\",\"Age\",\"Age\",\"Age\",\"Age\",\"Age\",\"Age\",\"Age\",\"Age\",\"Age\",\"Age\",\"Age\",\"Age\",\"Age\",\"Age\",\"Age\",\"Age\",\"Age\",\"Age\",\"Age\",\"Age\",\"Age\",\"Age\",\"Age\",\"Age\",\"Age\",\"Age\",\"Age\",\"Age\",\"Age\",\"Age\",\"Age\",\"Age\",\"Age\",\"Age\",\"Age\",\"Age\",\"Age\",\"Age\",\"Age\",\"Age\",\"Age\",\"Age\",\"Age\",\"Age\",\"Age\",\"Age\",\"Age\",\"Age\",\"Age\",\"Age\",\"Age\",\"Age\",\"Age\",\"Age\",\"Age\",\"Age\",\"Age\",\"Age\",\"Age\",\"Age\",\"Age\",\"Age\",\"Age\",\"Age\",\"Age\",\"Age\",\"Age\",\"Age\",\"Age\",\"Age\",\"Age\",\"Age\",\"Age\",\"Age\",\"Age\",\"Age\",\"Age\",\"Age\",\"Age\",\"Age\",\"Age\",\"Age\",\"Age\",\"Age\",\"Age\",\"Age\",\"Age\",\"Age\",\"Age\",\"Age\",\"Age\",\"Age\",\"Age\",\"Age\",\"Age\",\"Age\",\"Age\",\"Age\",\"Age\",\"Age\",\"Age\",\"Age\",\"Age\",\"Age\",\"Age\",\"Age\",\"Age\",\"Age\",\"Age\",\"Age\",\"Age\",\"Age\",\"Age\",\"Age\",\"Age\",\"Age\",\"Age\",\"Age\",\"Age\",\"Age\",\"Age\",\"Age\",\"Age\",\"Age\",\"Age\",\"Age\",\"Age\",\"Age\",\"Age\",\"Age\",\"Age\",\"Age\",\"Age\",\"Age\",\"Age\",\"Age\",\"Age\",\"Age\",\"Age\",\"Age\",\"Age\",\"Age\",\"Age\",\"Age\",\"Age\",\"Age\",\"Age\",\"Age\",\"Age\",\"Age\",\"Age\",\"Age\",\"Age\",\"Age\",\"Age\",\"Age\",\"Age\",\"Age\",\"Age\",\"Age\",\"Age\",\"Age\",\"Age\",\"Age\",\"Age\",\"Age\",\"Age\",\"Age\",\"Age\",\"Age\",\"Age\",\"Age\",\"Age\",\"Age\",\"Age\",\"Age\",\"Age\",\"Age\",\"Age\",\"Age\",\"Age\",\"Age\",\"Age\",\"Age\",\"Age\",\"Age\",\"Age\",\"Age\",\"Age\",\"Age\",\"Age\",\"Age\",\"Age\",\"Age\",\"Age\",\"Age\",\"Age\",\"Age\",\"Age\",\"Age\",\"Age\",\"Age\",\"Age\",\"Age\",\"Age\",\"Age\",\"Age\",\"Age\",\"Age\",\"Age\",\"Age\",\"Age\",\"Age\",\"Age\",\"Age\",\"Age\",\"Age\",\"Age\",\"Age\",\"Age\",\"Age\",\"Age\",\"Age\",\"Age\",\"Age\",\"Age\",\"Age\",\"Age\",\"Age\",\"Age\",\"Age\",\"Age\",\"Age\",\"Age\",\"Age\",\"Age\",\"Age\",\"Age\",\"Age\",\"Age\",\"Age\",\"Age\",\"Age\",\"Age\",\"Age\",\"Age\",\"Age\",\"Age\",\"Age\",\"Age\",\"Age\",\"Age\",\"Age\",\"Age\",\"Age\",\"Age\",\"Age\",\"Age\",\"Age\",\"Age\",\"Age\",\"Age\",\"Age\",\"Age\",\"Age\",\"Age\",\"Age\",\"Age\",\"Age\",\"Age\",\"Age\",\"Age\",\"Age\",\"Age\",\"Age\",\"Age\",\"Age\",\"Age\",\"Age\",\"Age\",\"Age\",\"Age\",\"Age\",\"Age\",\"Age\",\"Age\",\"Age\",\"Age\",\"Age\",\"Age\",\"Age\",\"Age\",\"Age\",\"Age\",\"Age\",\"Age\",\"Age\",\"Age\",\"Age\",\"Age\",\"Age\",\"Age\",\"Age\",\"Age\",\"Age\",\"Age\",\"Age\",\"Age\",\"Age\",\"Age\",\"Age\",\"Age\",\"Age\",\"Age\",\"Age\",\"Age\",\"Age\",\"Age\",\"Age\",\"Age\",\"Age\",\"Age\",\"Age\",\"Age\",\"Age\",\"Age\",\"Age\",\"Age\",\"Age\",\"Age\",\"Age\",\"Age\",\"Age\",\"Age\",\"Age\",\"Age\",\"Age\",\"Age\",\"Age\",\"Age\",\"Age\",\"Age\",\"Age\",\"Age\",\"Age\",\"Age\",\"Age\",\"Age\",\"Age\",\"Age\",\"Age\",\"Age\",\"Age\",\"Age\",\"Age\",\"Age\",\"Age\",\"Age\",\"Age\",\"Age\",\"Age\",\"Age\",\"Age\",\"Age\",\"Age\",\"Age\",\"Age\",\"Age\",\"Age\",\"Age\",\"Age\",\"Age\",\"Age\",\"Age\",\"Age\",\"Age\",\"Age\",\"Age\",\"Age\",\"Age\",\"Age\",\"Age\",\"Age\",\"Age\",\"Age\",\"Age\",\"Age\",\"Age\",\"Age\",\"Age\",\"Age\",\"Age\",\"Age\",\"Age\",\"Age\",\"Age\",\"Age\",\"Age\",\"Age\",\"Age\",\"Age\",\"Age\",\"Age\",\"Age\",\"Age\",\"Age\",\"Age\",\"Age\",\"Age\",\"Age\",\"Age\",\"Age\",\"Age\",\"Age\",\"Age\",\"Age\",\"Age\",\"Age\",\"Age\",\"Age\",\"Age\",\"Age\",\"Age\",\"Age\",\"Age\",\"Age\",\"Age\",\"Age\",\"Age\",\"Age\",\"Age\",\"Age\",\"Age\",\"Age\",\"Age\",\"Age\",\"Age\",\"Age\",\"Age\",\"Age\",\"Age\",\"Age\",\"Age\",\"Age\",\"Age\",\"Age\",\"Age\",\"Age\",\"Age\",\"Age\",\"Age\",\"Age\",\"Age\",\"Age\",\"Age\",\"Age\",\"Age\",\"Age\",\"Age\",\"Age\",\"Age\",\"Age\",\"Age\",\"Age\",\"Age\",\"Age\",\"Age\",\"Age\",\"Age\",\"Age\",\"Age\",\"Age\",\"Age\",\"Age\",\"Age\",\"Age\",\"Age\",\"Age\",\"Age\",\"Age\",\"Age\",\"Age\",\"Age\",\"Age\",\"Age\",\"Age\",\"Age\",\"Age\",\"Age\",\"Age\",\"Age\",\"Age\",\"Age\",\"Age\",\"Age\",\"Age\",\"Age\",\"Age\",\"Age\",\"Age\",\"Age\",\"Age\",\"Age\",\"Age\",\"Age\",\"Age\",\"Age\",\"Age\",\"Age\",\"Age\",\"Age\",\"Age\",\"Age\",\"Age\",\"Age\",\"Age\",\"Age\",\"Age\",\"Age\",\"Age\",\"Age\",\"Age\",\"Age\",\"Age\"],\"yaxis\":\"y2\"}],                        {\"barmode\":\"overlay\",\"hovermode\":\"closest\",\"legend\":{\"traceorder\":\"reversed\"},\"template\":{\"data\":{\"bar\":[{\"error_x\":{\"color\":\"#2a3f5f\"},\"error_y\":{\"color\":\"#2a3f5f\"},\"marker\":{\"line\":{\"color\":\"#E5ECF6\",\"width\":0.5},\"pattern\":{\"fillmode\":\"overlay\",\"size\":10,\"solidity\":0.2}},\"type\":\"bar\"}],\"barpolar\":[{\"marker\":{\"line\":{\"color\":\"#E5ECF6\",\"width\":0.5},\"pattern\":{\"fillmode\":\"overlay\",\"size\":10,\"solidity\":0.2}},\"type\":\"barpolar\"}],\"carpet\":[{\"aaxis\":{\"endlinecolor\":\"#2a3f5f\",\"gridcolor\":\"white\",\"linecolor\":\"white\",\"minorgridcolor\":\"white\",\"startlinecolor\":\"#2a3f5f\"},\"baxis\":{\"endlinecolor\":\"#2a3f5f\",\"gridcolor\":\"white\",\"linecolor\":\"white\",\"minorgridcolor\":\"white\",\"startlinecolor\":\"#2a3f5f\"},\"type\":\"carpet\"}],\"choropleth\":[{\"colorbar\":{\"outlinewidth\":0,\"ticks\":\"\"},\"type\":\"choropleth\"}],\"contour\":[{\"colorbar\":{\"outlinewidth\":0,\"ticks\":\"\"},\"colorscale\":[[0.0,\"#0d0887\"],[0.1111111111111111,\"#46039f\"],[0.2222222222222222,\"#7201a8\"],[0.3333333333333333,\"#9c179e\"],[0.4444444444444444,\"#bd3786\"],[0.5555555555555556,\"#d8576b\"],[0.6666666666666666,\"#ed7953\"],[0.7777777777777778,\"#fb9f3a\"],[0.8888888888888888,\"#fdca26\"],[1.0,\"#f0f921\"]],\"type\":\"contour\"}],\"contourcarpet\":[{\"colorbar\":{\"outlinewidth\":0,\"ticks\":\"\"},\"type\":\"contourcarpet\"}],\"heatmap\":[{\"colorbar\":{\"outlinewidth\":0,\"ticks\":\"\"},\"colorscale\":[[0.0,\"#0d0887\"],[0.1111111111111111,\"#46039f\"],[0.2222222222222222,\"#7201a8\"],[0.3333333333333333,\"#9c179e\"],[0.4444444444444444,\"#bd3786\"],[0.5555555555555556,\"#d8576b\"],[0.6666666666666666,\"#ed7953\"],[0.7777777777777778,\"#fb9f3a\"],[0.8888888888888888,\"#fdca26\"],[1.0,\"#f0f921\"]],\"type\":\"heatmap\"}],\"heatmapgl\":[{\"colorbar\":{\"outlinewidth\":0,\"ticks\":\"\"},\"colorscale\":[[0.0,\"#0d0887\"],[0.1111111111111111,\"#46039f\"],[0.2222222222222222,\"#7201a8\"],[0.3333333333333333,\"#9c179e\"],[0.4444444444444444,\"#bd3786\"],[0.5555555555555556,\"#d8576b\"],[0.6666666666666666,\"#ed7953\"],[0.7777777777777778,\"#fb9f3a\"],[0.8888888888888888,\"#fdca26\"],[1.0,\"#f0f921\"]],\"type\":\"heatmapgl\"}],\"histogram\":[{\"marker\":{\"pattern\":{\"fillmode\":\"overlay\",\"size\":10,\"solidity\":0.2}},\"type\":\"histogram\"}],\"histogram2d\":[{\"colorbar\":{\"outlinewidth\":0,\"ticks\":\"\"},\"colorscale\":[[0.0,\"#0d0887\"],[0.1111111111111111,\"#46039f\"],[0.2222222222222222,\"#7201a8\"],[0.3333333333333333,\"#9c179e\"],[0.4444444444444444,\"#bd3786\"],[0.5555555555555556,\"#d8576b\"],[0.6666666666666666,\"#ed7953\"],[0.7777777777777778,\"#fb9f3a\"],[0.8888888888888888,\"#fdca26\"],[1.0,\"#f0f921\"]],\"type\":\"histogram2d\"}],\"histogram2dcontour\":[{\"colorbar\":{\"outlinewidth\":0,\"ticks\":\"\"},\"colorscale\":[[0.0,\"#0d0887\"],[0.1111111111111111,\"#46039f\"],[0.2222222222222222,\"#7201a8\"],[0.3333333333333333,\"#9c179e\"],[0.4444444444444444,\"#bd3786\"],[0.5555555555555556,\"#d8576b\"],[0.6666666666666666,\"#ed7953\"],[0.7777777777777778,\"#fb9f3a\"],[0.8888888888888888,\"#fdca26\"],[1.0,\"#f0f921\"]],\"type\":\"histogram2dcontour\"}],\"mesh3d\":[{\"colorbar\":{\"outlinewidth\":0,\"ticks\":\"\"},\"type\":\"mesh3d\"}],\"parcoords\":[{\"line\":{\"colorbar\":{\"outlinewidth\":0,\"ticks\":\"\"}},\"type\":\"parcoords\"}],\"pie\":[{\"automargin\":true,\"type\":\"pie\"}],\"scatter\":[{\"marker\":{\"colorbar\":{\"outlinewidth\":0,\"ticks\":\"\"}},\"type\":\"scatter\"}],\"scatter3d\":[{\"line\":{\"colorbar\":{\"outlinewidth\":0,\"ticks\":\"\"}},\"marker\":{\"colorbar\":{\"outlinewidth\":0,\"ticks\":\"\"}},\"type\":\"scatter3d\"}],\"scattercarpet\":[{\"marker\":{\"colorbar\":{\"outlinewidth\":0,\"ticks\":\"\"}},\"type\":\"scattercarpet\"}],\"scattergeo\":[{\"marker\":{\"colorbar\":{\"outlinewidth\":0,\"ticks\":\"\"}},\"type\":\"scattergeo\"}],\"scattergl\":[{\"marker\":{\"colorbar\":{\"outlinewidth\":0,\"ticks\":\"\"}},\"type\":\"scattergl\"}],\"scattermapbox\":[{\"marker\":{\"colorbar\":{\"outlinewidth\":0,\"ticks\":\"\"}},\"type\":\"scattermapbox\"}],\"scatterpolar\":[{\"marker\":{\"colorbar\":{\"outlinewidth\":0,\"ticks\":\"\"}},\"type\":\"scatterpolar\"}],\"scatterpolargl\":[{\"marker\":{\"colorbar\":{\"outlinewidth\":0,\"ticks\":\"\"}},\"type\":\"scatterpolargl\"}],\"scatterternary\":[{\"marker\":{\"colorbar\":{\"outlinewidth\":0,\"ticks\":\"\"}},\"type\":\"scatterternary\"}],\"surface\":[{\"colorbar\":{\"outlinewidth\":0,\"ticks\":\"\"},\"colorscale\":[[0.0,\"#0d0887\"],[0.1111111111111111,\"#46039f\"],[0.2222222222222222,\"#7201a8\"],[0.3333333333333333,\"#9c179e\"],[0.4444444444444444,\"#bd3786\"],[0.5555555555555556,\"#d8576b\"],[0.6666666666666666,\"#ed7953\"],[0.7777777777777778,\"#fb9f3a\"],[0.8888888888888888,\"#fdca26\"],[1.0,\"#f0f921\"]],\"type\":\"surface\"}],\"table\":[{\"cells\":{\"fill\":{\"color\":\"#EBF0F8\"},\"line\":{\"color\":\"white\"}},\"header\":{\"fill\":{\"color\":\"#C8D4E3\"},\"line\":{\"color\":\"white\"}},\"type\":\"table\"}]},\"layout\":{\"annotationdefaults\":{\"arrowcolor\":\"#2a3f5f\",\"arrowhead\":0,\"arrowwidth\":1},\"autotypenumbers\":\"strict\",\"coloraxis\":{\"colorbar\":{\"outlinewidth\":0,\"ticks\":\"\"}},\"colorscale\":{\"diverging\":[[0,\"#8e0152\"],[0.1,\"#c51b7d\"],[0.2,\"#de77ae\"],[0.3,\"#f1b6da\"],[0.4,\"#fde0ef\"],[0.5,\"#f7f7f7\"],[0.6,\"#e6f5d0\"],[0.7,\"#b8e186\"],[0.8,\"#7fbc41\"],[0.9,\"#4d9221\"],[1,\"#276419\"]],\"sequential\":[[0.0,\"#0d0887\"],[0.1111111111111111,\"#46039f\"],[0.2222222222222222,\"#7201a8\"],[0.3333333333333333,\"#9c179e\"],[0.4444444444444444,\"#bd3786\"],[0.5555555555555556,\"#d8576b\"],[0.6666666666666666,\"#ed7953\"],[0.7777777777777778,\"#fb9f3a\"],[0.8888888888888888,\"#fdca26\"],[1.0,\"#f0f921\"]],\"sequentialminus\":[[0.0,\"#0d0887\"],[0.1111111111111111,\"#46039f\"],[0.2222222222222222,\"#7201a8\"],[0.3333333333333333,\"#9c179e\"],[0.4444444444444444,\"#bd3786\"],[0.5555555555555556,\"#d8576b\"],[0.6666666666666666,\"#ed7953\"],[0.7777777777777778,\"#fb9f3a\"],[0.8888888888888888,\"#fdca26\"],[1.0,\"#f0f921\"]]},\"colorway\":[\"#636efa\",\"#EF553B\",\"#00cc96\",\"#ab63fa\",\"#FFA15A\",\"#19d3f3\",\"#FF6692\",\"#B6E880\",\"#FF97FF\",\"#FECB52\"],\"font\":{\"color\":\"#2a3f5f\"},\"geo\":{\"bgcolor\":\"white\",\"lakecolor\":\"white\",\"landcolor\":\"#E5ECF6\",\"showlakes\":true,\"showland\":true,\"subunitcolor\":\"white\"},\"hoverlabel\":{\"align\":\"left\"},\"hovermode\":\"closest\",\"mapbox\":{\"style\":\"light\"},\"paper_bgcolor\":\"white\",\"plot_bgcolor\":\"#E5ECF6\",\"polar\":{\"angularaxis\":{\"gridcolor\":\"white\",\"linecolor\":\"white\",\"ticks\":\"\"},\"bgcolor\":\"#E5ECF6\",\"radialaxis\":{\"gridcolor\":\"white\",\"linecolor\":\"white\",\"ticks\":\"\"}},\"scene\":{\"xaxis\":{\"backgroundcolor\":\"#E5ECF6\",\"gridcolor\":\"white\",\"gridwidth\":2,\"linecolor\":\"white\",\"showbackground\":true,\"ticks\":\"\",\"zerolinecolor\":\"white\"},\"yaxis\":{\"backgroundcolor\":\"#E5ECF6\",\"gridcolor\":\"white\",\"gridwidth\":2,\"linecolor\":\"white\",\"showbackground\":true,\"ticks\":\"\",\"zerolinecolor\":\"white\"},\"zaxis\":{\"backgroundcolor\":\"#E5ECF6\",\"gridcolor\":\"white\",\"gridwidth\":2,\"linecolor\":\"white\",\"showbackground\":true,\"ticks\":\"\",\"zerolinecolor\":\"white\"}},\"shapedefaults\":{\"line\":{\"color\":\"#2a3f5f\"}},\"ternary\":{\"aaxis\":{\"gridcolor\":\"white\",\"linecolor\":\"white\",\"ticks\":\"\"},\"baxis\":{\"gridcolor\":\"white\",\"linecolor\":\"white\",\"ticks\":\"\"},\"bgcolor\":\"#E5ECF6\",\"caxis\":{\"gridcolor\":\"white\",\"linecolor\":\"white\",\"ticks\":\"\"}},\"title\":{\"x\":0.05},\"xaxis\":{\"automargin\":true,\"gridcolor\":\"white\",\"linecolor\":\"white\",\"ticks\":\"\",\"title\":{\"standoff\":15},\"zerolinecolor\":\"white\",\"zerolinewidth\":2},\"yaxis\":{\"automargin\":true,\"gridcolor\":\"white\",\"linecolor\":\"white\",\"ticks\":\"\",\"title\":{\"standoff\":15},\"zerolinecolor\":\"white\",\"zerolinewidth\":2}}},\"xaxis\":{\"anchor\":\"y2\",\"domain\":[0.0,1.0],\"zeroline\":false},\"yaxis\":{\"anchor\":\"free\",\"domain\":[0.35,1],\"position\":0.0},\"yaxis2\":{\"anchor\":\"x\",\"domain\":[0,0.25],\"dtick\":1,\"showticklabels\":false}},                        {\"responsive\": true}                    ).then(function(){\n",
       "                            \n",
       "var gd = document.getElementById('73e6b6f6-6577-4a14-b56f-644b60b86607');\n",
       "var x = new MutationObserver(function (mutations, observer) {{\n",
       "        var display = window.getComputedStyle(gd).display;\n",
       "        if (!display || display === 'none') {{\n",
       "            console.log([gd, 'removed!']);\n",
       "            Plotly.purge(gd);\n",
       "            observer.disconnect();\n",
       "        }}\n",
       "}});\n",
       "\n",
       "// Listen for the removal of the full notebook cells\n",
       "var notebookContainer = gd.closest('#notebook-container');\n",
       "if (notebookContainer) {{\n",
       "    x.observe(notebookContainer, {childList: true});\n",
       "}}\n",
       "\n",
       "// Listen for the clearing of the current output cell\n",
       "var outputEl = gd.closest('.output');\n",
       "if (outputEl) {{\n",
       "    x.observe(outputEl, {childList: true});\n",
       "}}\n",
       "\n",
       "                        })                };                });            </script>        </div>"
      ]
     },
     "metadata": {},
     "output_type": "display_data"
    }
   ],
   "source": [
    "import plotly.figure_factory as ff\n",
    "from plotly.offline import iplot\n",
    "fig = ff.create_distplot([train.Age],['Age'],bin_size=1)\n",
    "iplot(fig, filename='Basic Distplot')"
   ]
  },
  {
   "cell_type": "code",
   "execution_count": 12,
   "id": "58e970e0",
   "metadata": {
    "execution": {
     "iopub.execute_input": "2021-11-17T11:37:11.138882Z",
     "iopub.status.busy": "2021-11-17T11:37:11.138084Z",
     "iopub.status.idle": "2021-11-17T11:37:11.221285Z",
     "shell.execute_reply": "2021-11-17T11:37:11.221830Z",
     "shell.execute_reply.started": "2021-11-07T06:33:18.367106Z"
    },
    "papermill": {
     "duration": 0.135462,
     "end_time": "2021-11-17T11:37:11.222046",
     "exception": false,
     "start_time": "2021-11-17T11:37:11.086584",
     "status": "completed"
    },
    "tags": []
   },
   "outputs": [
    {
     "data": {
      "text/html": [
       "<div>                            <div id=\"a4ef38c1-9618-4028-94b3-03c02d49e5f3\" class=\"plotly-graph-div\" style=\"height:525px; width:100%;\"></div>            <script type=\"text/javascript\">                require([\"plotly\"], function(Plotly) {                    window.PLOTLYENV=window.PLOTLYENV || {};                                    if (document.getElementById(\"a4ef38c1-9618-4028-94b3-03c02d49e5f3\")) {                    Plotly.newPlot(                        \"a4ef38c1-9618-4028-94b3-03c02d49e5f3\",                        [{\"autobinx\":false,\"histnorm\":\"probability density\",\"legendgroup\":\"RestingBP\",\"marker\":{\"color\":\"rgb(31, 119, 180)\"},\"name\":\"RestingBP\",\"opacity\":0.7,\"type\":\"histogram\",\"x\":[130,150,136,150,130,160,100,120,150,140,150,120,130,140,120,120,110,125,120,130,124,160,120,120,160,125,136,94,140,130,130,132,120,132,128,140,130,128,170,140,130,135,150,122,120,126,122,110,110,150,125,120,140,155,120,134,120,160,130,130,140,120,112,100,110,160,110,130,132,142,180,140,138,120,120,135,130,140,110,140,140,140,125,140,110,140,132,110,120,110,160,118,156,126,123,140,125,110,130,140,155,152,95,112,120,113,115,148,120,122,130,158,120,100,120,160,120,130,140,120,136,130,136,150,140,150,102,160,140,140,110,110,94,100,96,120,105,130,160,110,140,120,110,142,122,130,125,180,140,120,135,135,130,95,100,130,133,122,125,130,120,180,130,108,140,160,145,124,130,160,150,140,150,139,140,123,140,130,108,140,138,110,120,120,135,130,114,158,150,110,130,180,100,150,130,120,145,120,104,130,136,132,110,122,134,145,130,140,132,112,130,100,110,180,128,125,160,128,152,115,130,150,145,130,132,130,150,140,120,140,127,130,137,135,145,130,120,126,141,140,130,130,130,130,145,114,130,115,144,134,170,120,140,120,110,112,120,110,125,160,110,115,180,120,130,140,128,140,130,130,140,120,160,135,138,130,110,132,178,120,150,130,112,130,140,160,170,120,124,160,110,133,120,110,130,150,140,144,130,120,128,124,140,120,139,0,130,190,120,130,144,140,120,130,128,110,115,140,131,120,100,125,160,128,138,125,130,133,95,130,130,135,118,140,140,115,140,140,120,160,120,140,140,130,160,130,140,160,192,160,155,120,101,160,200,140,120,120,140,135,120,122,125,130,160,140,120,160,140,112,124,115,130,130,130,150,125,120,170,120,145,160,136,128,120,138,128,120,125,130,170,110,145,95,125,120,150,120,130,140,140,132,160,136,105,150,108,140,139,152,150,138,105,143,105,130,115,130,160,152,130,117,170,112,110,110,140,155,120,106,134,120,130,130,120,144,140,125,120,145,140,150,170,122,102,120,130,170,150,115,130,130,154,141,132,142,115,120,130,120,130,120,135,100,140,130,95,178,138,112,134,120,165,140,115,180,150,144,104,141,160,120,138,137,130,200,160,137,120,108,150,140,120,110,130,150,144,140,136,130,146,120,80,135,112,125,125,124,122,125,122,105,131,110,146,120,150,152,110,142,126,150,145,120,120,172,140,120,140,120,106,105,120,134,128,143,133,138,132,110,139,120,110,140,110,120,140,130,110,178,150,138,140,122,140,120,130,140,112,130,132,115,140,112,160,120,120,150,137,130,130,130,130,100,140,130,110,138,122,136,140,174,130,130,138,150,120,120,100,132,145,155,160,139,120,118,108,120,118,130,160,124,140,140,140,160,160,160,142,140,124,160,116,135,110,140,120,118,146,160,130,120,125,120,110,130,124,100,110,142,138,126,160,130,120,125,135,120,150,150,140,130,132,156,148,160,134,142,124,115,145,200,140,142,120,133,100,124,120,170,130,120,128,135,130,131,130,150,140,112,138,135,150,158,120,110,180,120,150,120,128,154,120,115,134,120,150,104,180,150,138,154,150,108,130,150,134,160,136,108,115,118,132,125,140,120,136,120,110,160,105,132,172,135,128,125,129,138,120,130,118,145,120,112,130,106,152,150,185,130,130,95,140,118],\"xaxis\":\"x\",\"xbins\":{\"end\":200.0,\"size\":10,\"start\":0.0},\"yaxis\":\"y\"},{\"autobinx\":false,\"histnorm\":\"probability density\",\"legendgroup\":\"Cholesterol\",\"marker\":{\"color\":\"rgb(255, 127, 14)\"},\"name\":\"Cholesterol\",\"opacity\":0.7,\"type\":\"histogram\",\"x\":[161,365,220,0,245,164,234,196,230,321,412,295,275,192,225,171,0,269,246,202,255,256,0,157,286,220,228,199,195,308,0,288,249,297,303,207,0,204,0,309,256,160,219,223,205,0,286,197,335,270,184,160,235,0,175,409,274,0,0,197,335,237,230,0,280,0,214,0,353,207,327,196,183,243,215,0,221,298,273,265,185,0,272,211,0,306,247,202,230,250,0,186,173,0,161,199,0,213,0,252,0,277,0,250,277,468,0,244,218,0,263,217,270,248,0,303,209,315,238,270,0,206,315,236,224,0,318,305,167,197,249,275,227,246,305,275,0,172,0,229,185,0,0,228,275,0,245,280,0,244,0,254,253,0,299,224,0,216,258,0,302,347,236,309,110,360,0,160,222,292,0,297,407,170,226,282,234,213,141,187,271,167,201,258,222,180,318,210,171,172,186,393,223,195,256,210,0,193,113,330,248,0,239,192,310,0,603,0,342,342,256,159,235,295,259,0,211,308,274,0,236,186,248,307,227,305,255,254,211,239,333,225,208,0,307,233,0,306,316,0,215,254,0,0,264,258,214,564,221,271,227,284,281,0,289,149,231,201,254,193,214,0,285,220,253,311,205,216,234,126,299,0,147,204,282,250,0,184,0,166,126,204,290,341,308,312,237,217,209,0,0,218,188,248,242,232,221,193,235,260,208,201,129,254,217,0,173,241,281,281,0,271,228,275,263,197,0,207,0,221,0,0,228,229,175,273,0,203,0,237,206,252,240,166,260,0,233,268,291,0,178,404,320,209,355,219,0,234,283,201,310,198,197,310,0,237,267,298,289,139,229,222,213,266,147,235,240,194,259,261,274,260,294,238,283,160,0,246,288,246,282,263,203,0,177,243,212,226,254,283,177,208,289,0,292,0,392,226,179,0,139,272,331,196,198,235,267,294,181,0,243,274,240,211,204,188,0,197,0,153,262,230,209,160,277,196,287,175,0,240,0,220,322,219,0,270,266,300,279,0,0,243,388,233,265,256,251,225,288,303,303,311,0,292,218,216,0,0,167,340,264,282,192,219,295,207,0,228,294,258,234,267,289,193,0,325,0,312,208,244,0,339,234,282,269,288,254,232,219,163,247,275,254,236,194,193,200,0,245,186,218,0,0,250,340,0,224,171,213,216,320,0,152,344,369,295,214,298,0,200,218,258,216,249,236,260,216,295,272,0,263,0,220,204,255,306,0,236,341,211,277,204,0,214,289,85,169,233,198,270,160,204,0,264,225,169,0,417,212,0,182,0,288,204,123,240,273,163,339,223,132,258,338,0,257,276,239,0,0,319,394,249,207,182,0,168,223,263,213,207,292,269,0,283,284,210,243,215,219,215,246,260,313,0,217,291,180,267,226,241,224,230,0,491,175,156,297,182,241,0,209,0,304,0,211,394,261,0,238,210,257,0,246,0,200,0,0,466,223,195,358,211,220,245,203,268,273,177,266,265,174,0,239,270,354,185,248,197,0,263,330,336,0,203,294,142,318,213,284,230,166,234,268,170,282,254,274,238,212,214,216,0,266,211,240,269,0,0,213,200,214,232,283,269,275,247,201,193,225,233,0,529,224,249,274,220,195,237,0,0,0,218,199,248,0,0,196,220,246,290,242,518,291,250,253,223,223,225,0,184,245,0,177,277],\"xaxis\":\"x\",\"xbins\":{\"end\":603.0,\"size\":10,\"start\":0.0},\"yaxis\":\"y\"},{\"autobinx\":false,\"histnorm\":\"probability density\",\"legendgroup\":\"MaxHR\",\"marker\":{\"color\":\"rgb(44, 160, 44)\"},\"name\":\"MaxHR\",\"opacity\":0.7,\"type\":\"histogram\",\"x\":[190,134,140,86,160,145,156,150,124,182,170,170,115,148,140,137,114,144,110,112,175,113,148,182,108,144,124,179,179,98,120,159,176,144,159,130,117,156,123,140,142,150,118,100,98,106,116,100,143,111,180,185,188,90,120,150,130,121,110,152,158,138,165,133,150,145,180,135,132,138,117,150,182,160,170,115,163,122,132,145,130,157,139,165,92,87,143,145,150,142,98,190,119,110,153,178,103,99,122,135,118,172,145,179,125,127,143,178,115,110,140,110,140,122,125,150,173,162,118,153,84,132,125,105,122,120,160,175,150,116,150,118,154,150,121,129,115,130,124,168,155,127,108,149,150,130,166,120,100,162,150,127,179,82,125,150,119,84,141,111,151,126,144,156,109,151,125,117,112,143,105,150,154,120,178,95,140,140,175,172,182,114,165,147,100,140,140,112,128,158,140,110,142,132,150,148,99,162,120,169,140,130,142,174,126,139,125,140,166,96,149,100,153,180,130,119,92,170,88,138,174,154,96,140,138,142,92,146,115,151,154,120,122,63,146,121,134,163,122,149,135,147,145,160,150,96,168,160,108,162,155,118,118,106,170,125,182,126,163,102,158,92,120,134,144,120,184,170,175,125,173,104,146,126,174,187,149,105,120,180,173,202,153,120,142,130,170,137,163,72,125,128,139,158,91,165,164,141,145,115,140,164,135,93,128,155,184,106,103,167,122,152,152,150,105,177,128,138,128,138,109,120,138,150,173,152,100,137,182,170,170,172,165,118,140,72,163,128,155,149,96,124,162,178,99,164,118,131,195,163,112,130,156,112,70,94,160,185,172,137,129,186,125,171,160,180,169,170,170,140,166,185,120,90,103,150,165,135,159,116,142,174,123,148,148,152,96,127,155,98,84,160,110,126,115,97,130,169,100,83,94,139,94,169,168,120,167,153,135,118,128,105,154,109,172,124,155,131,122,97,155,160,116,138,160,166,150,160,155,80,86,170,109,188,141,160,134,171,150,67,60,137,122,117,122,137,110,146,150,181,122,148,140,115,140,110,120,150,114,172,143,135,110,150,136,135,144,165,106,150,145,99,124,145,128,154,154,113,148,116,99,170,160,126,163,133,108,124,158,175,171,165,110,125,150,135,126,120,131,140,105,120,141,161,184,176,122,110,165,140,155,148,130,160,110,157,168,178,120,100,134,157,116,144,178,73,142,162,175,156,110,110,86,162,161,115,120,152,136,161,118,145,94,144,105,140,140,179,110,145,172,122,121,100,140,144,120,157,132,77,141,154,140,143,130,194,150,116,127,128,185,130,130,179,135,128,126,130,120,152,157,143,96,148,116,174,168,173,110,168,130,148,110,135,160,192,152,175,140,120,82,112,133,143,111,158,156,157,111,123,161,105,124,135,123,180,132,174,148,122,127,115,162,92,144,150,141,122,140,112,156,120,120,170,160,110,130,152,115,122,170,142,162,143,161,103,102,160,109,175,125,140,160,125,163,136,125,136,123,112,132,118,180,132,100,127,120,125,123,160,125,161,136,138,170,159,150,154,157,102,131,131,118,137,160,121,108,111,100,120,108,164,162,169,139,130,158,116,112,147,93,130,173,144,154,86,126,150,156,114,128,139,162,170,125,105,163,152,96,100,149,130,160,142,155,142,181,114,98,100,150,127,162,151],\"xaxis\":\"x\",\"xbins\":{\"end\":202.0,\"size\":10,\"start\":60.0},\"yaxis\":\"y\"},{\"legendgroup\":\"RestingBP\",\"marker\":{\"color\":\"rgb(31, 119, 180)\"},\"mode\":\"lines\",\"name\":\"RestingBP\",\"showlegend\":false,\"type\":\"scatter\",\"x\":[0.0,0.4,0.8,1.2,1.6,2.0,2.4,2.8,3.2,3.6,4.0,4.4,4.8,5.2,5.6,6.0,6.4,6.8,7.2,7.6,8.0,8.4,8.8,9.2,9.6,10.0,10.4,10.8,11.2,11.6,12.0,12.4,12.8,13.2,13.6,14.0,14.4,14.8,15.2,15.6,16.0,16.4,16.8,17.2,17.6,18.0,18.4,18.8,19.2,19.6,20.0,20.4,20.8,21.2,21.6,22.0,22.4,22.8,23.2,23.6,24.0,24.4,24.8,25.2,25.6,26.0,26.4,26.8,27.2,27.6,28.0,28.4,28.8,29.2,29.6,30.0,30.4,30.8,31.2,31.6,32.0,32.4,32.8,33.2,33.6,34.0,34.4,34.8,35.2,35.6,36.0,36.4,36.8,37.2,37.6,38.0,38.4,38.8,39.2,39.6,40.0,40.4,40.8,41.2,41.6,42.0,42.4,42.8,43.2,43.6,44.0,44.4,44.8,45.2,45.6,46.0,46.4,46.8,47.2,47.6,48.0,48.4,48.8,49.2,49.6,50.0,50.4,50.8,51.2,51.6,52.0,52.4,52.8,53.2,53.6,54.0,54.4,54.8,55.2,55.6,56.0,56.4,56.8,57.2,57.6,58.0,58.4,58.8,59.2,59.6,60.0,60.4,60.8,61.2,61.6,62.0,62.4,62.8,63.2,63.6,64.0,64.4,64.8,65.2,65.6,66.0,66.4,66.8,67.2,67.6,68.0,68.4,68.8,69.2,69.6,70.0,70.4,70.8,71.2,71.6,72.0,72.4,72.8,73.2,73.6,74.0,74.4,74.8,75.2,75.6,76.0,76.4,76.8,77.2,77.6,78.0,78.4,78.8,79.2,79.6,80.0,80.4,80.8,81.2,81.6,82.0,82.4,82.8,83.2,83.6,84.0,84.4,84.8,85.2,85.6,86.0,86.4,86.8,87.2,87.6,88.0,88.4,88.8,89.2,89.6,90.0,90.4,90.8,91.2,91.6,92.0,92.4,92.8,93.2,93.6,94.0,94.4,94.8,95.2,95.6,96.0,96.4,96.8,97.2,97.6,98.0,98.4,98.8,99.2,99.6,100.0,100.4,100.8,101.2,101.6,102.0,102.4,102.8,103.2,103.6,104.0,104.4,104.8,105.2,105.6,106.0,106.4,106.8,107.2,107.6,108.0,108.4,108.8,109.2,109.6,110.0,110.4,110.8,111.2,111.6,112.0,112.4,112.8,113.2,113.6,114.0,114.4,114.8,115.2,115.6,116.0,116.4,116.8,117.2,117.6,118.0,118.4,118.8,119.2,119.6,120.0,120.4,120.8,121.2,121.6,122.0,122.4,122.8,123.2,123.6,124.0,124.4,124.8,125.2,125.6,126.0,126.4,126.8,127.2,127.6,128.0,128.4,128.8,129.2,129.6,130.0,130.4,130.8,131.2,131.6,132.0,132.4,132.8,133.2,133.6,134.0,134.4,134.8,135.2,135.6,136.0,136.4,136.8,137.2,137.6,138.0,138.4,138.8,139.2,139.6,140.0,140.4,140.8,141.2,141.6,142.0,142.4,142.8,143.2,143.6,144.0,144.4,144.8,145.2,145.6,146.0,146.4,146.8,147.2,147.6,148.0,148.4,148.8,149.2,149.6,150.0,150.4,150.8,151.2,151.6,152.0,152.4,152.8,153.2,153.6,154.0,154.4,154.8,155.2,155.6,156.0,156.4,156.8,157.2,157.6,158.0,158.4,158.8,159.2,159.6,160.0,160.4,160.8,161.2,161.6,162.0,162.4,162.8,163.2,163.6,164.0,164.4,164.8,165.2,165.6,166.0,166.4,166.8,167.2,167.6,168.0,168.4,168.8,169.2,169.6,170.0,170.4,170.8,171.2,171.6,172.0,172.4,172.8,173.2,173.6,174.0,174.4,174.8,175.2,175.6,176.0,176.4,176.8,177.2,177.6,178.0,178.4,178.8,179.2,179.6,180.0,180.4,180.8,181.2,181.6,182.0,182.4,182.8,183.2,183.6,184.0,184.4,184.8,185.2,185.6,186.0,186.4,186.8,187.2,187.6,188.0,188.4,188.8,189.2,189.6,190.0,190.4,190.8,191.2,191.6,192.0,192.4,192.8,193.2,193.6,194.0,194.4,194.8,195.2,195.6,196.0,196.4,196.8,197.2,197.6,198.0,198.4,198.8,199.2,199.6],\"xaxis\":\"x\",\"y\":[0.00011016315470301397,0.000109801696898006,0.00010872442383468043,0.00010695240461412843,0.00010451999181014666,0.00010147371400610731,0.00009787079601759424,0.00009377737252783979,0.00008926647297346898,0.00008441586328103932,0.00007930583316308613,0.00007401701613653547,0.00006862832352316583,0.00006321506399015467,0.00005784730745738001,0.0000525885373504105,0.00004749461919967452,0.000042613097462215734,0.000037982817089579214,0.00003363385257517448,0.000029587715609923884,0.00002585780348401993,0.000022450044218331725,0.000019363691116268117,0.00001659221884259854,0.000014124274959813172,0.000011944644676198016,0.000010035191906431941,8.375746111843343e-6,6.944911280409702e-6,5.7207803744154e-6,4.681545229545783e-6,3.8059979263846033e-6,3.0739248543493656e-6,2.4663989165916408e-6,1.9659785304438433e-6,1.5568242793579688e-6,1.2247453424026427e-6,9.571882801688429e-7,7.431805305844478e-7,5.732402151998451e-7,4.392627259446103e-7,3.3439319412925766e-7,2.5289246080478873e-7,1.9000267287972192e-7,1.418172024037217e-7,1.0515828451041162e-7,7.74646292760145e-8,5.6690302748439514e-8,4.1215396400860985e-8,2.976840470647132e-8,2.135979188569178e-8,1.5225930666956708e-8,1.0782415271491626e-8,7.58566458783979e-9,5.301717621761335e-9,3.6811619567408105e-9,2.5392100764372528e-9,1.7400339258691828e-9,1.1845739404884009e-9,8.01146626209586e-10,5.382787277629022e-10,3.592922105207794e-10,2.382504675769341e-10,1.569513649117229e-10,1.0271687718290518e-10,6.6782687685819e-11,4.3135154175456046e-11,2.7678604577945084e-11,1.7644217525360138e-11,1.117393114004558e-11,7.029993984383827e-12,4.393891125146739e-12,2.7282804116734733e-12,1.682961161629575e-12,1.0313464020753545e-12,6.27885418345517e-13,3.7975334873060707e-13,2.281750752674912e-13,1.362009598035426e-13,8.076766154389073e-14,4.758172967260341e-14,2.7847634933799423e-14,1.619130239995447e-14,9.35234731387423e-15,5.366669433886063e-15,3.059387173443587e-15,1.7326443313080275e-15,9.748320754651683e-16,5.448735124802281e-16,3.0255714356221344e-16,1.6690378718594574e-16,9.146956999203122e-17,4.980304308617607e-17,2.6944348176811623e-17,1.4492696641938855e-17,7.765689631493875e-18,4.176268375892059e-18,2.314081137235699e-18,1.4330668894071405e-18,1.1747437648654122e-18,1.4330668894128613e-18,2.3140811372518504e-18,4.176268375931768e-18,7.765689631588866e-18,1.4492696642164022e-17,2.694434817734174e-17,4.9803043087415515e-17,9.146956999490908e-17,1.6690378719258667e-16,3.0255714357743683e-16,5.448735125148964e-16,9.74832075543611e-16,1.7326443314843705e-15,3.059387173837409e-15,5.3666694347598725e-15,9.352347315800592e-15,1.6191302404173327e-14,2.7847634942979082e-14,4.75817296924477e-14,8.076766158651161e-14,1.3620095989448577e-13,2.281750754602844e-13,3.797533491366745e-13,6.27885419195221e-13,1.0313464038418403e-12,1.6829611652781963e-12,2.7282804191607014e-12,4.393891140411431e-12,7.0299940153030395e-12,1.1173931202267596e-11,1.7644217649764118e-11,2.767860482505995e-11,4.31351546631417e-11,6.678268864203439e-11,1.0271687904562339e-10,1.5695136851680117e-10,2.3825047450893143e-10,3.5929222376353905e-10,5.382787528976843e-10,8.011466736063481e-10,1.1845740292855942e-9,1.7400340911517583e-9,2.5392103820929696e-9,3.6811625183260782e-9,5.3017186468865465e-9,7.585666446998262e-9,1.078241862141158e-8,1.5225936663917973e-8,2.1359802551827774e-8,2.976842355434343e-8,4.121542949089042e-8,5.669036046652149e-8,7.746472930062127e-8,1.0515845672992043e-7,1.4181749700776532e-7,1.9000317357820036e-7,2.5289330626935067e-7,3.3439461252198016e-7,4.392650901212619e-7,5.732441303292426e-7,7.431869722107436e-7,9.571988101746568e-7,1.224762444362228e-6,1.5568518754669128e-6,1.9660227724796925e-6,2.466469387235323e-6,3.0740363782379038e-6,3.806173280028016e-6,4.681819165889004e-6,5.721205554864e-6,6.945566952279817e-6,8.376750705384946e-6,0.000010036721182102159,0.00001194695766658477,0.000014127750767177504,0.000016597408427970532,0.000019371389615764196,0.000022461391124439044,0.00002587442032255847,0.000029611893625401895,0.00003366880651333339,0.00003803302554344682,0.000042684755529811714,0.000047596235476545174,0.000052731714610975585,0.00005804775478632424,0.00006349389756913671,0.00006901372363781814,0.00007454631901877357,0.00008002814767147261,0.00008539531364579913,0.00009058617922495778,0.00009554428894346934,0.00010022153394196713,0.00010458147754042294,0.00010860275181870987,0.00011228242687088581,0.00011563924954368684,0.00011871664697937804,0.00012158539206902802,0.00012434583273561347,0.00012712959444391645,0.00013010067505461788,0.00013345586268391596,0.0001374244202358448,0.0001422669944819974,0.00014827372283782698,0.00015576152731667156,0.00016507060262142833,0.00017656012409656227,0.00019060322142419752,0.00020758128551821915,0.00022787769887633666,0.0002518711032675994,0.00027992834234509756,0.00031239723956526727,0.00034959939238958656,0.0003918231806837005,0.0004393171989946112,0.0004922843275490689,0.0005508766541982098,0.0006151914483670249,0.0006852683681241897,0.0007610880531622498,0.0008425722208052758,0.0009295853407623316,0.0010219379192967365,0.0011193913771205468,0.001221664460000956,0.0013284410788825596,0.0014393794388840079,0.001554122284711489,0.0016723080639027205,0.0017935827880874691,0.001917612354593144,0.0020440950741981603,0.0021727741334275144,0.0023034496995265738,0.002435990351861376,0.0025703434948165602,0.002706544375594318,0.002844723298622047,0.0029851106012016744,0.003128038938711816,0.0032739424293023065,0.0034233522352190575,0.0035768882179022755,0.003735246402746331,0.0038991821305777797,0.004069488957049062,0.004246973584963415,0.0044324273704356865,0.0046265952197194525,0.004830142973294043,0.005043624637731676,0.0052674510518926545,0.005501861739139572,0.0057469017793359885,0.006002405513932183,0.006267988759615535,0.006543050942431349,0.00682678817455623,0.007118217788659386,0.007416214238202501,0.007719555593682673,0.008026979150767168,0.008337243959425257,0.008649197430972672,0.008961842631478775,0.009274402472637541,0.009586376807104304,0.009897588457885666,0.010208214482108919,0.010518799495266644,0.010830248653274177,0.011143798879505977,0.011460968088559568,0.011783483438502418,0.012113190966814904,0.01245195025134154,0.01280151890151619,0.01316343264364094,0.013538887441047092,0.013928630422507957,0.014332866335509883,0.01475118577258158,0.015182520542098557,0.01562513030002842,0.016076622982781213,0.0165340097648801,0.016993793309959586,0.0174520861055422,0.017904753794391708,0.018347576760614652,0.018776421910779082,0.019187415705716696,0.019577109119677992,0.01994262537223112,0.02028178200273373,0.020593180109549098,0.020876255293509314,0.021131286932647,0.021359364751742164,0.021562314095589112,0.021742583718907683,0.021903102117981094,0.022047110308569547,0.022177980379640427,0.022299030028509578,0.022413343549535118,0.02252360938305531,0.022631983351410246,0.022739985171332227,0.022848433829253976,0.022957425060777983,0.023066351632557276,0.02317396454222253,0.02327847079083371,0.023377661196424166,0.02346905994320381,0.023550086309576224,0.023618218366875957,0.023671148429141094,0.023706920661047445,0.023724042474542864,0.02372156308498576,0.02369911474223951,0.023656914563372388,0.023595727416999862,0.023516792784228864,0.023421720790873395,0.023312364527605135,0.02319067722973876,0.02305856378803625,0.02291773635427578,0.022769583477711842,0.02261506128817802,0.02245461379324329,0.022288127478288854,0.02211492321356311,0.021933786122928973,0.02174303170521145,0.02154060426940088,0.021324201787015454,0.02109141969654204,0.020839905107026428,0.02056751229932229,0.02027245043779164,0.01995341496990978,0.0196096952596169,0.01924125249522934,0.018848763732502907,0.018433629958725214,0.017997948165746354,0.017544449468932966,0.017076407182603885,0.016597520352763254,0.01611177946797855,0.015623321857744146,0.015136284611827342,0.014654662710509647,0.014182179469437395,0.013722175424977605,0.013277520489209105,0.01285055267712788,0.012443045051836077,0.012056200849958069,0.01169067514050552,0.011346619928818934,0.01102374842256584,0.010721413290935775,0.01043869321241236,0.01017448183980502,0.009927573509916259,0.009696740563986195,0.009480797979049313,0.009278652078420619,0.009089331318312818,0.008911998456083219,0.008745944710188221,0.0085905677413697,0.00844533634485556,0.008309745581884452,0.008183266648133118,0.008065296046792174,0.007955108594449619,0.007851818447509559,0.007754351723258383,0.007661433447278973,0.007571590545883351,0.0074831714866570535,0.0073943820256375335,0.007303335420358554,0.007208114484192547,0.007106842050798063,0.006997755837310436,0.006879283375036886,0.006750112633275063,0.006609254193707034,0.0064560913201122255,0.0062904149752790565,0.006112441714910387,0.005922813378117779,0.00572257853116372,0.005513156639563973,0.0052962868807912965,0.005073964310116135,0.004848366710742285,0.0046217758647264275,0.004396497156413882,0.004174781363768547,0.003958752218240894,0.003750342847078873,0.003551243590409995,0.0033628629539960192,0.0031863026667453263,0.0030223470103845035,0.002871465825402363,0.0027338299155807767,0.0026093370086251204,0.0024976460087775074,0.002398217014662459,0.002310354477129423,0.002233250932413663,0.002166028951151235,0.0021077792714972662,0.002057593506736207,0.0020145903024259993,0.001977934331709294,0.0019468480268145093,0.0019206164192127823,0.0018985858737163464,0.0018801578317300728,0.0018647789109891206,0.0018519288353934773,0.0018411076879224946,0.0018318238976723685,0.0018235842003653084,0.0018158865667462312,0.0018082167953188137,0.0018000491373517588,0.0017908509862394379,0.0017800913426243078,0.00176725248155284,0.0017518440153894937,0.0017334183790350553,0.0017115866700740093,0.0016860337585160512,0.0016565316363968494,0.0016229500995510575,0.0015852640312535489,0.0015435567759680155,0.0014980193350118708,0.0014489453676374449,0.0013967222243339453,0.0013418184590448506,0.0012847684508414366,0.0012261549038489522,0.0011665900808671863,0.0011066966588208216,0.0010470890741532178,0.000988356158011712,0.0009310457517285395,0.0008756518518706908,0.0008226046714724207,0.0007722638309401422,0.0007249147192679511,0.0006807679034965319,0.0006399613202762073,0.0006025648646795878,0.0005685869027827316,0.0005379821786473824,0.0005106605638094993,0.00048649610694730697,0.0004653358801570413,0.0004470081819485035,0.0004313297404079516,0.0004181116570104483,0.00040716393601256037,0.0003982985499297377,0.0003913310923091288,0.00038608115942723886,0.00038237167805871633,0.0003800274534641349,0.0003788732477674145,0.0003787317127188088,0.00037942149253442634,0.0003807557833981372,0.00038254158881453383,0.0003845798478478635,0.0003866665407251916,0.0003885947982321912,0.0003901579629527511,0.0003911534767985327,0.00039138740515217547,0.00039067935732680097,0.0003888675289934398,0.0003858135766693988,0.0003814070379542921],\"yaxis\":\"y\"},{\"legendgroup\":\"Cholesterol\",\"marker\":{\"color\":\"rgb(255, 127, 14)\"},\"mode\":\"lines\",\"name\":\"Cholesterol\",\"showlegend\":false,\"type\":\"scatter\",\"x\":[0.0,1.206,2.412,3.618,4.824,6.03,7.236,8.442,9.648,10.854,12.06,13.266,14.472,15.678,16.884,18.09,19.296,20.502,21.708,22.914,24.12,25.326,26.532,27.738,28.944,30.15,31.356,32.562,33.768,34.974,36.18,37.386,38.592,39.798,41.004,42.21,43.416,44.622,45.828,47.034,48.24,49.446,50.652,51.858,53.064,54.27,55.476,56.682,57.888,59.094,60.3,61.506,62.712,63.918,65.124,66.33,67.536,68.742,69.948,71.154,72.36,73.566,74.772,75.978,77.184,78.39,79.596,80.802,82.008,83.214,84.42,85.626,86.832,88.038,89.244,90.45,91.656,92.862,94.068,95.274,96.48,97.686,98.892,100.098,101.304,102.51,103.716,104.922,106.128,107.334,108.54,109.746,110.952,112.158,113.364,114.57,115.776,116.982,118.188,119.394,120.6,121.806,123.012,124.218,125.424,126.63,127.836,129.042,130.248,131.454,132.66,133.866,135.072,136.278,137.484,138.69,139.896,141.102,142.308,143.514,144.72,145.926,147.132,148.338,149.544,150.75,151.956,153.162,154.368,155.574,156.78,157.986,159.192,160.398,161.604,162.81,164.016,165.222,166.428,167.634,168.84,170.046,171.252,172.458,173.664,174.87,176.076,177.282,178.488,179.694,180.9,182.106,183.312,184.518,185.724,186.93,188.136,189.342,190.548,191.754,192.96,194.166,195.372,196.578,197.784,198.99,200.196,201.402,202.608,203.814,205.02,206.226,207.432,208.638,209.844,211.05,212.256,213.462,214.668,215.874,217.08,218.286,219.492,220.698,221.904,223.11,224.316,225.522,226.728,227.934,229.14,230.346,231.552,232.758,233.964,235.17,236.376,237.582,238.788,239.994,241.2,242.406,243.612,244.818,246.024,247.23,248.436,249.642,250.848,252.054,253.26,254.466,255.672,256.878,258.084,259.29,260.496,261.702,262.908,264.114,265.32,266.526,267.732,268.938,270.144,271.35,272.556,273.762,274.968,276.174,277.38,278.586,279.792,280.998,282.204,283.41,284.616,285.822,287.028,288.234,289.44,290.646,291.852,293.058,294.264,295.47,296.676,297.882,299.088,300.294,301.5,302.706,303.912,305.118,306.324,307.53,308.736,309.942,311.148,312.354,313.56,314.766,315.972,317.178,318.384,319.59,320.796,322.002,323.208,324.414,325.62,326.826,328.032,329.238,330.444,331.65,332.856,334.062,335.268,336.474,337.68,338.886,340.092,341.298,342.504,343.71,344.916,346.122,347.328,348.534,349.74,350.946,352.152,353.358,354.564,355.77,356.976,358.182,359.388,360.594,361.8,363.006,364.212,365.418,366.624,367.83,369.036,370.242,371.448,372.654,373.86,375.066,376.272,377.478,378.684,379.89,381.096,382.302,383.508,384.714,385.92,387.126,388.332,389.538,390.744,391.95,393.156,394.362,395.568,396.774,397.98,399.186,400.392,401.598,402.804,404.01,405.216,406.422,407.628,408.834,410.04,411.246,412.452,413.658,414.864,416.07,417.276,418.482,419.688,420.894,422.1,423.306,424.512,425.718,426.924,428.13,429.336,430.542,431.748,432.954,434.16,435.366,436.572,437.778,438.984,440.19,441.396,442.602,443.808,445.014,446.22,447.426,448.632,449.838,451.044,452.25,453.456,454.662,455.868,457.074,458.28,459.486,460.692,461.898,463.104,464.31,465.516,466.722,467.928,469.134,470.34,471.546,472.752,473.958,475.164,476.37,477.576,478.782,479.988,481.194,482.4,483.606,484.812,486.018,487.224,488.43,489.636,490.842,492.048,493.254,494.46,495.666,496.872,498.078,499.284,500.49,501.696,502.902,504.108,505.314,506.52,507.726,508.932,510.138,511.344,512.55,513.756,514.962,516.168,517.374,518.58,519.786,520.992,522.198,523.404,524.61,525.816,527.022,528.228,529.434,530.64,531.846,533.052,534.258,535.464,536.67,537.876,539.082,540.288,541.494,542.7,543.906,545.112,546.318,547.524,548.73,549.936,551.142,552.348,553.554,554.76,555.966,557.172,558.378,559.584,560.79,561.996,563.202,564.408,565.614,566.82,568.026,569.232,570.438,571.644,572.85,574.056,575.262,576.468,577.674,578.88,580.086,581.292,582.498,583.704,584.91,586.116,587.322,588.528,589.734,590.94,592.146,593.352,594.558,595.764,596.97,598.176,599.382,600.588,601.794],\"xaxis\":\"x\",\"y\":[0.002465874960480523,0.0024637975823473875,0.002457502369929972,0.0024470223976209475,0.002432412200170348,0.0024137473132655944,0.0023911236372469516,0.0023646566315614634,0.0023344803495311183,0.002300746324837241,0.0022636223227774773,0.0022232909708092747,0.0021799482841355503,0.0021338021030975784,0.0020850704599054025,0.0020339798927497747,0.001980763725598735,0.0019256603319869974,0.0018689114008642416,0.0018107602220871712,0.0017514500084343163,0.0016912222701087197,0.0016303152565907667,0.0015689624794357844,0.00150739132820091,0.0014458217901614154,0.0013844652828636638,0.0013235236068889484,0.001263188024496172,0.0012036384680999858,0.0011450428808493477,0.0010875566899251647,0.0010313224115965642,0.0009764693855849134,0.0009231136348999435,0.0008713578460500156,0.0008212914633997201,0.0007729908904640215,0.0007265197900944425,0.0006819294748339766,0.000639259378194575,0.0005985375972423519,0.0005597814966572605,0.0005229983643598091,0.0004881861088588096,0.0004553339886616561,0.0004244233643905258,0.0003954284646519596,0.00036831715720009436,0.00034305171750168863,0.00031958958743986683,0.000297884117569462,0.00027788528704600926,0.0002595403960798425,0.00024279472650390747,0.00022759216677709987,0.00021387579846381314,0.00020158844192524124,0.0001906731596207626,0.00018107371604126474,0.00017273499387484637,0.00016560336653436003,0.00015962702765252802,0.0001547562785715516,0.00015094377521935202,0.00014814473607365603,0.00014631711316903643,0.00014542172830233447,0.00014542237674113336,0.00014628590084105855,0.00014798223603414832,0.00015048443166629943,0.0001537686491409719,0.00015781413977330368,0.00016260320467794746,0.0001681211389098089,0.0001743561619537643,0.00018129933652160705,0.00018894447746600166,0.0001972880524659014,0.00020632907597919456,0.00021606899779951693,0.0002265115873981091,0.0002376628150806433,0.00024953073084543276,0.000262125341694925,0.000275458488028417,0.00028954371963135675,0.00030439617167618934,0.0003200324410618415,0.0003364704633433647,0.0003537293904400807,0.00037182946925886756,0.0003907919213284845,0.00041063882350998363,0.0004313929898260288,0.0004530778544374408,0.00047571735578655306,0.0004993358219232844,0.0005239578570291196,0.000549608229155564,0.0005763117591953803,0.0006040932111059853,0.0006329771834037003,0.0006629880019438643,0.0006941496139949303,0.0007264854836032485,0.0007600184882299842,0.0007947708166213118,0.0008307638678491252,0.0008680181514310784,0.000906553188408158,0.0009463874132240997,0.0009875380762175113,0.0010300211465029572,0.001073851214985975,0.0011190413972282638,0.0011656032358564384,0.0012135466021915512,0.0012628795967695532,0.0013136084484258817,0.0013657374116326489,0.0014192686618053178,0.0014742021883387213,0.0015305356851901388,0.0015882644389012103,0.0016473812140396279,0.0017078761361468467,0.001769736572397263,0.0018329470103077628,0.001897488934981312,0.0019633407055228416,0.0020304774314275705,0.0020988708499080654,0.0021684892052936046,0.0022392971317998496,0.002311255541125626,0.0023843215164815745,0.002458448214789635,0.0025335847789084293,0.0026096762618332864,0.0026866635648881585,0.0027644833919662896,0.0028430682218830174,0.0029223463008781502,0.003002241657240908,0.0030826741399294804,0.003163559482918303,0.00324480939682714,0.0033263316891720385,0.003408030414326356,0.0034898060539958254,0.0035715557286970056,0.0036531734403869153,0.00373455034602896,0.0038155750614993914,0.0038961339948482793,0.003976111707531652,0.004055391301836222,0.0041338548323303845,0.004211383738801249,0.004287859297784275,0.004363163089466467,0.004437177476450058,0.004509786090609843,0.004580874324065747,0.0046503298201292205,0.0047180429599701975,0.004783907340694253,0.004847820240518454,0.0049096830667900455,0.004969401782705759,0.005026887308758982,0.00508205589516552,0.005134829461794458,0.005185135902453994,0.005232909350747994,0.005278090405125294,0.005320626311179358,0.0053604710997206565,0.0053975856796257115,0.005431937884961786,0.005463502476386353,0.005492261097317719,0.005518202185862063,0.005541320843953993,0.00556161866561755,0.005579103526675776,0.005593789338622073,0.005605695769715236,0.005614847936661918,0.005621276070507811,0.005625015160564553,0.0056261045803549115,0.0056245876996596856,0.00562051148680084,0.005613926105289935,0.005604884508918358,0.0055934420392614445,0.0055796560294195255,0.005563585417626219,0.005545290374122811,0.005524831944431134,0.00550227171186095,0.005477671481766211,0.0054510929897225845,0.005422597635442436,0.005392246243876496,0.005360098854581452,0.005326214540061061,0.005290651253424576,0.005253465705349381,0.005214713269993888,0.005174447919182616,0.005132722183881761,0.00508958714170516,0.005045092428937328,0.004999286275335981,0.00495221555978242,0.0049039258846840855,0.004854461666902603,0.0048038662428799336,0.00475218198556752,0.004699450430725531,0.004645712410152108,0.004591008189424365,0.004535377607781186,0.0044788602178526355,0.004421495423038569,0.00436332261045845,0.004304381277532847,0.004244711150412827,0.00418435229264301,0.004123345202626176,0.004061730898648878,0.003999550990426124,0.003936847736326436,0.003873664085644889,0.0038100437054976073,0.0037460309921152567,0.003681671066513327,0.003617009754711169,0.0035520935528578824,0.003486969577800089,0.00342168550379217,0.0033562894862027193,0.003290830073210204,0.0032253561066048616,0.0031599166129222976,0.003094560686225321,0.0030293373639243793,0.0029642954970827296,0.0028994836166896347,0.002834949797403604,0.0027707415202681885,0.002706905535884361,0.0026434877294879617,0.0025805329893272572,0.002518085079666258,0.0024561865196540684,0.002394878469201592,0.002334200622894528,0.0022741911128479958,0.002214886421275351,0.0021563213034024027,0.002098528721211791,0.0020415397883517122,0.001985383726390896,0.0019300878324503175,0.0018756774580929601,0.001822175999209125,0.001769604896497567,0.0017179836460145166,0.0016673298191456733,0.0016176590912512453,0.0015689852781438712,0.0015213203794838992,0.0014746746281181014,0.001429056544346624,0.0013844729940793716,0.0013409292498380077,0.0012984290535720006,0.001256974680287688,0.001216567001536219,0.0011772055478692458,0.0011388885694489145,0.0011016130940891954,0.001065374982107775,0.0010301689774787665,0.0009959887548952253,0.0009628269624737863,0.0009306752599596949,0.0008995243524168746,0.0008693640195115976,0.0008401831406178702,0.000811969716085416,0.0007847108851149697,0.0007583929407786986,0.0007330013428040601,0.0007085207288058856,0.0006849349247028782,0.0006622269550896147,0.0006403790543537577,0.0006193726793292711,0.000599188524260865,0.0005798065388223912,0.0005612059498835366,0.0005433652876556749,0.0005262624167703279,0.000509874572754113,0.0004941784042635943,0.0004791500213344069,0.0004647650497831535,0.00045099869178014134,0.00043782579248825636,0.00042522091254035293,0.0004131584060067675,0.00040161250338809816,0.00039055739905826797,0.0003799673424812231,0.0003698167324329196,0.00036008021338049815,0.00035073277310375514,0.00034174984059157977,0.0003331073832087015,0.0003247820021065517,0.0003167510248465594,0.0003089925942149348,0.0003014857522345869,0.0002942105184219802,0.00028714796139348914,0.0002802802629964567,0.000273590774223257,0.00026706406226104323,0.0002606859481338263,0.00025444353450551616,0.0002483252233307136,0.00024232072316252788,0.0002364210460516594,0.00023061849409646208,0.0002249066358278329,0.000219280272733764,0.00021373539634442928,0.0002082691364081903,0.0002028797007903007,0.00019756630781810254,0.0001923291118778947,0.00018716912313837766,0.0001820881223329483,0.00017708857157738608,0.0001721735222303565,0.0001673465208213957,0.00016261151407468002,0.00015797275404715668,0.00015343470437687037,0.00014900194860221775,0.00014467910146612507,0.00014047072406163475,0.00013638124360825437,0.00013241487857266896,0.00012857556976443243,0.00012486691794823696,0.00012129212842076774,0.00011785396290331368,0.00011455469900265396,0.0001113960973936973,0.0001083793767792047,0.00010550519658605343,0.00010277364726509677,0.00010018424797392597,0.00009773595133976032,0.0000954271549242818,0.00009325571894426213,0.00009121898974203699,0.00008931382844879191,0.00008753664424169005,0.00008588343156333795,0.00008434981064911893,0.00008293107069450428,0.00008162221499044946,0.00008041800736013869,0.00007931301924425176,0.00007830167680412543,0.0000773783074420178,0.00007653718517453031,0.00007577257433827066,0.00007507877115526039,0.00007445014273849582,0.00007388116317455496,0.00007336644637925214,0.00007290077548314249,0.00007247912856520527,0.00007209670061439224,0.00007174892165900095,0.00007143147106218584,0.00007114028803757819,0.00007087157849119771,0.00007062181834398313,0.00007038775353277421,0.00007016639692595832,0.00006995502242288994,0.00006975115653329875,0.00006955256775404918,0.00006935725407571039,0.00006916342896045199,0.00006896950613590634,0.00006877408354702976,0.00006857592679993004,0.00006837395241847505,0.00006816721121667681,0.00006795487206785793,0.00006773620632598968,0.00006751057312593172,0.00006727740575821557,0.00006703619928113248,0.00006678649949885507,0.00006652789339977761,0.0000662600011148328,0.00006598246942182869,0.00006569496678942176,0.00006539717992371906,0.0000650888117521608,0.00006476958075368873,0.00006443922152160101,0.00006409748642622019,0.00006374414822876016,0.00006337900348570972,0.00006300187657471763,0.0000626126241683523,0.0000622111399811439,0.00006179735961783999,0.00006137126535662211,0.00006093289070986065,0.00006048232461652858,0.00006001971513429184,0.000059545272515160564,0.000059059271566017955,0.000058562053213917836,0.00005805402521533522,0.0000575356619681477,0.00005700750340461223,0.00005647015296260036,0.00005592427465051072,0.00005537058923827115,0.000054809869622403794,0.0000542429354270155,0.00005367064691462071,0.00005309389829076905,0.00005251361049445454,0.000051930723572204946,0.00005134618873759928,0.000050760960219812485,0.00005017598700473629,0.00004959220457042489,0.000049010526715224625,0.00004843183757217949,0.00004785698389735542,0.00004728676771283282,0.00004672193937750153,0.000046163191150676754,0.00004561115130515872,0.00004506637883788071,0.00004452935881791026,0.000044000498403445684,0.000043480123551713155,0.00004296847643842315,0.00004246571359675932,0.000041971904779789104,0.000041487032544724454,0.00004101099255260015,0.00004054359457264925,0.00004008456417687773,0.000039633545107002564,0.00003919010229293424,0.000038753725499262574,0.00003832383357365461,0.00003789977926859705,0.000037480854605434475,0.000037066296747095775,0.00003665529434320244,0.000036246994308378307,0.00003584050899150928,0.000035434923690435046,0.00003502930446311462,0.000034622706182741056,0.00003421418078065151,0.00003380278561726966,0.00003338759191782812,0.00003296769320636066,0.00003254221366854643,0.00003211031637155515,0.00003167121126720657,0.000031224162903641,0.00003076849777040669,0.000030303611202502144,0.00002982897377054999,0.000029344137086976135,0.000028848738961865686,0.000028342507847070895,0.000027825266513145075],\"yaxis\":\"y\"},{\"legendgroup\":\"MaxHR\",\"marker\":{\"color\":\"rgb(44, 160, 44)\"},\"mode\":\"lines\",\"name\":\"MaxHR\",\"showlegend\":false,\"type\":\"scatter\",\"x\":[60.0,60.284,60.568,60.852,61.136,61.42,61.704,61.988,62.272,62.556,62.84,63.124,63.408,63.692,63.976,64.26,64.544,64.828,65.112,65.396,65.68,65.964,66.248,66.532,66.816,67.1,67.384,67.668,67.952,68.236,68.52,68.804,69.088,69.372,69.656,69.94,70.224,70.508,70.792,71.076,71.36,71.644,71.928,72.212,72.496,72.78,73.064,73.348,73.632,73.916,74.2,74.484,74.768,75.05199999999999,75.336,75.62,75.904,76.188,76.47200000000001,76.756,77.03999999999999,77.324,77.608,77.892,78.176,78.46000000000001,78.744,79.02799999999999,79.312,79.596,79.88,80.164,80.44800000000001,80.732,81.01599999999999,81.3,81.584,81.868,82.152,82.436,82.72,83.004,83.288,83.572,83.856,84.14,84.424,84.708,84.992,85.276,85.56,85.844,86.128,86.412,86.696,86.98,87.264,87.548,87.832,88.116,88.4,88.684,88.968,89.252,89.536,89.82,90.104,90.388,90.672,90.956,91.24,91.524,91.80799999999999,92.092,92.376,92.66,92.944,93.22800000000001,93.512,93.79599999999999,94.08,94.364,94.648,94.932,95.21600000000001,95.5,95.78399999999999,96.068,96.352,96.636,96.92,97.20400000000001,97.488,97.77199999999999,98.056,98.34,98.624,98.908,99.19200000000001,99.476,99.75999999999999,100.044,100.328,100.612,100.896,101.18,101.464,101.74799999999999,102.032,102.316,102.6,102.884,103.168,103.452,103.73599999999999,104.02000000000001,104.304,104.588,104.872,105.156,105.44,105.72399999999999,106.00800000000001,106.292,106.576,106.86,107.144,107.428,107.712,107.99600000000001,108.28,108.564,108.848,109.132,109.416,109.7,109.98400000000001,110.268,110.55199999999999,110.836,111.12,111.404,111.688,111.97200000000001,112.256,112.53999999999999,112.824,113.108,113.392,113.676,113.96000000000001,114.244,114.52799999999999,114.812,115.096,115.38,115.664,115.94800000000001,116.232,116.51599999999999,116.8,117.084,117.368,117.652,117.936,118.22,118.50399999999999,118.788,119.072,119.356,119.64,119.924,120.208,120.49199999999999,120.77600000000001,121.06,121.344,121.628,121.912,122.196,122.47999999999999,122.76400000000001,123.048,123.332,123.616,123.9,124.184,124.468,124.752,125.036,125.32,125.604,125.888,126.172,126.456,126.74,127.024,127.308,127.592,127.876,128.16,128.44400000000002,128.728,129.012,129.296,129.57999999999998,129.864,130.148,130.43200000000002,130.716,131.0,131.284,131.56799999999998,131.852,132.136,132.42000000000002,132.704,132.988,133.272,133.55599999999998,133.84,134.124,134.40800000000002,134.692,134.976,135.26,135.54399999999998,135.828,136.112,136.39600000000002,136.68,136.964,137.248,137.53199999999998,137.816,138.1,138.38400000000001,138.668,138.952,139.236,139.51999999999998,139.804,140.088,140.372,140.656,140.94,141.224,141.50799999999998,141.792,142.076,142.36,142.644,142.928,143.212,143.49599999999998,143.78,144.064,144.348,144.632,144.916,145.2,145.48399999999998,145.768,146.05200000000002,146.336,146.62,146.904,147.188,147.47199999999998,147.756,148.04000000000002,148.324,148.608,148.892,149.176,149.45999999999998,149.744,150.02800000000002,150.312,150.596,150.88,151.164,151.44799999999998,151.732,152.01600000000002,152.3,152.584,152.868,153.152,153.436,153.72,154.00400000000002,154.288,154.572,154.856,155.14,155.424,155.708,155.99200000000002,156.276,156.56,156.844,157.128,157.412,157.696,157.98000000000002,158.264,158.548,158.832,159.11599999999999,159.4,159.684,159.96800000000002,160.252,160.536,160.82,161.10399999999998,161.388,161.672,161.95600000000002,162.24,162.524,162.808,163.09199999999998,163.376,163.66,163.94400000000002,164.228,164.512,164.796,165.07999999999998,165.364,165.648,165.93200000000002,166.216,166.5,166.784,167.06799999999998,167.352,167.636,167.92000000000002,168.204,168.488,168.772,169.05599999999998,169.34,169.624,169.90800000000002,170.192,170.476,170.76,171.04399999999998,171.328,171.612,171.89600000000002,172.18,172.464,172.748,173.03199999999998,173.316,173.6,173.88400000000001,174.168,174.452,174.736,175.01999999999998,175.304,175.588,175.872,176.156,176.44,176.724,177.00799999999998,177.292,177.576,177.86,178.144,178.428,178.712,178.99599999999998,179.28,179.564,179.848,180.132,180.416,180.7,180.98399999999998,181.268,181.55200000000002,181.836,182.12,182.404,182.688,182.97199999999998,183.256,183.54000000000002,183.824,184.108,184.392,184.676,184.95999999999998,185.244,185.52800000000002,185.812,186.096,186.38,186.664,186.94799999999998,187.232,187.51600000000002,187.8,188.084,188.368,188.652,188.936,189.22,189.504,189.788,190.072,190.356,190.64,190.924,191.208,191.492,191.776,192.06,192.344,192.628,192.912,193.196,193.48,193.764,194.048,194.332,194.616,194.9,195.184,195.468,195.752,196.036,196.32,196.604,196.888,197.172,197.456,197.74,198.024,198.308,198.592,198.876,199.16,199.444,199.728,200.012,200.296,200.58,200.864,201.148,201.432,201.716],\"xaxis\":\"x\",\"y\":[0.00028034285956534576,0.00028962515797630186,0.00029898624849615556,0.00030842002615259024,0.00031792056482448294,0.0003274821493924043,0.0003370993085443489,0.00034676684846330903,0.00035647988762817066,0.00036623389295471716,0.0003760247174887525,0.00038584863983826673,0.0003957024054959919,0.0004055832701578424,0.0004154890450871435,0.000425418144509939,0.00043536963495406785,0.00044534328636546575,0.0004553396247508113,0.0004653599860080581,0.00047540657051742957,0.0004854824979774603,0.0004955918618857384,0.0005057397829845263,0.0005159324609198327,0.0005261772233009353,0.0005364825712982052,0.0005468582208821286,0.0005573151387878867,0.0005678655722888098,0.0005785230718801273,0.0005893025060123745,0.0006002200670719114,0.0006112932678846545,0.0006225409281174508,0.0006339831500689961,0.0006456412834771462,0.0006575378791202528,0.0006696966311543886,0.0006821423083031862,0.0006949006741997978,0.0007079983973672139,0.0007214629515108177,0.0007353225069812228,0.000749605814442595,0.0007643420819475056,0.0007795608467701918,0.0007952918434820236,0.0008115648698624192,0.0008284096523223846,0.0008458557125731559,0.0008639322372970879,0.0008826679525699494,0.0009020910047420305,0.0009222288494095678,0.0009431081499979102,0.0009647546873346515,0.000987193281416222,0.0010104477263673437,0.0010345407393627605,0.0010594939240277513,0.0010853277485630816,0.0011120615385556486,0.0011397134841433822,0.0011683006609077193,0.001197839063574956,0.001228343651324881,0.0012598284032374837,0.0012923063821618272,0.001325789805071498,0.0013602901177831048,0.0013958180717635067,0.0014323838006418878,0.001469996893977816,0.0015086664658195469,0.0015484012156190615,0.0015892094791539883,0.0016310992672407016,0.0016740782902071772,0.0017181539663271293,0.0017633334126949275,0.001809623417340823,0.001857030391743098,0.0019055603032823206,0.0019552185875968972,0.0020060100412316274,0.0020579386954142657,0.0021110076722416606,0.002165219024998505,0.002220573564759506,0.002277070675832508,0.002334708122975917,0.0023934818536630095,0.002453385798958603,0.0025144116768155496,0.00257654880178131,0.002639783905225526,0.0027041009702513333,0.0027694810854351163,0.0028359023214479424,0.002903339634446802,0.0029717647998852466,0.0030411463800829224,0.0031114497285143067,0.0031826370333331577,0.003254667402146739,0.0033274969894975495,0.0034010791679104538,0.003475364742725284,0.0035503022102715788,0.003625838058260247,0.0037019171065808,0.003778482886009775,0.0038554780516703874,0.003932844827444934,0.004010525476941981,0.0040884627960699575,0.0041666006217790635,0.00424488435111181,0.004323261464360462,0.004401682045871407,0.004480099295871171,0.004558470026619897,0.004636755136228269,0.004714920053607328,0.004792935148253937,0.004870776098909938,0.0049484242155633535,0.005025866709782805,0.00510309690898357,0.005180114410906664,0.005256925175342515,0.005333541550934822,0.005409982235747777,0.005486272171155926,0.005562442369506796,0.005638529676898024,0.005714576473287076,0.005790630312998366,0.005866743509495512,0.005942972669030262,0.0060193781784530906,0.00609602365305946,0.006172975350842096,0.00625030155991145,0.0063280719661305525,0.006406357008177089,0.006485227227296646,0.006564752618941029,0.006645001993301072,0.006726042351443301,0.006807938283354776,0.0068907513936946364,0.006974539760458629,0.007059357431092829,0.007145253959859693,0.0072322739894805105,0.007320456879265384,0.007409836381114599,0.007500440363950592,0.007592290586331764,0.007685402516229276,0.00777978519622646,0.007875441151745786,0.00797236633933413,0.00807055013154887,0.008169975334604639,0.008270618234659848,0.00837244866845712,0.008475430113979075,0.008579519796842176,0.008684668808326057,0.008790822231212865,0.008897919269990395,0.009005893382436484,0.00911467241014566,0.009224178706161235,0.009334329258529154,0.009445035809271701,0.009556204968975211,0.009667738327880192,0.009779532565033434,0.009891479557697992,0.01000346649379777,0.01011537599068648,0.01022708622396328,0.010338471070394458,0.010449400269237501,0.010559739606388552,0.010669351125786701,0.010778093372400946,0.01088582167090547,0.010992388443809654,0.011097643572365963,0.011201434803029937,0.011303608201609533,0.011404008656520356,0.011502480431777064,0.011598867769511571,0.01169301554093139,0.011784769943731826,0.011873979243071549,0.011960494552328256,0.012044170648983697,0.012124866820165022,0.012202447731600006,0.012276784313049703,0.012347754652663826,0.012415244892184098,0.012479150114495966,0.01253937521471619,0.012595835745800069,0.012648458729565432,0.012697183424058506,0.012741962038332933,0.012782760385970232,0.012819558469037755,0.012852350984653836,0.012881147746897047,0.012905974017459531,0.012926870739184563,0.012943894667444597,0.012957118395194141,0.012966630268463118,0.012972534190031663,0.012974949310036165,0.012974009603284412,0.012969863334105734,0.012962672410605057,0.012952611631233448,0.012939867827611053,0.012924638908541473,0.012907132811121338,0.012887566365779785,0.012866164082956252,0.012843156869949742,0.012818780687226779,0.012793275154161335,0.012766882114789876,0.012739844174682494,0.012712403220466762,0.012684798933872995,0.012657267312400826,0.012630039208832261,0.012603338901825824,0.012577382709724059,0.012552377659481147,0.012528520222274136,0.012505995126894778,0.012484974261431886,0.012465615673046198,0.012448062674817698,0.012432443067709997,0.012418868484657751,0.012407433862646772,0.01239821704743607,0.012391278534273721,0.01238666134660204,0.012384391053345285,0.012384475923940319,0.012386907218826706,0.01239165961167888,0.012398691738248846,0.012407946865327854,0.012419353672035888,0.012432827134435075,0.01244826950335825,0.01246557136435315,0.012484612767800548,0.012505264416565293,0.012527388898011508,0.012550841946857441,0.012575473725170875,0.012601130105818797,0.012627653945882576,0.012654886336933326,0.012682667819621959,0.01271083955077027,0.012739244412037031,0.012767728050265137,0.012796139840770972,0.012824333766101178,0.012852169204125652,0.012879511620741762,0.012906233163906112,0.012932213157162331,0.01295733849226894,0.01298150392193154,0.013004612254976945,0.013026574457558532,0.01304730966512641,0.013066745110918576,0.013084815977614472,0.013101465179525568,0.013116643083275172,0.013130307175331845,0.013142421685007559,0.013152957171616332,0.013161890084414915,0.013169202303722254,0.013174880671254273,0.013178916517222859,0.013181305191155972,0.013182045602712796,0.01318113977801565,0.013178592436219345,0.01317441059020838,0.013168603174475784,0.013161180702410053,0.013152154954422597,0.013141538697599946,0.01312934543687888,0.01311558919713249,0.01310028433502914,0.013083445379092402,0.013065086896052036,0.013045223381335952,0.013023869171407862,0.013001038375602706,0.012976744825144116,0.012951002037132547,0.01292382319146949,0.01289522111890198,0.012865208298638037,0.01283379686427092,0.012800998617046167,0.012766825045802293,0.012731287353190728,0.012694396488031588,0.012656163183867539,0.012616598003940186,0.012575711392916052,0.012533513735734633,0.012490015423931954,0.012445226929714105,0.012399158887915023,0.012351822185779474,0.012303228060269667,0.012253388202313597,0.0122023148671058,0.012150020989241863,0.012096520301141033,0.012041827452886691,0.011985958131314905,0.011928929175912699,0.011870758688866015,0.011811466136432296,0.011751072438709253,0.011689600044843467,0.011627072990770499,0.011563516936705367,0.01149895918181231,0.011433428653769818,0.011366955871310843,0.01129957287824777,0.011231313147985514,0.011162211458065056,0.01109230373485947,0.011021626869147998,0.01095021850390699,0.010878116796264808,0.010805360156159228,0.010731986964791274,0.010658035276476876,0.010583542507946686,0.010508545119519477,0.010433078292868698,0.010357175610303913,0.010280868740600886,0.010204187136419886,0.0101271577482644,0.010049804759742502,0.009972149348610331,0.009894209477705251,0.009815999719422949,0.009737531116870236,0.009658811084242235,0.009579843348343726,0.009500627932513153,0.009421161183526885,0.009341435841378426,0.009261441151153325,0.009181163015571217,0.009100584186156157,0.009019684490433036,0.008938441092046051,0.008856828780261856,0.008774820284961977,0.00869238661295172,0.008609497401219817,0.008526121282675032,0.008442226259860425,0.008357780082203529,0.008272750622492494,0.008187106248471375,0.008100816185712852,0.008013850868244675,0.007926182273768578,0.007837784240706872,0.007748632764729509,0.0076587062728465565,0.00756798587358327,0.007476455582181101,0.007384102520174918,0.007290917089081083,0.0071968931182813545,0.007102027987500365,0.007006322724545935,0.006909782079205955,0.0068124145743746044,0.006714232535611179,0.006615252100420036,0.00651549320858149,0.006414979574864253,0.00631373864541378,0.006211801539046038,0.006109202974583648,0.006005981185260767,0.0059021778210994955,0.0057978378400304715,0.005693009388399057,0.005587743671372738,0.005482094813650334,0.00537611971077274,0.005269877871253136,0.005163431249684827,0.0050568440709485045,0.004950182645629446,0.0048435151767692985,0.004736911558116547,0.004630443164100878,0.004524182631841466,0.004418203635599871,0.004312580654205593,0.004207388732110154,0.004102703234860717,0.003998599599921958,0.0038951530839110645,0.0037924385074414413,0.0036905299988908187,0.003589500738516384,0.0034894227044291355,0.0033903664220094197,0.0032924007183928114,0.0031955924836788723,0.0031000064405131283,0.0030057049236650746,0.0029127476711715717,0.0028211916285365898,0.002731090767376837,0.0026424959197792423,0.002555454629493135,0.0024700110209207897,0.0023862056866965566,0.0023040755944611436,0.002223654013246834,0.0021449704596951777,0.0020680506641341523,0.0019929165563505836,0.0019195862707083362,0.0018480741700874802,0.0017783908879555686,0.0017105433877326285,0.0016445350384778393,0.0015803657058101979,0.0015180318568780453,0.001457526678114592,0.0013988402044584516,0.0013419594586794581,0.0012868685994303546,0.0012335490766433401,0.0011819797929059073,0.001132137269481389,0.001083995815684334,0.0010375277003779933,0.0009927033244284153,0.0009494913930249997,0.0009078590868593145,0.0008677722312400978,0.0008291954623109774,0.0007920923896268542,0.0007564257544335818,0.000722157583081812,0.000689249335088688,0.000657662045439535,0.0006273564607945854,0.0005982931693331125,0.0005704327240279919,0.0005437357591984822,0.0005181631002369096,0.0004936758664468485,0.0004702355669665441,0.0004478041897818494,0.00042634428385886485,0.00040581903444808476,0.0003861923316300781,0.00036742883218808547,0.00034949401490615205,0.0003323542294033851,0.0003159767386257846],\"yaxis\":\"y\"},{\"legendgroup\":\"RestingBP\",\"marker\":{\"color\":\"rgb(31, 119, 180)\",\"symbol\":\"line-ns-open\"},\"mode\":\"markers\",\"name\":\"RestingBP\",\"showlegend\":false,\"type\":\"scatter\",\"x\":[130,150,136,150,130,160,100,120,150,140,150,120,130,140,120,120,110,125,120,130,124,160,120,120,160,125,136,94,140,130,130,132,120,132,128,140,130,128,170,140,130,135,150,122,120,126,122,110,110,150,125,120,140,155,120,134,120,160,130,130,140,120,112,100,110,160,110,130,132,142,180,140,138,120,120,135,130,140,110,140,140,140,125,140,110,140,132,110,120,110,160,118,156,126,123,140,125,110,130,140,155,152,95,112,120,113,115,148,120,122,130,158,120,100,120,160,120,130,140,120,136,130,136,150,140,150,102,160,140,140,110,110,94,100,96,120,105,130,160,110,140,120,110,142,122,130,125,180,140,120,135,135,130,95,100,130,133,122,125,130,120,180,130,108,140,160,145,124,130,160,150,140,150,139,140,123,140,130,108,140,138,110,120,120,135,130,114,158,150,110,130,180,100,150,130,120,145,120,104,130,136,132,110,122,134,145,130,140,132,112,130,100,110,180,128,125,160,128,152,115,130,150,145,130,132,130,150,140,120,140,127,130,137,135,145,130,120,126,141,140,130,130,130,130,145,114,130,115,144,134,170,120,140,120,110,112,120,110,125,160,110,115,180,120,130,140,128,140,130,130,140,120,160,135,138,130,110,132,178,120,150,130,112,130,140,160,170,120,124,160,110,133,120,110,130,150,140,144,130,120,128,124,140,120,139,0,130,190,120,130,144,140,120,130,128,110,115,140,131,120,100,125,160,128,138,125,130,133,95,130,130,135,118,140,140,115,140,140,120,160,120,140,140,130,160,130,140,160,192,160,155,120,101,160,200,140,120,120,140,135,120,122,125,130,160,140,120,160,140,112,124,115,130,130,130,150,125,120,170,120,145,160,136,128,120,138,128,120,125,130,170,110,145,95,125,120,150,120,130,140,140,132,160,136,105,150,108,140,139,152,150,138,105,143,105,130,115,130,160,152,130,117,170,112,110,110,140,155,120,106,134,120,130,130,120,144,140,125,120,145,140,150,170,122,102,120,130,170,150,115,130,130,154,141,132,142,115,120,130,120,130,120,135,100,140,130,95,178,138,112,134,120,165,140,115,180,150,144,104,141,160,120,138,137,130,200,160,137,120,108,150,140,120,110,130,150,144,140,136,130,146,120,80,135,112,125,125,124,122,125,122,105,131,110,146,120,150,152,110,142,126,150,145,120,120,172,140,120,140,120,106,105,120,134,128,143,133,138,132,110,139,120,110,140,110,120,140,130,110,178,150,138,140,122,140,120,130,140,112,130,132,115,140,112,160,120,120,150,137,130,130,130,130,100,140,130,110,138,122,136,140,174,130,130,138,150,120,120,100,132,145,155,160,139,120,118,108,120,118,130,160,124,140,140,140,160,160,160,142,140,124,160,116,135,110,140,120,118,146,160,130,120,125,120,110,130,124,100,110,142,138,126,160,130,120,125,135,120,150,150,140,130,132,156,148,160,134,142,124,115,145,200,140,142,120,133,100,124,120,170,130,120,128,135,130,131,130,150,140,112,138,135,150,158,120,110,180,120,150,120,128,154,120,115,134,120,150,104,180,150,138,154,150,108,130,150,134,160,136,108,115,118,132,125,140,120,136,120,110,160,105,132,172,135,128,125,129,138,120,130,118,145,120,112,130,106,152,150,185,130,130,95,140,118],\"xaxis\":\"x\",\"y\":[\"RestingBP\",\"RestingBP\",\"RestingBP\",\"RestingBP\",\"RestingBP\",\"RestingBP\",\"RestingBP\",\"RestingBP\",\"RestingBP\",\"RestingBP\",\"RestingBP\",\"RestingBP\",\"RestingBP\",\"RestingBP\",\"RestingBP\",\"RestingBP\",\"RestingBP\",\"RestingBP\",\"RestingBP\",\"RestingBP\",\"RestingBP\",\"RestingBP\",\"RestingBP\",\"RestingBP\",\"RestingBP\",\"RestingBP\",\"RestingBP\",\"RestingBP\",\"RestingBP\",\"RestingBP\",\"RestingBP\",\"RestingBP\",\"RestingBP\",\"RestingBP\",\"RestingBP\",\"RestingBP\",\"RestingBP\",\"RestingBP\",\"RestingBP\",\"RestingBP\",\"RestingBP\",\"RestingBP\",\"RestingBP\",\"RestingBP\",\"RestingBP\",\"RestingBP\",\"RestingBP\",\"RestingBP\",\"RestingBP\",\"RestingBP\",\"RestingBP\",\"RestingBP\",\"RestingBP\",\"RestingBP\",\"RestingBP\",\"RestingBP\",\"RestingBP\",\"RestingBP\",\"RestingBP\",\"RestingBP\",\"RestingBP\",\"RestingBP\",\"RestingBP\",\"RestingBP\",\"RestingBP\",\"RestingBP\",\"RestingBP\",\"RestingBP\",\"RestingBP\",\"RestingBP\",\"RestingBP\",\"RestingBP\",\"RestingBP\",\"RestingBP\",\"RestingBP\",\"RestingBP\",\"RestingBP\",\"RestingBP\",\"RestingBP\",\"RestingBP\",\"RestingBP\",\"RestingBP\",\"RestingBP\",\"RestingBP\",\"RestingBP\",\"RestingBP\",\"RestingBP\",\"RestingBP\",\"RestingBP\",\"RestingBP\",\"RestingBP\",\"RestingBP\",\"RestingBP\",\"RestingBP\",\"RestingBP\",\"RestingBP\",\"RestingBP\",\"RestingBP\",\"RestingBP\",\"RestingBP\",\"RestingBP\",\"RestingBP\",\"RestingBP\",\"RestingBP\",\"RestingBP\",\"RestingBP\",\"RestingBP\",\"RestingBP\",\"RestingBP\",\"RestingBP\",\"RestingBP\",\"RestingBP\",\"RestingBP\",\"RestingBP\",\"RestingBP\",\"RestingBP\",\"RestingBP\",\"RestingBP\",\"RestingBP\",\"RestingBP\",\"RestingBP\",\"RestingBP\",\"RestingBP\",\"RestingBP\",\"RestingBP\",\"RestingBP\",\"RestingBP\",\"RestingBP\",\"RestingBP\",\"RestingBP\",\"RestingBP\",\"RestingBP\",\"RestingBP\",\"RestingBP\",\"RestingBP\",\"RestingBP\",\"RestingBP\",\"RestingBP\",\"RestingBP\",\"RestingBP\",\"RestingBP\",\"RestingBP\",\"RestingBP\",\"RestingBP\",\"RestingBP\",\"RestingBP\",\"RestingBP\",\"RestingBP\",\"RestingBP\",\"RestingBP\",\"RestingBP\",\"RestingBP\",\"RestingBP\",\"RestingBP\",\"RestingBP\",\"RestingBP\",\"RestingBP\",\"RestingBP\",\"RestingBP\",\"RestingBP\",\"RestingBP\",\"RestingBP\",\"RestingBP\",\"RestingBP\",\"RestingBP\",\"RestingBP\",\"RestingBP\",\"RestingBP\",\"RestingBP\",\"RestingBP\",\"RestingBP\",\"RestingBP\",\"RestingBP\",\"RestingBP\",\"RestingBP\",\"RestingBP\",\"RestingBP\",\"RestingBP\",\"RestingBP\",\"RestingBP\",\"RestingBP\",\"RestingBP\",\"RestingBP\",\"RestingBP\",\"RestingBP\",\"RestingBP\",\"RestingBP\",\"RestingBP\",\"RestingBP\",\"RestingBP\",\"RestingBP\",\"RestingBP\",\"RestingBP\",\"RestingBP\",\"RestingBP\",\"RestingBP\",\"RestingBP\",\"RestingBP\",\"RestingBP\",\"RestingBP\",\"RestingBP\",\"RestingBP\",\"RestingBP\",\"RestingBP\",\"RestingBP\",\"RestingBP\",\"RestingBP\",\"RestingBP\",\"RestingBP\",\"RestingBP\",\"RestingBP\",\"RestingBP\",\"RestingBP\",\"RestingBP\",\"RestingBP\",\"RestingBP\",\"RestingBP\",\"RestingBP\",\"RestingBP\",\"RestingBP\",\"RestingBP\",\"RestingBP\",\"RestingBP\",\"RestingBP\",\"RestingBP\",\"RestingBP\",\"RestingBP\",\"RestingBP\",\"RestingBP\",\"RestingBP\",\"RestingBP\",\"RestingBP\",\"RestingBP\",\"RestingBP\",\"RestingBP\",\"RestingBP\",\"RestingBP\",\"RestingBP\",\"RestingBP\",\"RestingBP\",\"RestingBP\",\"RestingBP\",\"RestingBP\",\"RestingBP\",\"RestingBP\",\"RestingBP\",\"RestingBP\",\"RestingBP\",\"RestingBP\",\"RestingBP\",\"RestingBP\",\"RestingBP\",\"RestingBP\",\"RestingBP\",\"RestingBP\",\"RestingBP\",\"RestingBP\",\"RestingBP\",\"RestingBP\",\"RestingBP\",\"RestingBP\",\"RestingBP\",\"RestingBP\",\"RestingBP\",\"RestingBP\",\"RestingBP\",\"RestingBP\",\"RestingBP\",\"RestingBP\",\"RestingBP\",\"RestingBP\",\"RestingBP\",\"RestingBP\",\"RestingBP\",\"RestingBP\",\"RestingBP\",\"RestingBP\",\"RestingBP\",\"RestingBP\",\"RestingBP\",\"RestingBP\",\"RestingBP\",\"RestingBP\",\"RestingBP\",\"RestingBP\",\"RestingBP\",\"RestingBP\",\"RestingBP\",\"RestingBP\",\"RestingBP\",\"RestingBP\",\"RestingBP\",\"RestingBP\",\"RestingBP\",\"RestingBP\",\"RestingBP\",\"RestingBP\",\"RestingBP\",\"RestingBP\",\"RestingBP\",\"RestingBP\",\"RestingBP\",\"RestingBP\",\"RestingBP\",\"RestingBP\",\"RestingBP\",\"RestingBP\",\"RestingBP\",\"RestingBP\",\"RestingBP\",\"RestingBP\",\"RestingBP\",\"RestingBP\",\"RestingBP\",\"RestingBP\",\"RestingBP\",\"RestingBP\",\"RestingBP\",\"RestingBP\",\"RestingBP\",\"RestingBP\",\"RestingBP\",\"RestingBP\",\"RestingBP\",\"RestingBP\",\"RestingBP\",\"RestingBP\",\"RestingBP\",\"RestingBP\",\"RestingBP\",\"RestingBP\",\"RestingBP\",\"RestingBP\",\"RestingBP\",\"RestingBP\",\"RestingBP\",\"RestingBP\",\"RestingBP\",\"RestingBP\",\"RestingBP\",\"RestingBP\",\"RestingBP\",\"RestingBP\",\"RestingBP\",\"RestingBP\",\"RestingBP\",\"RestingBP\",\"RestingBP\",\"RestingBP\",\"RestingBP\",\"RestingBP\",\"RestingBP\",\"RestingBP\",\"RestingBP\",\"RestingBP\",\"RestingBP\",\"RestingBP\",\"RestingBP\",\"RestingBP\",\"RestingBP\",\"RestingBP\",\"RestingBP\",\"RestingBP\",\"RestingBP\",\"RestingBP\",\"RestingBP\",\"RestingBP\",\"RestingBP\",\"RestingBP\",\"RestingBP\",\"RestingBP\",\"RestingBP\",\"RestingBP\",\"RestingBP\",\"RestingBP\",\"RestingBP\",\"RestingBP\",\"RestingBP\",\"RestingBP\",\"RestingBP\",\"RestingBP\",\"RestingBP\",\"RestingBP\",\"RestingBP\",\"RestingBP\",\"RestingBP\",\"RestingBP\",\"RestingBP\",\"RestingBP\",\"RestingBP\",\"RestingBP\",\"RestingBP\",\"RestingBP\",\"RestingBP\",\"RestingBP\",\"RestingBP\",\"RestingBP\",\"RestingBP\",\"RestingBP\",\"RestingBP\",\"RestingBP\",\"RestingBP\",\"RestingBP\",\"RestingBP\",\"RestingBP\",\"RestingBP\",\"RestingBP\",\"RestingBP\",\"RestingBP\",\"RestingBP\",\"RestingBP\",\"RestingBP\",\"RestingBP\",\"RestingBP\",\"RestingBP\",\"RestingBP\",\"RestingBP\",\"RestingBP\",\"RestingBP\",\"RestingBP\",\"RestingBP\",\"RestingBP\",\"RestingBP\",\"RestingBP\",\"RestingBP\",\"RestingBP\",\"RestingBP\",\"RestingBP\",\"RestingBP\",\"RestingBP\",\"RestingBP\",\"RestingBP\",\"RestingBP\",\"RestingBP\",\"RestingBP\",\"RestingBP\",\"RestingBP\",\"RestingBP\",\"RestingBP\",\"RestingBP\",\"RestingBP\",\"RestingBP\",\"RestingBP\",\"RestingBP\",\"RestingBP\",\"RestingBP\",\"RestingBP\",\"RestingBP\",\"RestingBP\",\"RestingBP\",\"RestingBP\",\"RestingBP\",\"RestingBP\",\"RestingBP\",\"RestingBP\",\"RestingBP\",\"RestingBP\",\"RestingBP\",\"RestingBP\",\"RestingBP\",\"RestingBP\",\"RestingBP\",\"RestingBP\",\"RestingBP\",\"RestingBP\",\"RestingBP\",\"RestingBP\",\"RestingBP\",\"RestingBP\",\"RestingBP\",\"RestingBP\",\"RestingBP\",\"RestingBP\",\"RestingBP\",\"RestingBP\",\"RestingBP\",\"RestingBP\",\"RestingBP\",\"RestingBP\",\"RestingBP\",\"RestingBP\",\"RestingBP\",\"RestingBP\",\"RestingBP\",\"RestingBP\",\"RestingBP\",\"RestingBP\",\"RestingBP\",\"RestingBP\",\"RestingBP\",\"RestingBP\",\"RestingBP\",\"RestingBP\",\"RestingBP\",\"RestingBP\",\"RestingBP\",\"RestingBP\",\"RestingBP\",\"RestingBP\",\"RestingBP\",\"RestingBP\",\"RestingBP\",\"RestingBP\",\"RestingBP\",\"RestingBP\",\"RestingBP\",\"RestingBP\",\"RestingBP\",\"RestingBP\",\"RestingBP\",\"RestingBP\",\"RestingBP\",\"RestingBP\",\"RestingBP\",\"RestingBP\",\"RestingBP\",\"RestingBP\",\"RestingBP\",\"RestingBP\",\"RestingBP\",\"RestingBP\",\"RestingBP\",\"RestingBP\",\"RestingBP\",\"RestingBP\",\"RestingBP\",\"RestingBP\",\"RestingBP\",\"RestingBP\",\"RestingBP\",\"RestingBP\",\"RestingBP\",\"RestingBP\",\"RestingBP\",\"RestingBP\",\"RestingBP\",\"RestingBP\",\"RestingBP\",\"RestingBP\",\"RestingBP\",\"RestingBP\",\"RestingBP\",\"RestingBP\",\"RestingBP\",\"RestingBP\",\"RestingBP\",\"RestingBP\",\"RestingBP\",\"RestingBP\",\"RestingBP\",\"RestingBP\",\"RestingBP\",\"RestingBP\",\"RestingBP\",\"RestingBP\",\"RestingBP\",\"RestingBP\",\"RestingBP\",\"RestingBP\",\"RestingBP\",\"RestingBP\",\"RestingBP\",\"RestingBP\",\"RestingBP\",\"RestingBP\",\"RestingBP\",\"RestingBP\",\"RestingBP\",\"RestingBP\",\"RestingBP\",\"RestingBP\",\"RestingBP\",\"RestingBP\",\"RestingBP\",\"RestingBP\",\"RestingBP\",\"RestingBP\",\"RestingBP\",\"RestingBP\",\"RestingBP\",\"RestingBP\",\"RestingBP\",\"RestingBP\",\"RestingBP\",\"RestingBP\",\"RestingBP\",\"RestingBP\",\"RestingBP\",\"RestingBP\",\"RestingBP\",\"RestingBP\",\"RestingBP\",\"RestingBP\",\"RestingBP\",\"RestingBP\",\"RestingBP\",\"RestingBP\",\"RestingBP\",\"RestingBP\",\"RestingBP\",\"RestingBP\",\"RestingBP\",\"RestingBP\",\"RestingBP\",\"RestingBP\",\"RestingBP\",\"RestingBP\",\"RestingBP\",\"RestingBP\",\"RestingBP\",\"RestingBP\",\"RestingBP\",\"RestingBP\",\"RestingBP\",\"RestingBP\",\"RestingBP\",\"RestingBP\",\"RestingBP\",\"RestingBP\",\"RestingBP\",\"RestingBP\",\"RestingBP\",\"RestingBP\",\"RestingBP\",\"RestingBP\",\"RestingBP\",\"RestingBP\",\"RestingBP\",\"RestingBP\",\"RestingBP\",\"RestingBP\",\"RestingBP\",\"RestingBP\",\"RestingBP\",\"RestingBP\",\"RestingBP\",\"RestingBP\",\"RestingBP\",\"RestingBP\",\"RestingBP\",\"RestingBP\",\"RestingBP\",\"RestingBP\",\"RestingBP\",\"RestingBP\",\"RestingBP\",\"RestingBP\",\"RestingBP\",\"RestingBP\",\"RestingBP\",\"RestingBP\",\"RestingBP\",\"RestingBP\",\"RestingBP\",\"RestingBP\",\"RestingBP\",\"RestingBP\",\"RestingBP\",\"RestingBP\",\"RestingBP\",\"RestingBP\",\"RestingBP\",\"RestingBP\",\"RestingBP\",\"RestingBP\",\"RestingBP\",\"RestingBP\",\"RestingBP\",\"RestingBP\",\"RestingBP\",\"RestingBP\",\"RestingBP\",\"RestingBP\",\"RestingBP\",\"RestingBP\",\"RestingBP\",\"RestingBP\",\"RestingBP\",\"RestingBP\",\"RestingBP\",\"RestingBP\",\"RestingBP\",\"RestingBP\",\"RestingBP\",\"RestingBP\",\"RestingBP\",\"RestingBP\",\"RestingBP\",\"RestingBP\",\"RestingBP\",\"RestingBP\",\"RestingBP\",\"RestingBP\",\"RestingBP\",\"RestingBP\",\"RestingBP\",\"RestingBP\",\"RestingBP\",\"RestingBP\",\"RestingBP\",\"RestingBP\",\"RestingBP\",\"RestingBP\",\"RestingBP\",\"RestingBP\",\"RestingBP\",\"RestingBP\",\"RestingBP\",\"RestingBP\",\"RestingBP\",\"RestingBP\",\"RestingBP\",\"RestingBP\",\"RestingBP\",\"RestingBP\",\"RestingBP\",\"RestingBP\",\"RestingBP\",\"RestingBP\",\"RestingBP\",\"RestingBP\",\"RestingBP\",\"RestingBP\",\"RestingBP\",\"RestingBP\",\"RestingBP\",\"RestingBP\",\"RestingBP\",\"RestingBP\",\"RestingBP\",\"RestingBP\",\"RestingBP\",\"RestingBP\",\"RestingBP\"],\"yaxis\":\"y2\"},{\"legendgroup\":\"Cholesterol\",\"marker\":{\"color\":\"rgb(255, 127, 14)\",\"symbol\":\"line-ns-open\"},\"mode\":\"markers\",\"name\":\"Cholesterol\",\"showlegend\":false,\"type\":\"scatter\",\"x\":[161,365,220,0,245,164,234,196,230,321,412,295,275,192,225,171,0,269,246,202,255,256,0,157,286,220,228,199,195,308,0,288,249,297,303,207,0,204,0,309,256,160,219,223,205,0,286,197,335,270,184,160,235,0,175,409,274,0,0,197,335,237,230,0,280,0,214,0,353,207,327,196,183,243,215,0,221,298,273,265,185,0,272,211,0,306,247,202,230,250,0,186,173,0,161,199,0,213,0,252,0,277,0,250,277,468,0,244,218,0,263,217,270,248,0,303,209,315,238,270,0,206,315,236,224,0,318,305,167,197,249,275,227,246,305,275,0,172,0,229,185,0,0,228,275,0,245,280,0,244,0,254,253,0,299,224,0,216,258,0,302,347,236,309,110,360,0,160,222,292,0,297,407,170,226,282,234,213,141,187,271,167,201,258,222,180,318,210,171,172,186,393,223,195,256,210,0,193,113,330,248,0,239,192,310,0,603,0,342,342,256,159,235,295,259,0,211,308,274,0,236,186,248,307,227,305,255,254,211,239,333,225,208,0,307,233,0,306,316,0,215,254,0,0,264,258,214,564,221,271,227,284,281,0,289,149,231,201,254,193,214,0,285,220,253,311,205,216,234,126,299,0,147,204,282,250,0,184,0,166,126,204,290,341,308,312,237,217,209,0,0,218,188,248,242,232,221,193,235,260,208,201,129,254,217,0,173,241,281,281,0,271,228,275,263,197,0,207,0,221,0,0,228,229,175,273,0,203,0,237,206,252,240,166,260,0,233,268,291,0,178,404,320,209,355,219,0,234,283,201,310,198,197,310,0,237,267,298,289,139,229,222,213,266,147,235,240,194,259,261,274,260,294,238,283,160,0,246,288,246,282,263,203,0,177,243,212,226,254,283,177,208,289,0,292,0,392,226,179,0,139,272,331,196,198,235,267,294,181,0,243,274,240,211,204,188,0,197,0,153,262,230,209,160,277,196,287,175,0,240,0,220,322,219,0,270,266,300,279,0,0,243,388,233,265,256,251,225,288,303,303,311,0,292,218,216,0,0,167,340,264,282,192,219,295,207,0,228,294,258,234,267,289,193,0,325,0,312,208,244,0,339,234,282,269,288,254,232,219,163,247,275,254,236,194,193,200,0,245,186,218,0,0,250,340,0,224,171,213,216,320,0,152,344,369,295,214,298,0,200,218,258,216,249,236,260,216,295,272,0,263,0,220,204,255,306,0,236,341,211,277,204,0,214,289,85,169,233,198,270,160,204,0,264,225,169,0,417,212,0,182,0,288,204,123,240,273,163,339,223,132,258,338,0,257,276,239,0,0,319,394,249,207,182,0,168,223,263,213,207,292,269,0,283,284,210,243,215,219,215,246,260,313,0,217,291,180,267,226,241,224,230,0,491,175,156,297,182,241,0,209,0,304,0,211,394,261,0,238,210,257,0,246,0,200,0,0,466,223,195,358,211,220,245,203,268,273,177,266,265,174,0,239,270,354,185,248,197,0,263,330,336,0,203,294,142,318,213,284,230,166,234,268,170,282,254,274,238,212,214,216,0,266,211,240,269,0,0,213,200,214,232,283,269,275,247,201,193,225,233,0,529,224,249,274,220,195,237,0,0,0,218,199,248,0,0,196,220,246,290,242,518,291,250,253,223,223,225,0,184,245,0,177,277],\"xaxis\":\"x\",\"y\":[\"Cholesterol\",\"Cholesterol\",\"Cholesterol\",\"Cholesterol\",\"Cholesterol\",\"Cholesterol\",\"Cholesterol\",\"Cholesterol\",\"Cholesterol\",\"Cholesterol\",\"Cholesterol\",\"Cholesterol\",\"Cholesterol\",\"Cholesterol\",\"Cholesterol\",\"Cholesterol\",\"Cholesterol\",\"Cholesterol\",\"Cholesterol\",\"Cholesterol\",\"Cholesterol\",\"Cholesterol\",\"Cholesterol\",\"Cholesterol\",\"Cholesterol\",\"Cholesterol\",\"Cholesterol\",\"Cholesterol\",\"Cholesterol\",\"Cholesterol\",\"Cholesterol\",\"Cholesterol\",\"Cholesterol\",\"Cholesterol\",\"Cholesterol\",\"Cholesterol\",\"Cholesterol\",\"Cholesterol\",\"Cholesterol\",\"Cholesterol\",\"Cholesterol\",\"Cholesterol\",\"Cholesterol\",\"Cholesterol\",\"Cholesterol\",\"Cholesterol\",\"Cholesterol\",\"Cholesterol\",\"Cholesterol\",\"Cholesterol\",\"Cholesterol\",\"Cholesterol\",\"Cholesterol\",\"Cholesterol\",\"Cholesterol\",\"Cholesterol\",\"Cholesterol\",\"Cholesterol\",\"Cholesterol\",\"Cholesterol\",\"Cholesterol\",\"Cholesterol\",\"Cholesterol\",\"Cholesterol\",\"Cholesterol\",\"Cholesterol\",\"Cholesterol\",\"Cholesterol\",\"Cholesterol\",\"Cholesterol\",\"Cholesterol\",\"Cholesterol\",\"Cholesterol\",\"Cholesterol\",\"Cholesterol\",\"Cholesterol\",\"Cholesterol\",\"Cholesterol\",\"Cholesterol\",\"Cholesterol\",\"Cholesterol\",\"Cholesterol\",\"Cholesterol\",\"Cholesterol\",\"Cholesterol\",\"Cholesterol\",\"Cholesterol\",\"Cholesterol\",\"Cholesterol\",\"Cholesterol\",\"Cholesterol\",\"Cholesterol\",\"Cholesterol\",\"Cholesterol\",\"Cholesterol\",\"Cholesterol\",\"Cholesterol\",\"Cholesterol\",\"Cholesterol\",\"Cholesterol\",\"Cholesterol\",\"Cholesterol\",\"Cholesterol\",\"Cholesterol\",\"Cholesterol\",\"Cholesterol\",\"Cholesterol\",\"Cholesterol\",\"Cholesterol\",\"Cholesterol\",\"Cholesterol\",\"Cholesterol\",\"Cholesterol\",\"Cholesterol\",\"Cholesterol\",\"Cholesterol\",\"Cholesterol\",\"Cholesterol\",\"Cholesterol\",\"Cholesterol\",\"Cholesterol\",\"Cholesterol\",\"Cholesterol\",\"Cholesterol\",\"Cholesterol\",\"Cholesterol\",\"Cholesterol\",\"Cholesterol\",\"Cholesterol\",\"Cholesterol\",\"Cholesterol\",\"Cholesterol\",\"Cholesterol\",\"Cholesterol\",\"Cholesterol\",\"Cholesterol\",\"Cholesterol\",\"Cholesterol\",\"Cholesterol\",\"Cholesterol\",\"Cholesterol\",\"Cholesterol\",\"Cholesterol\",\"Cholesterol\",\"Cholesterol\",\"Cholesterol\",\"Cholesterol\",\"Cholesterol\",\"Cholesterol\",\"Cholesterol\",\"Cholesterol\",\"Cholesterol\",\"Cholesterol\",\"Cholesterol\",\"Cholesterol\",\"Cholesterol\",\"Cholesterol\",\"Cholesterol\",\"Cholesterol\",\"Cholesterol\",\"Cholesterol\",\"Cholesterol\",\"Cholesterol\",\"Cholesterol\",\"Cholesterol\",\"Cholesterol\",\"Cholesterol\",\"Cholesterol\",\"Cholesterol\",\"Cholesterol\",\"Cholesterol\",\"Cholesterol\",\"Cholesterol\",\"Cholesterol\",\"Cholesterol\",\"Cholesterol\",\"Cholesterol\",\"Cholesterol\",\"Cholesterol\",\"Cholesterol\",\"Cholesterol\",\"Cholesterol\",\"Cholesterol\",\"Cholesterol\",\"Cholesterol\",\"Cholesterol\",\"Cholesterol\",\"Cholesterol\",\"Cholesterol\",\"Cholesterol\",\"Cholesterol\",\"Cholesterol\",\"Cholesterol\",\"Cholesterol\",\"Cholesterol\",\"Cholesterol\",\"Cholesterol\",\"Cholesterol\",\"Cholesterol\",\"Cholesterol\",\"Cholesterol\",\"Cholesterol\",\"Cholesterol\",\"Cholesterol\",\"Cholesterol\",\"Cholesterol\",\"Cholesterol\",\"Cholesterol\",\"Cholesterol\",\"Cholesterol\",\"Cholesterol\",\"Cholesterol\",\"Cholesterol\",\"Cholesterol\",\"Cholesterol\",\"Cholesterol\",\"Cholesterol\",\"Cholesterol\",\"Cholesterol\",\"Cholesterol\",\"Cholesterol\",\"Cholesterol\",\"Cholesterol\",\"Cholesterol\",\"Cholesterol\",\"Cholesterol\",\"Cholesterol\",\"Cholesterol\",\"Cholesterol\",\"Cholesterol\",\"Cholesterol\",\"Cholesterol\",\"Cholesterol\",\"Cholesterol\",\"Cholesterol\",\"Cholesterol\",\"Cholesterol\",\"Cholesterol\",\"Cholesterol\",\"Cholesterol\",\"Cholesterol\",\"Cholesterol\",\"Cholesterol\",\"Cholesterol\",\"Cholesterol\",\"Cholesterol\",\"Cholesterol\",\"Cholesterol\",\"Cholesterol\",\"Cholesterol\",\"Cholesterol\",\"Cholesterol\",\"Cholesterol\",\"Cholesterol\",\"Cholesterol\",\"Cholesterol\",\"Cholesterol\",\"Cholesterol\",\"Cholesterol\",\"Cholesterol\",\"Cholesterol\",\"Cholesterol\",\"Cholesterol\",\"Cholesterol\",\"Cholesterol\",\"Cholesterol\",\"Cholesterol\",\"Cholesterol\",\"Cholesterol\",\"Cholesterol\",\"Cholesterol\",\"Cholesterol\",\"Cholesterol\",\"Cholesterol\",\"Cholesterol\",\"Cholesterol\",\"Cholesterol\",\"Cholesterol\",\"Cholesterol\",\"Cholesterol\",\"Cholesterol\",\"Cholesterol\",\"Cholesterol\",\"Cholesterol\",\"Cholesterol\",\"Cholesterol\",\"Cholesterol\",\"Cholesterol\",\"Cholesterol\",\"Cholesterol\",\"Cholesterol\",\"Cholesterol\",\"Cholesterol\",\"Cholesterol\",\"Cholesterol\",\"Cholesterol\",\"Cholesterol\",\"Cholesterol\",\"Cholesterol\",\"Cholesterol\",\"Cholesterol\",\"Cholesterol\",\"Cholesterol\",\"Cholesterol\",\"Cholesterol\",\"Cholesterol\",\"Cholesterol\",\"Cholesterol\",\"Cholesterol\",\"Cholesterol\",\"Cholesterol\",\"Cholesterol\",\"Cholesterol\",\"Cholesterol\",\"Cholesterol\",\"Cholesterol\",\"Cholesterol\",\"Cholesterol\",\"Cholesterol\",\"Cholesterol\",\"Cholesterol\",\"Cholesterol\",\"Cholesterol\",\"Cholesterol\",\"Cholesterol\",\"Cholesterol\",\"Cholesterol\",\"Cholesterol\",\"Cholesterol\",\"Cholesterol\",\"Cholesterol\",\"Cholesterol\",\"Cholesterol\",\"Cholesterol\",\"Cholesterol\",\"Cholesterol\",\"Cholesterol\",\"Cholesterol\",\"Cholesterol\",\"Cholesterol\",\"Cholesterol\",\"Cholesterol\",\"Cholesterol\",\"Cholesterol\",\"Cholesterol\",\"Cholesterol\",\"Cholesterol\",\"Cholesterol\",\"Cholesterol\",\"Cholesterol\",\"Cholesterol\",\"Cholesterol\",\"Cholesterol\",\"Cholesterol\",\"Cholesterol\",\"Cholesterol\",\"Cholesterol\",\"Cholesterol\",\"Cholesterol\",\"Cholesterol\",\"Cholesterol\",\"Cholesterol\",\"Cholesterol\",\"Cholesterol\",\"Cholesterol\",\"Cholesterol\",\"Cholesterol\",\"Cholesterol\",\"Cholesterol\",\"Cholesterol\",\"Cholesterol\",\"Cholesterol\",\"Cholesterol\",\"Cholesterol\",\"Cholesterol\",\"Cholesterol\",\"Cholesterol\",\"Cholesterol\",\"Cholesterol\",\"Cholesterol\",\"Cholesterol\",\"Cholesterol\",\"Cholesterol\",\"Cholesterol\",\"Cholesterol\",\"Cholesterol\",\"Cholesterol\",\"Cholesterol\",\"Cholesterol\",\"Cholesterol\",\"Cholesterol\",\"Cholesterol\",\"Cholesterol\",\"Cholesterol\",\"Cholesterol\",\"Cholesterol\",\"Cholesterol\",\"Cholesterol\",\"Cholesterol\",\"Cholesterol\",\"Cholesterol\",\"Cholesterol\",\"Cholesterol\",\"Cholesterol\",\"Cholesterol\",\"Cholesterol\",\"Cholesterol\",\"Cholesterol\",\"Cholesterol\",\"Cholesterol\",\"Cholesterol\",\"Cholesterol\",\"Cholesterol\",\"Cholesterol\",\"Cholesterol\",\"Cholesterol\",\"Cholesterol\",\"Cholesterol\",\"Cholesterol\",\"Cholesterol\",\"Cholesterol\",\"Cholesterol\",\"Cholesterol\",\"Cholesterol\",\"Cholesterol\",\"Cholesterol\",\"Cholesterol\",\"Cholesterol\",\"Cholesterol\",\"Cholesterol\",\"Cholesterol\",\"Cholesterol\",\"Cholesterol\",\"Cholesterol\",\"Cholesterol\",\"Cholesterol\",\"Cholesterol\",\"Cholesterol\",\"Cholesterol\",\"Cholesterol\",\"Cholesterol\",\"Cholesterol\",\"Cholesterol\",\"Cholesterol\",\"Cholesterol\",\"Cholesterol\",\"Cholesterol\",\"Cholesterol\",\"Cholesterol\",\"Cholesterol\",\"Cholesterol\",\"Cholesterol\",\"Cholesterol\",\"Cholesterol\",\"Cholesterol\",\"Cholesterol\",\"Cholesterol\",\"Cholesterol\",\"Cholesterol\",\"Cholesterol\",\"Cholesterol\",\"Cholesterol\",\"Cholesterol\",\"Cholesterol\",\"Cholesterol\",\"Cholesterol\",\"Cholesterol\",\"Cholesterol\",\"Cholesterol\",\"Cholesterol\",\"Cholesterol\",\"Cholesterol\",\"Cholesterol\",\"Cholesterol\",\"Cholesterol\",\"Cholesterol\",\"Cholesterol\",\"Cholesterol\",\"Cholesterol\",\"Cholesterol\",\"Cholesterol\",\"Cholesterol\",\"Cholesterol\",\"Cholesterol\",\"Cholesterol\",\"Cholesterol\",\"Cholesterol\",\"Cholesterol\",\"Cholesterol\",\"Cholesterol\",\"Cholesterol\",\"Cholesterol\",\"Cholesterol\",\"Cholesterol\",\"Cholesterol\",\"Cholesterol\",\"Cholesterol\",\"Cholesterol\",\"Cholesterol\",\"Cholesterol\",\"Cholesterol\",\"Cholesterol\",\"Cholesterol\",\"Cholesterol\",\"Cholesterol\",\"Cholesterol\",\"Cholesterol\",\"Cholesterol\",\"Cholesterol\",\"Cholesterol\",\"Cholesterol\",\"Cholesterol\",\"Cholesterol\",\"Cholesterol\",\"Cholesterol\",\"Cholesterol\",\"Cholesterol\",\"Cholesterol\",\"Cholesterol\",\"Cholesterol\",\"Cholesterol\",\"Cholesterol\",\"Cholesterol\",\"Cholesterol\",\"Cholesterol\",\"Cholesterol\",\"Cholesterol\",\"Cholesterol\",\"Cholesterol\",\"Cholesterol\",\"Cholesterol\",\"Cholesterol\",\"Cholesterol\",\"Cholesterol\",\"Cholesterol\",\"Cholesterol\",\"Cholesterol\",\"Cholesterol\",\"Cholesterol\",\"Cholesterol\",\"Cholesterol\",\"Cholesterol\",\"Cholesterol\",\"Cholesterol\",\"Cholesterol\",\"Cholesterol\",\"Cholesterol\",\"Cholesterol\",\"Cholesterol\",\"Cholesterol\",\"Cholesterol\",\"Cholesterol\",\"Cholesterol\",\"Cholesterol\",\"Cholesterol\",\"Cholesterol\",\"Cholesterol\",\"Cholesterol\",\"Cholesterol\",\"Cholesterol\",\"Cholesterol\",\"Cholesterol\",\"Cholesterol\",\"Cholesterol\",\"Cholesterol\",\"Cholesterol\",\"Cholesterol\",\"Cholesterol\",\"Cholesterol\",\"Cholesterol\",\"Cholesterol\",\"Cholesterol\",\"Cholesterol\",\"Cholesterol\",\"Cholesterol\",\"Cholesterol\",\"Cholesterol\",\"Cholesterol\",\"Cholesterol\",\"Cholesterol\",\"Cholesterol\",\"Cholesterol\",\"Cholesterol\",\"Cholesterol\",\"Cholesterol\",\"Cholesterol\",\"Cholesterol\",\"Cholesterol\",\"Cholesterol\",\"Cholesterol\",\"Cholesterol\",\"Cholesterol\",\"Cholesterol\",\"Cholesterol\",\"Cholesterol\",\"Cholesterol\",\"Cholesterol\",\"Cholesterol\",\"Cholesterol\",\"Cholesterol\",\"Cholesterol\",\"Cholesterol\",\"Cholesterol\",\"Cholesterol\",\"Cholesterol\",\"Cholesterol\",\"Cholesterol\",\"Cholesterol\",\"Cholesterol\",\"Cholesterol\",\"Cholesterol\",\"Cholesterol\",\"Cholesterol\",\"Cholesterol\",\"Cholesterol\",\"Cholesterol\",\"Cholesterol\",\"Cholesterol\",\"Cholesterol\",\"Cholesterol\",\"Cholesterol\",\"Cholesterol\",\"Cholesterol\",\"Cholesterol\",\"Cholesterol\",\"Cholesterol\",\"Cholesterol\",\"Cholesterol\",\"Cholesterol\",\"Cholesterol\",\"Cholesterol\",\"Cholesterol\",\"Cholesterol\",\"Cholesterol\",\"Cholesterol\",\"Cholesterol\",\"Cholesterol\",\"Cholesterol\",\"Cholesterol\",\"Cholesterol\",\"Cholesterol\",\"Cholesterol\",\"Cholesterol\",\"Cholesterol\",\"Cholesterol\",\"Cholesterol\",\"Cholesterol\",\"Cholesterol\",\"Cholesterol\",\"Cholesterol\",\"Cholesterol\",\"Cholesterol\",\"Cholesterol\",\"Cholesterol\",\"Cholesterol\",\"Cholesterol\",\"Cholesterol\",\"Cholesterol\",\"Cholesterol\",\"Cholesterol\",\"Cholesterol\",\"Cholesterol\",\"Cholesterol\",\"Cholesterol\",\"Cholesterol\",\"Cholesterol\",\"Cholesterol\",\"Cholesterol\",\"Cholesterol\",\"Cholesterol\",\"Cholesterol\",\"Cholesterol\",\"Cholesterol\",\"Cholesterol\",\"Cholesterol\",\"Cholesterol\",\"Cholesterol\",\"Cholesterol\",\"Cholesterol\",\"Cholesterol\",\"Cholesterol\",\"Cholesterol\",\"Cholesterol\",\"Cholesterol\",\"Cholesterol\",\"Cholesterol\",\"Cholesterol\",\"Cholesterol\",\"Cholesterol\",\"Cholesterol\",\"Cholesterol\",\"Cholesterol\",\"Cholesterol\",\"Cholesterol\",\"Cholesterol\",\"Cholesterol\",\"Cholesterol\",\"Cholesterol\",\"Cholesterol\",\"Cholesterol\",\"Cholesterol\",\"Cholesterol\",\"Cholesterol\",\"Cholesterol\",\"Cholesterol\",\"Cholesterol\",\"Cholesterol\",\"Cholesterol\",\"Cholesterol\",\"Cholesterol\",\"Cholesterol\",\"Cholesterol\",\"Cholesterol\",\"Cholesterol\",\"Cholesterol\",\"Cholesterol\",\"Cholesterol\",\"Cholesterol\",\"Cholesterol\",\"Cholesterol\",\"Cholesterol\",\"Cholesterol\",\"Cholesterol\",\"Cholesterol\",\"Cholesterol\",\"Cholesterol\",\"Cholesterol\",\"Cholesterol\",\"Cholesterol\",\"Cholesterol\",\"Cholesterol\",\"Cholesterol\",\"Cholesterol\",\"Cholesterol\"],\"yaxis\":\"y2\"},{\"legendgroup\":\"MaxHR\",\"marker\":{\"color\":\"rgb(44, 160, 44)\",\"symbol\":\"line-ns-open\"},\"mode\":\"markers\",\"name\":\"MaxHR\",\"showlegend\":false,\"type\":\"scatter\",\"x\":[190,134,140,86,160,145,156,150,124,182,170,170,115,148,140,137,114,144,110,112,175,113,148,182,108,144,124,179,179,98,120,159,176,144,159,130,117,156,123,140,142,150,118,100,98,106,116,100,143,111,180,185,188,90,120,150,130,121,110,152,158,138,165,133,150,145,180,135,132,138,117,150,182,160,170,115,163,122,132,145,130,157,139,165,92,87,143,145,150,142,98,190,119,110,153,178,103,99,122,135,118,172,145,179,125,127,143,178,115,110,140,110,140,122,125,150,173,162,118,153,84,132,125,105,122,120,160,175,150,116,150,118,154,150,121,129,115,130,124,168,155,127,108,149,150,130,166,120,100,162,150,127,179,82,125,150,119,84,141,111,151,126,144,156,109,151,125,117,112,143,105,150,154,120,178,95,140,140,175,172,182,114,165,147,100,140,140,112,128,158,140,110,142,132,150,148,99,162,120,169,140,130,142,174,126,139,125,140,166,96,149,100,153,180,130,119,92,170,88,138,174,154,96,140,138,142,92,146,115,151,154,120,122,63,146,121,134,163,122,149,135,147,145,160,150,96,168,160,108,162,155,118,118,106,170,125,182,126,163,102,158,92,120,134,144,120,184,170,175,125,173,104,146,126,174,187,149,105,120,180,173,202,153,120,142,130,170,137,163,72,125,128,139,158,91,165,164,141,145,115,140,164,135,93,128,155,184,106,103,167,122,152,152,150,105,177,128,138,128,138,109,120,138,150,173,152,100,137,182,170,170,172,165,118,140,72,163,128,155,149,96,124,162,178,99,164,118,131,195,163,112,130,156,112,70,94,160,185,172,137,129,186,125,171,160,180,169,170,170,140,166,185,120,90,103,150,165,135,159,116,142,174,123,148,148,152,96,127,155,98,84,160,110,126,115,97,130,169,100,83,94,139,94,169,168,120,167,153,135,118,128,105,154,109,172,124,155,131,122,97,155,160,116,138,160,166,150,160,155,80,86,170,109,188,141,160,134,171,150,67,60,137,122,117,122,137,110,146,150,181,122,148,140,115,140,110,120,150,114,172,143,135,110,150,136,135,144,165,106,150,145,99,124,145,128,154,154,113,148,116,99,170,160,126,163,133,108,124,158,175,171,165,110,125,150,135,126,120,131,140,105,120,141,161,184,176,122,110,165,140,155,148,130,160,110,157,168,178,120,100,134,157,116,144,178,73,142,162,175,156,110,110,86,162,161,115,120,152,136,161,118,145,94,144,105,140,140,179,110,145,172,122,121,100,140,144,120,157,132,77,141,154,140,143,130,194,150,116,127,128,185,130,130,179,135,128,126,130,120,152,157,143,96,148,116,174,168,173,110,168,130,148,110,135,160,192,152,175,140,120,82,112,133,143,111,158,156,157,111,123,161,105,124,135,123,180,132,174,148,122,127,115,162,92,144,150,141,122,140,112,156,120,120,170,160,110,130,152,115,122,170,142,162,143,161,103,102,160,109,175,125,140,160,125,163,136,125,136,123,112,132,118,180,132,100,127,120,125,123,160,125,161,136,138,170,159,150,154,157,102,131,131,118,137,160,121,108,111,100,120,108,164,162,169,139,130,158,116,112,147,93,130,173,144,154,86,126,150,156,114,128,139,162,170,125,105,163,152,96,100,149,130,160,142,155,142,181,114,98,100,150,127,162,151],\"xaxis\":\"x\",\"y\":[\"MaxHR\",\"MaxHR\",\"MaxHR\",\"MaxHR\",\"MaxHR\",\"MaxHR\",\"MaxHR\",\"MaxHR\",\"MaxHR\",\"MaxHR\",\"MaxHR\",\"MaxHR\",\"MaxHR\",\"MaxHR\",\"MaxHR\",\"MaxHR\",\"MaxHR\",\"MaxHR\",\"MaxHR\",\"MaxHR\",\"MaxHR\",\"MaxHR\",\"MaxHR\",\"MaxHR\",\"MaxHR\",\"MaxHR\",\"MaxHR\",\"MaxHR\",\"MaxHR\",\"MaxHR\",\"MaxHR\",\"MaxHR\",\"MaxHR\",\"MaxHR\",\"MaxHR\",\"MaxHR\",\"MaxHR\",\"MaxHR\",\"MaxHR\",\"MaxHR\",\"MaxHR\",\"MaxHR\",\"MaxHR\",\"MaxHR\",\"MaxHR\",\"MaxHR\",\"MaxHR\",\"MaxHR\",\"MaxHR\",\"MaxHR\",\"MaxHR\",\"MaxHR\",\"MaxHR\",\"MaxHR\",\"MaxHR\",\"MaxHR\",\"MaxHR\",\"MaxHR\",\"MaxHR\",\"MaxHR\",\"MaxHR\",\"MaxHR\",\"MaxHR\",\"MaxHR\",\"MaxHR\",\"MaxHR\",\"MaxHR\",\"MaxHR\",\"MaxHR\",\"MaxHR\",\"MaxHR\",\"MaxHR\",\"MaxHR\",\"MaxHR\",\"MaxHR\",\"MaxHR\",\"MaxHR\",\"MaxHR\",\"MaxHR\",\"MaxHR\",\"MaxHR\",\"MaxHR\",\"MaxHR\",\"MaxHR\",\"MaxHR\",\"MaxHR\",\"MaxHR\",\"MaxHR\",\"MaxHR\",\"MaxHR\",\"MaxHR\",\"MaxHR\",\"MaxHR\",\"MaxHR\",\"MaxHR\",\"MaxHR\",\"MaxHR\",\"MaxHR\",\"MaxHR\",\"MaxHR\",\"MaxHR\",\"MaxHR\",\"MaxHR\",\"MaxHR\",\"MaxHR\",\"MaxHR\",\"MaxHR\",\"MaxHR\",\"MaxHR\",\"MaxHR\",\"MaxHR\",\"MaxHR\",\"MaxHR\",\"MaxHR\",\"MaxHR\",\"MaxHR\",\"MaxHR\",\"MaxHR\",\"MaxHR\",\"MaxHR\",\"MaxHR\",\"MaxHR\",\"MaxHR\",\"MaxHR\",\"MaxHR\",\"MaxHR\",\"MaxHR\",\"MaxHR\",\"MaxHR\",\"MaxHR\",\"MaxHR\",\"MaxHR\",\"MaxHR\",\"MaxHR\",\"MaxHR\",\"MaxHR\",\"MaxHR\",\"MaxHR\",\"MaxHR\",\"MaxHR\",\"MaxHR\",\"MaxHR\",\"MaxHR\",\"MaxHR\",\"MaxHR\",\"MaxHR\",\"MaxHR\",\"MaxHR\",\"MaxHR\",\"MaxHR\",\"MaxHR\",\"MaxHR\",\"MaxHR\",\"MaxHR\",\"MaxHR\",\"MaxHR\",\"MaxHR\",\"MaxHR\",\"MaxHR\",\"MaxHR\",\"MaxHR\",\"MaxHR\",\"MaxHR\",\"MaxHR\",\"MaxHR\",\"MaxHR\",\"MaxHR\",\"MaxHR\",\"MaxHR\",\"MaxHR\",\"MaxHR\",\"MaxHR\",\"MaxHR\",\"MaxHR\",\"MaxHR\",\"MaxHR\",\"MaxHR\",\"MaxHR\",\"MaxHR\",\"MaxHR\",\"MaxHR\",\"MaxHR\",\"MaxHR\",\"MaxHR\",\"MaxHR\",\"MaxHR\",\"MaxHR\",\"MaxHR\",\"MaxHR\",\"MaxHR\",\"MaxHR\",\"MaxHR\",\"MaxHR\",\"MaxHR\",\"MaxHR\",\"MaxHR\",\"MaxHR\",\"MaxHR\",\"MaxHR\",\"MaxHR\",\"MaxHR\",\"MaxHR\",\"MaxHR\",\"MaxHR\",\"MaxHR\",\"MaxHR\",\"MaxHR\",\"MaxHR\",\"MaxHR\",\"MaxHR\",\"MaxHR\",\"MaxHR\",\"MaxHR\",\"MaxHR\",\"MaxHR\",\"MaxHR\",\"MaxHR\",\"MaxHR\",\"MaxHR\",\"MaxHR\",\"MaxHR\",\"MaxHR\",\"MaxHR\",\"MaxHR\",\"MaxHR\",\"MaxHR\",\"MaxHR\",\"MaxHR\",\"MaxHR\",\"MaxHR\",\"MaxHR\",\"MaxHR\",\"MaxHR\",\"MaxHR\",\"MaxHR\",\"MaxHR\",\"MaxHR\",\"MaxHR\",\"MaxHR\",\"MaxHR\",\"MaxHR\",\"MaxHR\",\"MaxHR\",\"MaxHR\",\"MaxHR\",\"MaxHR\",\"MaxHR\",\"MaxHR\",\"MaxHR\",\"MaxHR\",\"MaxHR\",\"MaxHR\",\"MaxHR\",\"MaxHR\",\"MaxHR\",\"MaxHR\",\"MaxHR\",\"MaxHR\",\"MaxHR\",\"MaxHR\",\"MaxHR\",\"MaxHR\",\"MaxHR\",\"MaxHR\",\"MaxHR\",\"MaxHR\",\"MaxHR\",\"MaxHR\",\"MaxHR\",\"MaxHR\",\"MaxHR\",\"MaxHR\",\"MaxHR\",\"MaxHR\",\"MaxHR\",\"MaxHR\",\"MaxHR\",\"MaxHR\",\"MaxHR\",\"MaxHR\",\"MaxHR\",\"MaxHR\",\"MaxHR\",\"MaxHR\",\"MaxHR\",\"MaxHR\",\"MaxHR\",\"MaxHR\",\"MaxHR\",\"MaxHR\",\"MaxHR\",\"MaxHR\",\"MaxHR\",\"MaxHR\",\"MaxHR\",\"MaxHR\",\"MaxHR\",\"MaxHR\",\"MaxHR\",\"MaxHR\",\"MaxHR\",\"MaxHR\",\"MaxHR\",\"MaxHR\",\"MaxHR\",\"MaxHR\",\"MaxHR\",\"MaxHR\",\"MaxHR\",\"MaxHR\",\"MaxHR\",\"MaxHR\",\"MaxHR\",\"MaxHR\",\"MaxHR\",\"MaxHR\",\"MaxHR\",\"MaxHR\",\"MaxHR\",\"MaxHR\",\"MaxHR\",\"MaxHR\",\"MaxHR\",\"MaxHR\",\"MaxHR\",\"MaxHR\",\"MaxHR\",\"MaxHR\",\"MaxHR\",\"MaxHR\",\"MaxHR\",\"MaxHR\",\"MaxHR\",\"MaxHR\",\"MaxHR\",\"MaxHR\",\"MaxHR\",\"MaxHR\",\"MaxHR\",\"MaxHR\",\"MaxHR\",\"MaxHR\",\"MaxHR\",\"MaxHR\",\"MaxHR\",\"MaxHR\",\"MaxHR\",\"MaxHR\",\"MaxHR\",\"MaxHR\",\"MaxHR\",\"MaxHR\",\"MaxHR\",\"MaxHR\",\"MaxHR\",\"MaxHR\",\"MaxHR\",\"MaxHR\",\"MaxHR\",\"MaxHR\",\"MaxHR\",\"MaxHR\",\"MaxHR\",\"MaxHR\",\"MaxHR\",\"MaxHR\",\"MaxHR\",\"MaxHR\",\"MaxHR\",\"MaxHR\",\"MaxHR\",\"MaxHR\",\"MaxHR\",\"MaxHR\",\"MaxHR\",\"MaxHR\",\"MaxHR\",\"MaxHR\",\"MaxHR\",\"MaxHR\",\"MaxHR\",\"MaxHR\",\"MaxHR\",\"MaxHR\",\"MaxHR\",\"MaxHR\",\"MaxHR\",\"MaxHR\",\"MaxHR\",\"MaxHR\",\"MaxHR\",\"MaxHR\",\"MaxHR\",\"MaxHR\",\"MaxHR\",\"MaxHR\",\"MaxHR\",\"MaxHR\",\"MaxHR\",\"MaxHR\",\"MaxHR\",\"MaxHR\",\"MaxHR\",\"MaxHR\",\"MaxHR\",\"MaxHR\",\"MaxHR\",\"MaxHR\",\"MaxHR\",\"MaxHR\",\"MaxHR\",\"MaxHR\",\"MaxHR\",\"MaxHR\",\"MaxHR\",\"MaxHR\",\"MaxHR\",\"MaxHR\",\"MaxHR\",\"MaxHR\",\"MaxHR\",\"MaxHR\",\"MaxHR\",\"MaxHR\",\"MaxHR\",\"MaxHR\",\"MaxHR\",\"MaxHR\",\"MaxHR\",\"MaxHR\",\"MaxHR\",\"MaxHR\",\"MaxHR\",\"MaxHR\",\"MaxHR\",\"MaxHR\",\"MaxHR\",\"MaxHR\",\"MaxHR\",\"MaxHR\",\"MaxHR\",\"MaxHR\",\"MaxHR\",\"MaxHR\",\"MaxHR\",\"MaxHR\",\"MaxHR\",\"MaxHR\",\"MaxHR\",\"MaxHR\",\"MaxHR\",\"MaxHR\",\"MaxHR\",\"MaxHR\",\"MaxHR\",\"MaxHR\",\"MaxHR\",\"MaxHR\",\"MaxHR\",\"MaxHR\",\"MaxHR\",\"MaxHR\",\"MaxHR\",\"MaxHR\",\"MaxHR\",\"MaxHR\",\"MaxHR\",\"MaxHR\",\"MaxHR\",\"MaxHR\",\"MaxHR\",\"MaxHR\",\"MaxHR\",\"MaxHR\",\"MaxHR\",\"MaxHR\",\"MaxHR\",\"MaxHR\",\"MaxHR\",\"MaxHR\",\"MaxHR\",\"MaxHR\",\"MaxHR\",\"MaxHR\",\"MaxHR\",\"MaxHR\",\"MaxHR\",\"MaxHR\",\"MaxHR\",\"MaxHR\",\"MaxHR\",\"MaxHR\",\"MaxHR\",\"MaxHR\",\"MaxHR\",\"MaxHR\",\"MaxHR\",\"MaxHR\",\"MaxHR\",\"MaxHR\",\"MaxHR\",\"MaxHR\",\"MaxHR\",\"MaxHR\",\"MaxHR\",\"MaxHR\",\"MaxHR\",\"MaxHR\",\"MaxHR\",\"MaxHR\",\"MaxHR\",\"MaxHR\",\"MaxHR\",\"MaxHR\",\"MaxHR\",\"MaxHR\",\"MaxHR\",\"MaxHR\",\"MaxHR\",\"MaxHR\",\"MaxHR\",\"MaxHR\",\"MaxHR\",\"MaxHR\",\"MaxHR\",\"MaxHR\",\"MaxHR\",\"MaxHR\",\"MaxHR\",\"MaxHR\",\"MaxHR\",\"MaxHR\",\"MaxHR\",\"MaxHR\",\"MaxHR\",\"MaxHR\",\"MaxHR\",\"MaxHR\",\"MaxHR\",\"MaxHR\",\"MaxHR\",\"MaxHR\",\"MaxHR\",\"MaxHR\",\"MaxHR\",\"MaxHR\",\"MaxHR\",\"MaxHR\",\"MaxHR\",\"MaxHR\",\"MaxHR\",\"MaxHR\",\"MaxHR\",\"MaxHR\",\"MaxHR\",\"MaxHR\",\"MaxHR\",\"MaxHR\",\"MaxHR\",\"MaxHR\",\"MaxHR\",\"MaxHR\",\"MaxHR\",\"MaxHR\",\"MaxHR\",\"MaxHR\",\"MaxHR\",\"MaxHR\",\"MaxHR\",\"MaxHR\",\"MaxHR\",\"MaxHR\",\"MaxHR\",\"MaxHR\",\"MaxHR\",\"MaxHR\",\"MaxHR\",\"MaxHR\",\"MaxHR\",\"MaxHR\",\"MaxHR\",\"MaxHR\",\"MaxHR\",\"MaxHR\",\"MaxHR\",\"MaxHR\",\"MaxHR\",\"MaxHR\",\"MaxHR\",\"MaxHR\",\"MaxHR\",\"MaxHR\",\"MaxHR\",\"MaxHR\",\"MaxHR\",\"MaxHR\",\"MaxHR\",\"MaxHR\",\"MaxHR\",\"MaxHR\",\"MaxHR\",\"MaxHR\",\"MaxHR\",\"MaxHR\",\"MaxHR\",\"MaxHR\",\"MaxHR\",\"MaxHR\",\"MaxHR\",\"MaxHR\",\"MaxHR\",\"MaxHR\",\"MaxHR\",\"MaxHR\",\"MaxHR\",\"MaxHR\",\"MaxHR\",\"MaxHR\",\"MaxHR\",\"MaxHR\",\"MaxHR\",\"MaxHR\",\"MaxHR\",\"MaxHR\",\"MaxHR\",\"MaxHR\",\"MaxHR\",\"MaxHR\",\"MaxHR\",\"MaxHR\",\"MaxHR\",\"MaxHR\",\"MaxHR\",\"MaxHR\",\"MaxHR\",\"MaxHR\",\"MaxHR\",\"MaxHR\",\"MaxHR\",\"MaxHR\",\"MaxHR\",\"MaxHR\",\"MaxHR\",\"MaxHR\",\"MaxHR\",\"MaxHR\",\"MaxHR\",\"MaxHR\",\"MaxHR\",\"MaxHR\",\"MaxHR\",\"MaxHR\",\"MaxHR\",\"MaxHR\",\"MaxHR\",\"MaxHR\",\"MaxHR\",\"MaxHR\",\"MaxHR\",\"MaxHR\",\"MaxHR\",\"MaxHR\",\"MaxHR\",\"MaxHR\",\"MaxHR\",\"MaxHR\",\"MaxHR\",\"MaxHR\",\"MaxHR\",\"MaxHR\",\"MaxHR\",\"MaxHR\",\"MaxHR\",\"MaxHR\",\"MaxHR\",\"MaxHR\",\"MaxHR\",\"MaxHR\",\"MaxHR\",\"MaxHR\",\"MaxHR\",\"MaxHR\",\"MaxHR\",\"MaxHR\",\"MaxHR\",\"MaxHR\",\"MaxHR\",\"MaxHR\",\"MaxHR\",\"MaxHR\",\"MaxHR\",\"MaxHR\",\"MaxHR\",\"MaxHR\",\"MaxHR\",\"MaxHR\",\"MaxHR\",\"MaxHR\",\"MaxHR\",\"MaxHR\",\"MaxHR\",\"MaxHR\",\"MaxHR\",\"MaxHR\",\"MaxHR\",\"MaxHR\",\"MaxHR\",\"MaxHR\",\"MaxHR\",\"MaxHR\",\"MaxHR\",\"MaxHR\",\"MaxHR\",\"MaxHR\",\"MaxHR\",\"MaxHR\",\"MaxHR\",\"MaxHR\",\"MaxHR\",\"MaxHR\",\"MaxHR\",\"MaxHR\",\"MaxHR\",\"MaxHR\",\"MaxHR\",\"MaxHR\",\"MaxHR\",\"MaxHR\",\"MaxHR\",\"MaxHR\",\"MaxHR\",\"MaxHR\",\"MaxHR\",\"MaxHR\"],\"yaxis\":\"y2\"}],                        {\"barmode\":\"overlay\",\"hovermode\":\"closest\",\"legend\":{\"traceorder\":\"reversed\"},\"template\":{\"data\":{\"bar\":[{\"error_x\":{\"color\":\"#2a3f5f\"},\"error_y\":{\"color\":\"#2a3f5f\"},\"marker\":{\"line\":{\"color\":\"#E5ECF6\",\"width\":0.5},\"pattern\":{\"fillmode\":\"overlay\",\"size\":10,\"solidity\":0.2}},\"type\":\"bar\"}],\"barpolar\":[{\"marker\":{\"line\":{\"color\":\"#E5ECF6\",\"width\":0.5},\"pattern\":{\"fillmode\":\"overlay\",\"size\":10,\"solidity\":0.2}},\"type\":\"barpolar\"}],\"carpet\":[{\"aaxis\":{\"endlinecolor\":\"#2a3f5f\",\"gridcolor\":\"white\",\"linecolor\":\"white\",\"minorgridcolor\":\"white\",\"startlinecolor\":\"#2a3f5f\"},\"baxis\":{\"endlinecolor\":\"#2a3f5f\",\"gridcolor\":\"white\",\"linecolor\":\"white\",\"minorgridcolor\":\"white\",\"startlinecolor\":\"#2a3f5f\"},\"type\":\"carpet\"}],\"choropleth\":[{\"colorbar\":{\"outlinewidth\":0,\"ticks\":\"\"},\"type\":\"choropleth\"}],\"contour\":[{\"colorbar\":{\"outlinewidth\":0,\"ticks\":\"\"},\"colorscale\":[[0.0,\"#0d0887\"],[0.1111111111111111,\"#46039f\"],[0.2222222222222222,\"#7201a8\"],[0.3333333333333333,\"#9c179e\"],[0.4444444444444444,\"#bd3786\"],[0.5555555555555556,\"#d8576b\"],[0.6666666666666666,\"#ed7953\"],[0.7777777777777778,\"#fb9f3a\"],[0.8888888888888888,\"#fdca26\"],[1.0,\"#f0f921\"]],\"type\":\"contour\"}],\"contourcarpet\":[{\"colorbar\":{\"outlinewidth\":0,\"ticks\":\"\"},\"type\":\"contourcarpet\"}],\"heatmap\":[{\"colorbar\":{\"outlinewidth\":0,\"ticks\":\"\"},\"colorscale\":[[0.0,\"#0d0887\"],[0.1111111111111111,\"#46039f\"],[0.2222222222222222,\"#7201a8\"],[0.3333333333333333,\"#9c179e\"],[0.4444444444444444,\"#bd3786\"],[0.5555555555555556,\"#d8576b\"],[0.6666666666666666,\"#ed7953\"],[0.7777777777777778,\"#fb9f3a\"],[0.8888888888888888,\"#fdca26\"],[1.0,\"#f0f921\"]],\"type\":\"heatmap\"}],\"heatmapgl\":[{\"colorbar\":{\"outlinewidth\":0,\"ticks\":\"\"},\"colorscale\":[[0.0,\"#0d0887\"],[0.1111111111111111,\"#46039f\"],[0.2222222222222222,\"#7201a8\"],[0.3333333333333333,\"#9c179e\"],[0.4444444444444444,\"#bd3786\"],[0.5555555555555556,\"#d8576b\"],[0.6666666666666666,\"#ed7953\"],[0.7777777777777778,\"#fb9f3a\"],[0.8888888888888888,\"#fdca26\"],[1.0,\"#f0f921\"]],\"type\":\"heatmapgl\"}],\"histogram\":[{\"marker\":{\"pattern\":{\"fillmode\":\"overlay\",\"size\":10,\"solidity\":0.2}},\"type\":\"histogram\"}],\"histogram2d\":[{\"colorbar\":{\"outlinewidth\":0,\"ticks\":\"\"},\"colorscale\":[[0.0,\"#0d0887\"],[0.1111111111111111,\"#46039f\"],[0.2222222222222222,\"#7201a8\"],[0.3333333333333333,\"#9c179e\"],[0.4444444444444444,\"#bd3786\"],[0.5555555555555556,\"#d8576b\"],[0.6666666666666666,\"#ed7953\"],[0.7777777777777778,\"#fb9f3a\"],[0.8888888888888888,\"#fdca26\"],[1.0,\"#f0f921\"]],\"type\":\"histogram2d\"}],\"histogram2dcontour\":[{\"colorbar\":{\"outlinewidth\":0,\"ticks\":\"\"},\"colorscale\":[[0.0,\"#0d0887\"],[0.1111111111111111,\"#46039f\"],[0.2222222222222222,\"#7201a8\"],[0.3333333333333333,\"#9c179e\"],[0.4444444444444444,\"#bd3786\"],[0.5555555555555556,\"#d8576b\"],[0.6666666666666666,\"#ed7953\"],[0.7777777777777778,\"#fb9f3a\"],[0.8888888888888888,\"#fdca26\"],[1.0,\"#f0f921\"]],\"type\":\"histogram2dcontour\"}],\"mesh3d\":[{\"colorbar\":{\"outlinewidth\":0,\"ticks\":\"\"},\"type\":\"mesh3d\"}],\"parcoords\":[{\"line\":{\"colorbar\":{\"outlinewidth\":0,\"ticks\":\"\"}},\"type\":\"parcoords\"}],\"pie\":[{\"automargin\":true,\"type\":\"pie\"}],\"scatter\":[{\"marker\":{\"colorbar\":{\"outlinewidth\":0,\"ticks\":\"\"}},\"type\":\"scatter\"}],\"scatter3d\":[{\"line\":{\"colorbar\":{\"outlinewidth\":0,\"ticks\":\"\"}},\"marker\":{\"colorbar\":{\"outlinewidth\":0,\"ticks\":\"\"}},\"type\":\"scatter3d\"}],\"scattercarpet\":[{\"marker\":{\"colorbar\":{\"outlinewidth\":0,\"ticks\":\"\"}},\"type\":\"scattercarpet\"}],\"scattergeo\":[{\"marker\":{\"colorbar\":{\"outlinewidth\":0,\"ticks\":\"\"}},\"type\":\"scattergeo\"}],\"scattergl\":[{\"marker\":{\"colorbar\":{\"outlinewidth\":0,\"ticks\":\"\"}},\"type\":\"scattergl\"}],\"scattermapbox\":[{\"marker\":{\"colorbar\":{\"outlinewidth\":0,\"ticks\":\"\"}},\"type\":\"scattermapbox\"}],\"scatterpolar\":[{\"marker\":{\"colorbar\":{\"outlinewidth\":0,\"ticks\":\"\"}},\"type\":\"scatterpolar\"}],\"scatterpolargl\":[{\"marker\":{\"colorbar\":{\"outlinewidth\":0,\"ticks\":\"\"}},\"type\":\"scatterpolargl\"}],\"scatterternary\":[{\"marker\":{\"colorbar\":{\"outlinewidth\":0,\"ticks\":\"\"}},\"type\":\"scatterternary\"}],\"surface\":[{\"colorbar\":{\"outlinewidth\":0,\"ticks\":\"\"},\"colorscale\":[[0.0,\"#0d0887\"],[0.1111111111111111,\"#46039f\"],[0.2222222222222222,\"#7201a8\"],[0.3333333333333333,\"#9c179e\"],[0.4444444444444444,\"#bd3786\"],[0.5555555555555556,\"#d8576b\"],[0.6666666666666666,\"#ed7953\"],[0.7777777777777778,\"#fb9f3a\"],[0.8888888888888888,\"#fdca26\"],[1.0,\"#f0f921\"]],\"type\":\"surface\"}],\"table\":[{\"cells\":{\"fill\":{\"color\":\"#EBF0F8\"},\"line\":{\"color\":\"white\"}},\"header\":{\"fill\":{\"color\":\"#C8D4E3\"},\"line\":{\"color\":\"white\"}},\"type\":\"table\"}]},\"layout\":{\"annotationdefaults\":{\"arrowcolor\":\"#2a3f5f\",\"arrowhead\":0,\"arrowwidth\":1},\"autotypenumbers\":\"strict\",\"coloraxis\":{\"colorbar\":{\"outlinewidth\":0,\"ticks\":\"\"}},\"colorscale\":{\"diverging\":[[0,\"#8e0152\"],[0.1,\"#c51b7d\"],[0.2,\"#de77ae\"],[0.3,\"#f1b6da\"],[0.4,\"#fde0ef\"],[0.5,\"#f7f7f7\"],[0.6,\"#e6f5d0\"],[0.7,\"#b8e186\"],[0.8,\"#7fbc41\"],[0.9,\"#4d9221\"],[1,\"#276419\"]],\"sequential\":[[0.0,\"#0d0887\"],[0.1111111111111111,\"#46039f\"],[0.2222222222222222,\"#7201a8\"],[0.3333333333333333,\"#9c179e\"],[0.4444444444444444,\"#bd3786\"],[0.5555555555555556,\"#d8576b\"],[0.6666666666666666,\"#ed7953\"],[0.7777777777777778,\"#fb9f3a\"],[0.8888888888888888,\"#fdca26\"],[1.0,\"#f0f921\"]],\"sequentialminus\":[[0.0,\"#0d0887\"],[0.1111111111111111,\"#46039f\"],[0.2222222222222222,\"#7201a8\"],[0.3333333333333333,\"#9c179e\"],[0.4444444444444444,\"#bd3786\"],[0.5555555555555556,\"#d8576b\"],[0.6666666666666666,\"#ed7953\"],[0.7777777777777778,\"#fb9f3a\"],[0.8888888888888888,\"#fdca26\"],[1.0,\"#f0f921\"]]},\"colorway\":[\"#636efa\",\"#EF553B\",\"#00cc96\",\"#ab63fa\",\"#FFA15A\",\"#19d3f3\",\"#FF6692\",\"#B6E880\",\"#FF97FF\",\"#FECB52\"],\"font\":{\"color\":\"#2a3f5f\"},\"geo\":{\"bgcolor\":\"white\",\"lakecolor\":\"white\",\"landcolor\":\"#E5ECF6\",\"showlakes\":true,\"showland\":true,\"subunitcolor\":\"white\"},\"hoverlabel\":{\"align\":\"left\"},\"hovermode\":\"closest\",\"mapbox\":{\"style\":\"light\"},\"paper_bgcolor\":\"white\",\"plot_bgcolor\":\"#E5ECF6\",\"polar\":{\"angularaxis\":{\"gridcolor\":\"white\",\"linecolor\":\"white\",\"ticks\":\"\"},\"bgcolor\":\"#E5ECF6\",\"radialaxis\":{\"gridcolor\":\"white\",\"linecolor\":\"white\",\"ticks\":\"\"}},\"scene\":{\"xaxis\":{\"backgroundcolor\":\"#E5ECF6\",\"gridcolor\":\"white\",\"gridwidth\":2,\"linecolor\":\"white\",\"showbackground\":true,\"ticks\":\"\",\"zerolinecolor\":\"white\"},\"yaxis\":{\"backgroundcolor\":\"#E5ECF6\",\"gridcolor\":\"white\",\"gridwidth\":2,\"linecolor\":\"white\",\"showbackground\":true,\"ticks\":\"\",\"zerolinecolor\":\"white\"},\"zaxis\":{\"backgroundcolor\":\"#E5ECF6\",\"gridcolor\":\"white\",\"gridwidth\":2,\"linecolor\":\"white\",\"showbackground\":true,\"ticks\":\"\",\"zerolinecolor\":\"white\"}},\"shapedefaults\":{\"line\":{\"color\":\"#2a3f5f\"}},\"ternary\":{\"aaxis\":{\"gridcolor\":\"white\",\"linecolor\":\"white\",\"ticks\":\"\"},\"baxis\":{\"gridcolor\":\"white\",\"linecolor\":\"white\",\"ticks\":\"\"},\"bgcolor\":\"#E5ECF6\",\"caxis\":{\"gridcolor\":\"white\",\"linecolor\":\"white\",\"ticks\":\"\"}},\"title\":{\"x\":0.05},\"xaxis\":{\"automargin\":true,\"gridcolor\":\"white\",\"linecolor\":\"white\",\"ticks\":\"\",\"title\":{\"standoff\":15},\"zerolinecolor\":\"white\",\"zerolinewidth\":2},\"yaxis\":{\"automargin\":true,\"gridcolor\":\"white\",\"linecolor\":\"white\",\"ticks\":\"\",\"title\":{\"standoff\":15},\"zerolinecolor\":\"white\",\"zerolinewidth\":2}}},\"xaxis\":{\"anchor\":\"y2\",\"domain\":[0.0,1.0],\"zeroline\":false},\"yaxis\":{\"anchor\":\"free\",\"domain\":[0.35,1],\"position\":0.0},\"yaxis2\":{\"anchor\":\"x\",\"domain\":[0,0.25],\"dtick\":1,\"showticklabels\":false}},                        {\"responsive\": true}                    ).then(function(){\n",
       "                            \n",
       "var gd = document.getElementById('a4ef38c1-9618-4028-94b3-03c02d49e5f3');\n",
       "var x = new MutationObserver(function (mutations, observer) {{\n",
       "        var display = window.getComputedStyle(gd).display;\n",
       "        if (!display || display === 'none') {{\n",
       "            console.log([gd, 'removed!']);\n",
       "            Plotly.purge(gd);\n",
       "            observer.disconnect();\n",
       "        }}\n",
       "}});\n",
       "\n",
       "// Listen for the removal of the full notebook cells\n",
       "var notebookContainer = gd.closest('#notebook-container');\n",
       "if (notebookContainer) {{\n",
       "    x.observe(notebookContainer, {childList: true});\n",
       "}}\n",
       "\n",
       "// Listen for the clearing of the current output cell\n",
       "var outputEl = gd.closest('.output');\n",
       "if (outputEl) {{\n",
       "    x.observe(outputEl, {childList: true});\n",
       "}}\n",
       "\n",
       "                        })                };                });            </script>        </div>"
      ]
     },
     "metadata": {},
     "output_type": "display_data"
    }
   ],
   "source": [
    "# Add histogram data\n",
    "x1 = train[\"RestingBP\"]\n",
    "x2 = train[\"Cholesterol\"]\n",
    "x3 = train[\"MaxHR\"]\n",
    "\n",
    "# Group data together\n",
    "hist_data = [x1, x2, x3]\n",
    "\n",
    "group_labels = ['RestingBP', 'Cholesterol', 'MaxHR']\n",
    "\n",
    "# Create distplot with custom bin_size\n",
    "fig = ff.create_distplot(hist_data, group_labels, bin_size=10)\n",
    "fig.show()"
   ]
  },
  {
   "cell_type": "code",
   "execution_count": 13,
   "id": "0cdbe380",
   "metadata": {
    "execution": {
     "iopub.execute_input": "2021-11-17T11:37:11.339238Z",
     "iopub.status.busy": "2021-11-17T11:37:11.338404Z",
     "iopub.status.idle": "2021-11-17T11:37:11.380022Z",
     "shell.execute_reply": "2021-11-17T11:37:11.379142Z",
     "shell.execute_reply.started": "2021-11-07T06:33:18.452774Z"
    },
    "papermill": {
     "duration": 0.103158,
     "end_time": "2021-11-17T11:37:11.380228",
     "exception": false,
     "start_time": "2021-11-17T11:37:11.277070",
     "status": "completed"
    },
    "tags": []
   },
   "outputs": [
    {
     "data": {
      "text/html": [
       "<div>                            <div id=\"73a67af6-ffe2-40c5-bbd8-5a872d92e18e\" class=\"plotly-graph-div\" style=\"height:525px; width:100%;\"></div>            <script type=\"text/javascript\">                require([\"plotly\"], function(Plotly) {                    window.PLOTLYENV=window.PLOTLYENV || {};                                    if (document.getElementById(\"73a67af6-ffe2-40c5-bbd8-5a872d92e18e\")) {                    Plotly.newPlot(                        \"73a67af6-ffe2-40c5-bbd8-5a872d92e18e\",                        [{\"name\":\"Age\",\"type\":\"box\",\"y\":[34,54,54,63,48,62,58,42,56,39,44,41,65,57,45,54,64,41,54,54,48,58,56,41,67,58,55,39,63,57,53,54,43,45,57,37,54,52,56,54,56,51,58,55,47,53,54,57,57,58,41,35,40,66,43,56,53,73,54,53,64,41,58,46,39,61,55,53,55,43,55,55,35,29,37,59,56,51,39,57,49,70,52,58,51,65,43,50,46,41,57,52,57,58,35,40,56,66,56,65,47,67,64,41,46,53,60,42,44,52,58,55,55,58,55,51,42,43,48,31,63,60,42,65,45,38,60,54,35,76,47,47,51,33,63,38,53,41,47,48,60,51,61,55,48,60,51,46,57,50,38,65,47,52,67,51,62,69,60,63,66,57,45,54,69,65,67,59,46,55,61,38,63,62,42,53,49,58,44,49,59,40,43,54,58,52,58,62,41,41,60,58,43,68,48,52,42,56,76,61,65,63,59,35,46,50,54,43,55,52,51,48,41,45,58,59,58,45,57,58,57,43,55,39,51,51,57,69,68,69,54,52,56,60,61,50,62,41,60,63,44,63,49,63,50,51,41,67,71,49,64,52,60,58,41,71,38,57,67,48,54,70,53,55,60,46,52,50,45,59,51,51,42,55,65,37,47,56,59,36,57,29,44,49,51,54,30,54,62,62,36,50,49,65,54,54,59,68,47,48,62,49,50,62,63,55,37,39,62,40,64,62,42,40,64,44,62,61,59,54,63,53,66,57,38,54,58,54,57,45,49,63,37,54,57,62,50,55,43,60,60,52,53,36,48,56,69,69,54,54,74,35,46,75,61,74,36,33,40,62,67,48,51,49,39,44,56,51,52,66,48,45,61,46,56,55,40,60,59,53,60,47,58,57,48,46,49,55,32,37,63,49,69,51,61,56,40,44,51,55,66,48,52,52,41,65,54,56,68,60,50,54,58,72,46,59,55,58,53,62,55,60,50,45,55,38,59,53,54,40,61,44,70,44,60,57,52,58,56,65,51,61,56,59,42,55,58,58,44,43,64,57,53,61,60,60,50,67,56,58,53,61,45,31,55,49,40,66,62,62,61,62,57,47,38,64,63,65,45,64,60,39,53,56,49,56,62,58,50,48,43,46,48,46,37,64,50,57,55,60,58,53,53,55,36,41,54,77,43,54,55,57,51,55,67,51,34,52,47,61,59,60,74,46,56,55,53,42,46,50,48,61,62,59,52,64,63,45,43,43,57,39,59,57,38,56,59,44,58,59,36,62,56,57,52,44,52,65,66,61,54,34,50,47,72,42,54,46,51,64,28,64,59,38,47,56,54,68,43,58,62,59,57,53,74,57,37,44,58,57,38,65,50,61,58,34,47,43,39,39,52,53,64,62,55,47,49,60,53,57,56,63,58,44,51,34,49,34,61,65,44,59,77,55,64,55,57,43,46,69,47,63,66,51,39,60,69,40,63,54,42,37,48,70,61,48,64,46,54,49,70,64,54,67,57,55,60,63,62,65,63,41,52,41,54,49,59,56,61,52,61,59,42,62,38,50,68,54,59,72,58,59,43,42,42,74,66,41,59,51,48,57,58,63,48,43,52,62,75,52,65,32,58,56,59,62,60,54,38,72,42,51,52,47,51,61,50,39,64,44,44,53,41,41,54,67,40,65,63,56,41,32,59,68]},{\"name\":\"RestingBP\",\"type\":\"box\",\"y\":[130,150,136,150,130,160,100,120,150,140,150,120,130,140,120,120,110,125,120,130,124,160,120,120,160,125,136,94,140,130,130,132,120,132,128,140,130,128,170,140,130,135,150,122,120,126,122,110,110,150,125,120,140,155,120,134,120,160,130,130,140,120,112,100,110,160,110,130,132,142,180,140,138,120,120,135,130,140,110,140,140,140,125,140,110,140,132,110,120,110,160,118,156,126,123,140,125,110,130,140,155,152,95,112,120,113,115,148,120,122,130,158,120,100,120,160,120,130,140,120,136,130,136,150,140,150,102,160,140,140,110,110,94,100,96,120,105,130,160,110,140,120,110,142,122,130,125,180,140,120,135,135,130,95,100,130,133,122,125,130,120,180,130,108,140,160,145,124,130,160,150,140,150,139,140,123,140,130,108,140,138,110,120,120,135,130,114,158,150,110,130,180,100,150,130,120,145,120,104,130,136,132,110,122,134,145,130,140,132,112,130,100,110,180,128,125,160,128,152,115,130,150,145,130,132,130,150,140,120,140,127,130,137,135,145,130,120,126,141,140,130,130,130,130,145,114,130,115,144,134,170,120,140,120,110,112,120,110,125,160,110,115,180,120,130,140,128,140,130,130,140,120,160,135,138,130,110,132,178,120,150,130,112,130,140,160,170,120,124,160,110,133,120,110,130,150,140,144,130,120,128,124,140,120,139,0,130,190,120,130,144,140,120,130,128,110,115,140,131,120,100,125,160,128,138,125,130,133,95,130,130,135,118,140,140,115,140,140,120,160,120,140,140,130,160,130,140,160,192,160,155,120,101,160,200,140,120,120,140,135,120,122,125,130,160,140,120,160,140,112,124,115,130,130,130,150,125,120,170,120,145,160,136,128,120,138,128,120,125,130,170,110,145,95,125,120,150,120,130,140,140,132,160,136,105,150,108,140,139,152,150,138,105,143,105,130,115,130,160,152,130,117,170,112,110,110,140,155,120,106,134,120,130,130,120,144,140,125,120,145,140,150,170,122,102,120,130,170,150,115,130,130,154,141,132,142,115,120,130,120,130,120,135,100,140,130,95,178,138,112,134,120,165,140,115,180,150,144,104,141,160,120,138,137,130,200,160,137,120,108,150,140,120,110,130,150,144,140,136,130,146,120,80,135,112,125,125,124,122,125,122,105,131,110,146,120,150,152,110,142,126,150,145,120,120,172,140,120,140,120,106,105,120,134,128,143,133,138,132,110,139,120,110,140,110,120,140,130,110,178,150,138,140,122,140,120,130,140,112,130,132,115,140,112,160,120,120,150,137,130,130,130,130,100,140,130,110,138,122,136,140,174,130,130,138,150,120,120,100,132,145,155,160,139,120,118,108,120,118,130,160,124,140,140,140,160,160,160,142,140,124,160,116,135,110,140,120,118,146,160,130,120,125,120,110,130,124,100,110,142,138,126,160,130,120,125,135,120,150,150,140,130,132,156,148,160,134,142,124,115,145,200,140,142,120,133,100,124,120,170,130,120,128,135,130,131,130,150,140,112,138,135,150,158,120,110,180,120,150,120,128,154,120,115,134,120,150,104,180,150,138,154,150,108,130,150,134,160,136,108,115,118,132,125,140,120,136,120,110,160,105,132,172,135,128,125,129,138,120,130,118,145,120,112,130,106,152,150,185,130,130,95,140,118]},{\"name\":\"Cholesterol\",\"type\":\"box\",\"y\":[161,365,220,0,245,164,234,196,230,321,412,295,275,192,225,171,0,269,246,202,255,256,0,157,286,220,228,199,195,308,0,288,249,297,303,207,0,204,0,309,256,160,219,223,205,0,286,197,335,270,184,160,235,0,175,409,274,0,0,197,335,237,230,0,280,0,214,0,353,207,327,196,183,243,215,0,221,298,273,265,185,0,272,211,0,306,247,202,230,250,0,186,173,0,161,199,0,213,0,252,0,277,0,250,277,468,0,244,218,0,263,217,270,248,0,303,209,315,238,270,0,206,315,236,224,0,318,305,167,197,249,275,227,246,305,275,0,172,0,229,185,0,0,228,275,0,245,280,0,244,0,254,253,0,299,224,0,216,258,0,302,347,236,309,110,360,0,160,222,292,0,297,407,170,226,282,234,213,141,187,271,167,201,258,222,180,318,210,171,172,186,393,223,195,256,210,0,193,113,330,248,0,239,192,310,0,603,0,342,342,256,159,235,295,259,0,211,308,274,0,236,186,248,307,227,305,255,254,211,239,333,225,208,0,307,233,0,306,316,0,215,254,0,0,264,258,214,564,221,271,227,284,281,0,289,149,231,201,254,193,214,0,285,220,253,311,205,216,234,126,299,0,147,204,282,250,0,184,0,166,126,204,290,341,308,312,237,217,209,0,0,218,188,248,242,232,221,193,235,260,208,201,129,254,217,0,173,241,281,281,0,271,228,275,263,197,0,207,0,221,0,0,228,229,175,273,0,203,0,237,206,252,240,166,260,0,233,268,291,0,178,404,320,209,355,219,0,234,283,201,310,198,197,310,0,237,267,298,289,139,229,222,213,266,147,235,240,194,259,261,274,260,294,238,283,160,0,246,288,246,282,263,203,0,177,243,212,226,254,283,177,208,289,0,292,0,392,226,179,0,139,272,331,196,198,235,267,294,181,0,243,274,240,211,204,188,0,197,0,153,262,230,209,160,277,196,287,175,0,240,0,220,322,219,0,270,266,300,279,0,0,243,388,233,265,256,251,225,288,303,303,311,0,292,218,216,0,0,167,340,264,282,192,219,295,207,0,228,294,258,234,267,289,193,0,325,0,312,208,244,0,339,234,282,269,288,254,232,219,163,247,275,254,236,194,193,200,0,245,186,218,0,0,250,340,0,224,171,213,216,320,0,152,344,369,295,214,298,0,200,218,258,216,249,236,260,216,295,272,0,263,0,220,204,255,306,0,236,341,211,277,204,0,214,289,85,169,233,198,270,160,204,0,264,225,169,0,417,212,0,182,0,288,204,123,240,273,163,339,223,132,258,338,0,257,276,239,0,0,319,394,249,207,182,0,168,223,263,213,207,292,269,0,283,284,210,243,215,219,215,246,260,313,0,217,291,180,267,226,241,224,230,0,491,175,156,297,182,241,0,209,0,304,0,211,394,261,0,238,210,257,0,246,0,200,0,0,466,223,195,358,211,220,245,203,268,273,177,266,265,174,0,239,270,354,185,248,197,0,263,330,336,0,203,294,142,318,213,284,230,166,234,268,170,282,254,274,238,212,214,216,0,266,211,240,269,0,0,213,200,214,232,283,269,275,247,201,193,225,233,0,529,224,249,274,220,195,237,0,0,0,218,199,248,0,0,196,220,246,290,242,518,291,250,253,223,223,225,0,184,245,0,177,277]},{\"name\":\"MaxHR\",\"type\":\"box\",\"y\":[190,134,140,86,160,145,156,150,124,182,170,170,115,148,140,137,114,144,110,112,175,113,148,182,108,144,124,179,179,98,120,159,176,144,159,130,117,156,123,140,142,150,118,100,98,106,116,100,143,111,180,185,188,90,120,150,130,121,110,152,158,138,165,133,150,145,180,135,132,138,117,150,182,160,170,115,163,122,132,145,130,157,139,165,92,87,143,145,150,142,98,190,119,110,153,178,103,99,122,135,118,172,145,179,125,127,143,178,115,110,140,110,140,122,125,150,173,162,118,153,84,132,125,105,122,120,160,175,150,116,150,118,154,150,121,129,115,130,124,168,155,127,108,149,150,130,166,120,100,162,150,127,179,82,125,150,119,84,141,111,151,126,144,156,109,151,125,117,112,143,105,150,154,120,178,95,140,140,175,172,182,114,165,147,100,140,140,112,128,158,140,110,142,132,150,148,99,162,120,169,140,130,142,174,126,139,125,140,166,96,149,100,153,180,130,119,92,170,88,138,174,154,96,140,138,142,92,146,115,151,154,120,122,63,146,121,134,163,122,149,135,147,145,160,150,96,168,160,108,162,155,118,118,106,170,125,182,126,163,102,158,92,120,134,144,120,184,170,175,125,173,104,146,126,174,187,149,105,120,180,173,202,153,120,142,130,170,137,163,72,125,128,139,158,91,165,164,141,145,115,140,164,135,93,128,155,184,106,103,167,122,152,152,150,105,177,128,138,128,138,109,120,138,150,173,152,100,137,182,170,170,172,165,118,140,72,163,128,155,149,96,124,162,178,99,164,118,131,195,163,112,130,156,112,70,94,160,185,172,137,129,186,125,171,160,180,169,170,170,140,166,185,120,90,103,150,165,135,159,116,142,174,123,148,148,152,96,127,155,98,84,160,110,126,115,97,130,169,100,83,94,139,94,169,168,120,167,153,135,118,128,105,154,109,172,124,155,131,122,97,155,160,116,138,160,166,150,160,155,80,86,170,109,188,141,160,134,171,150,67,60,137,122,117,122,137,110,146,150,181,122,148,140,115,140,110,120,150,114,172,143,135,110,150,136,135,144,165,106,150,145,99,124,145,128,154,154,113,148,116,99,170,160,126,163,133,108,124,158,175,171,165,110,125,150,135,126,120,131,140,105,120,141,161,184,176,122,110,165,140,155,148,130,160,110,157,168,178,120,100,134,157,116,144,178,73,142,162,175,156,110,110,86,162,161,115,120,152,136,161,118,145,94,144,105,140,140,179,110,145,172,122,121,100,140,144,120,157,132,77,141,154,140,143,130,194,150,116,127,128,185,130,130,179,135,128,126,130,120,152,157,143,96,148,116,174,168,173,110,168,130,148,110,135,160,192,152,175,140,120,82,112,133,143,111,158,156,157,111,123,161,105,124,135,123,180,132,174,148,122,127,115,162,92,144,150,141,122,140,112,156,120,120,170,160,110,130,152,115,122,170,142,162,143,161,103,102,160,109,175,125,140,160,125,163,136,125,136,123,112,132,118,180,132,100,127,120,125,123,160,125,161,136,138,170,159,150,154,157,102,131,131,118,137,160,121,108,111,100,120,108,164,162,169,139,130,158,116,112,147,93,130,173,144,154,86,126,150,156,114,128,139,162,170,125,105,163,152,96,100,149,130,160,142,155,142,181,114,98,100,150,127,162,151]}],                        {\"template\":{\"data\":{\"bar\":[{\"error_x\":{\"color\":\"#2a3f5f\"},\"error_y\":{\"color\":\"#2a3f5f\"},\"marker\":{\"line\":{\"color\":\"#E5ECF6\",\"width\":0.5},\"pattern\":{\"fillmode\":\"overlay\",\"size\":10,\"solidity\":0.2}},\"type\":\"bar\"}],\"barpolar\":[{\"marker\":{\"line\":{\"color\":\"#E5ECF6\",\"width\":0.5},\"pattern\":{\"fillmode\":\"overlay\",\"size\":10,\"solidity\":0.2}},\"type\":\"barpolar\"}],\"carpet\":[{\"aaxis\":{\"endlinecolor\":\"#2a3f5f\",\"gridcolor\":\"white\",\"linecolor\":\"white\",\"minorgridcolor\":\"white\",\"startlinecolor\":\"#2a3f5f\"},\"baxis\":{\"endlinecolor\":\"#2a3f5f\",\"gridcolor\":\"white\",\"linecolor\":\"white\",\"minorgridcolor\":\"white\",\"startlinecolor\":\"#2a3f5f\"},\"type\":\"carpet\"}],\"choropleth\":[{\"colorbar\":{\"outlinewidth\":0,\"ticks\":\"\"},\"type\":\"choropleth\"}],\"contour\":[{\"colorbar\":{\"outlinewidth\":0,\"ticks\":\"\"},\"colorscale\":[[0.0,\"#0d0887\"],[0.1111111111111111,\"#46039f\"],[0.2222222222222222,\"#7201a8\"],[0.3333333333333333,\"#9c179e\"],[0.4444444444444444,\"#bd3786\"],[0.5555555555555556,\"#d8576b\"],[0.6666666666666666,\"#ed7953\"],[0.7777777777777778,\"#fb9f3a\"],[0.8888888888888888,\"#fdca26\"],[1.0,\"#f0f921\"]],\"type\":\"contour\"}],\"contourcarpet\":[{\"colorbar\":{\"outlinewidth\":0,\"ticks\":\"\"},\"type\":\"contourcarpet\"}],\"heatmap\":[{\"colorbar\":{\"outlinewidth\":0,\"ticks\":\"\"},\"colorscale\":[[0.0,\"#0d0887\"],[0.1111111111111111,\"#46039f\"],[0.2222222222222222,\"#7201a8\"],[0.3333333333333333,\"#9c179e\"],[0.4444444444444444,\"#bd3786\"],[0.5555555555555556,\"#d8576b\"],[0.6666666666666666,\"#ed7953\"],[0.7777777777777778,\"#fb9f3a\"],[0.8888888888888888,\"#fdca26\"],[1.0,\"#f0f921\"]],\"type\":\"heatmap\"}],\"heatmapgl\":[{\"colorbar\":{\"outlinewidth\":0,\"ticks\":\"\"},\"colorscale\":[[0.0,\"#0d0887\"],[0.1111111111111111,\"#46039f\"],[0.2222222222222222,\"#7201a8\"],[0.3333333333333333,\"#9c179e\"],[0.4444444444444444,\"#bd3786\"],[0.5555555555555556,\"#d8576b\"],[0.6666666666666666,\"#ed7953\"],[0.7777777777777778,\"#fb9f3a\"],[0.8888888888888888,\"#fdca26\"],[1.0,\"#f0f921\"]],\"type\":\"heatmapgl\"}],\"histogram\":[{\"marker\":{\"pattern\":{\"fillmode\":\"overlay\",\"size\":10,\"solidity\":0.2}},\"type\":\"histogram\"}],\"histogram2d\":[{\"colorbar\":{\"outlinewidth\":0,\"ticks\":\"\"},\"colorscale\":[[0.0,\"#0d0887\"],[0.1111111111111111,\"#46039f\"],[0.2222222222222222,\"#7201a8\"],[0.3333333333333333,\"#9c179e\"],[0.4444444444444444,\"#bd3786\"],[0.5555555555555556,\"#d8576b\"],[0.6666666666666666,\"#ed7953\"],[0.7777777777777778,\"#fb9f3a\"],[0.8888888888888888,\"#fdca26\"],[1.0,\"#f0f921\"]],\"type\":\"histogram2d\"}],\"histogram2dcontour\":[{\"colorbar\":{\"outlinewidth\":0,\"ticks\":\"\"},\"colorscale\":[[0.0,\"#0d0887\"],[0.1111111111111111,\"#46039f\"],[0.2222222222222222,\"#7201a8\"],[0.3333333333333333,\"#9c179e\"],[0.4444444444444444,\"#bd3786\"],[0.5555555555555556,\"#d8576b\"],[0.6666666666666666,\"#ed7953\"],[0.7777777777777778,\"#fb9f3a\"],[0.8888888888888888,\"#fdca26\"],[1.0,\"#f0f921\"]],\"type\":\"histogram2dcontour\"}],\"mesh3d\":[{\"colorbar\":{\"outlinewidth\":0,\"ticks\":\"\"},\"type\":\"mesh3d\"}],\"parcoords\":[{\"line\":{\"colorbar\":{\"outlinewidth\":0,\"ticks\":\"\"}},\"type\":\"parcoords\"}],\"pie\":[{\"automargin\":true,\"type\":\"pie\"}],\"scatter\":[{\"marker\":{\"colorbar\":{\"outlinewidth\":0,\"ticks\":\"\"}},\"type\":\"scatter\"}],\"scatter3d\":[{\"line\":{\"colorbar\":{\"outlinewidth\":0,\"ticks\":\"\"}},\"marker\":{\"colorbar\":{\"outlinewidth\":0,\"ticks\":\"\"}},\"type\":\"scatter3d\"}],\"scattercarpet\":[{\"marker\":{\"colorbar\":{\"outlinewidth\":0,\"ticks\":\"\"}},\"type\":\"scattercarpet\"}],\"scattergeo\":[{\"marker\":{\"colorbar\":{\"outlinewidth\":0,\"ticks\":\"\"}},\"type\":\"scattergeo\"}],\"scattergl\":[{\"marker\":{\"colorbar\":{\"outlinewidth\":0,\"ticks\":\"\"}},\"type\":\"scattergl\"}],\"scattermapbox\":[{\"marker\":{\"colorbar\":{\"outlinewidth\":0,\"ticks\":\"\"}},\"type\":\"scattermapbox\"}],\"scatterpolar\":[{\"marker\":{\"colorbar\":{\"outlinewidth\":0,\"ticks\":\"\"}},\"type\":\"scatterpolar\"}],\"scatterpolargl\":[{\"marker\":{\"colorbar\":{\"outlinewidth\":0,\"ticks\":\"\"}},\"type\":\"scatterpolargl\"}],\"scatterternary\":[{\"marker\":{\"colorbar\":{\"outlinewidth\":0,\"ticks\":\"\"}},\"type\":\"scatterternary\"}],\"surface\":[{\"colorbar\":{\"outlinewidth\":0,\"ticks\":\"\"},\"colorscale\":[[0.0,\"#0d0887\"],[0.1111111111111111,\"#46039f\"],[0.2222222222222222,\"#7201a8\"],[0.3333333333333333,\"#9c179e\"],[0.4444444444444444,\"#bd3786\"],[0.5555555555555556,\"#d8576b\"],[0.6666666666666666,\"#ed7953\"],[0.7777777777777778,\"#fb9f3a\"],[0.8888888888888888,\"#fdca26\"],[1.0,\"#f0f921\"]],\"type\":\"surface\"}],\"table\":[{\"cells\":{\"fill\":{\"color\":\"#EBF0F8\"},\"line\":{\"color\":\"white\"}},\"header\":{\"fill\":{\"color\":\"#C8D4E3\"},\"line\":{\"color\":\"white\"}},\"type\":\"table\"}]},\"layout\":{\"annotationdefaults\":{\"arrowcolor\":\"#2a3f5f\",\"arrowhead\":0,\"arrowwidth\":1},\"autotypenumbers\":\"strict\",\"coloraxis\":{\"colorbar\":{\"outlinewidth\":0,\"ticks\":\"\"}},\"colorscale\":{\"diverging\":[[0,\"#8e0152\"],[0.1,\"#c51b7d\"],[0.2,\"#de77ae\"],[0.3,\"#f1b6da\"],[0.4,\"#fde0ef\"],[0.5,\"#f7f7f7\"],[0.6,\"#e6f5d0\"],[0.7,\"#b8e186\"],[0.8,\"#7fbc41\"],[0.9,\"#4d9221\"],[1,\"#276419\"]],\"sequential\":[[0.0,\"#0d0887\"],[0.1111111111111111,\"#46039f\"],[0.2222222222222222,\"#7201a8\"],[0.3333333333333333,\"#9c179e\"],[0.4444444444444444,\"#bd3786\"],[0.5555555555555556,\"#d8576b\"],[0.6666666666666666,\"#ed7953\"],[0.7777777777777778,\"#fb9f3a\"],[0.8888888888888888,\"#fdca26\"],[1.0,\"#f0f921\"]],\"sequentialminus\":[[0.0,\"#0d0887\"],[0.1111111111111111,\"#46039f\"],[0.2222222222222222,\"#7201a8\"],[0.3333333333333333,\"#9c179e\"],[0.4444444444444444,\"#bd3786\"],[0.5555555555555556,\"#d8576b\"],[0.6666666666666666,\"#ed7953\"],[0.7777777777777778,\"#fb9f3a\"],[0.8888888888888888,\"#fdca26\"],[1.0,\"#f0f921\"]]},\"colorway\":[\"#636efa\",\"#EF553B\",\"#00cc96\",\"#ab63fa\",\"#FFA15A\",\"#19d3f3\",\"#FF6692\",\"#B6E880\",\"#FF97FF\",\"#FECB52\"],\"font\":{\"color\":\"#2a3f5f\"},\"geo\":{\"bgcolor\":\"white\",\"lakecolor\":\"white\",\"landcolor\":\"#E5ECF6\",\"showlakes\":true,\"showland\":true,\"subunitcolor\":\"white\"},\"hoverlabel\":{\"align\":\"left\"},\"hovermode\":\"closest\",\"mapbox\":{\"style\":\"light\"},\"paper_bgcolor\":\"white\",\"plot_bgcolor\":\"#E5ECF6\",\"polar\":{\"angularaxis\":{\"gridcolor\":\"white\",\"linecolor\":\"white\",\"ticks\":\"\"},\"bgcolor\":\"#E5ECF6\",\"radialaxis\":{\"gridcolor\":\"white\",\"linecolor\":\"white\",\"ticks\":\"\"}},\"scene\":{\"xaxis\":{\"backgroundcolor\":\"#E5ECF6\",\"gridcolor\":\"white\",\"gridwidth\":2,\"linecolor\":\"white\",\"showbackground\":true,\"ticks\":\"\",\"zerolinecolor\":\"white\"},\"yaxis\":{\"backgroundcolor\":\"#E5ECF6\",\"gridcolor\":\"white\",\"gridwidth\":2,\"linecolor\":\"white\",\"showbackground\":true,\"ticks\":\"\",\"zerolinecolor\":\"white\"},\"zaxis\":{\"backgroundcolor\":\"#E5ECF6\",\"gridcolor\":\"white\",\"gridwidth\":2,\"linecolor\":\"white\",\"showbackground\":true,\"ticks\":\"\",\"zerolinecolor\":\"white\"}},\"shapedefaults\":{\"line\":{\"color\":\"#2a3f5f\"}},\"ternary\":{\"aaxis\":{\"gridcolor\":\"white\",\"linecolor\":\"white\",\"ticks\":\"\"},\"baxis\":{\"gridcolor\":\"white\",\"linecolor\":\"white\",\"ticks\":\"\"},\"bgcolor\":\"#E5ECF6\",\"caxis\":{\"gridcolor\":\"white\",\"linecolor\":\"white\",\"ticks\":\"\"}},\"title\":{\"x\":0.05},\"xaxis\":{\"automargin\":true,\"gridcolor\":\"white\",\"linecolor\":\"white\",\"ticks\":\"\",\"title\":{\"standoff\":15},\"zerolinecolor\":\"white\",\"zerolinewidth\":2},\"yaxis\":{\"automargin\":true,\"gridcolor\":\"white\",\"linecolor\":\"white\",\"ticks\":\"\",\"title\":{\"standoff\":15},\"zerolinecolor\":\"white\",\"zerolinewidth\":2}}}},                        {\"responsive\": true}                    ).then(function(){\n",
       "                            \n",
       "var gd = document.getElementById('73a67af6-ffe2-40c5-bbd8-5a872d92e18e');\n",
       "var x = new MutationObserver(function (mutations, observer) {{\n",
       "        var display = window.getComputedStyle(gd).display;\n",
       "        if (!display || display === 'none') {{\n",
       "            console.log([gd, 'removed!']);\n",
       "            Plotly.purge(gd);\n",
       "            observer.disconnect();\n",
       "        }}\n",
       "}});\n",
       "\n",
       "// Listen for the removal of the full notebook cells\n",
       "var notebookContainer = gd.closest('#notebook-container');\n",
       "if (notebookContainer) {{\n",
       "    x.observe(notebookContainer, {childList: true});\n",
       "}}\n",
       "\n",
       "// Listen for the clearing of the current output cell\n",
       "var outputEl = gd.closest('.output');\n",
       "if (outputEl) {{\n",
       "    x.observe(outputEl, {childList: true});\n",
       "}}\n",
       "\n",
       "                        })                };                });            </script>        </div>"
      ]
     },
     "metadata": {},
     "output_type": "display_data"
    }
   ],
   "source": [
    "trace0 = go.Box(y=train[\"Age\"],name=\"Age\")\n",
    "trace1 = go.Box(y=train[\"RestingBP\"],name=\"RestingBP\")\n",
    "trace2 = go.Box(y=train[\"Cholesterol\"],name=\"Cholesterol\")\n",
    "trace3 = go.Box(y=train[\"MaxHR\"],name=\"MaxHR\")\n",
    "data = [trace0, trace1, trace2,trace3]\n",
    "iplot(data)"
   ]
  },
  {
   "cell_type": "code",
   "execution_count": 14,
   "id": "76991883",
   "metadata": {
    "execution": {
     "iopub.execute_input": "2021-11-17T11:37:11.491793Z",
     "iopub.status.busy": "2021-11-17T11:37:11.491013Z",
     "iopub.status.idle": "2021-11-17T11:37:12.058230Z",
     "shell.execute_reply": "2021-11-17T11:37:12.057619Z",
     "shell.execute_reply.started": "2021-11-07T06:33:18.493086Z"
    },
    "papermill": {
     "duration": 0.623986,
     "end_time": "2021-11-17T11:37:12.058410",
     "exception": false,
     "start_time": "2021-11-17T11:37:11.434424",
     "status": "completed"
    },
    "tags": []
   },
   "outputs": [
    {
     "data": {
      "text/html": [
       "<div>                            <div id=\"41906a29-6572-4132-9292-9c4e5069f423\" class=\"plotly-graph-div\" style=\"height:700px; width:700px;\"></div>            <script type=\"text/javascript\">                require([\"plotly\"], function(Plotly) {                    window.PLOTLYENV=window.PLOTLYENV || {};                                    if (document.getElementById(\"41906a29-6572-4132-9292-9c4e5069f423\")) {                    Plotly.newPlot(                        \"41906a29-6572-4132-9292-9c4e5069f423\",                        [{\"marker\":{\"color\":\"rgb(12, 51, 131)\"},\"showlegend\":false,\"type\":\"box\",\"xaxis\":\"x\",\"y\":[130,150,136,150,130,160,100,120,150,140,150,120,130,140,120,120,110,125,120,130,124,160,120,120,160,125,136,94,140,130,130,132,120,132,128,140,130,128,170,140,130,135,150,122,120,126,122,110,110,150,125,120,140,155,120,134,120,160,130,130,140,120,112,100,110,160,110,130,132,142,180,140,138,120,120,135,130,140,110,140,140,140,125,140,110,140,132,110,120,110,160,118,156,126,123,140,125,110,130,140,155,152,95,112,120,113,115,148,120,122,130,158,120,100,120,160,120,130,140,120,136,130,136,150,140,150,102,160,140,140,110,110,94,100,96,120,105,130,160,110,140,120,110,142,122,130,125,180,140,120,135,135,130,95,100,130,133,122,125,130,120,180,130,108,140,160,145,124,130,160,150,140,150,139,140,123,140,130,108,140,138,110,120,120,135,130,114,158,150,110,130,180,100,150,130,120,145,120,104,130,136,132,110,122,134,145,130,140,132,112,130,100,110,180,128,125,160,128,152,115,130,150,145,130,132,130,150,140,120,140,127,130,137,135,145,130,120,126,141,140,130,130,130,130,145,114,130,115,144,134,170,120,140,120,110,112,120,110,125,160,110,115,180,120,130,140,128,140,130,130,140,120,160,135,138,130,110,132,178,120,150,130,112,130,140,160,170,120,124,160,110,133,120,110,130,150,140,144,130,120,128,124,140,120,139,0,130,190,120,130,144,140,120,130,128,110,115,140,131,120,100,125,160,128,138,125,130,133,95,130,130,135,118,140,140,115,140,140,120,160,120,140,140,130,160,130,140,160,192,160,155,120,101,160,200,140,120,120,140,135,120,122,125,130,160,140,120,160,140,112,124,115,130,130,130,150,125,120,170,120,145,160,136,128,120,138,128,120,125,130,170,110,145,95,125,120,150,120,130,140,140,132,160,136,105,150,108,140,139,152,150,138,105,143,105,130,115,130,160,152,130,117,170,112,110,110,140,155,120,106,134,120,130,130,120,144,140,125,120,145,140,150,170,122,102,120,130,170,150,115,130,130,154,141,132,142,115,120,130,120,130,120,135,100,140,130,95,178,138,112,134,120,165,140,115,180,150,144,104,141,160,120,138,137,130,200,160,137,120,108,150,140,120,110,130,150,144,140,136,130,146,120,80,135,112,125,125,124,122,125,122,105,131,110,146,120,150,152,110,142,126,150,145,120,120,172,140,120,140,120,106,105,120,134,128,143,133,138,132,110,139,120,110,140,110,120,140,130,110,178,150,138,140,122,140,120,130,140,112,130,132,115,140,112,160,120,120,150,137,130,130,130,130,100,140,130,110,138,122,136,140,174,130,130,138,150,120,120,100,132,145,155,160,139,120,118,108,120,118,130,160,124,140,140,140,160,160,160,142,140,124,160,116,135,110,140,120,118,146,160,130,120,125,120,110,130,124,100,110,142,138,126,160,130,120,125,135,120,150,150,140,130,132,156,148,160,134,142,124,115,145,200,140,142,120,133,100,124,120,170,130,120,128,135,130,131,130,150,140,112,138,135,150,158,120,110,180,120,150,120,128,154,120,115,134,120,150,104,180,150,138,154,150,108,130,150,134,160,136,108,115,118,132,125,140,120,136,120,110,160,105,132,172,135,128,125,129,138,120,130,118,145,120,112,130,106,152,150,185,130,130,95,140,118],\"yaxis\":\"y\"},{\"marker\":{\"color\":[1,2,3,4,5,6,7,8,9,10,11,12,13,14,15,16,17,18,19,20,21,22,23,24,25,26,27,28,29,30,31,32,33,34,35,36,37,38,39,40,41,42,43,44,45,46,47,48,49,50,51,52,53,54,55,56,57,58,59,60,61,62,63,64,65,66,67,68,69,70,71,72,73,74,75,76,77,78,79,80,81,82,83,84,85,86,87,88,89,90,91,92,93,94,95,96,97,98,99,100,101,102,103,104,105,106,107,108,109,110,111,112,113,114,115,116,117,118,119,120,121,122,123,124,125,126,127,128,129,130,131,132,133,134,135,136,137,138,139,140,141,142,143,144,145,146,147,148,149,150,151,152,153,154,155,156,157,158,159,160,161,162,163,164,165,166,167,168,169,170,171,172,173,174,175,176,177,178,179,180,181,182,183,184,185,186,187,188,189,190,191,192,193,194,195,196,197,198,199,200,201,202,203,204,205,206,207,208,209,210,211,212,213,214,215,216,217,218,219,220,221,222,223,224,225,226,227,228,229,230,231,232,233,234,235,236,237,238,239,240,241,242,243,244,245,246,247,248,249,250,251,252,253,254,255,256,257,258,259,260,261,262,263,264,265,266,267,268,269,270,271,272,273,274,275,276,277,278,279,280,281,282,283,284,285,286,287,288,289,290,291,292,293,294,295,296,297,298,299,300,301,302,303,304,305,306,307,308,309,310,311,312,313,314,315,316,317,318,319,320,321,322,323,324,325,326,327,328,329,330,331,332,333,334,335,336,337,338,339,340,341,342,343,344,345,346,347,348,349,350,351,352,353,354,355,356,357,358,359,360,361,362,363,364,365,366,367,368,369,370,371,372,373,374,375,376,377,378,379,380,381,382,383,384,385,386,387,388,389,390,391,392,393,394,395,396,397,398,399,400,401,402,403,404,405,406,407,408,409,410,411,412,413,414,415,416,417,418,419,420,421,422,423,424,425,426,427,428,429,430,431,432,433,434,435,436,437,438,439,440,441,442,443,444,445,446,447,448,449,450,451,452,453,454,455,456,457,458,459,460,461,462,463,464,465,466,467,468,469,470,471,472,473,474,475,476,477,478,479,480,481,482,483,484,485,486,487,488,489,490,491,492,493,494,495,496,497,498,499,500,501,502,503,504,505,506,507,508,509,510,511,512,513,514,515,516,517,518,519,520,521,522,523,524,525,526,527,528,529,530,531,532,533,534,535,536,537,538,539,540,541,542,543,544,545,546,547,548,549,550,551,552,553,554,555,556,557,558,559,560,561,562,563,564,565,566,567,568,569,570,571,572,573,574,575,576,577,578,579,580,581,582,583,584,585,586,587,588,589,590,591,592,593,594,595,596,597,598,599,600,601,602,603,604,605,606,607,608,609,610,611,612,613,614,615,616,617,618,619,620,621,622,623,624,625,626,627,628,629,630,631,632,633,634,635,636,637,638,639,640,641,642,643,644,645,646,647,648,649,650,651,652,653,654,655,656,657,658,659,660,661,662,663,664,665,666,667,668,669,670,671,672,673,674,675,676,677,678,679,680,681,682,683,684,685,686,687,688,689,690,691,692,693,694,695,696,697,698,699,700,701,702,703,704,705,706,707,708,709,710,711,712,713,714,715,716,717,718,719,720,721,722,723,724,725,726,727,728,729,730,731,732,733,734],\"colorscale\":[[0.0,\"rgb(12, 51, 131)\"],[1.0,\"rgb(217, 30, 30)\"]],\"showscale\":true,\"size\":6},\"mode\":\"markers\",\"showlegend\":false,\"type\":\"scatter\",\"x\":[161,365,220,0,245,164,234,196,230,321,412,295,275,192,225,171,0,269,246,202,255,256,0,157,286,220,228,199,195,308,0,288,249,297,303,207,0,204,0,309,256,160,219,223,205,0,286,197,335,270,184,160,235,0,175,409,274,0,0,197,335,237,230,0,280,0,214,0,353,207,327,196,183,243,215,0,221,298,273,265,185,0,272,211,0,306,247,202,230,250,0,186,173,0,161,199,0,213,0,252,0,277,0,250,277,468,0,244,218,0,263,217,270,248,0,303,209,315,238,270,0,206,315,236,224,0,318,305,167,197,249,275,227,246,305,275,0,172,0,229,185,0,0,228,275,0,245,280,0,244,0,254,253,0,299,224,0,216,258,0,302,347,236,309,110,360,0,160,222,292,0,297,407,170,226,282,234,213,141,187,271,167,201,258,222,180,318,210,171,172,186,393,223,195,256,210,0,193,113,330,248,0,239,192,310,0,603,0,342,342,256,159,235,295,259,0,211,308,274,0,236,186,248,307,227,305,255,254,211,239,333,225,208,0,307,233,0,306,316,0,215,254,0,0,264,258,214,564,221,271,227,284,281,0,289,149,231,201,254,193,214,0,285,220,253,311,205,216,234,126,299,0,147,204,282,250,0,184,0,166,126,204,290,341,308,312,237,217,209,0,0,218,188,248,242,232,221,193,235,260,208,201,129,254,217,0,173,241,281,281,0,271,228,275,263,197,0,207,0,221,0,0,228,229,175,273,0,203,0,237,206,252,240,166,260,0,233,268,291,0,178,404,320,209,355,219,0,234,283,201,310,198,197,310,0,237,267,298,289,139,229,222,213,266,147,235,240,194,259,261,274,260,294,238,283,160,0,246,288,246,282,263,203,0,177,243,212,226,254,283,177,208,289,0,292,0,392,226,179,0,139,272,331,196,198,235,267,294,181,0,243,274,240,211,204,188,0,197,0,153,262,230,209,160,277,196,287,175,0,240,0,220,322,219,0,270,266,300,279,0,0,243,388,233,265,256,251,225,288,303,303,311,0,292,218,216,0,0,167,340,264,282,192,219,295,207,0,228,294,258,234,267,289,193,0,325,0,312,208,244,0,339,234,282,269,288,254,232,219,163,247,275,254,236,194,193,200,0,245,186,218,0,0,250,340,0,224,171,213,216,320,0,152,344,369,295,214,298,0,200,218,258,216,249,236,260,216,295,272,0,263,0,220,204,255,306,0,236,341,211,277,204,0,214,289,85,169,233,198,270,160,204,0,264,225,169,0,417,212,0,182,0,288,204,123,240,273,163,339,223,132,258,338,0,257,276,239,0,0,319,394,249,207,182,0,168,223,263,213,207,292,269,0,283,284,210,243,215,219,215,246,260,313,0,217,291,180,267,226,241,224,230,0,491,175,156,297,182,241,0,209,0,304,0,211,394,261,0,238,210,257,0,246,0,200,0,0,466,223,195,358,211,220,245,203,268,273,177,266,265,174,0,239,270,354,185,248,197,0,263,330,336,0,203,294,142,318,213,284,230,166,234,268,170,282,254,274,238,212,214,216,0,266,211,240,269,0,0,213,200,214,232,283,269,275,247,201,193,225,233,0,529,224,249,274,220,195,237,0,0,0,218,199,248,0,0,196,220,246,290,242,518,291,250,253,223,223,225,0,184,245,0,177,277],\"xaxis\":\"x2\",\"y\":[130,150,136,150,130,160,100,120,150,140,150,120,130,140,120,120,110,125,120,130,124,160,120,120,160,125,136,94,140,130,130,132,120,132,128,140,130,128,170,140,130,135,150,122,120,126,122,110,110,150,125,120,140,155,120,134,120,160,130,130,140,120,112,100,110,160,110,130,132,142,180,140,138,120,120,135,130,140,110,140,140,140,125,140,110,140,132,110,120,110,160,118,156,126,123,140,125,110,130,140,155,152,95,112,120,113,115,148,120,122,130,158,120,100,120,160,120,130,140,120,136,130,136,150,140,150,102,160,140,140,110,110,94,100,96,120,105,130,160,110,140,120,110,142,122,130,125,180,140,120,135,135,130,95,100,130,133,122,125,130,120,180,130,108,140,160,145,124,130,160,150,140,150,139,140,123,140,130,108,140,138,110,120,120,135,130,114,158,150,110,130,180,100,150,130,120,145,120,104,130,136,132,110,122,134,145,130,140,132,112,130,100,110,180,128,125,160,128,152,115,130,150,145,130,132,130,150,140,120,140,127,130,137,135,145,130,120,126,141,140,130,130,130,130,145,114,130,115,144,134,170,120,140,120,110,112,120,110,125,160,110,115,180,120,130,140,128,140,130,130,140,120,160,135,138,130,110,132,178,120,150,130,112,130,140,160,170,120,124,160,110,133,120,110,130,150,140,144,130,120,128,124,140,120,139,0,130,190,120,130,144,140,120,130,128,110,115,140,131,120,100,125,160,128,138,125,130,133,95,130,130,135,118,140,140,115,140,140,120,160,120,140,140,130,160,130,140,160,192,160,155,120,101,160,200,140,120,120,140,135,120,122,125,130,160,140,120,160,140,112,124,115,130,130,130,150,125,120,170,120,145,160,136,128,120,138,128,120,125,130,170,110,145,95,125,120,150,120,130,140,140,132,160,136,105,150,108,140,139,152,150,138,105,143,105,130,115,130,160,152,130,117,170,112,110,110,140,155,120,106,134,120,130,130,120,144,140,125,120,145,140,150,170,122,102,120,130,170,150,115,130,130,154,141,132,142,115,120,130,120,130,120,135,100,140,130,95,178,138,112,134,120,165,140,115,180,150,144,104,141,160,120,138,137,130,200,160,137,120,108,150,140,120,110,130,150,144,140,136,130,146,120,80,135,112,125,125,124,122,125,122,105,131,110,146,120,150,152,110,142,126,150,145,120,120,172,140,120,140,120,106,105,120,134,128,143,133,138,132,110,139,120,110,140,110,120,140,130,110,178,150,138,140,122,140,120,130,140,112,130,132,115,140,112,160,120,120,150,137,130,130,130,130,100,140,130,110,138,122,136,140,174,130,130,138,150,120,120,100,132,145,155,160,139,120,118,108,120,118,130,160,124,140,140,140,160,160,160,142,140,124,160,116,135,110,140,120,118,146,160,130,120,125,120,110,130,124,100,110,142,138,126,160,130,120,125,135,120,150,150,140,130,132,156,148,160,134,142,124,115,145,200,140,142,120,133,100,124,120,170,130,120,128,135,130,131,130,150,140,112,138,135,150,158,120,110,180,120,150,120,128,154,120,115,134,120,150,104,180,150,138,154,150,108,130,150,134,160,136,108,115,118,132,125,140,120,136,120,110,160,105,132,172,135,128,125,129,138,120,130,118,145,120,112,130,106,152,150,185,130,130,95,140,118],\"yaxis\":\"y2\"},{\"marker\":{\"color\":[1,2,3,4,5,6,7,8,9,10,11,12,13,14,15,16,17,18,19,20,21,22,23,24,25,26,27,28,29,30,31,32,33,34,35,36,37,38,39,40,41,42,43,44,45,46,47,48,49,50,51,52,53,54,55,56,57,58,59,60,61,62,63,64,65,66,67,68,69,70,71,72,73,74,75,76,77,78,79,80,81,82,83,84,85,86,87,88,89,90,91,92,93,94,95,96,97,98,99,100,101,102,103,104,105,106,107,108,109,110,111,112,113,114,115,116,117,118,119,120,121,122,123,124,125,126,127,128,129,130,131,132,133,134,135,136,137,138,139,140,141,142,143,144,145,146,147,148,149,150,151,152,153,154,155,156,157,158,159,160,161,162,163,164,165,166,167,168,169,170,171,172,173,174,175,176,177,178,179,180,181,182,183,184,185,186,187,188,189,190,191,192,193,194,195,196,197,198,199,200,201,202,203,204,205,206,207,208,209,210,211,212,213,214,215,216,217,218,219,220,221,222,223,224,225,226,227,228,229,230,231,232,233,234,235,236,237,238,239,240,241,242,243,244,245,246,247,248,249,250,251,252,253,254,255,256,257,258,259,260,261,262,263,264,265,266,267,268,269,270,271,272,273,274,275,276,277,278,279,280,281,282,283,284,285,286,287,288,289,290,291,292,293,294,295,296,297,298,299,300,301,302,303,304,305,306,307,308,309,310,311,312,313,314,315,316,317,318,319,320,321,322,323,324,325,326,327,328,329,330,331,332,333,334,335,336,337,338,339,340,341,342,343,344,345,346,347,348,349,350,351,352,353,354,355,356,357,358,359,360,361,362,363,364,365,366,367,368,369,370,371,372,373,374,375,376,377,378,379,380,381,382,383,384,385,386,387,388,389,390,391,392,393,394,395,396,397,398,399,400,401,402,403,404,405,406,407,408,409,410,411,412,413,414,415,416,417,418,419,420,421,422,423,424,425,426,427,428,429,430,431,432,433,434,435,436,437,438,439,440,441,442,443,444,445,446,447,448,449,450,451,452,453,454,455,456,457,458,459,460,461,462,463,464,465,466,467,468,469,470,471,472,473,474,475,476,477,478,479,480,481,482,483,484,485,486,487,488,489,490,491,492,493,494,495,496,497,498,499,500,501,502,503,504,505,506,507,508,509,510,511,512,513,514,515,516,517,518,519,520,521,522,523,524,525,526,527,528,529,530,531,532,533,534,535,536,537,538,539,540,541,542,543,544,545,546,547,548,549,550,551,552,553,554,555,556,557,558,559,560,561,562,563,564,565,566,567,568,569,570,571,572,573,574,575,576,577,578,579,580,581,582,583,584,585,586,587,588,589,590,591,592,593,594,595,596,597,598,599,600,601,602,603,604,605,606,607,608,609,610,611,612,613,614,615,616,617,618,619,620,621,622,623,624,625,626,627,628,629,630,631,632,633,634,635,636,637,638,639,640,641,642,643,644,645,646,647,648,649,650,651,652,653,654,655,656,657,658,659,660,661,662,663,664,665,666,667,668,669,670,671,672,673,674,675,676,677,678,679,680,681,682,683,684,685,686,687,688,689,690,691,692,693,694,695,696,697,698,699,700,701,702,703,704,705,706,707,708,709,710,711,712,713,714,715,716,717,718,719,720,721,722,723,724,725,726,727,728,729,730,731,732,733,734],\"colorscale\":[[0.0,\"rgb(12, 51, 131)\"],[1.0,\"rgb(217, 30, 30)\"]],\"showscale\":false,\"size\":6},\"mode\":\"markers\",\"showlegend\":false,\"type\":\"scatter\",\"x\":[190,134,140,86,160,145,156,150,124,182,170,170,115,148,140,137,114,144,110,112,175,113,148,182,108,144,124,179,179,98,120,159,176,144,159,130,117,156,123,140,142,150,118,100,98,106,116,100,143,111,180,185,188,90,120,150,130,121,110,152,158,138,165,133,150,145,180,135,132,138,117,150,182,160,170,115,163,122,132,145,130,157,139,165,92,87,143,145,150,142,98,190,119,110,153,178,103,99,122,135,118,172,145,179,125,127,143,178,115,110,140,110,140,122,125,150,173,162,118,153,84,132,125,105,122,120,160,175,150,116,150,118,154,150,121,129,115,130,124,168,155,127,108,149,150,130,166,120,100,162,150,127,179,82,125,150,119,84,141,111,151,126,144,156,109,151,125,117,112,143,105,150,154,120,178,95,140,140,175,172,182,114,165,147,100,140,140,112,128,158,140,110,142,132,150,148,99,162,120,169,140,130,142,174,126,139,125,140,166,96,149,100,153,180,130,119,92,170,88,138,174,154,96,140,138,142,92,146,115,151,154,120,122,63,146,121,134,163,122,149,135,147,145,160,150,96,168,160,108,162,155,118,118,106,170,125,182,126,163,102,158,92,120,134,144,120,184,170,175,125,173,104,146,126,174,187,149,105,120,180,173,202,153,120,142,130,170,137,163,72,125,128,139,158,91,165,164,141,145,115,140,164,135,93,128,155,184,106,103,167,122,152,152,150,105,177,128,138,128,138,109,120,138,150,173,152,100,137,182,170,170,172,165,118,140,72,163,128,155,149,96,124,162,178,99,164,118,131,195,163,112,130,156,112,70,94,160,185,172,137,129,186,125,171,160,180,169,170,170,140,166,185,120,90,103,150,165,135,159,116,142,174,123,148,148,152,96,127,155,98,84,160,110,126,115,97,130,169,100,83,94,139,94,169,168,120,167,153,135,118,128,105,154,109,172,124,155,131,122,97,155,160,116,138,160,166,150,160,155,80,86,170,109,188,141,160,134,171,150,67,60,137,122,117,122,137,110,146,150,181,122,148,140,115,140,110,120,150,114,172,143,135,110,150,136,135,144,165,106,150,145,99,124,145,128,154,154,113,148,116,99,170,160,126,163,133,108,124,158,175,171,165,110,125,150,135,126,120,131,140,105,120,141,161,184,176,122,110,165,140,155,148,130,160,110,157,168,178,120,100,134,157,116,144,178,73,142,162,175,156,110,110,86,162,161,115,120,152,136,161,118,145,94,144,105,140,140,179,110,145,172,122,121,100,140,144,120,157,132,77,141,154,140,143,130,194,150,116,127,128,185,130,130,179,135,128,126,130,120,152,157,143,96,148,116,174,168,173,110,168,130,148,110,135,160,192,152,175,140,120,82,112,133,143,111,158,156,157,111,123,161,105,124,135,123,180,132,174,148,122,127,115,162,92,144,150,141,122,140,112,156,120,120,170,160,110,130,152,115,122,170,142,162,143,161,103,102,160,109,175,125,140,160,125,163,136,125,136,123,112,132,118,180,132,100,127,120,125,123,160,125,161,136,138,170,159,150,154,157,102,131,131,118,137,160,121,108,111,100,120,108,164,162,169,139,130,158,116,112,147,93,130,173,144,154,86,126,150,156,114,128,139,162,170,125,105,163,152,96,100,149,130,160,142,155,142,181,114,98,100,150,127,162,151],\"xaxis\":\"x3\",\"y\":[130,150,136,150,130,160,100,120,150,140,150,120,130,140,120,120,110,125,120,130,124,160,120,120,160,125,136,94,140,130,130,132,120,132,128,140,130,128,170,140,130,135,150,122,120,126,122,110,110,150,125,120,140,155,120,134,120,160,130,130,140,120,112,100,110,160,110,130,132,142,180,140,138,120,120,135,130,140,110,140,140,140,125,140,110,140,132,110,120,110,160,118,156,126,123,140,125,110,130,140,155,152,95,112,120,113,115,148,120,122,130,158,120,100,120,160,120,130,140,120,136,130,136,150,140,150,102,160,140,140,110,110,94,100,96,120,105,130,160,110,140,120,110,142,122,130,125,180,140,120,135,135,130,95,100,130,133,122,125,130,120,180,130,108,140,160,145,124,130,160,150,140,150,139,140,123,140,130,108,140,138,110,120,120,135,130,114,158,150,110,130,180,100,150,130,120,145,120,104,130,136,132,110,122,134,145,130,140,132,112,130,100,110,180,128,125,160,128,152,115,130,150,145,130,132,130,150,140,120,140,127,130,137,135,145,130,120,126,141,140,130,130,130,130,145,114,130,115,144,134,170,120,140,120,110,112,120,110,125,160,110,115,180,120,130,140,128,140,130,130,140,120,160,135,138,130,110,132,178,120,150,130,112,130,140,160,170,120,124,160,110,133,120,110,130,150,140,144,130,120,128,124,140,120,139,0,130,190,120,130,144,140,120,130,128,110,115,140,131,120,100,125,160,128,138,125,130,133,95,130,130,135,118,140,140,115,140,140,120,160,120,140,140,130,160,130,140,160,192,160,155,120,101,160,200,140,120,120,140,135,120,122,125,130,160,140,120,160,140,112,124,115,130,130,130,150,125,120,170,120,145,160,136,128,120,138,128,120,125,130,170,110,145,95,125,120,150,120,130,140,140,132,160,136,105,150,108,140,139,152,150,138,105,143,105,130,115,130,160,152,130,117,170,112,110,110,140,155,120,106,134,120,130,130,120,144,140,125,120,145,140,150,170,122,102,120,130,170,150,115,130,130,154,141,132,142,115,120,130,120,130,120,135,100,140,130,95,178,138,112,134,120,165,140,115,180,150,144,104,141,160,120,138,137,130,200,160,137,120,108,150,140,120,110,130,150,144,140,136,130,146,120,80,135,112,125,125,124,122,125,122,105,131,110,146,120,150,152,110,142,126,150,145,120,120,172,140,120,140,120,106,105,120,134,128,143,133,138,132,110,139,120,110,140,110,120,140,130,110,178,150,138,140,122,140,120,130,140,112,130,132,115,140,112,160,120,120,150,137,130,130,130,130,100,140,130,110,138,122,136,140,174,130,130,138,150,120,120,100,132,145,155,160,139,120,118,108,120,118,130,160,124,140,140,140,160,160,160,142,140,124,160,116,135,110,140,120,118,146,160,130,120,125,120,110,130,124,100,110,142,138,126,160,130,120,125,135,120,150,150,140,130,132,156,148,160,134,142,124,115,145,200,140,142,120,133,100,124,120,170,130,120,128,135,130,131,130,150,140,112,138,135,150,158,120,110,180,120,150,120,128,154,120,115,134,120,150,104,180,150,138,154,150,108,130,150,134,160,136,108,115,118,132,125,140,120,136,120,110,160,105,132,172,135,128,125,129,138,120,130,118,145,120,112,130,106,152,150,185,130,130,95,140,118],\"yaxis\":\"y3\"},{\"marker\":{\"color\":[1,2,3,4,5,6,7,8,9,10,11,12,13,14,15,16,17,18,19,20,21,22,23,24,25,26,27,28,29,30,31,32,33,34,35,36,37,38,39,40,41,42,43,44,45,46,47,48,49,50,51,52,53,54,55,56,57,58,59,60,61,62,63,64,65,66,67,68,69,70,71,72,73,74,75,76,77,78,79,80,81,82,83,84,85,86,87,88,89,90,91,92,93,94,95,96,97,98,99,100,101,102,103,104,105,106,107,108,109,110,111,112,113,114,115,116,117,118,119,120,121,122,123,124,125,126,127,128,129,130,131,132,133,134,135,136,137,138,139,140,141,142,143,144,145,146,147,148,149,150,151,152,153,154,155,156,157,158,159,160,161,162,163,164,165,166,167,168,169,170,171,172,173,174,175,176,177,178,179,180,181,182,183,184,185,186,187,188,189,190,191,192,193,194,195,196,197,198,199,200,201,202,203,204,205,206,207,208,209,210,211,212,213,214,215,216,217,218,219,220,221,222,223,224,225,226,227,228,229,230,231,232,233,234,235,236,237,238,239,240,241,242,243,244,245,246,247,248,249,250,251,252,253,254,255,256,257,258,259,260,261,262,263,264,265,266,267,268,269,270,271,272,273,274,275,276,277,278,279,280,281,282,283,284,285,286,287,288,289,290,291,292,293,294,295,296,297,298,299,300,301,302,303,304,305,306,307,308,309,310,311,312,313,314,315,316,317,318,319,320,321,322,323,324,325,326,327,328,329,330,331,332,333,334,335,336,337,338,339,340,341,342,343,344,345,346,347,348,349,350,351,352,353,354,355,356,357,358,359,360,361,362,363,364,365,366,367,368,369,370,371,372,373,374,375,376,377,378,379,380,381,382,383,384,385,386,387,388,389,390,391,392,393,394,395,396,397,398,399,400,401,402,403,404,405,406,407,408,409,410,411,412,413,414,415,416,417,418,419,420,421,422,423,424,425,426,427,428,429,430,431,432,433,434,435,436,437,438,439,440,441,442,443,444,445,446,447,448,449,450,451,452,453,454,455,456,457,458,459,460,461,462,463,464,465,466,467,468,469,470,471,472,473,474,475,476,477,478,479,480,481,482,483,484,485,486,487,488,489,490,491,492,493,494,495,496,497,498,499,500,501,502,503,504,505,506,507,508,509,510,511,512,513,514,515,516,517,518,519,520,521,522,523,524,525,526,527,528,529,530,531,532,533,534,535,536,537,538,539,540,541,542,543,544,545,546,547,548,549,550,551,552,553,554,555,556,557,558,559,560,561,562,563,564,565,566,567,568,569,570,571,572,573,574,575,576,577,578,579,580,581,582,583,584,585,586,587,588,589,590,591,592,593,594,595,596,597,598,599,600,601,602,603,604,605,606,607,608,609,610,611,612,613,614,615,616,617,618,619,620,621,622,623,624,625,626,627,628,629,630,631,632,633,634,635,636,637,638,639,640,641,642,643,644,645,646,647,648,649,650,651,652,653,654,655,656,657,658,659,660,661,662,663,664,665,666,667,668,669,670,671,672,673,674,675,676,677,678,679,680,681,682,683,684,685,686,687,688,689,690,691,692,693,694,695,696,697,698,699,700,701,702,703,704,705,706,707,708,709,710,711,712,713,714,715,716,717,718,719,720,721,722,723,724,725,726,727,728,729,730,731,732,733,734],\"colorscale\":[[0.0,\"rgb(12, 51, 131)\"],[1.0,\"rgb(217, 30, 30)\"]],\"showscale\":false,\"size\":6},\"mode\":\"markers\",\"showlegend\":false,\"type\":\"scatter\",\"x\":[130,150,136,150,130,160,100,120,150,140,150,120,130,140,120,120,110,125,120,130,124,160,120,120,160,125,136,94,140,130,130,132,120,132,128,140,130,128,170,140,130,135,150,122,120,126,122,110,110,150,125,120,140,155,120,134,120,160,130,130,140,120,112,100,110,160,110,130,132,142,180,140,138,120,120,135,130,140,110,140,140,140,125,140,110,140,132,110,120,110,160,118,156,126,123,140,125,110,130,140,155,152,95,112,120,113,115,148,120,122,130,158,120,100,120,160,120,130,140,120,136,130,136,150,140,150,102,160,140,140,110,110,94,100,96,120,105,130,160,110,140,120,110,142,122,130,125,180,140,120,135,135,130,95,100,130,133,122,125,130,120,180,130,108,140,160,145,124,130,160,150,140,150,139,140,123,140,130,108,140,138,110,120,120,135,130,114,158,150,110,130,180,100,150,130,120,145,120,104,130,136,132,110,122,134,145,130,140,132,112,130,100,110,180,128,125,160,128,152,115,130,150,145,130,132,130,150,140,120,140,127,130,137,135,145,130,120,126,141,140,130,130,130,130,145,114,130,115,144,134,170,120,140,120,110,112,120,110,125,160,110,115,180,120,130,140,128,140,130,130,140,120,160,135,138,130,110,132,178,120,150,130,112,130,140,160,170,120,124,160,110,133,120,110,130,150,140,144,130,120,128,124,140,120,139,0,130,190,120,130,144,140,120,130,128,110,115,140,131,120,100,125,160,128,138,125,130,133,95,130,130,135,118,140,140,115,140,140,120,160,120,140,140,130,160,130,140,160,192,160,155,120,101,160,200,140,120,120,140,135,120,122,125,130,160,140,120,160,140,112,124,115,130,130,130,150,125,120,170,120,145,160,136,128,120,138,128,120,125,130,170,110,145,95,125,120,150,120,130,140,140,132,160,136,105,150,108,140,139,152,150,138,105,143,105,130,115,130,160,152,130,117,170,112,110,110,140,155,120,106,134,120,130,130,120,144,140,125,120,145,140,150,170,122,102,120,130,170,150,115,130,130,154,141,132,142,115,120,130,120,130,120,135,100,140,130,95,178,138,112,134,120,165,140,115,180,150,144,104,141,160,120,138,137,130,200,160,137,120,108,150,140,120,110,130,150,144,140,136,130,146,120,80,135,112,125,125,124,122,125,122,105,131,110,146,120,150,152,110,142,126,150,145,120,120,172,140,120,140,120,106,105,120,134,128,143,133,138,132,110,139,120,110,140,110,120,140,130,110,178,150,138,140,122,140,120,130,140,112,130,132,115,140,112,160,120,120,150,137,130,130,130,130,100,140,130,110,138,122,136,140,174,130,130,138,150,120,120,100,132,145,155,160,139,120,118,108,120,118,130,160,124,140,140,140,160,160,160,142,140,124,160,116,135,110,140,120,118,146,160,130,120,125,120,110,130,124,100,110,142,138,126,160,130,120,125,135,120,150,150,140,130,132,156,148,160,134,142,124,115,145,200,140,142,120,133,100,124,120,170,130,120,128,135,130,131,130,150,140,112,138,135,150,158,120,110,180,120,150,120,128,154,120,115,134,120,150,104,180,150,138,154,150,108,130,150,134,160,136,108,115,118,132,125,140,120,136,120,110,160,105,132,172,135,128,125,129,138,120,130,118,145,120,112,130,106,152,150,185,130,130,95,140,118],\"xaxis\":\"x4\",\"y\":[161,365,220,0,245,164,234,196,230,321,412,295,275,192,225,171,0,269,246,202,255,256,0,157,286,220,228,199,195,308,0,288,249,297,303,207,0,204,0,309,256,160,219,223,205,0,286,197,335,270,184,160,235,0,175,409,274,0,0,197,335,237,230,0,280,0,214,0,353,207,327,196,183,243,215,0,221,298,273,265,185,0,272,211,0,306,247,202,230,250,0,186,173,0,161,199,0,213,0,252,0,277,0,250,277,468,0,244,218,0,263,217,270,248,0,303,209,315,238,270,0,206,315,236,224,0,318,305,167,197,249,275,227,246,305,275,0,172,0,229,185,0,0,228,275,0,245,280,0,244,0,254,253,0,299,224,0,216,258,0,302,347,236,309,110,360,0,160,222,292,0,297,407,170,226,282,234,213,141,187,271,167,201,258,222,180,318,210,171,172,186,393,223,195,256,210,0,193,113,330,248,0,239,192,310,0,603,0,342,342,256,159,235,295,259,0,211,308,274,0,236,186,248,307,227,305,255,254,211,239,333,225,208,0,307,233,0,306,316,0,215,254,0,0,264,258,214,564,221,271,227,284,281,0,289,149,231,201,254,193,214,0,285,220,253,311,205,216,234,126,299,0,147,204,282,250,0,184,0,166,126,204,290,341,308,312,237,217,209,0,0,218,188,248,242,232,221,193,235,260,208,201,129,254,217,0,173,241,281,281,0,271,228,275,263,197,0,207,0,221,0,0,228,229,175,273,0,203,0,237,206,252,240,166,260,0,233,268,291,0,178,404,320,209,355,219,0,234,283,201,310,198,197,310,0,237,267,298,289,139,229,222,213,266,147,235,240,194,259,261,274,260,294,238,283,160,0,246,288,246,282,263,203,0,177,243,212,226,254,283,177,208,289,0,292,0,392,226,179,0,139,272,331,196,198,235,267,294,181,0,243,274,240,211,204,188,0,197,0,153,262,230,209,160,277,196,287,175,0,240,0,220,322,219,0,270,266,300,279,0,0,243,388,233,265,256,251,225,288,303,303,311,0,292,218,216,0,0,167,340,264,282,192,219,295,207,0,228,294,258,234,267,289,193,0,325,0,312,208,244,0,339,234,282,269,288,254,232,219,163,247,275,254,236,194,193,200,0,245,186,218,0,0,250,340,0,224,171,213,216,320,0,152,344,369,295,214,298,0,200,218,258,216,249,236,260,216,295,272,0,263,0,220,204,255,306,0,236,341,211,277,204,0,214,289,85,169,233,198,270,160,204,0,264,225,169,0,417,212,0,182,0,288,204,123,240,273,163,339,223,132,258,338,0,257,276,239,0,0,319,394,249,207,182,0,168,223,263,213,207,292,269,0,283,284,210,243,215,219,215,246,260,313,0,217,291,180,267,226,241,224,230,0,491,175,156,297,182,241,0,209,0,304,0,211,394,261,0,238,210,257,0,246,0,200,0,0,466,223,195,358,211,220,245,203,268,273,177,266,265,174,0,239,270,354,185,248,197,0,263,330,336,0,203,294,142,318,213,284,230,166,234,268,170,282,254,274,238,212,214,216,0,266,211,240,269,0,0,213,200,214,232,283,269,275,247,201,193,225,233,0,529,224,249,274,220,195,237,0,0,0,218,199,248,0,0,196,220,246,290,242,518,291,250,253,223,223,225,0,184,245,0,177,277],\"yaxis\":\"y4\"},{\"marker\":{\"color\":\"rgb(12, 51, 131)\"},\"showlegend\":false,\"type\":\"box\",\"xaxis\":\"x5\",\"y\":[161,365,220,0,245,164,234,196,230,321,412,295,275,192,225,171,0,269,246,202,255,256,0,157,286,220,228,199,195,308,0,288,249,297,303,207,0,204,0,309,256,160,219,223,205,0,286,197,335,270,184,160,235,0,175,409,274,0,0,197,335,237,230,0,280,0,214,0,353,207,327,196,183,243,215,0,221,298,273,265,185,0,272,211,0,306,247,202,230,250,0,186,173,0,161,199,0,213,0,252,0,277,0,250,277,468,0,244,218,0,263,217,270,248,0,303,209,315,238,270,0,206,315,236,224,0,318,305,167,197,249,275,227,246,305,275,0,172,0,229,185,0,0,228,275,0,245,280,0,244,0,254,253,0,299,224,0,216,258,0,302,347,236,309,110,360,0,160,222,292,0,297,407,170,226,282,234,213,141,187,271,167,201,258,222,180,318,210,171,172,186,393,223,195,256,210,0,193,113,330,248,0,239,192,310,0,603,0,342,342,256,159,235,295,259,0,211,308,274,0,236,186,248,307,227,305,255,254,211,239,333,225,208,0,307,233,0,306,316,0,215,254,0,0,264,258,214,564,221,271,227,284,281,0,289,149,231,201,254,193,214,0,285,220,253,311,205,216,234,126,299,0,147,204,282,250,0,184,0,166,126,204,290,341,308,312,237,217,209,0,0,218,188,248,242,232,221,193,235,260,208,201,129,254,217,0,173,241,281,281,0,271,228,275,263,197,0,207,0,221,0,0,228,229,175,273,0,203,0,237,206,252,240,166,260,0,233,268,291,0,178,404,320,209,355,219,0,234,283,201,310,198,197,310,0,237,267,298,289,139,229,222,213,266,147,235,240,194,259,261,274,260,294,238,283,160,0,246,288,246,282,263,203,0,177,243,212,226,254,283,177,208,289,0,292,0,392,226,179,0,139,272,331,196,198,235,267,294,181,0,243,274,240,211,204,188,0,197,0,153,262,230,209,160,277,196,287,175,0,240,0,220,322,219,0,270,266,300,279,0,0,243,388,233,265,256,251,225,288,303,303,311,0,292,218,216,0,0,167,340,264,282,192,219,295,207,0,228,294,258,234,267,289,193,0,325,0,312,208,244,0,339,234,282,269,288,254,232,219,163,247,275,254,236,194,193,200,0,245,186,218,0,0,250,340,0,224,171,213,216,320,0,152,344,369,295,214,298,0,200,218,258,216,249,236,260,216,295,272,0,263,0,220,204,255,306,0,236,341,211,277,204,0,214,289,85,169,233,198,270,160,204,0,264,225,169,0,417,212,0,182,0,288,204,123,240,273,163,339,223,132,258,338,0,257,276,239,0,0,319,394,249,207,182,0,168,223,263,213,207,292,269,0,283,284,210,243,215,219,215,246,260,313,0,217,291,180,267,226,241,224,230,0,491,175,156,297,182,241,0,209,0,304,0,211,394,261,0,238,210,257,0,246,0,200,0,0,466,223,195,358,211,220,245,203,268,273,177,266,265,174,0,239,270,354,185,248,197,0,263,330,336,0,203,294,142,318,213,284,230,166,234,268,170,282,254,274,238,212,214,216,0,266,211,240,269,0,0,213,200,214,232,283,269,275,247,201,193,225,233,0,529,224,249,274,220,195,237,0,0,0,218,199,248,0,0,196,220,246,290,242,518,291,250,253,223,223,225,0,184,245,0,177,277],\"yaxis\":\"y5\"},{\"marker\":{\"color\":[1,2,3,4,5,6,7,8,9,10,11,12,13,14,15,16,17,18,19,20,21,22,23,24,25,26,27,28,29,30,31,32,33,34,35,36,37,38,39,40,41,42,43,44,45,46,47,48,49,50,51,52,53,54,55,56,57,58,59,60,61,62,63,64,65,66,67,68,69,70,71,72,73,74,75,76,77,78,79,80,81,82,83,84,85,86,87,88,89,90,91,92,93,94,95,96,97,98,99,100,101,102,103,104,105,106,107,108,109,110,111,112,113,114,115,116,117,118,119,120,121,122,123,124,125,126,127,128,129,130,131,132,133,134,135,136,137,138,139,140,141,142,143,144,145,146,147,148,149,150,151,152,153,154,155,156,157,158,159,160,161,162,163,164,165,166,167,168,169,170,171,172,173,174,175,176,177,178,179,180,181,182,183,184,185,186,187,188,189,190,191,192,193,194,195,196,197,198,199,200,201,202,203,204,205,206,207,208,209,210,211,212,213,214,215,216,217,218,219,220,221,222,223,224,225,226,227,228,229,230,231,232,233,234,235,236,237,238,239,240,241,242,243,244,245,246,247,248,249,250,251,252,253,254,255,256,257,258,259,260,261,262,263,264,265,266,267,268,269,270,271,272,273,274,275,276,277,278,279,280,281,282,283,284,285,286,287,288,289,290,291,292,293,294,295,296,297,298,299,300,301,302,303,304,305,306,307,308,309,310,311,312,313,314,315,316,317,318,319,320,321,322,323,324,325,326,327,328,329,330,331,332,333,334,335,336,337,338,339,340,341,342,343,344,345,346,347,348,349,350,351,352,353,354,355,356,357,358,359,360,361,362,363,364,365,366,367,368,369,370,371,372,373,374,375,376,377,378,379,380,381,382,383,384,385,386,387,388,389,390,391,392,393,394,395,396,397,398,399,400,401,402,403,404,405,406,407,408,409,410,411,412,413,414,415,416,417,418,419,420,421,422,423,424,425,426,427,428,429,430,431,432,433,434,435,436,437,438,439,440,441,442,443,444,445,446,447,448,449,450,451,452,453,454,455,456,457,458,459,460,461,462,463,464,465,466,467,468,469,470,471,472,473,474,475,476,477,478,479,480,481,482,483,484,485,486,487,488,489,490,491,492,493,494,495,496,497,498,499,500,501,502,503,504,505,506,507,508,509,510,511,512,513,514,515,516,517,518,519,520,521,522,523,524,525,526,527,528,529,530,531,532,533,534,535,536,537,538,539,540,541,542,543,544,545,546,547,548,549,550,551,552,553,554,555,556,557,558,559,560,561,562,563,564,565,566,567,568,569,570,571,572,573,574,575,576,577,578,579,580,581,582,583,584,585,586,587,588,589,590,591,592,593,594,595,596,597,598,599,600,601,602,603,604,605,606,607,608,609,610,611,612,613,614,615,616,617,618,619,620,621,622,623,624,625,626,627,628,629,630,631,632,633,634,635,636,637,638,639,640,641,642,643,644,645,646,647,648,649,650,651,652,653,654,655,656,657,658,659,660,661,662,663,664,665,666,667,668,669,670,671,672,673,674,675,676,677,678,679,680,681,682,683,684,685,686,687,688,689,690,691,692,693,694,695,696,697,698,699,700,701,702,703,704,705,706,707,708,709,710,711,712,713,714,715,716,717,718,719,720,721,722,723,724,725,726,727,728,729,730,731,732,733,734],\"colorscale\":[[0.0,\"rgb(12, 51, 131)\"],[1.0,\"rgb(217, 30, 30)\"]],\"showscale\":false,\"size\":6},\"mode\":\"markers\",\"showlegend\":false,\"type\":\"scatter\",\"x\":[190,134,140,86,160,145,156,150,124,182,170,170,115,148,140,137,114,144,110,112,175,113,148,182,108,144,124,179,179,98,120,159,176,144,159,130,117,156,123,140,142,150,118,100,98,106,116,100,143,111,180,185,188,90,120,150,130,121,110,152,158,138,165,133,150,145,180,135,132,138,117,150,182,160,170,115,163,122,132,145,130,157,139,165,92,87,143,145,150,142,98,190,119,110,153,178,103,99,122,135,118,172,145,179,125,127,143,178,115,110,140,110,140,122,125,150,173,162,118,153,84,132,125,105,122,120,160,175,150,116,150,118,154,150,121,129,115,130,124,168,155,127,108,149,150,130,166,120,100,162,150,127,179,82,125,150,119,84,141,111,151,126,144,156,109,151,125,117,112,143,105,150,154,120,178,95,140,140,175,172,182,114,165,147,100,140,140,112,128,158,140,110,142,132,150,148,99,162,120,169,140,130,142,174,126,139,125,140,166,96,149,100,153,180,130,119,92,170,88,138,174,154,96,140,138,142,92,146,115,151,154,120,122,63,146,121,134,163,122,149,135,147,145,160,150,96,168,160,108,162,155,118,118,106,170,125,182,126,163,102,158,92,120,134,144,120,184,170,175,125,173,104,146,126,174,187,149,105,120,180,173,202,153,120,142,130,170,137,163,72,125,128,139,158,91,165,164,141,145,115,140,164,135,93,128,155,184,106,103,167,122,152,152,150,105,177,128,138,128,138,109,120,138,150,173,152,100,137,182,170,170,172,165,118,140,72,163,128,155,149,96,124,162,178,99,164,118,131,195,163,112,130,156,112,70,94,160,185,172,137,129,186,125,171,160,180,169,170,170,140,166,185,120,90,103,150,165,135,159,116,142,174,123,148,148,152,96,127,155,98,84,160,110,126,115,97,130,169,100,83,94,139,94,169,168,120,167,153,135,118,128,105,154,109,172,124,155,131,122,97,155,160,116,138,160,166,150,160,155,80,86,170,109,188,141,160,134,171,150,67,60,137,122,117,122,137,110,146,150,181,122,148,140,115,140,110,120,150,114,172,143,135,110,150,136,135,144,165,106,150,145,99,124,145,128,154,154,113,148,116,99,170,160,126,163,133,108,124,158,175,171,165,110,125,150,135,126,120,131,140,105,120,141,161,184,176,122,110,165,140,155,148,130,160,110,157,168,178,120,100,134,157,116,144,178,73,142,162,175,156,110,110,86,162,161,115,120,152,136,161,118,145,94,144,105,140,140,179,110,145,172,122,121,100,140,144,120,157,132,77,141,154,140,143,130,194,150,116,127,128,185,130,130,179,135,128,126,130,120,152,157,143,96,148,116,174,168,173,110,168,130,148,110,135,160,192,152,175,140,120,82,112,133,143,111,158,156,157,111,123,161,105,124,135,123,180,132,174,148,122,127,115,162,92,144,150,141,122,140,112,156,120,120,170,160,110,130,152,115,122,170,142,162,143,161,103,102,160,109,175,125,140,160,125,163,136,125,136,123,112,132,118,180,132,100,127,120,125,123,160,125,161,136,138,170,159,150,154,157,102,131,131,118,137,160,121,108,111,100,120,108,164,162,169,139,130,158,116,112,147,93,130,173,144,154,86,126,150,156,114,128,139,162,170,125,105,163,152,96,100,149,130,160,142,155,142,181,114,98,100,150,127,162,151],\"xaxis\":\"x6\",\"y\":[161,365,220,0,245,164,234,196,230,321,412,295,275,192,225,171,0,269,246,202,255,256,0,157,286,220,228,199,195,308,0,288,249,297,303,207,0,204,0,309,256,160,219,223,205,0,286,197,335,270,184,160,235,0,175,409,274,0,0,197,335,237,230,0,280,0,214,0,353,207,327,196,183,243,215,0,221,298,273,265,185,0,272,211,0,306,247,202,230,250,0,186,173,0,161,199,0,213,0,252,0,277,0,250,277,468,0,244,218,0,263,217,270,248,0,303,209,315,238,270,0,206,315,236,224,0,318,305,167,197,249,275,227,246,305,275,0,172,0,229,185,0,0,228,275,0,245,280,0,244,0,254,253,0,299,224,0,216,258,0,302,347,236,309,110,360,0,160,222,292,0,297,407,170,226,282,234,213,141,187,271,167,201,258,222,180,318,210,171,172,186,393,223,195,256,210,0,193,113,330,248,0,239,192,310,0,603,0,342,342,256,159,235,295,259,0,211,308,274,0,236,186,248,307,227,305,255,254,211,239,333,225,208,0,307,233,0,306,316,0,215,254,0,0,264,258,214,564,221,271,227,284,281,0,289,149,231,201,254,193,214,0,285,220,253,311,205,216,234,126,299,0,147,204,282,250,0,184,0,166,126,204,290,341,308,312,237,217,209,0,0,218,188,248,242,232,221,193,235,260,208,201,129,254,217,0,173,241,281,281,0,271,228,275,263,197,0,207,0,221,0,0,228,229,175,273,0,203,0,237,206,252,240,166,260,0,233,268,291,0,178,404,320,209,355,219,0,234,283,201,310,198,197,310,0,237,267,298,289,139,229,222,213,266,147,235,240,194,259,261,274,260,294,238,283,160,0,246,288,246,282,263,203,0,177,243,212,226,254,283,177,208,289,0,292,0,392,226,179,0,139,272,331,196,198,235,267,294,181,0,243,274,240,211,204,188,0,197,0,153,262,230,209,160,277,196,287,175,0,240,0,220,322,219,0,270,266,300,279,0,0,243,388,233,265,256,251,225,288,303,303,311,0,292,218,216,0,0,167,340,264,282,192,219,295,207,0,228,294,258,234,267,289,193,0,325,0,312,208,244,0,339,234,282,269,288,254,232,219,163,247,275,254,236,194,193,200,0,245,186,218,0,0,250,340,0,224,171,213,216,320,0,152,344,369,295,214,298,0,200,218,258,216,249,236,260,216,295,272,0,263,0,220,204,255,306,0,236,341,211,277,204,0,214,289,85,169,233,198,270,160,204,0,264,225,169,0,417,212,0,182,0,288,204,123,240,273,163,339,223,132,258,338,0,257,276,239,0,0,319,394,249,207,182,0,168,223,263,213,207,292,269,0,283,284,210,243,215,219,215,246,260,313,0,217,291,180,267,226,241,224,230,0,491,175,156,297,182,241,0,209,0,304,0,211,394,261,0,238,210,257,0,246,0,200,0,0,466,223,195,358,211,220,245,203,268,273,177,266,265,174,0,239,270,354,185,248,197,0,263,330,336,0,203,294,142,318,213,284,230,166,234,268,170,282,254,274,238,212,214,216,0,266,211,240,269,0,0,213,200,214,232,283,269,275,247,201,193,225,233,0,529,224,249,274,220,195,237,0,0,0,218,199,248,0,0,196,220,246,290,242,518,291,250,253,223,223,225,0,184,245,0,177,277],\"yaxis\":\"y6\"},{\"marker\":{\"color\":[1,2,3,4,5,6,7,8,9,10,11,12,13,14,15,16,17,18,19,20,21,22,23,24,25,26,27,28,29,30,31,32,33,34,35,36,37,38,39,40,41,42,43,44,45,46,47,48,49,50,51,52,53,54,55,56,57,58,59,60,61,62,63,64,65,66,67,68,69,70,71,72,73,74,75,76,77,78,79,80,81,82,83,84,85,86,87,88,89,90,91,92,93,94,95,96,97,98,99,100,101,102,103,104,105,106,107,108,109,110,111,112,113,114,115,116,117,118,119,120,121,122,123,124,125,126,127,128,129,130,131,132,133,134,135,136,137,138,139,140,141,142,143,144,145,146,147,148,149,150,151,152,153,154,155,156,157,158,159,160,161,162,163,164,165,166,167,168,169,170,171,172,173,174,175,176,177,178,179,180,181,182,183,184,185,186,187,188,189,190,191,192,193,194,195,196,197,198,199,200,201,202,203,204,205,206,207,208,209,210,211,212,213,214,215,216,217,218,219,220,221,222,223,224,225,226,227,228,229,230,231,232,233,234,235,236,237,238,239,240,241,242,243,244,245,246,247,248,249,250,251,252,253,254,255,256,257,258,259,260,261,262,263,264,265,266,267,268,269,270,271,272,273,274,275,276,277,278,279,280,281,282,283,284,285,286,287,288,289,290,291,292,293,294,295,296,297,298,299,300,301,302,303,304,305,306,307,308,309,310,311,312,313,314,315,316,317,318,319,320,321,322,323,324,325,326,327,328,329,330,331,332,333,334,335,336,337,338,339,340,341,342,343,344,345,346,347,348,349,350,351,352,353,354,355,356,357,358,359,360,361,362,363,364,365,366,367,368,369,370,371,372,373,374,375,376,377,378,379,380,381,382,383,384,385,386,387,388,389,390,391,392,393,394,395,396,397,398,399,400,401,402,403,404,405,406,407,408,409,410,411,412,413,414,415,416,417,418,419,420,421,422,423,424,425,426,427,428,429,430,431,432,433,434,435,436,437,438,439,440,441,442,443,444,445,446,447,448,449,450,451,452,453,454,455,456,457,458,459,460,461,462,463,464,465,466,467,468,469,470,471,472,473,474,475,476,477,478,479,480,481,482,483,484,485,486,487,488,489,490,491,492,493,494,495,496,497,498,499,500,501,502,503,504,505,506,507,508,509,510,511,512,513,514,515,516,517,518,519,520,521,522,523,524,525,526,527,528,529,530,531,532,533,534,535,536,537,538,539,540,541,542,543,544,545,546,547,548,549,550,551,552,553,554,555,556,557,558,559,560,561,562,563,564,565,566,567,568,569,570,571,572,573,574,575,576,577,578,579,580,581,582,583,584,585,586,587,588,589,590,591,592,593,594,595,596,597,598,599,600,601,602,603,604,605,606,607,608,609,610,611,612,613,614,615,616,617,618,619,620,621,622,623,624,625,626,627,628,629,630,631,632,633,634,635,636,637,638,639,640,641,642,643,644,645,646,647,648,649,650,651,652,653,654,655,656,657,658,659,660,661,662,663,664,665,666,667,668,669,670,671,672,673,674,675,676,677,678,679,680,681,682,683,684,685,686,687,688,689,690,691,692,693,694,695,696,697,698,699,700,701,702,703,704,705,706,707,708,709,710,711,712,713,714,715,716,717,718,719,720,721,722,723,724,725,726,727,728,729,730,731,732,733,734],\"colorscale\":[[0.0,\"rgb(12, 51, 131)\"],[1.0,\"rgb(217, 30, 30)\"]],\"showscale\":false,\"size\":6},\"mode\":\"markers\",\"showlegend\":false,\"type\":\"scatter\",\"x\":[130,150,136,150,130,160,100,120,150,140,150,120,130,140,120,120,110,125,120,130,124,160,120,120,160,125,136,94,140,130,130,132,120,132,128,140,130,128,170,140,130,135,150,122,120,126,122,110,110,150,125,120,140,155,120,134,120,160,130,130,140,120,112,100,110,160,110,130,132,142,180,140,138,120,120,135,130,140,110,140,140,140,125,140,110,140,132,110,120,110,160,118,156,126,123,140,125,110,130,140,155,152,95,112,120,113,115,148,120,122,130,158,120,100,120,160,120,130,140,120,136,130,136,150,140,150,102,160,140,140,110,110,94,100,96,120,105,130,160,110,140,120,110,142,122,130,125,180,140,120,135,135,130,95,100,130,133,122,125,130,120,180,130,108,140,160,145,124,130,160,150,140,150,139,140,123,140,130,108,140,138,110,120,120,135,130,114,158,150,110,130,180,100,150,130,120,145,120,104,130,136,132,110,122,134,145,130,140,132,112,130,100,110,180,128,125,160,128,152,115,130,150,145,130,132,130,150,140,120,140,127,130,137,135,145,130,120,126,141,140,130,130,130,130,145,114,130,115,144,134,170,120,140,120,110,112,120,110,125,160,110,115,180,120,130,140,128,140,130,130,140,120,160,135,138,130,110,132,178,120,150,130,112,130,140,160,170,120,124,160,110,133,120,110,130,150,140,144,130,120,128,124,140,120,139,0,130,190,120,130,144,140,120,130,128,110,115,140,131,120,100,125,160,128,138,125,130,133,95,130,130,135,118,140,140,115,140,140,120,160,120,140,140,130,160,130,140,160,192,160,155,120,101,160,200,140,120,120,140,135,120,122,125,130,160,140,120,160,140,112,124,115,130,130,130,150,125,120,170,120,145,160,136,128,120,138,128,120,125,130,170,110,145,95,125,120,150,120,130,140,140,132,160,136,105,150,108,140,139,152,150,138,105,143,105,130,115,130,160,152,130,117,170,112,110,110,140,155,120,106,134,120,130,130,120,144,140,125,120,145,140,150,170,122,102,120,130,170,150,115,130,130,154,141,132,142,115,120,130,120,130,120,135,100,140,130,95,178,138,112,134,120,165,140,115,180,150,144,104,141,160,120,138,137,130,200,160,137,120,108,150,140,120,110,130,150,144,140,136,130,146,120,80,135,112,125,125,124,122,125,122,105,131,110,146,120,150,152,110,142,126,150,145,120,120,172,140,120,140,120,106,105,120,134,128,143,133,138,132,110,139,120,110,140,110,120,140,130,110,178,150,138,140,122,140,120,130,140,112,130,132,115,140,112,160,120,120,150,137,130,130,130,130,100,140,130,110,138,122,136,140,174,130,130,138,150,120,120,100,132,145,155,160,139,120,118,108,120,118,130,160,124,140,140,140,160,160,160,142,140,124,160,116,135,110,140,120,118,146,160,130,120,125,120,110,130,124,100,110,142,138,126,160,130,120,125,135,120,150,150,140,130,132,156,148,160,134,142,124,115,145,200,140,142,120,133,100,124,120,170,130,120,128,135,130,131,130,150,140,112,138,135,150,158,120,110,180,120,150,120,128,154,120,115,134,120,150,104,180,150,138,154,150,108,130,150,134,160,136,108,115,118,132,125,140,120,136,120,110,160,105,132,172,135,128,125,129,138,120,130,118,145,120,112,130,106,152,150,185,130,130,95,140,118],\"xaxis\":\"x7\",\"y\":[190,134,140,86,160,145,156,150,124,182,170,170,115,148,140,137,114,144,110,112,175,113,148,182,108,144,124,179,179,98,120,159,176,144,159,130,117,156,123,140,142,150,118,100,98,106,116,100,143,111,180,185,188,90,120,150,130,121,110,152,158,138,165,133,150,145,180,135,132,138,117,150,182,160,170,115,163,122,132,145,130,157,139,165,92,87,143,145,150,142,98,190,119,110,153,178,103,99,122,135,118,172,145,179,125,127,143,178,115,110,140,110,140,122,125,150,173,162,118,153,84,132,125,105,122,120,160,175,150,116,150,118,154,150,121,129,115,130,124,168,155,127,108,149,150,130,166,120,100,162,150,127,179,82,125,150,119,84,141,111,151,126,144,156,109,151,125,117,112,143,105,150,154,120,178,95,140,140,175,172,182,114,165,147,100,140,140,112,128,158,140,110,142,132,150,148,99,162,120,169,140,130,142,174,126,139,125,140,166,96,149,100,153,180,130,119,92,170,88,138,174,154,96,140,138,142,92,146,115,151,154,120,122,63,146,121,134,163,122,149,135,147,145,160,150,96,168,160,108,162,155,118,118,106,170,125,182,126,163,102,158,92,120,134,144,120,184,170,175,125,173,104,146,126,174,187,149,105,120,180,173,202,153,120,142,130,170,137,163,72,125,128,139,158,91,165,164,141,145,115,140,164,135,93,128,155,184,106,103,167,122,152,152,150,105,177,128,138,128,138,109,120,138,150,173,152,100,137,182,170,170,172,165,118,140,72,163,128,155,149,96,124,162,178,99,164,118,131,195,163,112,130,156,112,70,94,160,185,172,137,129,186,125,171,160,180,169,170,170,140,166,185,120,90,103,150,165,135,159,116,142,174,123,148,148,152,96,127,155,98,84,160,110,126,115,97,130,169,100,83,94,139,94,169,168,120,167,153,135,118,128,105,154,109,172,124,155,131,122,97,155,160,116,138,160,166,150,160,155,80,86,170,109,188,141,160,134,171,150,67,60,137,122,117,122,137,110,146,150,181,122,148,140,115,140,110,120,150,114,172,143,135,110,150,136,135,144,165,106,150,145,99,124,145,128,154,154,113,148,116,99,170,160,126,163,133,108,124,158,175,171,165,110,125,150,135,126,120,131,140,105,120,141,161,184,176,122,110,165,140,155,148,130,160,110,157,168,178,120,100,134,157,116,144,178,73,142,162,175,156,110,110,86,162,161,115,120,152,136,161,118,145,94,144,105,140,140,179,110,145,172,122,121,100,140,144,120,157,132,77,141,154,140,143,130,194,150,116,127,128,185,130,130,179,135,128,126,130,120,152,157,143,96,148,116,174,168,173,110,168,130,148,110,135,160,192,152,175,140,120,82,112,133,143,111,158,156,157,111,123,161,105,124,135,123,180,132,174,148,122,127,115,162,92,144,150,141,122,140,112,156,120,120,170,160,110,130,152,115,122,170,142,162,143,161,103,102,160,109,175,125,140,160,125,163,136,125,136,123,112,132,118,180,132,100,127,120,125,123,160,125,161,136,138,170,159,150,154,157,102,131,131,118,137,160,121,108,111,100,120,108,164,162,169,139,130,158,116,112,147,93,130,173,144,154,86,126,150,156,114,128,139,162,170,125,105,163,152,96,100,149,130,160,142,155,142,181,114,98,100,150,127,162,151],\"yaxis\":\"y7\"},{\"marker\":{\"color\":[1,2,3,4,5,6,7,8,9,10,11,12,13,14,15,16,17,18,19,20,21,22,23,24,25,26,27,28,29,30,31,32,33,34,35,36,37,38,39,40,41,42,43,44,45,46,47,48,49,50,51,52,53,54,55,56,57,58,59,60,61,62,63,64,65,66,67,68,69,70,71,72,73,74,75,76,77,78,79,80,81,82,83,84,85,86,87,88,89,90,91,92,93,94,95,96,97,98,99,100,101,102,103,104,105,106,107,108,109,110,111,112,113,114,115,116,117,118,119,120,121,122,123,124,125,126,127,128,129,130,131,132,133,134,135,136,137,138,139,140,141,142,143,144,145,146,147,148,149,150,151,152,153,154,155,156,157,158,159,160,161,162,163,164,165,166,167,168,169,170,171,172,173,174,175,176,177,178,179,180,181,182,183,184,185,186,187,188,189,190,191,192,193,194,195,196,197,198,199,200,201,202,203,204,205,206,207,208,209,210,211,212,213,214,215,216,217,218,219,220,221,222,223,224,225,226,227,228,229,230,231,232,233,234,235,236,237,238,239,240,241,242,243,244,245,246,247,248,249,250,251,252,253,254,255,256,257,258,259,260,261,262,263,264,265,266,267,268,269,270,271,272,273,274,275,276,277,278,279,280,281,282,283,284,285,286,287,288,289,290,291,292,293,294,295,296,297,298,299,300,301,302,303,304,305,306,307,308,309,310,311,312,313,314,315,316,317,318,319,320,321,322,323,324,325,326,327,328,329,330,331,332,333,334,335,336,337,338,339,340,341,342,343,344,345,346,347,348,349,350,351,352,353,354,355,356,357,358,359,360,361,362,363,364,365,366,367,368,369,370,371,372,373,374,375,376,377,378,379,380,381,382,383,384,385,386,387,388,389,390,391,392,393,394,395,396,397,398,399,400,401,402,403,404,405,406,407,408,409,410,411,412,413,414,415,416,417,418,419,420,421,422,423,424,425,426,427,428,429,430,431,432,433,434,435,436,437,438,439,440,441,442,443,444,445,446,447,448,449,450,451,452,453,454,455,456,457,458,459,460,461,462,463,464,465,466,467,468,469,470,471,472,473,474,475,476,477,478,479,480,481,482,483,484,485,486,487,488,489,490,491,492,493,494,495,496,497,498,499,500,501,502,503,504,505,506,507,508,509,510,511,512,513,514,515,516,517,518,519,520,521,522,523,524,525,526,527,528,529,530,531,532,533,534,535,536,537,538,539,540,541,542,543,544,545,546,547,548,549,550,551,552,553,554,555,556,557,558,559,560,561,562,563,564,565,566,567,568,569,570,571,572,573,574,575,576,577,578,579,580,581,582,583,584,585,586,587,588,589,590,591,592,593,594,595,596,597,598,599,600,601,602,603,604,605,606,607,608,609,610,611,612,613,614,615,616,617,618,619,620,621,622,623,624,625,626,627,628,629,630,631,632,633,634,635,636,637,638,639,640,641,642,643,644,645,646,647,648,649,650,651,652,653,654,655,656,657,658,659,660,661,662,663,664,665,666,667,668,669,670,671,672,673,674,675,676,677,678,679,680,681,682,683,684,685,686,687,688,689,690,691,692,693,694,695,696,697,698,699,700,701,702,703,704,705,706,707,708,709,710,711,712,713,714,715,716,717,718,719,720,721,722,723,724,725,726,727,728,729,730,731,732,733,734],\"colorscale\":[[0.0,\"rgb(12, 51, 131)\"],[1.0,\"rgb(217, 30, 30)\"]],\"showscale\":false,\"size\":6},\"mode\":\"markers\",\"showlegend\":false,\"type\":\"scatter\",\"x\":[161,365,220,0,245,164,234,196,230,321,412,295,275,192,225,171,0,269,246,202,255,256,0,157,286,220,228,199,195,308,0,288,249,297,303,207,0,204,0,309,256,160,219,223,205,0,286,197,335,270,184,160,235,0,175,409,274,0,0,197,335,237,230,0,280,0,214,0,353,207,327,196,183,243,215,0,221,298,273,265,185,0,272,211,0,306,247,202,230,250,0,186,173,0,161,199,0,213,0,252,0,277,0,250,277,468,0,244,218,0,263,217,270,248,0,303,209,315,238,270,0,206,315,236,224,0,318,305,167,197,249,275,227,246,305,275,0,172,0,229,185,0,0,228,275,0,245,280,0,244,0,254,253,0,299,224,0,216,258,0,302,347,236,309,110,360,0,160,222,292,0,297,407,170,226,282,234,213,141,187,271,167,201,258,222,180,318,210,171,172,186,393,223,195,256,210,0,193,113,330,248,0,239,192,310,0,603,0,342,342,256,159,235,295,259,0,211,308,274,0,236,186,248,307,227,305,255,254,211,239,333,225,208,0,307,233,0,306,316,0,215,254,0,0,264,258,214,564,221,271,227,284,281,0,289,149,231,201,254,193,214,0,285,220,253,311,205,216,234,126,299,0,147,204,282,250,0,184,0,166,126,204,290,341,308,312,237,217,209,0,0,218,188,248,242,232,221,193,235,260,208,201,129,254,217,0,173,241,281,281,0,271,228,275,263,197,0,207,0,221,0,0,228,229,175,273,0,203,0,237,206,252,240,166,260,0,233,268,291,0,178,404,320,209,355,219,0,234,283,201,310,198,197,310,0,237,267,298,289,139,229,222,213,266,147,235,240,194,259,261,274,260,294,238,283,160,0,246,288,246,282,263,203,0,177,243,212,226,254,283,177,208,289,0,292,0,392,226,179,0,139,272,331,196,198,235,267,294,181,0,243,274,240,211,204,188,0,197,0,153,262,230,209,160,277,196,287,175,0,240,0,220,322,219,0,270,266,300,279,0,0,243,388,233,265,256,251,225,288,303,303,311,0,292,218,216,0,0,167,340,264,282,192,219,295,207,0,228,294,258,234,267,289,193,0,325,0,312,208,244,0,339,234,282,269,288,254,232,219,163,247,275,254,236,194,193,200,0,245,186,218,0,0,250,340,0,224,171,213,216,320,0,152,344,369,295,214,298,0,200,218,258,216,249,236,260,216,295,272,0,263,0,220,204,255,306,0,236,341,211,277,204,0,214,289,85,169,233,198,270,160,204,0,264,225,169,0,417,212,0,182,0,288,204,123,240,273,163,339,223,132,258,338,0,257,276,239,0,0,319,394,249,207,182,0,168,223,263,213,207,292,269,0,283,284,210,243,215,219,215,246,260,313,0,217,291,180,267,226,241,224,230,0,491,175,156,297,182,241,0,209,0,304,0,211,394,261,0,238,210,257,0,246,0,200,0,0,466,223,195,358,211,220,245,203,268,273,177,266,265,174,0,239,270,354,185,248,197,0,263,330,336,0,203,294,142,318,213,284,230,166,234,268,170,282,254,274,238,212,214,216,0,266,211,240,269,0,0,213,200,214,232,283,269,275,247,201,193,225,233,0,529,224,249,274,220,195,237,0,0,0,218,199,248,0,0,196,220,246,290,242,518,291,250,253,223,223,225,0,184,245,0,177,277],\"xaxis\":\"x8\",\"y\":[190,134,140,86,160,145,156,150,124,182,170,170,115,148,140,137,114,144,110,112,175,113,148,182,108,144,124,179,179,98,120,159,176,144,159,130,117,156,123,140,142,150,118,100,98,106,116,100,143,111,180,185,188,90,120,150,130,121,110,152,158,138,165,133,150,145,180,135,132,138,117,150,182,160,170,115,163,122,132,145,130,157,139,165,92,87,143,145,150,142,98,190,119,110,153,178,103,99,122,135,118,172,145,179,125,127,143,178,115,110,140,110,140,122,125,150,173,162,118,153,84,132,125,105,122,120,160,175,150,116,150,118,154,150,121,129,115,130,124,168,155,127,108,149,150,130,166,120,100,162,150,127,179,82,125,150,119,84,141,111,151,126,144,156,109,151,125,117,112,143,105,150,154,120,178,95,140,140,175,172,182,114,165,147,100,140,140,112,128,158,140,110,142,132,150,148,99,162,120,169,140,130,142,174,126,139,125,140,166,96,149,100,153,180,130,119,92,170,88,138,174,154,96,140,138,142,92,146,115,151,154,120,122,63,146,121,134,163,122,149,135,147,145,160,150,96,168,160,108,162,155,118,118,106,170,125,182,126,163,102,158,92,120,134,144,120,184,170,175,125,173,104,146,126,174,187,149,105,120,180,173,202,153,120,142,130,170,137,163,72,125,128,139,158,91,165,164,141,145,115,140,164,135,93,128,155,184,106,103,167,122,152,152,150,105,177,128,138,128,138,109,120,138,150,173,152,100,137,182,170,170,172,165,118,140,72,163,128,155,149,96,124,162,178,99,164,118,131,195,163,112,130,156,112,70,94,160,185,172,137,129,186,125,171,160,180,169,170,170,140,166,185,120,90,103,150,165,135,159,116,142,174,123,148,148,152,96,127,155,98,84,160,110,126,115,97,130,169,100,83,94,139,94,169,168,120,167,153,135,118,128,105,154,109,172,124,155,131,122,97,155,160,116,138,160,166,150,160,155,80,86,170,109,188,141,160,134,171,150,67,60,137,122,117,122,137,110,146,150,181,122,148,140,115,140,110,120,150,114,172,143,135,110,150,136,135,144,165,106,150,145,99,124,145,128,154,154,113,148,116,99,170,160,126,163,133,108,124,158,175,171,165,110,125,150,135,126,120,131,140,105,120,141,161,184,176,122,110,165,140,155,148,130,160,110,157,168,178,120,100,134,157,116,144,178,73,142,162,175,156,110,110,86,162,161,115,120,152,136,161,118,145,94,144,105,140,140,179,110,145,172,122,121,100,140,144,120,157,132,77,141,154,140,143,130,194,150,116,127,128,185,130,130,179,135,128,126,130,120,152,157,143,96,148,116,174,168,173,110,168,130,148,110,135,160,192,152,175,140,120,82,112,133,143,111,158,156,157,111,123,161,105,124,135,123,180,132,174,148,122,127,115,162,92,144,150,141,122,140,112,156,120,120,170,160,110,130,152,115,122,170,142,162,143,161,103,102,160,109,175,125,140,160,125,163,136,125,136,123,112,132,118,180,132,100,127,120,125,123,160,125,161,136,138,170,159,150,154,157,102,131,131,118,137,160,121,108,111,100,120,108,164,162,169,139,130,158,116,112,147,93,130,173,144,154,86,126,150,156,114,128,139,162,170,125,105,163,152,96,100,149,130,160,142,155,142,181,114,98,100,150,127,162,151],\"yaxis\":\"y8\"},{\"marker\":{\"color\":\"rgb(12, 51, 131)\"},\"showlegend\":false,\"type\":\"box\",\"xaxis\":\"x9\",\"y\":[190,134,140,86,160,145,156,150,124,182,170,170,115,148,140,137,114,144,110,112,175,113,148,182,108,144,124,179,179,98,120,159,176,144,159,130,117,156,123,140,142,150,118,100,98,106,116,100,143,111,180,185,188,90,120,150,130,121,110,152,158,138,165,133,150,145,180,135,132,138,117,150,182,160,170,115,163,122,132,145,130,157,139,165,92,87,143,145,150,142,98,190,119,110,153,178,103,99,122,135,118,172,145,179,125,127,143,178,115,110,140,110,140,122,125,150,173,162,118,153,84,132,125,105,122,120,160,175,150,116,150,118,154,150,121,129,115,130,124,168,155,127,108,149,150,130,166,120,100,162,150,127,179,82,125,150,119,84,141,111,151,126,144,156,109,151,125,117,112,143,105,150,154,120,178,95,140,140,175,172,182,114,165,147,100,140,140,112,128,158,140,110,142,132,150,148,99,162,120,169,140,130,142,174,126,139,125,140,166,96,149,100,153,180,130,119,92,170,88,138,174,154,96,140,138,142,92,146,115,151,154,120,122,63,146,121,134,163,122,149,135,147,145,160,150,96,168,160,108,162,155,118,118,106,170,125,182,126,163,102,158,92,120,134,144,120,184,170,175,125,173,104,146,126,174,187,149,105,120,180,173,202,153,120,142,130,170,137,163,72,125,128,139,158,91,165,164,141,145,115,140,164,135,93,128,155,184,106,103,167,122,152,152,150,105,177,128,138,128,138,109,120,138,150,173,152,100,137,182,170,170,172,165,118,140,72,163,128,155,149,96,124,162,178,99,164,118,131,195,163,112,130,156,112,70,94,160,185,172,137,129,186,125,171,160,180,169,170,170,140,166,185,120,90,103,150,165,135,159,116,142,174,123,148,148,152,96,127,155,98,84,160,110,126,115,97,130,169,100,83,94,139,94,169,168,120,167,153,135,118,128,105,154,109,172,124,155,131,122,97,155,160,116,138,160,166,150,160,155,80,86,170,109,188,141,160,134,171,150,67,60,137,122,117,122,137,110,146,150,181,122,148,140,115,140,110,120,150,114,172,143,135,110,150,136,135,144,165,106,150,145,99,124,145,128,154,154,113,148,116,99,170,160,126,163,133,108,124,158,175,171,165,110,125,150,135,126,120,131,140,105,120,141,161,184,176,122,110,165,140,155,148,130,160,110,157,168,178,120,100,134,157,116,144,178,73,142,162,175,156,110,110,86,162,161,115,120,152,136,161,118,145,94,144,105,140,140,179,110,145,172,122,121,100,140,144,120,157,132,77,141,154,140,143,130,194,150,116,127,128,185,130,130,179,135,128,126,130,120,152,157,143,96,148,116,174,168,173,110,168,130,148,110,135,160,192,152,175,140,120,82,112,133,143,111,158,156,157,111,123,161,105,124,135,123,180,132,174,148,122,127,115,162,92,144,150,141,122,140,112,156,120,120,170,160,110,130,152,115,122,170,142,162,143,161,103,102,160,109,175,125,140,160,125,163,136,125,136,123,112,132,118,180,132,100,127,120,125,123,160,125,161,136,138,170,159,150,154,157,102,131,131,118,137,160,121,108,111,100,120,108,164,162,169,139,130,158,116,112,147,93,130,173,144,154,86,126,150,156,114,128,139,162,170,125,105,163,152,96,100,149,130,160,142,155,142,181,114,98,100,150,127,162,151],\"yaxis\":\"y9\"}],                        {\"height\":700,\"showlegend\":true,\"template\":{\"data\":{\"bar\":[{\"error_x\":{\"color\":\"#2a3f5f\"},\"error_y\":{\"color\":\"#2a3f5f\"},\"marker\":{\"line\":{\"color\":\"#E5ECF6\",\"width\":0.5},\"pattern\":{\"fillmode\":\"overlay\",\"size\":10,\"solidity\":0.2}},\"type\":\"bar\"}],\"barpolar\":[{\"marker\":{\"line\":{\"color\":\"#E5ECF6\",\"width\":0.5},\"pattern\":{\"fillmode\":\"overlay\",\"size\":10,\"solidity\":0.2}},\"type\":\"barpolar\"}],\"carpet\":[{\"aaxis\":{\"endlinecolor\":\"#2a3f5f\",\"gridcolor\":\"white\",\"linecolor\":\"white\",\"minorgridcolor\":\"white\",\"startlinecolor\":\"#2a3f5f\"},\"baxis\":{\"endlinecolor\":\"#2a3f5f\",\"gridcolor\":\"white\",\"linecolor\":\"white\",\"minorgridcolor\":\"white\",\"startlinecolor\":\"#2a3f5f\"},\"type\":\"carpet\"}],\"choropleth\":[{\"colorbar\":{\"outlinewidth\":0,\"ticks\":\"\"},\"type\":\"choropleth\"}],\"contour\":[{\"colorbar\":{\"outlinewidth\":0,\"ticks\":\"\"},\"colorscale\":[[0.0,\"#0d0887\"],[0.1111111111111111,\"#46039f\"],[0.2222222222222222,\"#7201a8\"],[0.3333333333333333,\"#9c179e\"],[0.4444444444444444,\"#bd3786\"],[0.5555555555555556,\"#d8576b\"],[0.6666666666666666,\"#ed7953\"],[0.7777777777777778,\"#fb9f3a\"],[0.8888888888888888,\"#fdca26\"],[1.0,\"#f0f921\"]],\"type\":\"contour\"}],\"contourcarpet\":[{\"colorbar\":{\"outlinewidth\":0,\"ticks\":\"\"},\"type\":\"contourcarpet\"}],\"heatmap\":[{\"colorbar\":{\"outlinewidth\":0,\"ticks\":\"\"},\"colorscale\":[[0.0,\"#0d0887\"],[0.1111111111111111,\"#46039f\"],[0.2222222222222222,\"#7201a8\"],[0.3333333333333333,\"#9c179e\"],[0.4444444444444444,\"#bd3786\"],[0.5555555555555556,\"#d8576b\"],[0.6666666666666666,\"#ed7953\"],[0.7777777777777778,\"#fb9f3a\"],[0.8888888888888888,\"#fdca26\"],[1.0,\"#f0f921\"]],\"type\":\"heatmap\"}],\"heatmapgl\":[{\"colorbar\":{\"outlinewidth\":0,\"ticks\":\"\"},\"colorscale\":[[0.0,\"#0d0887\"],[0.1111111111111111,\"#46039f\"],[0.2222222222222222,\"#7201a8\"],[0.3333333333333333,\"#9c179e\"],[0.4444444444444444,\"#bd3786\"],[0.5555555555555556,\"#d8576b\"],[0.6666666666666666,\"#ed7953\"],[0.7777777777777778,\"#fb9f3a\"],[0.8888888888888888,\"#fdca26\"],[1.0,\"#f0f921\"]],\"type\":\"heatmapgl\"}],\"histogram\":[{\"marker\":{\"pattern\":{\"fillmode\":\"overlay\",\"size\":10,\"solidity\":0.2}},\"type\":\"histogram\"}],\"histogram2d\":[{\"colorbar\":{\"outlinewidth\":0,\"ticks\":\"\"},\"colorscale\":[[0.0,\"#0d0887\"],[0.1111111111111111,\"#46039f\"],[0.2222222222222222,\"#7201a8\"],[0.3333333333333333,\"#9c179e\"],[0.4444444444444444,\"#bd3786\"],[0.5555555555555556,\"#d8576b\"],[0.6666666666666666,\"#ed7953\"],[0.7777777777777778,\"#fb9f3a\"],[0.8888888888888888,\"#fdca26\"],[1.0,\"#f0f921\"]],\"type\":\"histogram2d\"}],\"histogram2dcontour\":[{\"colorbar\":{\"outlinewidth\":0,\"ticks\":\"\"},\"colorscale\":[[0.0,\"#0d0887\"],[0.1111111111111111,\"#46039f\"],[0.2222222222222222,\"#7201a8\"],[0.3333333333333333,\"#9c179e\"],[0.4444444444444444,\"#bd3786\"],[0.5555555555555556,\"#d8576b\"],[0.6666666666666666,\"#ed7953\"],[0.7777777777777778,\"#fb9f3a\"],[0.8888888888888888,\"#fdca26\"],[1.0,\"#f0f921\"]],\"type\":\"histogram2dcontour\"}],\"mesh3d\":[{\"colorbar\":{\"outlinewidth\":0,\"ticks\":\"\"},\"type\":\"mesh3d\"}],\"parcoords\":[{\"line\":{\"colorbar\":{\"outlinewidth\":0,\"ticks\":\"\"}},\"type\":\"parcoords\"}],\"pie\":[{\"automargin\":true,\"type\":\"pie\"}],\"scatter\":[{\"marker\":{\"colorbar\":{\"outlinewidth\":0,\"ticks\":\"\"}},\"type\":\"scatter\"}],\"scatter3d\":[{\"line\":{\"colorbar\":{\"outlinewidth\":0,\"ticks\":\"\"}},\"marker\":{\"colorbar\":{\"outlinewidth\":0,\"ticks\":\"\"}},\"type\":\"scatter3d\"}],\"scattercarpet\":[{\"marker\":{\"colorbar\":{\"outlinewidth\":0,\"ticks\":\"\"}},\"type\":\"scattercarpet\"}],\"scattergeo\":[{\"marker\":{\"colorbar\":{\"outlinewidth\":0,\"ticks\":\"\"}},\"type\":\"scattergeo\"}],\"scattergl\":[{\"marker\":{\"colorbar\":{\"outlinewidth\":0,\"ticks\":\"\"}},\"type\":\"scattergl\"}],\"scattermapbox\":[{\"marker\":{\"colorbar\":{\"outlinewidth\":0,\"ticks\":\"\"}},\"type\":\"scattermapbox\"}],\"scatterpolar\":[{\"marker\":{\"colorbar\":{\"outlinewidth\":0,\"ticks\":\"\"}},\"type\":\"scatterpolar\"}],\"scatterpolargl\":[{\"marker\":{\"colorbar\":{\"outlinewidth\":0,\"ticks\":\"\"}},\"type\":\"scatterpolargl\"}],\"scatterternary\":[{\"marker\":{\"colorbar\":{\"outlinewidth\":0,\"ticks\":\"\"}},\"type\":\"scatterternary\"}],\"surface\":[{\"colorbar\":{\"outlinewidth\":0,\"ticks\":\"\"},\"colorscale\":[[0.0,\"#0d0887\"],[0.1111111111111111,\"#46039f\"],[0.2222222222222222,\"#7201a8\"],[0.3333333333333333,\"#9c179e\"],[0.4444444444444444,\"#bd3786\"],[0.5555555555555556,\"#d8576b\"],[0.6666666666666666,\"#ed7953\"],[0.7777777777777778,\"#fb9f3a\"],[0.8888888888888888,\"#fdca26\"],[1.0,\"#f0f921\"]],\"type\":\"surface\"}],\"table\":[{\"cells\":{\"fill\":{\"color\":\"#EBF0F8\"},\"line\":{\"color\":\"white\"}},\"header\":{\"fill\":{\"color\":\"#C8D4E3\"},\"line\":{\"color\":\"white\"}},\"type\":\"table\"}]},\"layout\":{\"annotationdefaults\":{\"arrowcolor\":\"#2a3f5f\",\"arrowhead\":0,\"arrowwidth\":1},\"autotypenumbers\":\"strict\",\"coloraxis\":{\"colorbar\":{\"outlinewidth\":0,\"ticks\":\"\"}},\"colorscale\":{\"diverging\":[[0,\"#8e0152\"],[0.1,\"#c51b7d\"],[0.2,\"#de77ae\"],[0.3,\"#f1b6da\"],[0.4,\"#fde0ef\"],[0.5,\"#f7f7f7\"],[0.6,\"#e6f5d0\"],[0.7,\"#b8e186\"],[0.8,\"#7fbc41\"],[0.9,\"#4d9221\"],[1,\"#276419\"]],\"sequential\":[[0.0,\"#0d0887\"],[0.1111111111111111,\"#46039f\"],[0.2222222222222222,\"#7201a8\"],[0.3333333333333333,\"#9c179e\"],[0.4444444444444444,\"#bd3786\"],[0.5555555555555556,\"#d8576b\"],[0.6666666666666666,\"#ed7953\"],[0.7777777777777778,\"#fb9f3a\"],[0.8888888888888888,\"#fdca26\"],[1.0,\"#f0f921\"]],\"sequentialminus\":[[0.0,\"#0d0887\"],[0.1111111111111111,\"#46039f\"],[0.2222222222222222,\"#7201a8\"],[0.3333333333333333,\"#9c179e\"],[0.4444444444444444,\"#bd3786\"],[0.5555555555555556,\"#d8576b\"],[0.6666666666666666,\"#ed7953\"],[0.7777777777777778,\"#fb9f3a\"],[0.8888888888888888,\"#fdca26\"],[1.0,\"#f0f921\"]]},\"colorway\":[\"#636efa\",\"#EF553B\",\"#00cc96\",\"#ab63fa\",\"#FFA15A\",\"#19d3f3\",\"#FF6692\",\"#B6E880\",\"#FF97FF\",\"#FECB52\"],\"font\":{\"color\":\"#2a3f5f\"},\"geo\":{\"bgcolor\":\"white\",\"lakecolor\":\"white\",\"landcolor\":\"#E5ECF6\",\"showlakes\":true,\"showland\":true,\"subunitcolor\":\"white\"},\"hoverlabel\":{\"align\":\"left\"},\"hovermode\":\"closest\",\"mapbox\":{\"style\":\"light\"},\"paper_bgcolor\":\"white\",\"plot_bgcolor\":\"#E5ECF6\",\"polar\":{\"angularaxis\":{\"gridcolor\":\"white\",\"linecolor\":\"white\",\"ticks\":\"\"},\"bgcolor\":\"#E5ECF6\",\"radialaxis\":{\"gridcolor\":\"white\",\"linecolor\":\"white\",\"ticks\":\"\"}},\"scene\":{\"xaxis\":{\"backgroundcolor\":\"#E5ECF6\",\"gridcolor\":\"white\",\"gridwidth\":2,\"linecolor\":\"white\",\"showbackground\":true,\"ticks\":\"\",\"zerolinecolor\":\"white\"},\"yaxis\":{\"backgroundcolor\":\"#E5ECF6\",\"gridcolor\":\"white\",\"gridwidth\":2,\"linecolor\":\"white\",\"showbackground\":true,\"ticks\":\"\",\"zerolinecolor\":\"white\"},\"zaxis\":{\"backgroundcolor\":\"#E5ECF6\",\"gridcolor\":\"white\",\"gridwidth\":2,\"linecolor\":\"white\",\"showbackground\":true,\"ticks\":\"\",\"zerolinecolor\":\"white\"}},\"shapedefaults\":{\"line\":{\"color\":\"#2a3f5f\"}},\"ternary\":{\"aaxis\":{\"gridcolor\":\"white\",\"linecolor\":\"white\",\"ticks\":\"\"},\"baxis\":{\"gridcolor\":\"white\",\"linecolor\":\"white\",\"ticks\":\"\"},\"bgcolor\":\"#E5ECF6\",\"caxis\":{\"gridcolor\":\"white\",\"linecolor\":\"white\",\"ticks\":\"\"}},\"title\":{\"x\":0.05},\"xaxis\":{\"automargin\":true,\"gridcolor\":\"white\",\"linecolor\":\"white\",\"ticks\":\"\",\"title\":{\"standoff\":15},\"zerolinecolor\":\"white\",\"zerolinewidth\":2},\"yaxis\":{\"automargin\":true,\"gridcolor\":\"white\",\"linecolor\":\"white\",\"ticks\":\"\",\"title\":{\"standoff\":15},\"zerolinecolor\":\"white\",\"zerolinewidth\":2}}},\"title\":{\"text\":\"Scatterplot Matrix\"},\"width\":700,\"xaxis\":{\"anchor\":\"y\",\"domain\":[0.0,0.2888888888888889],\"showticklabels\":false},\"xaxis2\":{\"anchor\":\"y2\",\"domain\":[0.35555555555555557,0.6444444444444445]},\"xaxis3\":{\"anchor\":\"y3\",\"domain\":[0.7111111111111111,1.0]},\"xaxis4\":{\"anchor\":\"y4\",\"domain\":[0.0,0.2888888888888889]},\"xaxis5\":{\"anchor\":\"y5\",\"domain\":[0.35555555555555557,0.6444444444444445],\"showticklabels\":false},\"xaxis6\":{\"anchor\":\"y6\",\"domain\":[0.7111111111111111,1.0]},\"xaxis7\":{\"anchor\":\"y7\",\"domain\":[0.0,0.2888888888888889],\"title\":{\"text\":\"RestingBP\"}},\"xaxis8\":{\"anchor\":\"y8\",\"domain\":[0.35555555555555557,0.6444444444444445],\"title\":{\"text\":\"Cholesterol\"}},\"xaxis9\":{\"anchor\":\"y9\",\"domain\":[0.7111111111111111,1.0],\"showticklabels\":false,\"title\":{\"text\":\"MaxHR\"}},\"yaxis\":{\"anchor\":\"x\",\"domain\":[0.7333333333333333,1.0],\"title\":{\"text\":\"RestingBP\"}},\"yaxis2\":{\"anchor\":\"x2\",\"domain\":[0.7333333333333333,1.0]},\"yaxis3\":{\"anchor\":\"x3\",\"domain\":[0.7333333333333333,1.0]},\"yaxis4\":{\"anchor\":\"x4\",\"domain\":[0.36666666666666664,0.6333333333333333],\"title\":{\"text\":\"Cholesterol\"}},\"yaxis5\":{\"anchor\":\"x5\",\"domain\":[0.36666666666666664,0.6333333333333333]},\"yaxis6\":{\"anchor\":\"x6\",\"domain\":[0.36666666666666664,0.6333333333333333]},\"yaxis7\":{\"anchor\":\"x7\",\"domain\":[0.0,0.26666666666666666],\"title\":{\"text\":\"MaxHR\"}},\"yaxis8\":{\"anchor\":\"x8\",\"domain\":[0.0,0.26666666666666666]},\"yaxis9\":{\"anchor\":\"x9\",\"domain\":[0.0,0.26666666666666666]}},                        {\"responsive\": true}                    ).then(function(){\n",
       "                            \n",
       "var gd = document.getElementById('41906a29-6572-4132-9292-9c4e5069f423');\n",
       "var x = new MutationObserver(function (mutations, observer) {{\n",
       "        var display = window.getComputedStyle(gd).display;\n",
       "        if (!display || display === 'none') {{\n",
       "            console.log([gd, 'removed!']);\n",
       "            Plotly.purge(gd);\n",
       "            observer.disconnect();\n",
       "        }}\n",
       "}});\n",
       "\n",
       "// Listen for the removal of the full notebook cells\n",
       "var notebookContainer = gd.closest('#notebook-container');\n",
       "if (notebookContainer) {{\n",
       "    x.observe(notebookContainer, {childList: true});\n",
       "}}\n",
       "\n",
       "// Listen for the clearing of the current output cell\n",
       "var outputEl = gd.closest('.output');\n",
       "if (outputEl) {{\n",
       "    x.observe(outputEl, {childList: true});\n",
       "}}\n",
       "\n",
       "                        })                };                });            </script>        </div>"
      ]
     },
     "metadata": {},
     "output_type": "display_data"
    }
   ],
   "source": [
    "# prepare data\n",
    "data = train.loc[:,['RestingBP', 'Cholesterol', 'MaxHR']]\n",
    "data[\"index\"] = np.arange(1,len(data)+1)\n",
    "# scatter matrix\n",
    "fig = ff.create_scatterplotmatrix(data, diag='box', index='index',colormap='Portland',\n",
    "                                  height=700, width=700)\n",
    "iplot(fig)"
   ]
  },
  {
   "cell_type": "code",
   "execution_count": 15,
   "id": "f51da1c9",
   "metadata": {
    "execution": {
     "iopub.execute_input": "2021-11-17T11:37:12.172748Z",
     "iopub.status.busy": "2021-11-17T11:37:12.171942Z",
     "iopub.status.idle": "2021-11-17T11:37:12.179889Z",
     "shell.execute_reply": "2021-11-17T11:37:12.180432Z",
     "shell.execute_reply.started": "2021-11-07T06:33:18.996034Z"
    },
    "papermill": {
     "duration": 0.067371,
     "end_time": "2021-11-17T11:37:12.180700",
     "exception": false,
     "start_time": "2021-11-17T11:37:12.113329",
     "status": "completed"
    },
    "tags": []
   },
   "outputs": [],
   "source": [
    "train['Sex'] = np.where(train['Sex'] == \"F\", 0, 1)\n",
    "train['ExerciseAngina'] = np.where(train['ExerciseAngina'] == \"N\", 0, 1)\n",
    "test['Sex'] = np.where(test['Sex'] == \"F\", 0, 1)\n",
    "test['ExerciseAngina'] = np.where(test['ExerciseAngina'] == \"N\", 0, 1)"
   ]
  },
  {
   "cell_type": "code",
   "execution_count": 16,
   "id": "7a4216d7",
   "metadata": {
    "execution": {
     "iopub.execute_input": "2021-11-17T11:37:12.309268Z",
     "iopub.status.busy": "2021-11-17T11:37:12.308301Z",
     "iopub.status.idle": "2021-11-17T11:37:12.311976Z",
     "shell.execute_reply": "2021-11-17T11:37:12.312461Z",
     "shell.execute_reply.started": "2021-11-07T06:33:19.005642Z"
    },
    "papermill": {
     "duration": 0.076932,
     "end_time": "2021-11-17T11:37:12.312685",
     "exception": false,
     "start_time": "2021-11-17T11:37:12.235753",
     "status": "completed"
    },
    "tags": []
   },
   "outputs": [
    {
     "data": {
      "text/html": [
       "<div>\n",
       "<style scoped>\n",
       "    .dataframe tbody tr th:only-of-type {\n",
       "        vertical-align: middle;\n",
       "    }\n",
       "\n",
       "    .dataframe tbody tr th {\n",
       "        vertical-align: top;\n",
       "    }\n",
       "\n",
       "    .dataframe thead th {\n",
       "        text-align: right;\n",
       "    }\n",
       "</style>\n",
       "<table border=\"1\" class=\"dataframe\">\n",
       "  <thead>\n",
       "    <tr style=\"text-align: right;\">\n",
       "      <th></th>\n",
       "      <th>Age</th>\n",
       "      <th>Sex</th>\n",
       "      <th>ChestPainType</th>\n",
       "      <th>RestingBP</th>\n",
       "      <th>Cholesterol</th>\n",
       "      <th>FastingBS</th>\n",
       "      <th>RestingECG</th>\n",
       "      <th>MaxHR</th>\n",
       "      <th>ExerciseAngina</th>\n",
       "      <th>Oldpeak</th>\n",
       "      <th>ST_Slope</th>\n",
       "      <th>HeartDisease</th>\n",
       "    </tr>\n",
       "  </thead>\n",
       "  <tbody>\n",
       "    <tr>\n",
       "      <th>126</th>\n",
       "      <td>34</td>\n",
       "      <td>0</td>\n",
       "      <td>ATA</td>\n",
       "      <td>130</td>\n",
       "      <td>161</td>\n",
       "      <td>0</td>\n",
       "      <td>Normal</td>\n",
       "      <td>190</td>\n",
       "      <td>0</td>\n",
       "      <td>0.0</td>\n",
       "      <td>Up</td>\n",
       "      <td>0</td>\n",
       "    </tr>\n",
       "    <tr>\n",
       "      <th>58</th>\n",
       "      <td>54</td>\n",
       "      <td>1</td>\n",
       "      <td>ASY</td>\n",
       "      <td>150</td>\n",
       "      <td>365</td>\n",
       "      <td>0</td>\n",
       "      <td>ST</td>\n",
       "      <td>134</td>\n",
       "      <td>0</td>\n",
       "      <td>1.0</td>\n",
       "      <td>Up</td>\n",
       "      <td>0</td>\n",
       "    </tr>\n",
       "    <tr>\n",
       "      <th>489</th>\n",
       "      <td>54</td>\n",
       "      <td>1</td>\n",
       "      <td>ASY</td>\n",
       "      <td>136</td>\n",
       "      <td>220</td>\n",
       "      <td>0</td>\n",
       "      <td>Normal</td>\n",
       "      <td>140</td>\n",
       "      <td>1</td>\n",
       "      <td>3.0</td>\n",
       "      <td>Flat</td>\n",
       "      <td>1</td>\n",
       "    </tr>\n",
       "    <tr>\n",
       "      <th>369</th>\n",
       "      <td>63</td>\n",
       "      <td>1</td>\n",
       "      <td>ASY</td>\n",
       "      <td>150</td>\n",
       "      <td>0</td>\n",
       "      <td>0</td>\n",
       "      <td>Normal</td>\n",
       "      <td>86</td>\n",
       "      <td>1</td>\n",
       "      <td>2.0</td>\n",
       "      <td>Flat</td>\n",
       "      <td>1</td>\n",
       "    </tr>\n",
       "    <tr>\n",
       "      <th>192</th>\n",
       "      <td>48</td>\n",
       "      <td>1</td>\n",
       "      <td>ATA</td>\n",
       "      <td>130</td>\n",
       "      <td>245</td>\n",
       "      <td>0</td>\n",
       "      <td>Normal</td>\n",
       "      <td>160</td>\n",
       "      <td>0</td>\n",
       "      <td>0.0</td>\n",
       "      <td>Up</td>\n",
       "      <td>0</td>\n",
       "    </tr>\n",
       "  </tbody>\n",
       "</table>\n",
       "</div>"
      ],
      "text/plain": [
       "     Age  Sex ChestPainType  RestingBP  Cholesterol  FastingBS RestingECG  \\\n",
       "126   34    0           ATA        130          161          0     Normal   \n",
       "58    54    1           ASY        150          365          0         ST   \n",
       "489   54    1           ASY        136          220          0     Normal   \n",
       "369   63    1           ASY        150            0          0     Normal   \n",
       "192   48    1           ATA        130          245          0     Normal   \n",
       "\n",
       "     MaxHR  ExerciseAngina  Oldpeak ST_Slope  HeartDisease  \n",
       "126    190               0      0.0       Up             0  \n",
       "58     134               0      1.0       Up             0  \n",
       "489    140               1      3.0     Flat             1  \n",
       "369     86               1      2.0     Flat             1  \n",
       "192    160               0      0.0       Up             0  "
      ]
     },
     "execution_count": 16,
     "metadata": {},
     "output_type": "execute_result"
    }
   ],
   "source": [
    "train.head()"
   ]
  },
  {
   "cell_type": "code",
   "execution_count": 17,
   "id": "23b2ba3b",
   "metadata": {
    "execution": {
     "iopub.execute_input": "2021-11-17T11:37:12.428722Z",
     "iopub.status.busy": "2021-11-17T11:37:12.427519Z",
     "iopub.status.idle": "2021-11-17T11:37:12.445402Z",
     "shell.execute_reply": "2021-11-17T11:37:12.445963Z",
     "shell.execute_reply.started": "2021-11-07T06:33:19.028677Z"
    },
    "papermill": {
     "duration": 0.078377,
     "end_time": "2021-11-17T11:37:12.446202",
     "exception": false,
     "start_time": "2021-11-17T11:37:12.367825",
     "status": "completed"
    },
    "tags": []
   },
   "outputs": [],
   "source": [
    "train=pd.get_dummies(train)\n",
    "test=pd.get_dummies(test)"
   ]
  },
  {
   "cell_type": "code",
   "execution_count": 18,
   "id": "ef333480",
   "metadata": {
    "execution": {
     "iopub.execute_input": "2021-11-17T11:37:12.578824Z",
     "iopub.status.busy": "2021-11-17T11:37:12.564221Z",
     "iopub.status.idle": "2021-11-17T11:37:12.581881Z",
     "shell.execute_reply": "2021-11-17T11:37:12.582418Z",
     "shell.execute_reply.started": "2021-11-07T06:33:19.052447Z"
    },
    "papermill": {
     "duration": 0.078816,
     "end_time": "2021-11-17T11:37:12.582658",
     "exception": false,
     "start_time": "2021-11-17T11:37:12.503842",
     "status": "completed"
    },
    "tags": []
   },
   "outputs": [
    {
     "data": {
      "text/html": [
       "<div>\n",
       "<style scoped>\n",
       "    .dataframe tbody tr th:only-of-type {\n",
       "        vertical-align: middle;\n",
       "    }\n",
       "\n",
       "    .dataframe tbody tr th {\n",
       "        vertical-align: top;\n",
       "    }\n",
       "\n",
       "    .dataframe thead th {\n",
       "        text-align: right;\n",
       "    }\n",
       "</style>\n",
       "<table border=\"1\" class=\"dataframe\">\n",
       "  <thead>\n",
       "    <tr style=\"text-align: right;\">\n",
       "      <th></th>\n",
       "      <th>Age</th>\n",
       "      <th>Sex</th>\n",
       "      <th>RestingBP</th>\n",
       "      <th>Cholesterol</th>\n",
       "      <th>FastingBS</th>\n",
       "      <th>MaxHR</th>\n",
       "      <th>ExerciseAngina</th>\n",
       "      <th>Oldpeak</th>\n",
       "      <th>HeartDisease</th>\n",
       "      <th>ChestPainType_ASY</th>\n",
       "      <th>ChestPainType_ATA</th>\n",
       "      <th>ChestPainType_NAP</th>\n",
       "      <th>ChestPainType_TA</th>\n",
       "      <th>RestingECG_LVH</th>\n",
       "      <th>RestingECG_Normal</th>\n",
       "      <th>RestingECG_ST</th>\n",
       "      <th>ST_Slope_Down</th>\n",
       "      <th>ST_Slope_Flat</th>\n",
       "      <th>ST_Slope_Up</th>\n",
       "    </tr>\n",
       "  </thead>\n",
       "  <tbody>\n",
       "    <tr>\n",
       "      <th>126</th>\n",
       "      <td>34</td>\n",
       "      <td>0</td>\n",
       "      <td>130</td>\n",
       "      <td>161</td>\n",
       "      <td>0</td>\n",
       "      <td>190</td>\n",
       "      <td>0</td>\n",
       "      <td>0.0</td>\n",
       "      <td>0</td>\n",
       "      <td>0</td>\n",
       "      <td>1</td>\n",
       "      <td>0</td>\n",
       "      <td>0</td>\n",
       "      <td>0</td>\n",
       "      <td>1</td>\n",
       "      <td>0</td>\n",
       "      <td>0</td>\n",
       "      <td>0</td>\n",
       "      <td>1</td>\n",
       "    </tr>\n",
       "    <tr>\n",
       "      <th>58</th>\n",
       "      <td>54</td>\n",
       "      <td>1</td>\n",
       "      <td>150</td>\n",
       "      <td>365</td>\n",
       "      <td>0</td>\n",
       "      <td>134</td>\n",
       "      <td>0</td>\n",
       "      <td>1.0</td>\n",
       "      <td>0</td>\n",
       "      <td>1</td>\n",
       "      <td>0</td>\n",
       "      <td>0</td>\n",
       "      <td>0</td>\n",
       "      <td>0</td>\n",
       "      <td>0</td>\n",
       "      <td>1</td>\n",
       "      <td>0</td>\n",
       "      <td>0</td>\n",
       "      <td>1</td>\n",
       "    </tr>\n",
       "    <tr>\n",
       "      <th>489</th>\n",
       "      <td>54</td>\n",
       "      <td>1</td>\n",
       "      <td>136</td>\n",
       "      <td>220</td>\n",
       "      <td>0</td>\n",
       "      <td>140</td>\n",
       "      <td>1</td>\n",
       "      <td>3.0</td>\n",
       "      <td>1</td>\n",
       "      <td>1</td>\n",
       "      <td>0</td>\n",
       "      <td>0</td>\n",
       "      <td>0</td>\n",
       "      <td>0</td>\n",
       "      <td>1</td>\n",
       "      <td>0</td>\n",
       "      <td>0</td>\n",
       "      <td>1</td>\n",
       "      <td>0</td>\n",
       "    </tr>\n",
       "    <tr>\n",
       "      <th>369</th>\n",
       "      <td>63</td>\n",
       "      <td>1</td>\n",
       "      <td>150</td>\n",
       "      <td>0</td>\n",
       "      <td>0</td>\n",
       "      <td>86</td>\n",
       "      <td>1</td>\n",
       "      <td>2.0</td>\n",
       "      <td>1</td>\n",
       "      <td>1</td>\n",
       "      <td>0</td>\n",
       "      <td>0</td>\n",
       "      <td>0</td>\n",
       "      <td>0</td>\n",
       "      <td>1</td>\n",
       "      <td>0</td>\n",
       "      <td>0</td>\n",
       "      <td>1</td>\n",
       "      <td>0</td>\n",
       "    </tr>\n",
       "    <tr>\n",
       "      <th>192</th>\n",
       "      <td>48</td>\n",
       "      <td>1</td>\n",
       "      <td>130</td>\n",
       "      <td>245</td>\n",
       "      <td>0</td>\n",
       "      <td>160</td>\n",
       "      <td>0</td>\n",
       "      <td>0.0</td>\n",
       "      <td>0</td>\n",
       "      <td>0</td>\n",
       "      <td>1</td>\n",
       "      <td>0</td>\n",
       "      <td>0</td>\n",
       "      <td>0</td>\n",
       "      <td>1</td>\n",
       "      <td>0</td>\n",
       "      <td>0</td>\n",
       "      <td>0</td>\n",
       "      <td>1</td>\n",
       "    </tr>\n",
       "  </tbody>\n",
       "</table>\n",
       "</div>"
      ],
      "text/plain": [
       "     Age  Sex  RestingBP  Cholesterol  FastingBS  MaxHR  ExerciseAngina  \\\n",
       "126   34    0        130          161          0    190               0   \n",
       "58    54    1        150          365          0    134               0   \n",
       "489   54    1        136          220          0    140               1   \n",
       "369   63    1        150            0          0     86               1   \n",
       "192   48    1        130          245          0    160               0   \n",
       "\n",
       "     Oldpeak  HeartDisease  ChestPainType_ASY  ChestPainType_ATA  \\\n",
       "126      0.0             0                  0                  1   \n",
       "58       1.0             0                  1                  0   \n",
       "489      3.0             1                  1                  0   \n",
       "369      2.0             1                  1                  0   \n",
       "192      0.0             0                  0                  1   \n",
       "\n",
       "     ChestPainType_NAP  ChestPainType_TA  RestingECG_LVH  RestingECG_Normal  \\\n",
       "126                  0                 0               0                  1   \n",
       "58                   0                 0               0                  0   \n",
       "489                  0                 0               0                  1   \n",
       "369                  0                 0               0                  1   \n",
       "192                  0                 0               0                  1   \n",
       "\n",
       "     RestingECG_ST  ST_Slope_Down  ST_Slope_Flat  ST_Slope_Up  \n",
       "126              0              0              0            1  \n",
       "58               1              0              0            1  \n",
       "489              0              0              1            0  \n",
       "369              0              0              1            0  \n",
       "192              0              0              0            1  "
      ]
     },
     "execution_count": 18,
     "metadata": {},
     "output_type": "execute_result"
    }
   ],
   "source": [
    "train.head()"
   ]
  },
  {
   "cell_type": "code",
   "execution_count": 19,
   "id": "1df7dbbf",
   "metadata": {
    "execution": {
     "iopub.execute_input": "2021-11-17T11:37:12.701788Z",
     "iopub.status.busy": "2021-11-17T11:37:12.700700Z",
     "iopub.status.idle": "2021-11-17T11:37:12.720370Z",
     "shell.execute_reply": "2021-11-17T11:37:12.720983Z",
     "shell.execute_reply.started": "2021-11-07T06:33:19.07046Z"
    },
    "papermill": {
     "duration": 0.081536,
     "end_time": "2021-11-17T11:37:12.721199",
     "exception": false,
     "start_time": "2021-11-17T11:37:12.639663",
     "status": "completed"
    },
    "tags": []
   },
   "outputs": [
    {
     "data": {
      "text/html": [
       "<div>\n",
       "<style scoped>\n",
       "    .dataframe tbody tr th:only-of-type {\n",
       "        vertical-align: middle;\n",
       "    }\n",
       "\n",
       "    .dataframe tbody tr th {\n",
       "        vertical-align: top;\n",
       "    }\n",
       "\n",
       "    .dataframe thead th {\n",
       "        text-align: right;\n",
       "    }\n",
       "</style>\n",
       "<table border=\"1\" class=\"dataframe\">\n",
       "  <thead>\n",
       "    <tr style=\"text-align: right;\">\n",
       "      <th></th>\n",
       "      <th>Age</th>\n",
       "      <th>Sex</th>\n",
       "      <th>RestingBP</th>\n",
       "      <th>Cholesterol</th>\n",
       "      <th>FastingBS</th>\n",
       "      <th>MaxHR</th>\n",
       "      <th>ExerciseAngina</th>\n",
       "      <th>Oldpeak</th>\n",
       "      <th>HeartDisease</th>\n",
       "      <th>ChestPainType_ASY</th>\n",
       "      <th>ChestPainType_ATA</th>\n",
       "      <th>ChestPainType_NAP</th>\n",
       "      <th>ChestPainType_TA</th>\n",
       "      <th>RestingECG_LVH</th>\n",
       "      <th>RestingECG_Normal</th>\n",
       "      <th>RestingECG_ST</th>\n",
       "      <th>ST_Slope_Down</th>\n",
       "      <th>ST_Slope_Flat</th>\n",
       "      <th>ST_Slope_Up</th>\n",
       "    </tr>\n",
       "  </thead>\n",
       "  <tbody>\n",
       "    <tr>\n",
       "      <th>581</th>\n",
       "      <td>48</td>\n",
       "      <td>1</td>\n",
       "      <td>140</td>\n",
       "      <td>208</td>\n",
       "      <td>0</td>\n",
       "      <td>159</td>\n",
       "      <td>1</td>\n",
       "      <td>1.5</td>\n",
       "      <td>1</td>\n",
       "      <td>1</td>\n",
       "      <td>0</td>\n",
       "      <td>0</td>\n",
       "      <td>0</td>\n",
       "      <td>0</td>\n",
       "      <td>1</td>\n",
       "      <td>0</td>\n",
       "      <td>0</td>\n",
       "      <td>0</td>\n",
       "      <td>1</td>\n",
       "    </tr>\n",
       "    <tr>\n",
       "      <th>623</th>\n",
       "      <td>60</td>\n",
       "      <td>1</td>\n",
       "      <td>140</td>\n",
       "      <td>293</td>\n",
       "      <td>0</td>\n",
       "      <td>170</td>\n",
       "      <td>0</td>\n",
       "      <td>1.2</td>\n",
       "      <td>1</td>\n",
       "      <td>1</td>\n",
       "      <td>0</td>\n",
       "      <td>0</td>\n",
       "      <td>0</td>\n",
       "      <td>1</td>\n",
       "      <td>0</td>\n",
       "      <td>0</td>\n",
       "      <td>0</td>\n",
       "      <td>1</td>\n",
       "      <td>0</td>\n",
       "    </tr>\n",
       "    <tr>\n",
       "      <th>60</th>\n",
       "      <td>49</td>\n",
       "      <td>1</td>\n",
       "      <td>100</td>\n",
       "      <td>253</td>\n",
       "      <td>0</td>\n",
       "      <td>174</td>\n",
       "      <td>0</td>\n",
       "      <td>0.0</td>\n",
       "      <td>0</td>\n",
       "      <td>0</td>\n",
       "      <td>1</td>\n",
       "      <td>0</td>\n",
       "      <td>0</td>\n",
       "      <td>0</td>\n",
       "      <td>1</td>\n",
       "      <td>0</td>\n",
       "      <td>0</td>\n",
       "      <td>0</td>\n",
       "      <td>1</td>\n",
       "    </tr>\n",
       "    <tr>\n",
       "      <th>613</th>\n",
       "      <td>58</td>\n",
       "      <td>1</td>\n",
       "      <td>140</td>\n",
       "      <td>385</td>\n",
       "      <td>1</td>\n",
       "      <td>135</td>\n",
       "      <td>0</td>\n",
       "      <td>0.3</td>\n",
       "      <td>0</td>\n",
       "      <td>1</td>\n",
       "      <td>0</td>\n",
       "      <td>0</td>\n",
       "      <td>0</td>\n",
       "      <td>1</td>\n",
       "      <td>0</td>\n",
       "      <td>0</td>\n",
       "      <td>0</td>\n",
       "      <td>0</td>\n",
       "      <td>1</td>\n",
       "    </tr>\n",
       "    <tr>\n",
       "      <th>40</th>\n",
       "      <td>54</td>\n",
       "      <td>0</td>\n",
       "      <td>150</td>\n",
       "      <td>230</td>\n",
       "      <td>0</td>\n",
       "      <td>130</td>\n",
       "      <td>0</td>\n",
       "      <td>0.0</td>\n",
       "      <td>0</td>\n",
       "      <td>0</td>\n",
       "      <td>1</td>\n",
       "      <td>0</td>\n",
       "      <td>0</td>\n",
       "      <td>0</td>\n",
       "      <td>1</td>\n",
       "      <td>0</td>\n",
       "      <td>0</td>\n",
       "      <td>0</td>\n",
       "      <td>1</td>\n",
       "    </tr>\n",
       "  </tbody>\n",
       "</table>\n",
       "</div>"
      ],
      "text/plain": [
       "     Age  Sex  RestingBP  Cholesterol  FastingBS  MaxHR  ExerciseAngina  \\\n",
       "581   48    1        140          208          0    159               1   \n",
       "623   60    1        140          293          0    170               0   \n",
       "60    49    1        100          253          0    174               0   \n",
       "613   58    1        140          385          1    135               0   \n",
       "40    54    0        150          230          0    130               0   \n",
       "\n",
       "     Oldpeak  HeartDisease  ChestPainType_ASY  ChestPainType_ATA  \\\n",
       "581      1.5             1                  1                  0   \n",
       "623      1.2             1                  1                  0   \n",
       "60       0.0             0                  0                  1   \n",
       "613      0.3             0                  1                  0   \n",
       "40       0.0             0                  0                  1   \n",
       "\n",
       "     ChestPainType_NAP  ChestPainType_TA  RestingECG_LVH  RestingECG_Normal  \\\n",
       "581                  0                 0               0                  1   \n",
       "623                  0                 0               1                  0   \n",
       "60                   0                 0               0                  1   \n",
       "613                  0                 0               1                  0   \n",
       "40                   0                 0               0                  1   \n",
       "\n",
       "     RestingECG_ST  ST_Slope_Down  ST_Slope_Flat  ST_Slope_Up  \n",
       "581              0              0              0            1  \n",
       "623              0              0              1            0  \n",
       "60               0              0              0            1  \n",
       "613              0              0              0            1  \n",
       "40               0              0              0            1  "
      ]
     },
     "execution_count": 19,
     "metadata": {},
     "output_type": "execute_result"
    }
   ],
   "source": [
    "test.head()"
   ]
  },
  {
   "cell_type": "code",
   "execution_count": 20,
   "id": "2409a8b3",
   "metadata": {
    "execution": {
     "iopub.execute_input": "2021-11-17T11:37:12.842135Z",
     "iopub.status.busy": "2021-11-17T11:37:12.841217Z",
     "iopub.status.idle": "2021-11-17T11:37:12.845228Z",
     "shell.execute_reply": "2021-11-17T11:37:12.844426Z",
     "shell.execute_reply.started": "2021-11-07T06:33:19.094461Z"
    },
    "papermill": {
     "duration": 0.066974,
     "end_time": "2021-11-17T11:37:12.845444",
     "exception": false,
     "start_time": "2021-11-17T11:37:12.778470",
     "status": "completed"
    },
    "tags": []
   },
   "outputs": [
    {
     "name": "stdout",
     "output_type": "stream",
     "text": [
      "(734, 19)\n",
      "(184, 19)\n"
     ]
    }
   ],
   "source": [
    "print(train.shape)\n",
    "print(test.shape)"
   ]
  },
  {
   "cell_type": "code",
   "execution_count": 21,
   "id": "9ff5b028",
   "metadata": {
    "execution": {
     "iopub.execute_input": "2021-11-17T11:37:12.968514Z",
     "iopub.status.busy": "2021-11-17T11:37:12.967803Z",
     "iopub.status.idle": "2021-11-17T11:37:12.975687Z",
     "shell.execute_reply": "2021-11-17T11:37:12.976267Z",
     "shell.execute_reply.started": "2021-11-07T06:33:19.101346Z"
    },
    "papermill": {
     "duration": 0.070867,
     "end_time": "2021-11-17T11:37:12.976507",
     "exception": false,
     "start_time": "2021-11-17T11:37:12.905640",
     "status": "completed"
    },
    "tags": []
   },
   "outputs": [],
   "source": [
    "x_train=train.drop(['HeartDisease'],1)\n",
    "x_test=test.drop(['HeartDisease'],1)\n",
    "\n",
    "y_train=train['HeartDisease']\n",
    "y_test=test['HeartDisease']"
   ]
  },
  {
   "cell_type": "code",
   "execution_count": 22,
   "id": "e4fecc13",
   "metadata": {
    "execution": {
     "iopub.execute_input": "2021-11-17T11:37:13.098846Z",
     "iopub.status.busy": "2021-11-17T11:37:13.098115Z",
     "iopub.status.idle": "2021-11-17T11:37:13.102204Z",
     "shell.execute_reply": "2021-11-17T11:37:13.102947Z",
     "shell.execute_reply.started": "2021-11-07T06:33:19.116112Z"
    },
    "papermill": {
     "duration": 0.065935,
     "end_time": "2021-11-17T11:37:13.103229",
     "exception": false,
     "start_time": "2021-11-17T11:37:13.037294",
     "status": "completed"
    },
    "tags": []
   },
   "outputs": [
    {
     "name": "stdout",
     "output_type": "stream",
     "text": [
      "(734, 18)\n",
      "(184, 18)\n"
     ]
    }
   ],
   "source": [
    "print(x_train.shape)\n",
    "print(x_test.shape)"
   ]
  },
  {
   "cell_type": "code",
   "execution_count": 23,
   "id": "9d7e44f1",
   "metadata": {
    "execution": {
     "iopub.execute_input": "2021-11-17T11:37:13.223725Z",
     "iopub.status.busy": "2021-11-17T11:37:13.222995Z",
     "iopub.status.idle": "2021-11-17T11:37:13.384076Z",
     "shell.execute_reply": "2021-11-17T11:37:13.384599Z",
     "shell.execute_reply.started": "2021-11-07T06:33:19.12717Z"
    },
    "papermill": {
     "duration": 0.222508,
     "end_time": "2021-11-17T11:37:13.384825",
     "exception": false,
     "start_time": "2021-11-17T11:37:13.162317",
     "status": "completed"
    },
    "tags": []
   },
   "outputs": [
    {
     "data": {
      "text/plain": [
       "<AxesSubplot:xlabel='HeartDisease', ylabel='count'>"
      ]
     },
     "execution_count": 23,
     "metadata": {},
     "output_type": "execute_result"
    },
    {
     "data": {
      "image/png": "[encoded data removed]",
      "text/plain": [
       "<Figure size 432x288 with 1 Axes>"
      ]
     },
     "metadata": {
      "needs_background": "light"
     },
     "output_type": "display_data"
    }
   ],
   "source": [
    "sns.countplot(y_train,palette='OrRd')"
   ]
  },
  {
   "cell_type": "markdown",
   "id": "97149686",
   "metadata": {
    "papermill": {
     "duration": 0.058186,
     "end_time": "2021-11-17T11:37:13.502667",
     "exception": false,
     "start_time": "2021-11-17T11:37:13.444481",
     "status": "completed"
    },
    "tags": []
   },
   "source": [
    "## 🩸 Model fitting"
   ]
  },
  {
   "cell_type": "code",
   "execution_count": 24,
   "id": "25067d01",
   "metadata": {
    "execution": {
     "iopub.execute_input": "2021-11-17T11:37:13.631251Z",
     "iopub.status.busy": "2021-11-17T11:37:13.630513Z",
     "iopub.status.idle": "2021-11-17T11:37:13.946770Z",
     "shell.execute_reply": "2021-11-17T11:37:13.946035Z",
     "shell.execute_reply.started": "2021-11-07T06:33:19.331992Z"
    },
    "papermill": {
     "duration": 0.383683,
     "end_time": "2021-11-17T11:37:13.946952",
     "exception": false,
     "start_time": "2021-11-17T11:37:13.563269",
     "status": "completed"
    },
    "tags": []
   },
   "outputs": [],
   "source": [
    "from sklearn.linear_model import LogisticRegression\n",
    "from sklearn.discriminant_analysis import LinearDiscriminantAnalysis\n",
    "from sklearn.tree import DecisionTreeClassifier \n",
    "from sklearn.ensemble import RandomForestClassifier\n",
    "from sklearn.ensemble import GradientBoostingClassifier\n",
    "from xgboost import XGBClassifier\n",
    "from sklearn.ensemble import ExtraTreesClassifier\n",
    "from sklearn.ensemble import BaggingClassifier\n",
    "from sklearn.ensemble import AdaBoostClassifier\n",
    "\n",
    "#libraries for model evaluation\n",
    "from sklearn.metrics import accuracy_score\n",
    "from sklearn.metrics import plot_confusion_matrix\n",
    "from sklearn.metrics import classification_report"
   ]
  },
  {
   "cell_type": "code",
   "execution_count": 25,
   "id": "2f83469d",
   "metadata": {
    "execution": {
     "iopub.execute_input": "2021-11-17T11:37:14.078950Z",
     "iopub.status.busy": "2021-11-17T11:37:14.078010Z",
     "iopub.status.idle": "2021-11-17T11:37:15.444422Z",
     "shell.execute_reply": "2021-11-17T11:37:15.444964Z",
     "shell.execute_reply.started": "2021-11-07T06:33:19.423417Z"
    },
    "papermill": {
     "duration": 1.437214,
     "end_time": "2021-11-17T11:37:15.445187",
     "exception": false,
     "start_time": "2021-11-17T11:37:14.007973",
     "status": "completed"
    },
    "tags": []
   },
   "outputs": [
    {
     "name": "stdout",
     "output_type": "stream",
     "text": [
      "train accuracy: 0.8664850136239782 \n",
      " test accuracy: 0.8804347826086957\n",
      "\n",
      "\n",
      "classification report for logistic regression\n",
      "              precision    recall  f1-score   support\n",
      "\n",
      "           0       0.83      0.88      0.85        72\n",
      "           1       0.92      0.88      0.90       112\n",
      "\n",
      "    accuracy                           0.88       184\n",
      "   macro avg       0.87      0.88      0.88       184\n",
      "weighted avg       0.88      0.88      0.88       184\n",
      "\n",
      "\n",
      "\n",
      "confusion matrix for logistic regression\n"
     ]
    },
    {
     "data": {
      "image/png": "[encoded data removed]",
      "text/plain": [
       "<Figure size 432x288 with 2 Axes>"
      ]
     },
     "metadata": {
      "needs_background": "light"
     },
     "output_type": "display_data"
    }
   ],
   "source": [
    "#logistic regression\n",
    "lr = LogisticRegression(max_iter=20000,penalty='l2')\n",
    "model1=lr.fit(x_train, y_train)\n",
    "print(\"train accuracy:\",model1.score(x_train, y_train),\"\\n\",\"test accuracy:\",model1.score(x_test,y_test))\n",
    "lrpred = lr.predict(x_test)\n",
    "print(\"\\n\")\n",
    "print(\"classification report for logistic regression\")\n",
    "print(classification_report(lrpred,y_test))\n",
    "print(\"\\n\")\n",
    "print(\"confusion matrix for logistic regression\")\n",
    "displr = plot_confusion_matrix(lr, x_test, y_test,cmap=plt.cm.OrRd , values_format='d')"
   ]
  },
  {
   "cell_type": "code",
   "execution_count": 26,
   "id": "3ba3eafb",
   "metadata": {
    "execution": {
     "iopub.execute_input": "2021-11-17T11:37:15.568827Z",
     "iopub.status.busy": "2021-11-17T11:37:15.567824Z",
     "iopub.status.idle": "2021-11-17T11:37:15.912491Z",
     "shell.execute_reply": "2021-11-17T11:37:15.911794Z",
     "shell.execute_reply.started": "2021-11-07T06:33:20.678547Z"
    },
    "papermill": {
     "duration": 0.407756,
     "end_time": "2021-11-17T11:37:15.912673",
     "exception": false,
     "start_time": "2021-11-17T11:37:15.504917",
     "status": "completed"
    },
    "tags": []
   },
   "outputs": [
    {
     "name": "stdout",
     "output_type": "stream",
     "text": [
      "train accuracy: 0.8651226158038147 \n",
      " test accuracy: 0.8804347826086957\n",
      "\n",
      "\n",
      "classification report for linear discriminant analysis\n",
      "              precision    recall  f1-score   support\n",
      "\n",
      "           0       0.83      0.88      0.85        72\n",
      "           1       0.92      0.88      0.90       112\n",
      "\n",
      "    accuracy                           0.88       184\n",
      "   macro avg       0.87      0.88      0.88       184\n",
      "weighted avg       0.88      0.88      0.88       184\n",
      "\n",
      "\n",
      "\n",
      "confusion matrix for linear discriminant analysis\n"
     ]
    },
    {
     "data": {
      "image/png": "[encoded data removed]",
      "text/plain": [
       "<Figure size 432x288 with 2 Axes>"
      ]
     },
     "metadata": {
      "needs_background": "light"
     },
     "output_type": "display_data"
    }
   ],
   "source": [
    "#linear discriminant analysis\n",
    "lda = LinearDiscriminantAnalysis()\n",
    "model2=lda.fit(x_train, y_train)\n",
    "print(\"train accuracy:\",model2.score(x_train, y_train),\"\\n\",\"test accuracy:\",model2.score(x_test,y_test))\n",
    "\n",
    "ldapred = lda.predict(x_test)\n",
    "print(\"\\n\")\n",
    "print(\"classification report for linear discriminant analysis\")\n",
    "print(classification_report(ldapred,y_test))\n",
    "print(\"\\n\")\n",
    "print(\"confusion matrix for linear discriminant analysis\")\n",
    "displr = plot_confusion_matrix(lda, x_test, y_test ,cmap=plt.cm.OrRd , values_format='d')"
   ]
  },
  {
   "cell_type": "code",
   "execution_count": 27,
   "id": "bf725885",
   "metadata": {
    "execution": {
     "iopub.execute_input": "2021-11-17T11:37:16.038450Z",
     "iopub.status.busy": "2021-11-17T11:37:16.037755Z",
     "iopub.status.idle": "2021-11-17T11:37:16.329574Z",
     "shell.execute_reply": "2021-11-17T11:37:16.328883Z",
     "shell.execute_reply.started": "2021-11-07T06:33:20.967561Z"
    },
    "papermill": {
     "duration": 0.356285,
     "end_time": "2021-11-17T11:37:16.329749",
     "exception": false,
     "start_time": "2021-11-17T11:37:15.973464",
     "status": "completed"
    },
    "tags": []
   },
   "outputs": [
    {
     "name": "stdout",
     "output_type": "stream",
     "text": [
      "train accuracy: 1.0 \n",
      " test accuracy: 0.7989130434782609\n",
      "\n",
      "\n",
      "classification report for decision tree classifier\n",
      "              precision    recall  f1-score   support\n",
      "\n",
      "           0       0.78      0.75      0.76        79\n",
      "           1       0.81      0.84      0.83       105\n",
      "\n",
      "    accuracy                           0.80       184\n",
      "   macro avg       0.80      0.79      0.79       184\n",
      "weighted avg       0.80      0.80      0.80       184\n",
      "\n",
      "\n",
      "\n",
      "confusion matrix for decision tree classifier\n"
     ]
    },
    {
     "data": {
      "image/png": "[encoded data removed]",
      "text/plain": [
       "<Figure size 432x288 with 2 Axes>"
      ]
     },
     "metadata": {
      "needs_background": "light"
     },
     "output_type": "display_data"
    }
   ],
   "source": [
    "#decision tree classifier\n",
    "dt=DecisionTreeClassifier()\n",
    "model3=dt.fit(x_train, y_train)\n",
    "print(\"train accuracy:\",model3.score(x_train, y_train),\"\\n\",\"test accuracy:\",model3.score(x_test,y_test))\n",
    "\n",
    "dtpred = dt.predict(x_test)\n",
    "print(\"\\n\")\n",
    "print(\"classification report for decision tree classifier\")\n",
    "print(classification_report(dtpred,y_test))\n",
    "print(\"\\n\")\n",
    "print(\"confusion matrix for decision tree classifier\")\n",
    "displr = plot_confusion_matrix(dt, x_test, y_test ,cmap=plt.cm.OrRd , values_format='d')"
   ]
  },
  {
   "cell_type": "code",
   "execution_count": 28,
   "id": "c7af6cd3",
   "metadata": {
    "execution": {
     "iopub.execute_input": "2021-11-17T11:37:16.463994Z",
     "iopub.status.busy": "2021-11-17T11:37:16.463234Z",
     "iopub.status.idle": "2021-11-17T11:37:17.028402Z",
     "shell.execute_reply": "2021-11-17T11:37:17.028941Z",
     "shell.execute_reply.started": "2021-11-07T06:33:21.194373Z"
    },
    "papermill": {
     "duration": 0.636308,
     "end_time": "2021-11-17T11:37:17.029138",
     "exception": false,
     "start_time": "2021-11-17T11:37:16.392830",
     "status": "completed"
    },
    "tags": []
   },
   "outputs": [
    {
     "name": "stdout",
     "output_type": "stream",
     "text": [
      "train accuracy: 1.0 \n",
      " test accuracy: 0.8641304347826086\n",
      "\n",
      "\n",
      "classification report for random forest classifier\n",
      "              precision    recall  f1-score   support\n",
      "\n",
      "           0       0.79      0.87      0.83        69\n",
      "           1       0.92      0.86      0.89       115\n",
      "\n",
      "    accuracy                           0.86       184\n",
      "   macro avg       0.85      0.87      0.86       184\n",
      "weighted avg       0.87      0.86      0.87       184\n",
      "\n",
      "\n",
      "\n",
      "confusion matrix for random forest classifier\n"
     ]
    },
    {
     "data": {
      "image/png": "[encoded data removed]",
      "text/plain": [
       "<Figure size 432x288 with 2 Axes>"
      ]
     },
     "metadata": {
      "needs_background": "light"
     },
     "output_type": "display_data"
    }
   ],
   "source": [
    "#random forest classifier\n",
    "rf=RandomForestClassifier()\n",
    "model4=rf.fit(x_train, y_train)\n",
    "print(\"train accuracy:\",model4.score(x_train, y_train),\"\\n\",\"test accuracy:\",model4.score(x_test,y_test))\n",
    "\n",
    "rfpred = rf.predict(x_test)\n",
    "print(\"\\n\")\n",
    "print(\"classification report for random forest classifier\")\n",
    "print(classification_report(rfpred,y_test))\n",
    "print(\"\\n\")\n",
    "print(\"confusion matrix for random forest classifier\")\n",
    "displr = plot_confusion_matrix(rf, x_test, y_test ,cmap=plt.cm.OrRd , values_format='d')"
   ]
  },
  {
   "cell_type": "code",
   "execution_count": 29,
   "id": "60e23498",
   "metadata": {
    "execution": {
     "iopub.execute_input": "2021-11-17T11:37:17.167053Z",
     "iopub.status.busy": "2021-11-17T11:37:17.161326Z",
     "iopub.status.idle": "2021-11-17T11:37:17.498376Z",
     "shell.execute_reply": "2021-11-17T11:37:17.498995Z",
     "shell.execute_reply.started": "2021-11-07T06:33:21.698288Z"
    },
    "papermill": {
     "duration": 0.404589,
     "end_time": "2021-11-17T11:37:17.499176",
     "exception": false,
     "start_time": "2021-11-17T11:37:17.094587",
     "status": "completed"
    },
    "tags": []
   },
   "outputs": [
    {
     "name": "stdout",
     "output_type": "stream",
     "text": [
      "train accuracy: 0.989100817438692 \n",
      " test accuracy: 0.8369565217391305\n",
      "\n",
      "\n",
      "classification report for bagging classifier\n",
      "              precision    recall  f1-score   support\n",
      "\n",
      "           0       0.79      0.81      0.80        74\n",
      "           1       0.87      0.85      0.86       110\n",
      "\n",
      "    accuracy                           0.84       184\n",
      "   macro avg       0.83      0.83      0.83       184\n",
      "weighted avg       0.84      0.84      0.84       184\n",
      "\n",
      "\n",
      "\n",
      "confusion matrix for bagging classifier\n"
     ]
    },
    {
     "data": {
      "image/png": "[encoded data removed]",
      "text/plain": [
       "<Figure size 432x288 with 2 Axes>"
      ]
     },
     "metadata": {
      "needs_background": "light"
     },
     "output_type": "display_data"
    }
   ],
   "source": [
    "#bagging classifier\n",
    "bg=BaggingClassifier()\n",
    "model5=bg.fit(x_train, y_train)\n",
    "print(\"train accuracy:\",model5.score(x_train, y_train),\"\\n\",\"test accuracy:\",model5.score(x_test,y_test))\n",
    "\n",
    "bgpred = bg.predict(x_test)\n",
    "print(\"\\n\")\n",
    "print(\"classification report for bagging classifier\")\n",
    "print(classification_report(bgpred,y_test))\n",
    "print(\"\\n\")\n",
    "print(\"confusion matrix for bagging classifier\")\n",
    "displr = plot_confusion_matrix(bg, x_test, y_test ,cmap=plt.cm.OrRd , values_format='d')"
   ]
  },
  {
   "cell_type": "code",
   "execution_count": 30,
   "id": "a6efbac0",
   "metadata": {
    "execution": {
     "iopub.execute_input": "2021-11-17T11:37:17.632133Z",
     "iopub.status.busy": "2021-11-17T11:37:17.631448Z",
     "iopub.status.idle": "2021-11-17T11:37:18.060601Z",
     "shell.execute_reply": "2021-11-17T11:37:18.061192Z",
     "shell.execute_reply.started": "2021-11-07T06:33:21.970597Z"
    },
    "papermill": {
     "duration": 0.496739,
     "end_time": "2021-11-17T11:37:18.061398",
     "exception": false,
     "start_time": "2021-11-17T11:37:17.564659",
     "status": "completed"
    },
    "tags": []
   },
   "outputs": [
    {
     "name": "stdout",
     "output_type": "stream",
     "text": [
      "train accuracy: 0.9509536784741145 \n",
      " test accuracy: 0.8967391304347826\n",
      "\n",
      "\n",
      "classification report for gradient boosting classifier\n",
      "              precision    recall  f1-score   support\n",
      "\n",
      "           0       0.84      0.90      0.87        71\n",
      "           1       0.94      0.89      0.91       113\n",
      "\n",
      "    accuracy                           0.90       184\n",
      "   macro avg       0.89      0.90      0.89       184\n",
      "weighted avg       0.90      0.90      0.90       184\n",
      "\n",
      "\n",
      "\n",
      "confusion matrix for gradient boosting classifier\n"
     ]
    },
    {
     "data": {
      "image/png": "[encoded data removed]",
      "text/plain": [
       "<Figure size 432x288 with 2 Axes>"
      ]
     },
     "metadata": {
      "needs_background": "light"
     },
     "output_type": "display_data"
    }
   ],
   "source": [
    "# gradient boost classifier \n",
    "gbm=GradientBoostingClassifier()\n",
    "model6=gbm.fit(x_train, y_train)\n",
    "print(\"train accuracy:\",model6.score(x_train, y_train),\"\\n\",\"test accuracy:\",model6.score(x_test,y_test))\n",
    "\n",
    "gbmpred = gbm.predict(x_test)\n",
    "print(\"\\n\")\n",
    "print(\"classification report for gradient boosting classifier\")\n",
    "print(classification_report(gbmpred,y_test))\n",
    "print(\"\\n\")\n",
    "print(\"confusion matrix for gradient boosting classifier\")\n",
    "displr = plot_confusion_matrix(gbm, x_test, y_test ,cmap=plt.cm.OrRd , values_format='d')"
   ]
  },
  {
   "cell_type": "code",
   "execution_count": 31,
   "id": "a560185b",
   "metadata": {
    "execution": {
     "iopub.execute_input": "2021-11-17T11:37:18.205369Z",
     "iopub.status.busy": "2021-11-17T11:37:18.198577Z",
     "iopub.status.idle": "2021-11-17T11:37:18.629921Z",
     "shell.execute_reply": "2021-11-17T11:37:18.629340Z",
     "shell.execute_reply.started": "2021-11-07T06:33:22.34465Z"
    },
    "papermill": {
     "duration": 0.501063,
     "end_time": "2021-11-17T11:37:18.630104",
     "exception": false,
     "start_time": "2021-11-17T11:37:18.129041",
     "status": "completed"
    },
    "tags": []
   },
   "outputs": [
    {
     "name": "stdout",
     "output_type": "stream",
     "text": [
      "train accuracy: 0.8910081743869209 \n",
      " test accuracy: 0.8586956521739131\n",
      "\n",
      "\n",
      "classification report for adaboost classifier\n",
      "              precision    recall  f1-score   support\n",
      "\n",
      "           0       0.80      0.85      0.82        72\n",
      "           1       0.90      0.87      0.88       112\n",
      "\n",
      "    accuracy                           0.86       184\n",
      "   macro avg       0.85      0.86      0.85       184\n",
      "weighted avg       0.86      0.86      0.86       184\n",
      "\n",
      "\n",
      "\n",
      "confusion matrix for adaboost classifier\n"
     ]
    },
    {
     "data": {
      "image/png": "[encoded data removed]",
      "text/plain": [
       "<Figure size 432x288 with 2 Axes>"
      ]
     },
     "metadata": {
      "needs_background": "light"
     },
     "output_type": "display_data"
    }
   ],
   "source": [
    "# adaboost classifier \n",
    "ada=AdaBoostClassifier()\n",
    "model7=ada.fit(x_train, y_train)\n",
    "print(\"train accuracy:\",model7.score(x_train, y_train),\"\\n\",\"test accuracy:\",model7.score(x_test,y_test))\n",
    "\n",
    "adapred = ada.predict(x_test)\n",
    "print(\"\\n\")\n",
    "print(\"classification report for adaboost classifier\")\n",
    "print(classification_report(adapred,y_test))\n",
    "print(\"\\n\")\n",
    "print(\"confusion matrix for adaboost classifier\")\n",
    "displr = plot_confusion_matrix(ada, x_test, y_test ,cmap=plt.cm.OrRd , values_format='d')"
   ]
  },
  {
   "cell_type": "code",
   "execution_count": 32,
   "id": "102d1d35",
   "metadata": {
    "execution": {
     "iopub.execute_input": "2021-11-17T11:37:18.772942Z",
     "iopub.status.busy": "2021-11-17T11:37:18.771913Z",
     "iopub.status.idle": "2021-11-17T11:37:19.591806Z",
     "shell.execute_reply": "2021-11-17T11:37:19.591048Z",
     "shell.execute_reply.started": "2021-11-07T06:33:22.716225Z"
    },
    "papermill": {
     "duration": 0.894214,
     "end_time": "2021-11-17T11:37:19.591970",
     "exception": false,
     "start_time": "2021-11-17T11:37:18.697756",
     "status": "completed"
    },
    "tags": []
   },
   "outputs": [
    {
     "name": "stdout",
     "output_type": "stream",
     "text": [
      "[11:37:18] WARNING: ../src/learner.cc:1115: Starting in XGBoost 1.3.0, the default evaluation metric used with the objective 'binary:logistic' was changed from 'error' to 'logloss'. Explicitly set eval_metric if you'd like to restore the old behavior.\n",
      "train accuracy: 1.0 \n",
      " test accuracy: 0.8804347826086957\n",
      "\n",
      "\n",
      "classification report for extreme gradient boosting classifier\n",
      "              precision    recall  f1-score   support\n",
      "\n",
      "           0       0.84      0.86      0.85        74\n",
      "           1       0.91      0.89      0.90       110\n",
      "\n",
      "    accuracy                           0.88       184\n",
      "   macro avg       0.87      0.88      0.88       184\n",
      "weighted avg       0.88      0.88      0.88       184\n",
      "\n",
      "\n",
      "\n",
      "confusion matrix for extreme gradient boosting classifier\n"
     ]
    },
    {
     "data": {
      "image/png": "[encoded data removed]",
      "text/plain": [
       "<Figure size 432x288 with 2 Axes>"
      ]
     },
     "metadata": {
      "needs_background": "light"
     },
     "output_type": "display_data"
    }
   ],
   "source": [
    "# extreme gradient boost classifier\n",
    "xgb = XGBClassifier()\n",
    "model8=xgb.fit(x_train.values, y_train)\n",
    "print(\"train accuracy:\",model8.score(x_train, y_train),\"\\n\",\"test accuracy:\",model8.score(x_test,y_test))\n",
    "\n",
    "xgbpred = xgb.predict(x_test.values)\n",
    "print(\"\\n\")\n",
    "print(\"classification report for extreme gradient boosting classifier\")\n",
    "print(classification_report(xgbpred,y_test))\n",
    "print(\"\\n\")\n",
    "print(\"confusion matrix for extreme gradient boosting classifier\")\n",
    "displr = plot_confusion_matrix(xgb, x_test.values, y_test ,cmap=plt.cm.OrRd , values_format='d')"
   ]
  },
  {
   "cell_type": "code",
   "execution_count": 33,
   "id": "258fa0e8",
   "metadata": {
    "execution": {
     "iopub.execute_input": "2021-11-17T11:37:19.741969Z",
     "iopub.status.busy": "2021-11-17T11:37:19.741185Z",
     "iopub.status.idle": "2021-11-17T11:37:20.246749Z",
     "shell.execute_reply": "2021-11-17T11:37:20.247227Z",
     "shell.execute_reply.started": "2021-11-07T06:33:23.440515Z"
    },
    "papermill": {
     "duration": 0.585168,
     "end_time": "2021-11-17T11:37:20.247434",
     "exception": false,
     "start_time": "2021-11-17T11:37:19.662266",
     "status": "completed"
    },
    "tags": []
   },
   "outputs": [
    {
     "name": "stdout",
     "output_type": "stream",
     "text": [
      "train accuracy: 1.0 \n",
      " test accuracy: 0.8641304347826086\n",
      "\n",
      "\n",
      "classification report for extra tree classifier\n",
      "              precision    recall  f1-score   support\n",
      "\n",
      "           0       0.82      0.85      0.83        73\n",
      "           1       0.90      0.87      0.89       111\n",
      "\n",
      "    accuracy                           0.86       184\n",
      "   macro avg       0.86      0.86      0.86       184\n",
      "weighted avg       0.87      0.86      0.86       184\n",
      "\n",
      "\n",
      "\n",
      "confusion matrix for extra tree classifier\n"
     ]
    },
    {
     "data": {
      "image/png": "[encoded data removed]",
      "text/plain": [
       "<Figure size 432x288 with 2 Axes>"
      ]
     },
     "metadata": {
      "needs_background": "light"
     },
     "output_type": "display_data"
    }
   ],
   "source": [
    "# extra tree classifier\n",
    "extree = ExtraTreesClassifier()\n",
    "model9=extree.fit(x_train, y_train)\n",
    "print(\"train accuracy:\",model9.score(x_train, y_train),\"\\n\",\"test accuracy:\",model9.score(x_test,y_test))\n",
    "\n",
    "extpred = extree.predict(x_test)\n",
    "print(\"\\n\")\n",
    "print(\"classification report for extra tree classifier\")\n",
    "print(classification_report(extpred,y_test))\n",
    "print(\"\\n\")\n",
    "print(\"confusion matrix for extra tree classifier\")\n",
    "displr = plot_confusion_matrix(extree, x_test, y_test ,cmap=plt.cm.OrRd , values_format='d')"
   ]
  },
  {
   "cell_type": "code",
   "execution_count": 34,
   "id": "067a2c88",
   "metadata": {
    "execution": {
     "iopub.execute_input": "2021-11-17T11:37:20.397956Z",
     "iopub.status.busy": "2021-11-17T11:37:20.394946Z",
     "iopub.status.idle": "2021-11-17T11:37:21.124825Z",
     "shell.execute_reply": "2021-11-17T11:37:21.123929Z",
     "shell.execute_reply.started": "2021-11-07T06:36:24.81872Z"
    },
    "papermill": {
     "duration": 0.808017,
     "end_time": "2021-11-17T11:37:21.125014",
     "exception": false,
     "start_time": "2021-11-17T11:37:20.316997",
     "status": "completed"
    },
    "tags": []
   },
   "outputs": [
    {
     "name": "stdout",
     "output_type": "stream",
     "text": [
      "train accuracy: 0.9795640326975477 \n",
      " test accuracy: 0.907608695652174\n",
      "\n",
      "\n",
      "classification report for voting classifier\n",
      "              precision    recall  f1-score   support\n",
      "\n",
      "           0       0.84      0.93      0.88        69\n",
      "           1       0.95      0.90      0.92       115\n",
      "\n",
      "    accuracy                           0.91       184\n",
      "   macro avg       0.90      0.91      0.90       184\n",
      "weighted avg       0.91      0.91      0.91       184\n",
      "\n",
      "\n",
      "\n",
      "confusion matrix for voting classifier\n"
     ]
    },
    {
     "data": {
      "image/png": "[encoded data removed]",
      "text/plain": [
       "<Figure size 432x288 with 2 Axes>"
      ]
     },
     "metadata": {
      "needs_background": "light"
     },
     "output_type": "display_data"
    }
   ],
   "source": [
    "# voting classifer\n",
    "from sklearn.ensemble import VotingClassifier\n",
    "clf1 = GradientBoostingClassifier()\n",
    "clf2 = RandomForestClassifier()\n",
    "\n",
    "vc = VotingClassifier(estimators=[('ext', clf1),('gbm', clf2)], voting='soft')\n",
    "model10=vc.fit(x_train, y_train)\n",
    "print(\"train accuracy:\",model10.score(x_train, y_train),\"\\n\",\"test accuracy:\",model10.score(x_test,y_test))\n",
    "\n",
    "vcpred = vc.predict(x_test)\n",
    "print(\"\\n\")\n",
    "print(\"classification report for voting classifier\")\n",
    "print(classification_report(vcpred,y_test))\n",
    "print(\"\\n\")\n",
    "print(\"confusion matrix for voting classifier\")\n",
    "displr = plot_confusion_matrix(vc, x_test, y_test ,cmap=plt.cm.OrRd, values_format='d')"
   ]
  },
  {
   "cell_type": "code",
   "execution_count": 35,
   "id": "6bd30f6e",
   "metadata": {
    "_kg_hide-input": true,
    "execution": {
     "iopub.execute_input": "2021-11-17T11:37:21.281401Z",
     "iopub.status.busy": "2021-11-17T11:37:21.280218Z",
     "iopub.status.idle": "2021-11-17T11:37:24.198207Z",
     "shell.execute_reply": "2021-11-17T11:37:24.197460Z",
     "shell.execute_reply.started": "2021-11-07T06:33:24.673227Z"
    },
    "papermill": {
     "duration": 2.999085,
     "end_time": "2021-11-17T11:37:24.198379",
     "exception": false,
     "start_time": "2021-11-17T11:37:21.199294",
     "status": "completed"
    },
    "tags": []
   },
   "outputs": [
    {
     "name": "stdout",
     "output_type": "stream",
     "text": [
      "train accuracy: 0.9836512261580381 \n",
      " test accuracy: 0.9021739130434783\n",
      "\n",
      "\n",
      "classification report for voting classifier\n",
      "              precision    recall  f1-score   support\n",
      "\n",
      "           0       0.84      0.91      0.88        70\n",
      "           1       0.94      0.89      0.92       114\n",
      "\n",
      "    accuracy                           0.90       184\n",
      "   macro avg       0.89      0.90      0.90       184\n",
      "weighted avg       0.91      0.90      0.90       184\n",
      "\n",
      "\n",
      "\n",
      "confusion matrix for voting classifier\n"
     ]
    },
    {
     "data": {
      "image/png": "[encoded data removed]",
      "text/plain": [
       "<Figure size 432x288 with 2 Axes>"
      ]
     },
     "metadata": {
      "needs_background": "light"
     },
     "output_type": "display_data"
    }
   ],
   "source": [
    "# stacking classifier \n",
    "from sklearn.ensemble import StackingClassifier\n",
    "from sklearn.pipeline import make_pipeline\n",
    "from sklearn.preprocessing import StandardScaler\n",
    "\n",
    "estimators = [('rf', RandomForestClassifier(random_state=5)),('ext', make_pipeline(StandardScaler(),GradientBoostingClassifier(random_state=42)))]\n",
    "sc= StackingClassifier( estimators=estimators)\n",
    "\n",
    "model11=sc.fit(x_train, y_train)\n",
    "print(\"train accuracy:\",model11.score(x_train, y_train),\"\\n\",\"test accuracy:\",model11.score(x_test,y_test))\n",
    "\n",
    "scpred = sc.predict(x_test)\n",
    "print(\"\\n\")\n",
    "print(\"classification report for voting classifier\")\n",
    "print(classification_report(scpred,y_test))\n",
    "print(\"\\n\")\n",
    "print(\"confusion matrix for voting classifier\")\n",
    "displr = plot_confusion_matrix(sc, x_test, y_test ,cmap=plt.cm.OrRd , values_format='d')"
   ]
  },
  {
   "cell_type": "code",
   "execution_count": 36,
   "id": "9c658f82",
   "metadata": {
    "execution": {
     "iopub.execute_input": "2021-11-17T11:37:24.347911Z",
     "iopub.status.busy": "2021-11-17T11:37:24.347143Z",
     "iopub.status.idle": "2021-11-17T11:37:26.353947Z",
     "shell.execute_reply": "2021-11-17T11:37:26.353282Z",
     "shell.execute_reply.started": "2021-11-07T06:33:27.511693Z"
    },
    "papermill": {
     "duration": 2.084897,
     "end_time": "2021-11-17T11:37:26.354117",
     "exception": false,
     "start_time": "2021-11-17T11:37:24.269220",
     "status": "completed"
    },
    "tags": []
   },
   "outputs": [
    {
     "name": "stdout",
     "output_type": "stream",
     "text": [
      "train accuracy: 0.9754768392370572 \n",
      " test accuracy: 0.907608695652174\n",
      "\n",
      "\n",
      "classification report for extra tree classifier\n",
      "              precision    recall  f1-score   support\n",
      "\n",
      "           0       0.84      0.93      0.88        69\n",
      "           1       0.95      0.90      0.92       115\n",
      "\n",
      "    accuracy                           0.91       184\n",
      "   macro avg       0.90      0.91      0.90       184\n",
      "weighted avg       0.91      0.91      0.91       184\n",
      "\n",
      "\n",
      "\n",
      "confusion matrix for extra tree classifier\n"
     ]
    },
    {
     "data": {
      "image/png": "[encoded data removed]",
      "text/plain": [
       "<Figure size 432x288 with 2 Axes>"
      ]
     },
     "metadata": {
      "needs_background": "light"
     },
     "output_type": "display_data"
    }
   ],
   "source": [
    "from catboost import CatBoostClassifier\n",
    "\n",
    "cc = CatBoostClassifier(silent=True )\n",
    "model12=cc.fit(x_train, y_train)\n",
    "print(\"train accuracy:\",model12.score(x_train, y_train),\"\\n\",\"test accuracy:\",model12.score(x_test,y_test))\n",
    "\n",
    "ccpred = cc.predict(x_test)\n",
    "print(\"\\n\")\n",
    "print(\"classification report for extra tree classifier\")\n",
    "print(classification_report(ccpred,y_test))\n",
    "print(\"\\n\")\n",
    "print(\"confusion matrix for extra tree classifier\")\n",
    "displr = plot_confusion_matrix(cc, x_test, y_test ,cmap=plt.cm.OrRd , values_format='d')\n"
   ]
  },
  {
   "cell_type": "markdown",
   "id": "9789bcdf",
   "metadata": {
    "papermill": {
     "duration": 0.071216,
     "end_time": "2021-11-17T11:37:26.497658",
     "exception": false,
     "start_time": "2021-11-17T11:37:26.426442",
     "status": "completed"
    },
    "tags": []
   },
   "source": [
    "## 💉 Hyper parameter tuning"
   ]
  },
  {
   "cell_type": "markdown",
   "id": "3b9dbc21",
   "metadata": {
    "papermill": {
     "duration": 0.07127,
     "end_time": "2021-11-17T11:37:26.640691",
     "exception": false,
     "start_time": "2021-11-17T11:37:26.569421",
     "status": "completed"
    },
    "tags": []
   },
   "source": [
    "<font size=\"4\"> From the above fitted models <span style=\"color:red;\">CatBoost classifier</span> has the highest classification accuracy of <span style=\"color:red;\">90.76% </span>. we can improve the accuracy with hyper parameter tuning for these models also. </font>"
   ]
  },
  {
   "cell_type": "markdown",
   "id": "91301813",
   "metadata": {
    "papermill": {
     "duration": 0.071122,
     "end_time": "2021-11-17T11:37:26.783411",
     "exception": false,
     "start_time": "2021-11-17T11:37:26.712289",
     "status": "completed"
    },
    "tags": []
   },
   "source": [
    "<center><img src=\"https://media.giphy.com/media/3o6MboQRbk4w8msepW/giphy.gif\" style=\"width:480px;height:300px;\"></center>\n"
   ]
  },
  {
   "cell_type": "markdown",
   "id": "cc90f1ae",
   "metadata": {
    "papermill": {
     "duration": 0.073707,
     "end_time": "2021-11-17T11:37:26.929836",
     "exception": false,
     "start_time": "2021-11-17T11:37:26.856129",
     "status": "completed"
    },
    "tags": []
   },
   "source": [
    "<font size=\"4\"> Hyper parameter tuning for catboost classifier </font>"
   ]
  },
  {
   "cell_type": "code",
   "execution_count": 37,
   "id": "dc0c993c",
   "metadata": {
    "execution": {
     "iopub.execute_input": "2021-11-17T11:37:27.084202Z",
     "iopub.status.busy": "2021-11-17T11:37:27.083398Z",
     "iopub.status.idle": "2021-11-17T11:37:27.604760Z",
     "shell.execute_reply": "2021-11-17T11:37:27.604089Z",
     "shell.execute_reply.started": "2021-11-07T06:33:29.053285Z"
    },
    "papermill": {
     "duration": 0.602754,
     "end_time": "2021-11-17T11:37:27.604974",
     "exception": false,
     "start_time": "2021-11-17T11:37:27.002220",
     "status": "completed"
    },
    "tags": []
   },
   "outputs": [],
   "source": [
    "import catboost as cb\n",
    "import optuna\n",
    "from sklearn.model_selection import train_test_split\n",
    "from sklearn.metrics import accuracy_score"
   ]
  },
  {
   "cell_type": "code",
   "execution_count": 38,
   "id": "d0411d6b",
   "metadata": {
    "execution": {
     "iopub.execute_input": "2021-11-17T11:37:27.769760Z",
     "iopub.status.busy": "2021-11-17T11:37:27.766875Z",
     "iopub.status.idle": "2021-11-17T11:37:27.779885Z",
     "shell.execute_reply": "2021-11-17T11:37:27.779283Z",
     "shell.execute_reply.started": "2021-11-07T06:33:29.286116Z"
    },
    "papermill": {
     "duration": 0.101018,
     "end_time": "2021-11-17T11:37:27.780062",
     "exception": false,
     "start_time": "2021-11-17T11:37:27.679044",
     "status": "completed"
    },
    "tags": []
   },
   "outputs": [],
   "source": [
    "df['Sex'] = np.where(df['Sex'] == \"F\", 0, 1)\n",
    "df['ExerciseAngina'] = np.where(df['ExerciseAngina'] == \"N\", 0, 1)\n",
    "df=pd.get_dummies(df)\n",
    "X=df.drop(['HeartDisease'],1)\n",
    "y=df['HeartDisease']\n",
    "def hyper_para_tuning(trial):\n",
    "    train_x, valid_x, train_y, valid_y = train_test_split(X,y, test_size=0.2)\n",
    "\n",
    "    param = {\n",
    "        \"objective\": trial.suggest_categorical(\"objective\", [\"Logloss\", \"CrossEntropy\"]),\n",
    "        \"colsample_bylevel\": trial.suggest_float(\"colsample_bylevel\", 0.01, 0.1),\n",
    "        \"depth\": trial.suggest_int(\"depth\", 1, 12),\n",
    "        \"boosting_type\": trial.suggest_categorical(\"boosting_type\", [\"Ordered\", \"Plain\"]),\n",
    "        \"bootstrap_type\": trial.suggest_categorical(\n",
    "            \"bootstrap_type\", [\"Bayesian\", \"Bernoulli\", \"MVS\"]\n",
    "        ),\n",
    "        \"used_ram_limit\": \"3gb\",\n",
    "    }\n",
    "\n",
    "    if param[\"bootstrap_type\"] == \"Bayesian\":\n",
    "        param[\"bagging_temperature\"] = trial.suggest_float(\"bagging_temperature\", 0, 10)\n",
    "    elif param[\"bootstrap_type\"] == \"Bernoulli\":\n",
    "        param[\"subsample\"] = trial.suggest_float(\"subsample\", 0.1, 1)\n",
    "\n",
    "    cbm = cb.CatBoostClassifier(**param)\n",
    "\n",
    "    cbm.fit(train_x, train_y, eval_set=[(valid_x, valid_y)], verbose=0, early_stopping_rounds=100)\n",
    "\n",
    "    pred = cbm.predict(valid_x)\n",
    "    pred_labels = np.rint(pred)\n",
    "    accuracy = accuracy_score(valid_y, pred_labels)\n",
    "    return accuracy"
   ]
  },
  {
   "cell_type": "code",
   "execution_count": 39,
   "id": "7fd8e53e",
   "metadata": {
    "execution": {
     "iopub.execute_input": "2021-11-17T11:37:27.931444Z",
     "iopub.status.busy": "2021-11-17T11:37:27.930719Z",
     "iopub.status.idle": "2021-11-17T11:40:11.157112Z",
     "shell.execute_reply": "2021-11-17T11:40:11.156494Z",
     "shell.execute_reply.started": "2021-11-07T06:33:29.310911Z"
    },
    "papermill": {
     "duration": 163.305151,
     "end_time": "2021-11-17T11:40:11.157314",
     "exception": false,
     "start_time": "2021-11-17T11:37:27.852163",
     "status": "completed"
    },
    "tags": []
   },
   "outputs": [
    {
     "name": "stderr",
     "output_type": "stream",
     "text": [
      "\u001b[32m[I 2021-11-17 11:37:27,928]\u001b[0m A new study created in memory with name: no-name-f872092d-e379-462a-9269-32a856eeb58f\u001b[0m\n",
      "\u001b[32m[I 2021-11-17 11:37:28,415]\u001b[0m Trial 0 finished with value: 0.8532608695652174 and parameters: {'objective': 'Logloss', 'colsample_bylevel': 0.0822105540536375, 'depth': 10, 'boosting_type': 'Plain', 'bootstrap_type': 'Bernoulli', 'subsample': 0.532364507064021}. Best is trial 0 with value: 0.8532608695652174.\u001b[0m\n",
      "\u001b[32m[I 2021-11-17 11:37:28,755]\u001b[0m Trial 1 finished with value: 0.8913043478260869 and parameters: {'objective': 'CrossEntropy', 'colsample_bylevel': 0.04481626746458172, 'depth': 5, 'boosting_type': 'Plain', 'bootstrap_type': 'Bayesian', 'bagging_temperature': 0.9661589347550847}. Best is trial 1 with value: 0.8913043478260869.\u001b[0m\n",
      "\u001b[32m[I 2021-11-17 11:37:29,150]\u001b[0m Trial 2 finished with value: 0.8967391304347826 and parameters: {'objective': 'Logloss', 'colsample_bylevel': 0.041636639301785426, 'depth': 7, 'boosting_type': 'Plain', 'bootstrap_type': 'Bernoulli', 'subsample': 0.7373253815201635}. Best is trial 2 with value: 0.8967391304347826.\u001b[0m\n",
      "\u001b[32m[I 2021-11-17 11:37:29,618]\u001b[0m Trial 3 finished with value: 0.8695652173913043 and parameters: {'objective': 'CrossEntropy', 'colsample_bylevel': 0.06279274075929335, 'depth': 4, 'boosting_type': 'Plain', 'bootstrap_type': 'MVS'}. Best is trial 2 with value: 0.8967391304347826.\u001b[0m\n",
      "\u001b[32m[I 2021-11-17 11:37:30,866]\u001b[0m Trial 4 finished with value: 0.8804347826086957 and parameters: {'objective': 'CrossEntropy', 'colsample_bylevel': 0.046179198777974155, 'depth': 4, 'boosting_type': 'Ordered', 'bootstrap_type': 'Bayesian', 'bagging_temperature': 4.632975221281525}. Best is trial 2 with value: 0.8967391304347826.\u001b[0m\n",
      "\u001b[32m[I 2021-11-17 11:37:32,799]\u001b[0m Trial 5 finished with value: 0.8804347826086957 and parameters: {'objective': 'Logloss', 'colsample_bylevel': 0.06695669183125334, 'depth': 11, 'boosting_type': 'Ordered', 'bootstrap_type': 'Bernoulli', 'subsample': 0.41475396095755424}. Best is trial 2 with value: 0.8967391304347826.\u001b[0m\n",
      "\u001b[32m[I 2021-11-17 11:37:33,925]\u001b[0m Trial 6 finished with value: 0.8913043478260869 and parameters: {'objective': 'Logloss', 'colsample_bylevel': 0.04241489341722482, 'depth': 12, 'boosting_type': 'Ordered', 'bootstrap_type': 'Bernoulli', 'subsample': 0.514058323134651}. Best is trial 2 with value: 0.8967391304347826.\u001b[0m\n",
      "\u001b[32m[I 2021-11-17 11:37:34,826]\u001b[0m Trial 7 finished with value: 0.8152173913043478 and parameters: {'objective': 'CrossEntropy', 'colsample_bylevel': 0.022084216682720287, 'depth': 6, 'boosting_type': 'Ordered', 'bootstrap_type': 'MVS'}. Best is trial 2 with value: 0.8967391304347826.\u001b[0m\n",
      "\u001b[32m[I 2021-11-17 11:37:35,101]\u001b[0m Trial 8 finished with value: 0.8967391304347826 and parameters: {'objective': 'Logloss', 'colsample_bylevel': 0.06992554221120108, 'depth': 4, 'boosting_type': 'Plain', 'bootstrap_type': 'Bernoulli', 'subsample': 0.6231575996250539}. Best is trial 2 with value: 0.8967391304347826.\u001b[0m\n",
      "\u001b[32m[I 2021-11-17 11:37:36,214]\u001b[0m Trial 9 finished with value: 0.8369565217391305 and parameters: {'objective': 'CrossEntropy', 'colsample_bylevel': 0.0281607259452731, 'depth': 9, 'boosting_type': 'Ordered', 'bootstrap_type': 'Bernoulli', 'subsample': 0.7822434489781882}. Best is trial 2 with value: 0.8967391304347826.\u001b[0m\n",
      "\u001b[32m[I 2021-11-17 11:37:36,644]\u001b[0m Trial 10 finished with value: 0.8695652173913043 and parameters: {'objective': 'Logloss', 'colsample_bylevel': 0.09761493987944433, 'depth': 1, 'boosting_type': 'Plain', 'bootstrap_type': 'Bayesian', 'bagging_temperature': 9.826287778361973}. Best is trial 2 with value: 0.8967391304347826.\u001b[0m\n",
      "\u001b[32m[I 2021-11-17 11:37:36,976]\u001b[0m Trial 11 finished with value: 0.8586956521739131 and parameters: {'objective': 'Logloss', 'colsample_bylevel': 0.0762087574104352, 'depth': 8, 'boosting_type': 'Plain', 'bootstrap_type': 'Bernoulli', 'subsample': 0.8688103409794146}. Best is trial 2 with value: 0.8967391304347826.\u001b[0m\n",
      "\u001b[32m[I 2021-11-17 11:37:37,271]\u001b[0m Trial 12 finished with value: 0.8967391304347826 and parameters: {'objective': 'Logloss', 'colsample_bylevel': 0.010359297710622939, 'depth': 2, 'boosting_type': 'Plain', 'bootstrap_type': 'Bernoulli', 'subsample': 0.7297115987078272}. Best is trial 2 with value: 0.8967391304347826.\u001b[0m\n",
      "\u001b[32m[I 2021-11-17 11:37:37,589]\u001b[0m Trial 13 finished with value: 0.8858695652173914 and parameters: {'objective': 'Logloss', 'colsample_bylevel': 0.05684133735820702, 'depth': 7, 'boosting_type': 'Plain', 'bootstrap_type': 'Bernoulli', 'subsample': 0.9893168764948013}. Best is trial 2 with value: 0.8967391304347826.\u001b[0m\n",
      "\u001b[32m[I 2021-11-17 11:37:37,775]\u001b[0m Trial 14 finished with value: 0.8260869565217391 and parameters: {'objective': 'Logloss', 'colsample_bylevel': 0.08886314496226122, 'depth': 3, 'boosting_type': 'Plain', 'bootstrap_type': 'Bernoulli', 'subsample': 0.16162195004944224}. Best is trial 2 with value: 0.8967391304347826.\u001b[0m\n",
      "\u001b[32m[I 2021-11-17 11:37:38,191]\u001b[0m Trial 15 finished with value: 0.8858695652173914 and parameters: {'objective': 'Logloss', 'colsample_bylevel': 0.033190976683606405, 'depth': 6, 'boosting_type': 'Plain', 'bootstrap_type': 'MVS'}. Best is trial 2 with value: 0.8967391304347826.\u001b[0m\n",
      "\u001b[32m[I 2021-11-17 11:37:38,666]\u001b[0m Trial 16 finished with value: 0.8695652173913043 and parameters: {'objective': 'Logloss', 'colsample_bylevel': 0.06708511458369104, 'depth': 8, 'boosting_type': 'Plain', 'bootstrap_type': 'Bernoulli', 'subsample': 0.6828807017083971}. Best is trial 2 with value: 0.8967391304347826.\u001b[0m\n",
      "\u001b[32m[I 2021-11-17 11:37:39,079]\u001b[0m Trial 17 finished with value: 0.907608695652174 and parameters: {'objective': 'Logloss', 'colsample_bylevel': 0.05273738653475908, 'depth': 5, 'boosting_type': 'Plain', 'bootstrap_type': 'Bernoulli', 'subsample': 0.33869820281938257}. Best is trial 17 with value: 0.907608695652174.\u001b[0m\n",
      "\u001b[32m[I 2021-11-17 11:37:39,396]\u001b[0m Trial 18 finished with value: 0.8532608695652174 and parameters: {'objective': 'Logloss', 'colsample_bylevel': 0.010780713653727424, 'depth': 1, 'boosting_type': 'Plain', 'bootstrap_type': 'Bayesian', 'bagging_temperature': 9.691493777900456}. Best is trial 17 with value: 0.907608695652174.\u001b[0m\n",
      "\u001b[32m[I 2021-11-17 11:37:39,719]\u001b[0m Trial 19 finished with value: 0.8695652173913043 and parameters: {'objective': 'Logloss', 'colsample_bylevel': 0.05368767473148818, 'depth': 7, 'boosting_type': 'Plain', 'bootstrap_type': 'MVS'}. Best is trial 17 with value: 0.907608695652174.\u001b[0m\n",
      "\u001b[32m[I 2021-11-17 11:37:40,090]\u001b[0m Trial 20 finished with value: 0.907608695652174 and parameters: {'objective': 'Logloss', 'colsample_bylevel': 0.0388749920900372, 'depth': 5, 'boosting_type': 'Plain', 'bootstrap_type': 'Bernoulli', 'subsample': 0.2434690246716199}. Best is trial 17 with value: 0.907608695652174.\u001b[0m\n",
      "\u001b[32m[I 2021-11-17 11:37:40,474]\u001b[0m Trial 21 finished with value: 0.8858695652173914 and parameters: {'objective': 'Logloss', 'colsample_bylevel': 0.036477876737895897, 'depth': 5, 'boosting_type': 'Plain', 'bootstrap_type': 'Bernoulli', 'subsample': 0.24821985776051125}. Best is trial 17 with value: 0.907608695652174.\u001b[0m\n",
      "\u001b[32m[I 2021-11-17 11:37:40,709]\u001b[0m Trial 22 finished with value: 0.875 and parameters: {'objective': 'Logloss', 'colsample_bylevel': 0.052710546414166275, 'depth': 5, 'boosting_type': 'Plain', 'bootstrap_type': 'Bernoulli', 'subsample': 0.34227104567871613}. Best is trial 17 with value: 0.907608695652174.\u001b[0m\n",
      "\u001b[32m[I 2021-11-17 11:37:41,128]\u001b[0m Trial 23 finished with value: 0.8967391304347826 and parameters: {'objective': 'Logloss', 'colsample_bylevel': 0.07327980787145631, 'depth': 3, 'boosting_type': 'Plain', 'bootstrap_type': 'Bernoulli', 'subsample': 0.10432015894239849}. Best is trial 17 with value: 0.907608695652174.\u001b[0m\n",
      "\u001b[32m[I 2021-11-17 11:37:41,472]\u001b[0m Trial 24 finished with value: 0.8260869565217391 and parameters: {'objective': 'Logloss', 'colsample_bylevel': 0.02330432982402722, 'depth': 2, 'boosting_type': 'Plain', 'bootstrap_type': 'Bernoulli', 'subsample': 0.28266412038918787}. Best is trial 17 with value: 0.907608695652174.\u001b[0m\n",
      "\u001b[32m[I 2021-11-17 11:37:41,776]\u001b[0m Trial 25 finished with value: 0.8804347826086957 and parameters: {'objective': 'Logloss', 'colsample_bylevel': 0.010281935319557942, 'depth': 2, 'boosting_type': 'Plain', 'bootstrap_type': 'Bernoulli', 'subsample': 0.4129403715352839}. Best is trial 17 with value: 0.907608695652174.\u001b[0m\n",
      "\u001b[32m[I 2021-11-17 11:37:43,043]\u001b[0m Trial 26 finished with value: 0.9130434782608695 and parameters: {'objective': 'CrossEntropy', 'colsample_bylevel': 0.014389649065169093, 'depth': 3, 'boosting_type': 'Ordered', 'bootstrap_type': 'Bernoulli', 'subsample': 0.222483858903221}. Best is trial 26 with value: 0.9130434782608695.\u001b[0m\n",
      "\u001b[32m[I 2021-11-17 11:37:44,137]\u001b[0m Trial 27 finished with value: 0.8913043478260869 and parameters: {'objective': 'CrossEntropy', 'colsample_bylevel': 0.01848070210091357, 'depth': 5, 'boosting_type': 'Ordered', 'bootstrap_type': 'Bernoulli', 'subsample': 0.18989761978207959}. Best is trial 26 with value: 0.9130434782608695.\u001b[0m\n",
      "\u001b[32m[I 2021-11-17 11:37:45,365]\u001b[0m Trial 28 finished with value: 0.8967391304347826 and parameters: {'objective': 'CrossEntropy', 'colsample_bylevel': 0.033018143419770205, 'depth': 3, 'boosting_type': 'Ordered', 'bootstrap_type': 'MVS'}. Best is trial 26 with value: 0.9130434782608695.\u001b[0m\n",
      "\u001b[32m[I 2021-11-17 11:37:46,216]\u001b[0m Trial 29 finished with value: 0.8913043478260869 and parameters: {'objective': 'CrossEntropy', 'colsample_bylevel': 0.05909358443198653, 'depth': 6, 'boosting_type': 'Ordered', 'bootstrap_type': 'Bayesian', 'bagging_temperature': 0.33849494046171813}. Best is trial 26 with value: 0.9130434782608695.\u001b[0m\n",
      "\u001b[32m[I 2021-11-17 11:37:47,559]\u001b[0m Trial 30 finished with value: 0.8804347826086957 and parameters: {'objective': 'CrossEntropy', 'colsample_bylevel': 0.04786081174779615, 'depth': 4, 'boosting_type': 'Ordered', 'bootstrap_type': 'Bernoulli', 'subsample': 0.3573222924771403}. Best is trial 26 with value: 0.9130434782608695.\u001b[0m\n",
      "\u001b[32m[I 2021-11-17 11:37:47,945]\u001b[0m Trial 31 finished with value: 0.8804347826086957 and parameters: {'objective': 'Logloss', 'colsample_bylevel': 0.038585920026012493, 'depth': 8, 'boosting_type': 'Plain', 'bootstrap_type': 'Bernoulli', 'subsample': 0.2329692335068391}. Best is trial 26 with value: 0.9130434782608695.\u001b[0m\n",
      "\u001b[32m[I 2021-11-17 11:37:49,105]\u001b[0m Trial 32 finished with value: 0.9021739130434783 and parameters: {'objective': 'CrossEntropy', 'colsample_bylevel': 0.028003227215381163, 'depth': 7, 'boosting_type': 'Ordered', 'bootstrap_type': 'Bernoulli', 'subsample': 0.3162145464239173}. Best is trial 26 with value: 0.9130434782608695.\u001b[0m\n",
      "\u001b[32m[I 2021-11-17 11:37:50,226]\u001b[0m Trial 33 finished with value: 0.842391304347826 and parameters: {'objective': 'CrossEntropy', 'colsample_bylevel': 0.0252460435236235, 'depth': 5, 'boosting_type': 'Ordered', 'bootstrap_type': 'Bernoulli', 'subsample': 0.3597472432225069}. Best is trial 26 with value: 0.9130434782608695.\u001b[0m\n",
      "\u001b[32m[I 2021-11-17 11:37:51,310]\u001b[0m Trial 34 finished with value: 0.8097826086956522 and parameters: {'objective': 'CrossEntropy', 'colsample_bylevel': 0.0170823418065204, 'depth': 9, 'boosting_type': 'Ordered', 'bootstrap_type': 'Bernoulli', 'subsample': 0.28540610348997375}. Best is trial 26 with value: 0.9130434782608695.\u001b[0m\n",
      "\u001b[32m[I 2021-11-17 11:37:52,485]\u001b[0m Trial 35 finished with value: 0.8858695652173914 and parameters: {'objective': 'CrossEntropy', 'colsample_bylevel': 0.030445022504167023, 'depth': 6, 'boosting_type': 'Ordered', 'bootstrap_type': 'Bernoulli', 'subsample': 0.128044708591426}. Best is trial 26 with value: 0.9130434782608695.\u001b[0m\n",
      "\u001b[32m[I 2021-11-17 11:37:53,643]\u001b[0m Trial 36 finished with value: 0.8586956521739131 and parameters: {'objective': 'CrossEntropy', 'colsample_bylevel': 0.04872720187129453, 'depth': 4, 'boosting_type': 'Ordered', 'bootstrap_type': 'Bayesian', 'bagging_temperature': 5.53235141423656}. Best is trial 26 with value: 0.9130434782608695.\u001b[0m\n",
      "\u001b[32m[I 2021-11-17 11:37:54,728]\u001b[0m Trial 37 finished with value: 0.8695652173913043 and parameters: {'objective': 'CrossEntropy', 'colsample_bylevel': 0.01598537825207279, 'depth': 7, 'boosting_type': 'Ordered', 'bootstrap_type': 'Bernoulli', 'subsample': 0.4439814736543793}. Best is trial 26 with value: 0.9130434782608695.\u001b[0m\n",
      "\u001b[32m[I 2021-11-17 11:37:55,946]\u001b[0m Trial 38 finished with value: 0.8913043478260869 and parameters: {'objective': 'CrossEntropy', 'colsample_bylevel': 0.04178260524948761, 'depth': 3, 'boosting_type': 'Ordered', 'bootstrap_type': 'Bernoulli', 'subsample': 0.22103028709210748}. Best is trial 26 with value: 0.9130434782608695.\u001b[0m\n",
      "\u001b[32m[I 2021-11-17 11:37:56,945]\u001b[0m Trial 39 finished with value: 0.875 and parameters: {'objective': 'CrossEntropy', 'colsample_bylevel': 0.038788509226196206, 'depth': 10, 'boosting_type': 'Ordered', 'bootstrap_type': 'MVS'}. Best is trial 26 with value: 0.9130434782608695.\u001b[0m\n",
      "\u001b[32m[I 2021-11-17 11:37:58,084]\u001b[0m Trial 40 finished with value: 0.8641304347826086 and parameters: {'objective': 'CrossEntropy', 'colsample_bylevel': 0.026429199484736595, 'depth': 6, 'boosting_type': 'Ordered', 'bootstrap_type': 'Bernoulli', 'subsample': 0.3126908397845728}. Best is trial 26 with value: 0.9130434782608695.\u001b[0m\n",
      "\u001b[32m[I 2021-11-17 11:37:58,564]\u001b[0m Trial 41 finished with value: 0.8913043478260869 and parameters: {'objective': 'Logloss', 'colsample_bylevel': 0.06374632420071802, 'depth': 4, 'boosting_type': 'Plain', 'bootstrap_type': 'Bernoulli', 'subsample': 0.6597156461790675}. Best is trial 26 with value: 0.9130434782608695.\u001b[0m\n",
      "\u001b[32m[I 2021-11-17 11:37:58,879]\u001b[0m Trial 42 finished with value: 0.8641304347826086 and parameters: {'objective': 'Logloss', 'colsample_bylevel': 0.043758025398546604, 'depth': 9, 'boosting_type': 'Plain', 'bootstrap_type': 'Bernoulli', 'subsample': 0.18617911001990664}. Best is trial 26 with value: 0.9130434782608695.\u001b[0m\n",
      "\u001b[32m[I 2021-11-17 11:37:59,194]\u001b[0m Trial 43 finished with value: 0.8695652173913043 and parameters: {'objective': 'Logloss', 'colsample_bylevel': 0.020545047854144207, 'depth': 2, 'boosting_type': 'Plain', 'bootstrap_type': 'Bernoulli', 'subsample': 0.49884602697003533}. Best is trial 26 with value: 0.9130434782608695.\u001b[0m\n",
      "\u001b[32m[I 2021-11-17 11:37:59,617]\u001b[0m Trial 44 finished with value: 0.9239130434782609 and parameters: {'objective': 'CrossEntropy', 'colsample_bylevel': 0.05070201525930316, 'depth': 7, 'boosting_type': 'Plain', 'bootstrap_type': 'Bernoulli', 'subsample': 0.5935539878022436}. Best is trial 44 with value: 0.9239130434782609.\u001b[0m\n",
      "\u001b[32m[I 2021-11-17 11:37:59,984]\u001b[0m Trial 45 finished with value: 0.8804347826086957 and parameters: {'objective': 'CrossEntropy', 'colsample_bylevel': 0.047020583535376775, 'depth': 7, 'boosting_type': 'Plain', 'bootstrap_type': 'Bernoulli', 'subsample': 0.6014954911377911}. Best is trial 44 with value: 0.9239130434782609.\u001b[0m\n",
      "\u001b[32m[I 2021-11-17 11:38:01,055]\u001b[0m Trial 46 finished with value: 0.8804347826086957 and parameters: {'objective': 'CrossEntropy', 'colsample_bylevel': 0.05038831637235549, 'depth': 5, 'boosting_type': 'Ordered', 'bootstrap_type': 'Bayesian', 'bagging_temperature': 5.437472288674594}. Best is trial 44 with value: 0.9239130434782609.\u001b[0m\n",
      "\u001b[32m[I 2021-11-17 11:38:01,505]\u001b[0m Trial 47 finished with value: 0.9021739130434783 and parameters: {'objective': 'CrossEntropy', 'colsample_bylevel': 0.0592118335597346, 'depth': 8, 'boosting_type': 'Plain', 'bootstrap_type': 'Bernoulli', 'subsample': 0.4294993842905538}. Best is trial 44 with value: 0.9239130434782609.\u001b[0m\n",
      "\u001b[32m[I 2021-11-17 11:38:01,977]\u001b[0m Trial 48 finished with value: 0.907608695652174 and parameters: {'objective': 'CrossEntropy', 'colsample_bylevel': 0.0597646424183156, 'depth': 8, 'boosting_type': 'Plain', 'bootstrap_type': 'Bernoulli', 'subsample': 0.4623497357279982}. Best is trial 44 with value: 0.9239130434782609.\u001b[0m\n",
      "\u001b[32m[I 2021-11-17 11:38:02,411]\u001b[0m Trial 49 finished with value: 0.8858695652173914 and parameters: {'objective': 'CrossEntropy', 'colsample_bylevel': 0.06267034629796145, 'depth': 12, 'boosting_type': 'Plain', 'bootstrap_type': 'MVS'}. Best is trial 44 with value: 0.9239130434782609.\u001b[0m\n",
      "\u001b[32m[I 2021-11-17 11:38:02,653]\u001b[0m Trial 50 finished with value: 0.8315217391304348 and parameters: {'objective': 'CrossEntropy', 'colsample_bylevel': 0.05561327583171159, 'depth': 10, 'boosting_type': 'Plain', 'bootstrap_type': 'Bernoulli', 'subsample': 0.585463622423694}. Best is trial 44 with value: 0.9239130434782609.\u001b[0m\n",
      "\u001b[32m[I 2021-11-17 11:38:03,002]\u001b[0m Trial 51 finished with value: 0.8967391304347826 and parameters: {'objective': 'CrossEntropy', 'colsample_bylevel': 0.03421043150632743, 'depth': 7, 'boosting_type': 'Plain', 'bootstrap_type': 'Bernoulli', 'subsample': 0.4863388786293689}. Best is trial 44 with value: 0.9239130434782609.\u001b[0m\n",
      "\u001b[32m[I 2021-11-17 11:38:03,430]\u001b[0m Trial 52 finished with value: 0.9347826086956522 and parameters: {'objective': 'CrossEntropy', 'colsample_bylevel': 0.05857420246935079, 'depth': 8, 'boosting_type': 'Plain', 'bootstrap_type': 'Bernoulli', 'subsample': 0.5639073331681008}. Best is trial 52 with value: 0.9347826086956522.\u001b[0m\n",
      "\u001b[32m[I 2021-11-17 11:38:04,015]\u001b[0m Trial 53 finished with value: 0.9021739130434783 and parameters: {'objective': 'CrossEntropy', 'colsample_bylevel': 0.06809952458427784, 'depth': 8, 'boosting_type': 'Plain', 'bootstrap_type': 'Bernoulli', 'subsample': 0.5638613403618943}. Best is trial 52 with value: 0.9347826086956522.\u001b[0m\n",
      "\u001b[32m[I 2021-11-17 11:38:04,671]\u001b[0m Trial 54 finished with value: 0.907608695652174 and parameters: {'objective': 'CrossEntropy', 'colsample_bylevel': 0.076429264956096, 'depth': 9, 'boosting_type': 'Plain', 'bootstrap_type': 'Bernoulli', 'subsample': 0.5249774627438762}. Best is trial 52 with value: 0.9347826086956522.\u001b[0m\n",
      "\u001b[32m[I 2021-11-17 11:38:05,173]\u001b[0m Trial 55 finished with value: 0.8641304347826086 and parameters: {'objective': 'CrossEntropy', 'colsample_bylevel': 0.0795511117417982, 'depth': 10, 'boosting_type': 'Plain', 'bootstrap_type': 'Bernoulli', 'subsample': 0.6383096949397231}. Best is trial 52 with value: 0.9347826086956522.\u001b[0m\n",
      "\u001b[32m[I 2021-11-17 11:38:05,841]\u001b[0m Trial 56 finished with value: 0.875 and parameters: {'objective': 'CrossEntropy', 'colsample_bylevel': 0.08595133451711023, 'depth': 9, 'boosting_type': 'Plain', 'bootstrap_type': 'Bernoulli', 'subsample': 0.537753944269044}. Best is trial 52 with value: 0.9347826086956522.\u001b[0m\n",
      "\u001b[32m[I 2021-11-17 11:38:06,484]\u001b[0m Trial 57 finished with value: 0.8532608695652174 and parameters: {'objective': 'Logloss', 'colsample_bylevel': 0.09053900316664236, 'depth': 9, 'boosting_type': 'Plain', 'bootstrap_type': 'Bayesian', 'bagging_temperature': 2.8248415081318097}. Best is trial 52 with value: 0.9347826086956522.\u001b[0m\n",
      "\u001b[32m[I 2021-11-17 11:38:06,836]\u001b[0m Trial 58 finished with value: 0.8913043478260869 and parameters: {'objective': 'CrossEntropy', 'colsample_bylevel': 0.05124817299933591, 'depth': 8, 'boosting_type': 'Plain', 'bootstrap_type': 'Bernoulli', 'subsample': 0.39373135712404456}. Best is trial 52 with value: 0.9347826086956522.\u001b[0m\n",
      "\u001b[32m[I 2021-11-17 11:38:07,083]\u001b[0m Trial 59 finished with value: 0.8369565217391305 and parameters: {'objective': 'Logloss', 'colsample_bylevel': 0.06259111020531642, 'depth': 6, 'boosting_type': 'Plain', 'bootstrap_type': 'Bernoulli', 'subsample': 0.4776656257871511}. Best is trial 52 with value: 0.9347826086956522.\u001b[0m\n",
      "\u001b[32m[I 2021-11-17 11:38:07,476]\u001b[0m Trial 60 finished with value: 0.9021739130434783 and parameters: {'objective': 'Logloss', 'colsample_bylevel': 0.058672431929044144, 'depth': 6, 'boosting_type': 'Plain', 'bootstrap_type': 'MVS'}. Best is trial 52 with value: 0.9347826086956522.\u001b[0m\n",
      "\u001b[32m[I 2021-11-17 11:38:07,801]\u001b[0m Trial 61 finished with value: 0.8695652173913043 and parameters: {'objective': 'CrossEntropy', 'colsample_bylevel': 0.07274200547147498, 'depth': 8, 'boosting_type': 'Plain', 'bootstrap_type': 'Bernoulli', 'subsample': 0.5450050793112878}. Best is trial 52 with value: 0.9347826086956522.\u001b[0m\n",
      "\u001b[32m[I 2021-11-17 11:38:08,352]\u001b[0m Trial 62 finished with value: 0.875 and parameters: {'objective': 'CrossEntropy', 'colsample_bylevel': 0.07144856144829798, 'depth': 9, 'boosting_type': 'Plain', 'bootstrap_type': 'Bernoulli', 'subsample': 0.7192250822958209}. Best is trial 52 with value: 0.9347826086956522.\u001b[0m\n",
      "\u001b[32m[I 2021-11-17 11:38:08,918]\u001b[0m Trial 63 finished with value: 0.8804347826086957 and parameters: {'objective': 'CrossEntropy', 'colsample_bylevel': 0.07857409429062229, 'depth': 11, 'boosting_type': 'Plain', 'bootstrap_type': 'Bernoulli', 'subsample': 0.4603358297151242}. Best is trial 52 with value: 0.9347826086956522.\u001b[0m\n",
      "\u001b[32m[I 2021-11-17 11:38:09,316]\u001b[0m Trial 64 finished with value: 0.8858695652173914 and parameters: {'objective': 'CrossEntropy', 'colsample_bylevel': 0.05458860536804224, 'depth': 4, 'boosting_type': 'Plain', 'bootstrap_type': 'Bernoulli', 'subsample': 0.5331836676409798}. Best is trial 52 with value: 0.9347826086956522.\u001b[0m\n",
      "\u001b[32m[I 2021-11-17 11:38:09,754]\u001b[0m Trial 65 finished with value: 0.8586956521739131 and parameters: {'objective': 'CrossEntropy', 'colsample_bylevel': 0.0636717525630909, 'depth': 5, 'boosting_type': 'Plain', 'bootstrap_type': 'Bernoulli', 'subsample': 0.6127029585876347}. Best is trial 52 with value: 0.9347826086956522.\u001b[0m\n",
      "\u001b[32m[I 2021-11-17 11:38:10,160]\u001b[0m Trial 66 finished with value: 0.8804347826086957 and parameters: {'objective': 'CrossEntropy', 'colsample_bylevel': 0.04365548842491992, 'depth': 7, 'boosting_type': 'Plain', 'bootstrap_type': 'Bernoulli', 'subsample': 0.8001992595673834}. Best is trial 52 with value: 0.9347826086956522.\u001b[0m\n",
      "\u001b[32m[I 2021-11-17 11:38:10,609]\u001b[0m Trial 67 finished with value: 0.8586956521739131 and parameters: {'objective': 'Logloss', 'colsample_bylevel': 0.0947157508789356, 'depth': 8, 'boosting_type': 'Plain', 'bootstrap_type': 'Bernoulli', 'subsample': 0.384694089260512}. Best is trial 52 with value: 0.9347826086956522.\u001b[0m\n",
      "\u001b[32m[I 2021-11-17 11:38:10,995]\u001b[0m Trial 68 finished with value: 0.8206521739130435 and parameters: {'objective': 'CrossEntropy', 'colsample_bylevel': 0.07550519346393438, 'depth': 10, 'boosting_type': 'Plain', 'bootstrap_type': 'Bernoulli', 'subsample': 0.2744013992271887}. Best is trial 52 with value: 0.9347826086956522.\u001b[0m\n",
      "\u001b[32m[I 2021-11-17 11:38:11,350]\u001b[0m Trial 69 finished with value: 0.8641304347826086 and parameters: {'objective': 'CrossEntropy', 'colsample_bylevel': 0.0460667617506869, 'depth': 1, 'boosting_type': 'Plain', 'bootstrap_type': 'Bayesian', 'bagging_temperature': 7.855586624372952}. Best is trial 52 with value: 0.9347826086956522.\u001b[0m\n",
      "\u001b[32m[I 2021-11-17 11:38:11,759]\u001b[0m Trial 70 finished with value: 0.8804347826086957 and parameters: {'objective': 'Logloss', 'colsample_bylevel': 0.06591617498495303, 'depth': 3, 'boosting_type': 'Plain', 'bootstrap_type': 'Bernoulli', 'subsample': 0.5764388056495099}. Best is trial 52 with value: 0.9347826086956522.\u001b[0m\n",
      "\u001b[32m[I 2021-11-17 11:38:12,270]\u001b[0m Trial 71 finished with value: 0.907608695652174 and parameters: {'objective': 'Logloss', 'colsample_bylevel': 0.05842455813840229, 'depth': 6, 'boosting_type': 'Plain', 'bootstrap_type': 'MVS'}. Best is trial 52 with value: 0.9347826086956522.\u001b[0m\n",
      "\u001b[32m[I 2021-11-17 11:38:12,701]\u001b[0m Trial 72 finished with value: 0.907608695652174 and parameters: {'objective': 'Logloss', 'colsample_bylevel': 0.05765230618996257, 'depth': 6, 'boosting_type': 'Plain', 'bootstrap_type': 'MVS'}. Best is trial 52 with value: 0.9347826086956522.\u001b[0m\n",
      "\u001b[32m[I 2021-11-17 11:38:13,158]\u001b[0m Trial 73 finished with value: 0.8858695652173914 and parameters: {'objective': 'Logloss', 'colsample_bylevel': 0.05265643090171399, 'depth': 7, 'boosting_type': 'Plain', 'bootstrap_type': 'MVS'}. Best is trial 52 with value: 0.9347826086956522.\u001b[0m\n",
      "\u001b[32m[I 2021-11-17 11:38:13,491]\u001b[0m Trial 74 finished with value: 0.9184782608695652 and parameters: {'objective': 'Logloss', 'colsample_bylevel': 0.06009953111569766, 'depth': 6, 'boosting_type': 'Plain', 'bootstrap_type': 'MVS'}. Best is trial 52 with value: 0.9347826086956522.\u001b[0m\n",
      "\u001b[32m[I 2021-11-17 11:38:13,786]\u001b[0m Trial 75 finished with value: 0.8804347826086957 and parameters: {'objective': 'Logloss', 'colsample_bylevel': 0.049684447735277006, 'depth': 5, 'boosting_type': 'Plain', 'bootstrap_type': 'MVS'}. Best is trial 52 with value: 0.9347826086956522.\u001b[0m\n",
      "\u001b[32m[I 2021-11-17 11:38:14,325]\u001b[0m Trial 76 finished with value: 0.9130434782608695 and parameters: {'objective': 'Logloss', 'colsample_bylevel': 0.06062609425587563, 'depth': 8, 'boosting_type': 'Plain', 'bootstrap_type': 'Bernoulli', 'subsample': 0.6954822344074738}. Best is trial 52 with value: 0.9347826086956522.\u001b[0m\n",
      "\u001b[32m[I 2021-11-17 11:38:14,647]\u001b[0m Trial 77 finished with value: 0.8641304347826086 and parameters: {'objective': 'Logloss', 'colsample_bylevel': 0.040070789865303914, 'depth': 9, 'boosting_type': 'Plain', 'bootstrap_type': 'MVS'}. Best is trial 52 with value: 0.9347826086956522.\u001b[0m\n",
      "\u001b[32m[I 2021-11-17 11:38:14,993]\u001b[0m Trial 78 finished with value: 0.875 and parameters: {'objective': 'Logloss', 'colsample_bylevel': 0.06843826433441451, 'depth': 6, 'boosting_type': 'Plain', 'bootstrap_type': 'MVS'}. Best is trial 52 with value: 0.9347826086956522.\u001b[0m\n",
      "\u001b[32m[I 2021-11-17 11:38:15,277]\u001b[0m Trial 79 finished with value: 0.875 and parameters: {'objective': 'CrossEntropy', 'colsample_bylevel': 0.06085609154038405, 'depth': 8, 'boosting_type': 'Plain', 'bootstrap_type': 'Bernoulli', 'subsample': 0.7058442128274365}. Best is trial 52 with value: 0.9347826086956522.\u001b[0m\n",
      "\u001b[32m[I 2021-11-17 11:38:15,663]\u001b[0m Trial 80 finished with value: 0.8586956521739131 and parameters: {'objective': 'CrossEntropy', 'colsample_bylevel': 0.012789883100231448, 'depth': 8, 'boosting_type': 'Plain', 'bootstrap_type': 'Bernoulli', 'subsample': 0.7519914085987465}. Best is trial 52 with value: 0.9347826086956522.\u001b[0m\n",
      "\u001b[32m[I 2021-11-17 11:38:16,221]\u001b[0m Trial 81 finished with value: 0.8913043478260869 and parameters: {'objective': 'Logloss', 'colsample_bylevel': 0.05563615307757318, 'depth': 6, 'boosting_type': 'Plain', 'bootstrap_type': 'MVS'}. Best is trial 52 with value: 0.9347826086956522.\u001b[0m\n",
      "\u001b[32m[I 2021-11-17 11:38:16,563]\u001b[0m Trial 82 finished with value: 0.8913043478260869 and parameters: {'objective': 'Logloss', 'colsample_bylevel': 0.057361154969991696, 'depth': 7, 'boosting_type': 'Plain', 'bootstrap_type': 'MVS'}. Best is trial 52 with value: 0.9347826086956522.\u001b[0m\n",
      "\u001b[32m[I 2021-11-17 11:38:16,841]\u001b[0m Trial 83 finished with value: 0.8641304347826086 and parameters: {'objective': 'Logloss', 'colsample_bylevel': 0.06626883943728222, 'depth': 6, 'boosting_type': 'Plain', 'bootstrap_type': 'MVS'}. Best is trial 52 with value: 0.9347826086956522.\u001b[0m\n",
      "\u001b[32m[I 2021-11-17 11:38:18,354]\u001b[0m Trial 84 finished with value: 0.8967391304347826 and parameters: {'objective': 'Logloss', 'colsample_bylevel': 0.06058090744625822, 'depth': 5, 'boosting_type': 'Ordered', 'bootstrap_type': 'MVS'}. Best is trial 52 with value: 0.9347826086956522.\u001b[0m\n",
      "\u001b[32m[I 2021-11-17 11:38:18,661]\u001b[0m Trial 85 finished with value: 0.875 and parameters: {'objective': 'Logloss', 'colsample_bylevel': 0.06997554959792442, 'depth': 7, 'boosting_type': 'Plain', 'bootstrap_type': 'Bernoulli', 'subsample': 0.6542289417548786}. Best is trial 52 with value: 0.9347826086956522.\u001b[0m\n",
      "\u001b[32m[I 2021-11-17 11:38:19,062]\u001b[0m Trial 86 finished with value: 0.8586956521739131 and parameters: {'objective': 'Logloss', 'colsample_bylevel': 0.0530375412681172, 'depth': 5, 'boosting_type': 'Plain', 'bootstrap_type': 'Bernoulli', 'subsample': 0.8792925048949434}. Best is trial 52 with value: 0.9347826086956522.\u001b[0m\n",
      "\u001b[32m[I 2021-11-17 11:38:19,455]\u001b[0m Trial 87 finished with value: 0.8913043478260869 and parameters: {'objective': 'CrossEntropy', 'colsample_bylevel': 0.03594401026557361, 'depth': 8, 'boosting_type': 'Plain', 'bootstrap_type': 'Bernoulli', 'subsample': 0.1496405580558369}. Best is trial 52 with value: 0.9347826086956522.\u001b[0m\n",
      "\u001b[32m[I 2021-11-17 11:38:20,028]\u001b[0m Trial 88 finished with value: 0.9130434782608695 and parameters: {'objective': 'CrossEntropy', 'colsample_bylevel': 0.06498138379453496, 'depth': 7, 'boosting_type': 'Plain', 'bootstrap_type': 'MVS'}. Best is trial 52 with value: 0.9347826086956522.\u001b[0m\n",
      "\u001b[32m[I 2021-11-17 11:38:21,755]\u001b[0m Trial 89 finished with value: 0.8695652173913043 and parameters: {'objective': 'CrossEntropy', 'colsample_bylevel': 0.06131789915528287, 'depth': 7, 'boosting_type': 'Ordered', 'bootstrap_type': 'Bayesian', 'bagging_temperature': 7.247794786509184}. Best is trial 52 with value: 0.9347826086956522.\u001b[0m\n",
      "\u001b[32m[I 2021-11-17 11:38:22,315]\u001b[0m Trial 90 finished with value: 0.8695652173913043 and parameters: {'objective': 'CrossEntropy', 'colsample_bylevel': 0.0826336803633795, 'depth': 8, 'boosting_type': 'Plain', 'bootstrap_type': 'Bernoulli', 'subsample': 0.5140509575987346}. Best is trial 52 with value: 0.9347826086956522.\u001b[0m\n",
      "\u001b[32m[I 2021-11-17 11:38:22,716]\u001b[0m Trial 91 finished with value: 0.8804347826086957 and parameters: {'objective': 'CrossEntropy', 'colsample_bylevel': 0.06494082733285671, 'depth': 9, 'boosting_type': 'Plain', 'bootstrap_type': 'Bernoulli', 'subsample': 0.21145104291282532}. Best is trial 52 with value: 0.9347826086956522.\u001b[0m\n",
      "\u001b[32m[I 2021-11-17 11:38:22,996]\u001b[0m Trial 92 finished with value: 0.9021739130434783 and parameters: {'objective': 'CrossEntropy', 'colsample_bylevel': 0.05589888932917828, 'depth': 7, 'boosting_type': 'Plain', 'bootstrap_type': 'MVS'}. Best is trial 52 with value: 0.9347826086956522.\u001b[0m\n",
      "\u001b[32m[I 2021-11-17 11:38:23,405]\u001b[0m Trial 93 finished with value: 0.8641304347826086 and parameters: {'objective': 'CrossEntropy', 'colsample_bylevel': 0.05980208604247849, 'depth': 8, 'boosting_type': 'Plain', 'bootstrap_type': 'MVS'}. Best is trial 52 with value: 0.9347826086956522.\u001b[0m\n",
      "\u001b[32m[I 2021-11-17 11:38:23,820]\u001b[0m Trial 94 finished with value: 0.8858695652173914 and parameters: {'objective': 'Logloss', 'colsample_bylevel': 0.0516392716225991, 'depth': 4, 'boosting_type': 'Plain', 'bootstrap_type': 'MVS'}. Best is trial 52 with value: 0.9347826086956522.\u001b[0m\n",
      "\u001b[32m[I 2021-11-17 11:38:24,264]\u001b[0m Trial 95 finished with value: 0.8804347826086957 and parameters: {'objective': 'CrossEntropy', 'colsample_bylevel': 0.04814438430995834, 'depth': 9, 'boosting_type': 'Plain', 'bootstrap_type': 'Bernoulli', 'subsample': 0.25111534565232435}. Best is trial 52 with value: 0.9347826086956522.\u001b[0m\n",
      "\u001b[32m[I 2021-11-17 11:38:24,584]\u001b[0m Trial 96 finished with value: 0.8967391304347826 and parameters: {'objective': 'CrossEntropy', 'colsample_bylevel': 0.0700605173250379, 'depth': 7, 'boosting_type': 'Plain', 'bootstrap_type': 'MVS'}. Best is trial 52 with value: 0.9347826086956522.\u001b[0m\n",
      "\u001b[32m[I 2021-11-17 11:38:25,747]\u001b[0m Trial 97 finished with value: 0.8967391304347826 and parameters: {'objective': 'CrossEntropy', 'colsample_bylevel': 0.07420043104226684, 'depth': 7, 'boosting_type': 'Ordered', 'bootstrap_type': 'Bernoulli', 'subsample': 0.6873595823148861}. Best is trial 52 with value: 0.9347826086956522.\u001b[0m\n",
      "\u001b[32m[I 2021-11-17 11:38:26,264]\u001b[0m Trial 98 finished with value: 0.9293478260869565 and parameters: {'objective': 'Logloss', 'colsample_bylevel': 0.05745201342522783, 'depth': 6, 'boosting_type': 'Plain', 'bootstrap_type': 'MVS'}. Best is trial 52 with value: 0.9347826086956522.\u001b[0m\n",
      "\u001b[32m[I 2021-11-17 11:38:26,675]\u001b[0m Trial 99 finished with value: 0.8478260869565217 and parameters: {'objective': 'CrossEntropy', 'colsample_bylevel': 0.030464307839500306, 'depth': 8, 'boosting_type': 'Plain', 'bootstrap_type': 'MVS'}. Best is trial 52 with value: 0.9347826086956522.\u001b[0m\n",
      "\u001b[32m[I 2021-11-17 11:38:27,086]\u001b[0m Trial 100 finished with value: 0.8586956521739131 and parameters: {'objective': 'Logloss', 'colsample_bylevel': 0.057878694240057905, 'depth': 6, 'boosting_type': 'Plain', 'bootstrap_type': 'MVS'}. Best is trial 52 with value: 0.9347826086956522.\u001b[0m\n",
      "\u001b[32m[I 2021-11-17 11:38:27,464]\u001b[0m Trial 101 finished with value: 0.8641304347826086 and parameters: {'objective': 'Logloss', 'colsample_bylevel': 0.06257356897756121, 'depth': 6, 'boosting_type': 'Plain', 'bootstrap_type': 'MVS'}. Best is trial 52 with value: 0.9347826086956522.\u001b[0m\n",
      "\u001b[32m[I 2021-11-17 11:38:27,855]\u001b[0m Trial 102 finished with value: 0.875 and parameters: {'objective': 'Logloss', 'colsample_bylevel': 0.06400443365068757, 'depth': 6, 'boosting_type': 'Plain', 'bootstrap_type': 'MVS'}. Best is trial 52 with value: 0.9347826086956522.\u001b[0m\n",
      "\u001b[32m[I 2021-11-17 11:38:28,177]\u001b[0m Trial 103 finished with value: 0.8804347826086957 and parameters: {'objective': 'Logloss', 'colsample_bylevel': 0.055041060547834864, 'depth': 5, 'boosting_type': 'Plain', 'bootstrap_type': 'MVS'}. Best is trial 52 with value: 0.9347826086956522.\u001b[0m\n",
      "\u001b[32m[I 2021-11-17 11:38:28,685]\u001b[0m Trial 104 finished with value: 0.8858695652173914 and parameters: {'objective': 'Logloss', 'colsample_bylevel': 0.05676493285498019, 'depth': 7, 'boosting_type': 'Plain', 'bootstrap_type': 'MVS'}. Best is trial 52 with value: 0.9347826086956522.\u001b[0m\n",
      "\u001b[32m[I 2021-11-17 11:38:29,140]\u001b[0m Trial 105 finished with value: 0.8967391304347826 and parameters: {'objective': 'Logloss', 'colsample_bylevel': 0.06665785883669734, 'depth': 9, 'boosting_type': 'Plain', 'bootstrap_type': 'MVS'}. Best is trial 52 with value: 0.9347826086956522.\u001b[0m\n",
      "\u001b[32m[I 2021-11-17 11:38:29,612]\u001b[0m Trial 106 finished with value: 0.8804347826086957 and parameters: {'objective': 'Logloss', 'colsample_bylevel': 0.053306253013649246, 'depth': 6, 'boosting_type': 'Plain', 'bootstrap_type': 'MVS'}. Best is trial 52 with value: 0.9347826086956522.\u001b[0m\n",
      "\u001b[32m[I 2021-11-17 11:38:30,002]\u001b[0m Trial 107 finished with value: 0.8858695652173914 and parameters: {'objective': 'CrossEntropy', 'colsample_bylevel': 0.058779096140081324, 'depth': 8, 'boosting_type': 'Plain', 'bootstrap_type': 'MVS'}. Best is trial 52 with value: 0.9347826086956522.\u001b[0m\n",
      "\u001b[32m[I 2021-11-17 11:38:31,213]\u001b[0m Trial 108 finished with value: 0.8804347826086957 and parameters: {'objective': 'Logloss', 'colsample_bylevel': 0.050442080656537415, 'depth': 2, 'boosting_type': 'Ordered', 'bootstrap_type': 'Bernoulli', 'subsample': 0.31867775068871185}. Best is trial 52 with value: 0.9347826086956522.\u001b[0m\n",
      "\u001b[32m[I 2021-11-17 11:38:31,556]\u001b[0m Trial 109 finished with value: 0.8695652173913043 and parameters: {'objective': 'Logloss', 'colsample_bylevel': 0.061712912918791094, 'depth': 5, 'boosting_type': 'Plain', 'bootstrap_type': 'MVS'}. Best is trial 52 with value: 0.9347826086956522.\u001b[0m\n",
      "\u001b[32m[I 2021-11-17 11:38:31,860]\u001b[0m Trial 110 finished with value: 0.8315217391304348 and parameters: {'objective': 'CrossEntropy', 'colsample_bylevel': 0.05427768686838916, 'depth': 4, 'boosting_type': 'Plain', 'bootstrap_type': 'Bernoulli', 'subsample': 0.1782703537368785}. Best is trial 52 with value: 0.9347826086956522.\u001b[0m\n",
      "\u001b[32m[I 2021-11-17 11:38:32,082]\u001b[0m Trial 111 finished with value: 0.8586956521739131 and parameters: {'objective': 'Logloss', 'colsample_bylevel': 0.04579640173382447, 'depth': 5, 'boosting_type': 'Plain', 'bootstrap_type': 'Bernoulli', 'subsample': 0.6298442495166231}. Best is trial 52 with value: 0.9347826086956522.\u001b[0m\n",
      "\u001b[32m[I 2021-11-17 11:38:32,576]\u001b[0m Trial 112 finished with value: 0.9239130434782609 and parameters: {'objective': 'Logloss', 'colsample_bylevel': 0.06039747789245738, 'depth': 7, 'boosting_type': 'Plain', 'bootstrap_type': 'Bernoulli', 'subsample': 0.3367412714916854}. Best is trial 52 with value: 0.9347826086956522.\u001b[0m\n",
      "\u001b[32m[I 2021-11-17 11:38:32,948]\u001b[0m Trial 113 finished with value: 0.8695652173913043 and parameters: {'objective': 'Logloss', 'colsample_bylevel': 0.06469093637330349, 'depth': 7, 'boosting_type': 'Plain', 'bootstrap_type': 'Bernoulli', 'subsample': 0.46028381682650443}. Best is trial 52 with value: 0.9347826086956522.\u001b[0m\n",
      "\u001b[32m[I 2021-11-17 11:38:33,202]\u001b[0m Trial 114 finished with value: 0.8586956521739131 and parameters: {'objective': 'Logloss', 'colsample_bylevel': 0.057101345451589826, 'depth': 6, 'boosting_type': 'Plain', 'bootstrap_type': 'MVS'}. Best is trial 52 with value: 0.9347826086956522.\u001b[0m\n",
      "\u001b[32m[I 2021-11-17 11:38:33,558]\u001b[0m Trial 115 finished with value: 0.875 and parameters: {'objective': 'Logloss', 'colsample_bylevel': 0.06847338542075272, 'depth': 7, 'boosting_type': 'Plain', 'bootstrap_type': 'Bernoulli', 'subsample': 0.2773817709171966}. Best is trial 52 with value: 0.9347826086956522.\u001b[0m\n",
      "\u001b[32m[I 2021-11-17 11:38:34,049]\u001b[0m Trial 116 finished with value: 0.8858695652173914 and parameters: {'objective': 'CrossEntropy', 'colsample_bylevel': 0.06089481249913475, 'depth': 6, 'boosting_type': 'Plain', 'bootstrap_type': 'Bayesian', 'bagging_temperature': 2.555572848012462}. Best is trial 52 with value: 0.9347826086956522.\u001b[0m\n",
      "\u001b[32m[I 2021-11-17 11:38:34,621]\u001b[0m Trial 117 finished with value: 0.8695652173913043 and parameters: {'objective': 'CrossEntropy', 'colsample_bylevel': 0.07831085875189274, 'depth': 8, 'boosting_type': 'Plain', 'bootstrap_type': 'Bernoulli', 'subsample': 0.42182583873284674}. Best is trial 52 with value: 0.9347826086956522.\u001b[0m\n",
      "\u001b[32m[I 2021-11-17 11:38:35,487]\u001b[0m Trial 118 finished with value: 0.8641304347826086 and parameters: {'objective': 'Logloss', 'colsample_bylevel': 0.0578531077739423, 'depth': 6, 'boosting_type': 'Ordered', 'bootstrap_type': 'MVS'}. Best is trial 52 with value: 0.9347826086956522.\u001b[0m\n",
      "\u001b[32m[I 2021-11-17 11:38:35,852]\u001b[0m Trial 119 finished with value: 0.875 and parameters: {'objective': 'CrossEntropy', 'colsample_bylevel': 0.021071033808589962, 'depth': 7, 'boosting_type': 'Plain', 'bootstrap_type': 'Bernoulli', 'subsample': 0.8100624738645511}. Best is trial 52 with value: 0.9347826086956522.\u001b[0m\n",
      "\u001b[32m[I 2021-11-17 11:38:36,148]\u001b[0m Trial 120 finished with value: 0.8478260869565217 and parameters: {'objective': 'CrossEntropy', 'colsample_bylevel': 0.05959377131329504, 'depth': 3, 'boosting_type': 'Plain', 'bootstrap_type': 'Bernoulli', 'subsample': 0.37143752465397295}. Best is trial 52 with value: 0.9347826086956522.\u001b[0m\n",
      "\u001b[32m[I 2021-11-17 11:38:36,644]\u001b[0m Trial 121 finished with value: 0.9130434782608695 and parameters: {'objective': 'Logloss', 'colsample_bylevel': 0.06283688996159136, 'depth': 6, 'boosting_type': 'Plain', 'bootstrap_type': 'Bernoulli', 'subsample': 0.5881164299434092}. Best is trial 52 with value: 0.9347826086956522.\u001b[0m\n",
      "\u001b[32m[I 2021-11-17 11:38:36,943]\u001b[0m Trial 122 finished with value: 0.8478260869565217 and parameters: {'objective': 'Logloss', 'colsample_bylevel': 0.06233766267484247, 'depth': 7, 'boosting_type': 'Plain', 'bootstrap_type': 'Bernoulli', 'subsample': 0.5900894478586631}. Best is trial 52 with value: 0.9347826086956522.\u001b[0m\n",
      "\u001b[32m[I 2021-11-17 11:38:37,429]\u001b[0m Trial 123 finished with value: 0.8967391304347826 and parameters: {'objective': 'Logloss', 'colsample_bylevel': 0.0657271141734761, 'depth': 6, 'boosting_type': 'Plain', 'bootstrap_type': 'MVS'}. Best is trial 52 with value: 0.9347826086956522.\u001b[0m\n",
      "\u001b[32m[I 2021-11-17 11:38:37,907]\u001b[0m Trial 124 finished with value: 0.8967391304347826 and parameters: {'objective': 'Logloss', 'colsample_bylevel': 0.05940842100555297, 'depth': 6, 'boosting_type': 'Plain', 'bootstrap_type': 'Bernoulli', 'subsample': 0.7543882576342911}. Best is trial 52 with value: 0.9347826086956522.\u001b[0m\n",
      "\u001b[32m[I 2021-11-17 11:38:38,243]\u001b[0m Trial 125 finished with value: 0.8858695652173914 and parameters: {'objective': 'Logloss', 'colsample_bylevel': 0.06299914611164774, 'depth': 8, 'boosting_type': 'Plain', 'bootstrap_type': 'Bernoulli', 'subsample': 0.5138395471915909}. Best is trial 52 with value: 0.9347826086956522.\u001b[0m\n",
      "\u001b[32m[I 2021-11-17 11:38:38,575]\u001b[0m Trial 126 finished with value: 0.842391304347826 and parameters: {'objective': 'Logloss', 'colsample_bylevel': 0.05598603381602174, 'depth': 6, 'boosting_type': 'Plain', 'bootstrap_type': 'MVS'}. Best is trial 52 with value: 0.9347826086956522.\u001b[0m\n",
      "\u001b[32m[I 2021-11-17 11:38:38,808]\u001b[0m Trial 127 finished with value: 0.8641304347826086 and parameters: {'objective': 'Logloss', 'colsample_bylevel': 0.05807407152511259, 'depth': 11, 'boosting_type': 'Plain', 'bootstrap_type': 'Bernoulli', 'subsample': 0.5587178170841959}. Best is trial 52 with value: 0.9347826086956522.\u001b[0m\n",
      "\u001b[32m[I 2021-11-17 11:38:39,186]\u001b[0m Trial 128 finished with value: 0.8695652173913043 and parameters: {'objective': 'CrossEntropy', 'colsample_bylevel': 0.08564221503810006, 'depth': 7, 'boosting_type': 'Plain', 'bootstrap_type': 'Bernoulli', 'subsample': 0.6649821234597562}. Best is trial 52 with value: 0.9347826086956522.\u001b[0m\n",
      "\u001b[32m[I 2021-11-17 11:38:40,334]\u001b[0m Trial 129 finished with value: 0.8695652173913043 and parameters: {'objective': 'Logloss', 'colsample_bylevel': 0.024198395652683894, 'depth': 6, 'boosting_type': 'Ordered', 'bootstrap_type': 'Bayesian', 'bagging_temperature': 3.3878378076631}. Best is trial 52 with value: 0.9347826086956522.\u001b[0m\n",
      "\u001b[32m[I 2021-11-17 11:38:40,872]\u001b[0m Trial 130 finished with value: 0.9021739130434783 and parameters: {'objective': 'Logloss', 'colsample_bylevel': 0.05172539108480914, 'depth': 7, 'boosting_type': 'Plain', 'bootstrap_type': 'MVS'}. Best is trial 52 with value: 0.9347826086956522.\u001b[0m\n",
      "\u001b[32m[I 2021-11-17 11:38:41,155]\u001b[0m Trial 131 finished with value: 0.8369565217391305 and parameters: {'objective': 'Logloss', 'colsample_bylevel': 0.05454391292323116, 'depth': 5, 'boosting_type': 'Plain', 'bootstrap_type': 'Bernoulli', 'subsample': 0.3252504745023811}. Best is trial 52 with value: 0.9347826086956522.\u001b[0m\n",
      "\u001b[32m[I 2021-11-17 11:38:41,508]\u001b[0m Trial 132 finished with value: 0.8641304347826086 and parameters: {'objective': 'Logloss', 'colsample_bylevel': 0.014234074669439361, 'depth': 9, 'boosting_type': 'Plain', 'bootstrap_type': 'Bernoulli', 'subsample': 0.2526412235876107}. Best is trial 52 with value: 0.9347826086956522.\u001b[0m\n",
      "\u001b[32m[I 2021-11-17 11:38:41,951]\u001b[0m Trial 133 finished with value: 0.8804347826086957 and parameters: {'objective': 'Logloss', 'colsample_bylevel': 0.05989389538632414, 'depth': 5, 'boosting_type': 'Plain', 'bootstrap_type': 'Bernoulli', 'subsample': 0.22458587967068805}. Best is trial 52 with value: 0.9347826086956522.\u001b[0m\n",
      "\u001b[32m[I 2021-11-17 11:38:42,330]\u001b[0m Trial 134 finished with value: 0.8967391304347826 and parameters: {'objective': 'CrossEntropy', 'colsample_bylevel': 0.06422338366928616, 'depth': 8, 'boosting_type': 'Plain', 'bootstrap_type': 'Bernoulli', 'subsample': 0.6145407371404061}. Best is trial 52 with value: 0.9347826086956522.\u001b[0m\n",
      "\u001b[32m[I 2021-11-17 11:38:42,732]\u001b[0m Trial 135 finished with value: 0.8586956521739131 and parameters: {'objective': 'Logloss', 'colsample_bylevel': 0.07186614990173135, 'depth': 7, 'boosting_type': 'Plain', 'bootstrap_type': 'Bernoulli', 'subsample': 0.4946956548547986}. Best is trial 52 with value: 0.9347826086956522.\u001b[0m\n",
      "\u001b[32m[I 2021-11-17 11:38:43,135]\u001b[0m Trial 136 finished with value: 0.8967391304347826 and parameters: {'objective': 'Logloss', 'colsample_bylevel': 0.049714059063331345, 'depth': 6, 'boosting_type': 'Plain', 'bootstrap_type': 'Bernoulli', 'subsample': 0.29841475208283397}. Best is trial 52 with value: 0.9347826086956522.\u001b[0m\n",
      "\u001b[32m[I 2021-11-17 11:38:43,447]\u001b[0m Trial 137 finished with value: 0.8532608695652174 and parameters: {'objective': 'CrossEntropy', 'colsample_bylevel': 0.061691039906633396, 'depth': 7, 'boosting_type': 'Plain', 'bootstrap_type': 'MVS'}. Best is trial 52 with value: 0.9347826086956522.\u001b[0m\n",
      "\u001b[32m[I 2021-11-17 11:38:43,773]\u001b[0m Trial 138 finished with value: 0.875 and parameters: {'objective': 'Logloss', 'colsample_bylevel': 0.05647806489186247, 'depth': 1, 'boosting_type': 'Plain', 'bootstrap_type': 'Bernoulli', 'subsample': 0.34486021784773563}. Best is trial 52 with value: 0.9347826086956522.\u001b[0m\n",
      "\u001b[32m[I 2021-11-17 11:38:44,756]\u001b[0m Trial 139 finished with value: 0.8858695652173914 and parameters: {'objective': 'Logloss', 'colsample_bylevel': 0.0681079646817505, 'depth': 6, 'boosting_type': 'Ordered', 'bootstrap_type': 'MVS'}. Best is trial 52 with value: 0.9347826086956522.\u001b[0m\n",
      "\u001b[32m[I 2021-11-17 11:38:45,089]\u001b[0m Trial 140 finished with value: 0.875 and parameters: {'objective': 'CrossEntropy', 'colsample_bylevel': 0.052114919073282175, 'depth': 8, 'boosting_type': 'Plain', 'bootstrap_type': 'Bernoulli', 'subsample': 0.4102983975256184}. Best is trial 52 with value: 0.9347826086956522.\u001b[0m\n",
      "\u001b[32m[I 2021-11-17 11:38:45,437]\u001b[0m Trial 141 finished with value: 0.8695652173913043 and parameters: {'objective': 'Logloss', 'colsample_bylevel': 0.060518797873159884, 'depth': 5, 'boosting_type': 'Plain', 'bootstrap_type': 'Bernoulli', 'subsample': 0.5699763998647643}. Best is trial 52 with value: 0.9347826086956522.\u001b[0m\n",
      "\u001b[32m[I 2021-11-17 11:38:45,897]\u001b[0m Trial 142 finished with value: 0.8804347826086957 and parameters: {'objective': 'Logloss', 'colsample_bylevel': 0.054002136269636986, 'depth': 6, 'boosting_type': 'Plain', 'bootstrap_type': 'Bernoulli', 'subsample': 0.44688295499034714}. Best is trial 52 with value: 0.9347826086956522.\u001b[0m\n",
      "\u001b[32m[I 2021-11-17 11:38:46,215]\u001b[0m Trial 143 finished with value: 0.8695652173913043 and parameters: {'objective': 'Logloss', 'colsample_bylevel': 0.05852973074578406, 'depth': 4, 'boosting_type': 'Plain', 'bootstrap_type': 'Bernoulli', 'subsample': 0.5273641134993363}. Best is trial 52 with value: 0.9347826086956522.\u001b[0m\n",
      "\u001b[32m[I 2021-11-17 11:38:46,509]\u001b[0m Trial 144 finished with value: 0.8586956521739131 and parameters: {'objective': 'Logloss', 'colsample_bylevel': 0.04379393881880288, 'depth': 9, 'boosting_type': 'Plain', 'bootstrap_type': 'Bernoulli', 'subsample': 0.11186847055059074}. Best is trial 52 with value: 0.9347826086956522.\u001b[0m\n",
      "\u001b[32m[I 2021-11-17 11:38:46,929]\u001b[0m Trial 145 finished with value: 0.9021739130434783 and parameters: {'objective': 'CrossEntropy', 'colsample_bylevel': 0.05588224395174489, 'depth': 6, 'boosting_type': 'Plain', 'bootstrap_type': 'Bernoulli', 'subsample': 0.19462604179643062}. Best is trial 52 with value: 0.9347826086956522.\u001b[0m\n",
      "\u001b[32m[I 2021-11-17 11:38:47,460]\u001b[0m Trial 146 finished with value: 0.8913043478260869 and parameters: {'objective': 'Logloss', 'colsample_bylevel': 0.06354945886521599, 'depth': 7, 'boosting_type': 'Plain', 'bootstrap_type': 'MVS'}. Best is trial 52 with value: 0.9347826086956522.\u001b[0m\n",
      "\u001b[32m[I 2021-11-17 11:38:47,786]\u001b[0m Trial 147 finished with value: 0.8695652173913043 and parameters: {'objective': 'CrossEntropy', 'colsample_bylevel': 0.039852178988132925, 'depth': 6, 'boosting_type': 'Plain', 'bootstrap_type': 'Bernoulli', 'subsample': 0.4733984449240627}. Best is trial 52 with value: 0.9347826086956522.\u001b[0m\n",
      "\u001b[32m[I 2021-11-17 11:38:48,094]\u001b[0m Trial 148 finished with value: 0.8695652173913043 and parameters: {'objective': 'Logloss', 'colsample_bylevel': 0.05749476742016063, 'depth': 2, 'boosting_type': 'Plain', 'bootstrap_type': 'Bernoulli', 'subsample': 0.5515781154609782}. Best is trial 52 with value: 0.9347826086956522.\u001b[0m\n",
      "\u001b[32m[I 2021-11-17 11:38:48,405]\u001b[0m Trial 149 finished with value: 0.8369565217391305 and parameters: {'objective': 'CrossEntropy', 'colsample_bylevel': 0.04850209203648754, 'depth': 8, 'boosting_type': 'Plain', 'bootstrap_type': 'MVS'}. Best is trial 52 with value: 0.9347826086956522.\u001b[0m\n",
      "\u001b[32m[I 2021-11-17 11:38:48,839]\u001b[0m Trial 150 finished with value: 0.9021739130434783 and parameters: {'objective': 'Logloss', 'colsample_bylevel': 0.06090983784428696, 'depth': 3, 'boosting_type': 'Plain', 'bootstrap_type': 'Bernoulli', 'subsample': 0.6420244442602693}. Best is trial 52 with value: 0.9347826086956522.\u001b[0m\n",
      "\u001b[32m[I 2021-11-17 11:38:49,280]\u001b[0m Trial 151 finished with value: 0.8913043478260869 and parameters: {'objective': 'CrossEntropy', 'colsample_bylevel': 0.03573384677430389, 'depth': 7, 'boosting_type': 'Plain', 'bootstrap_type': 'Bernoulli', 'subsample': 0.29770334314504304}. Best is trial 52 with value: 0.9347826086956522.\u001b[0m\n",
      "\u001b[32m[I 2021-11-17 11:38:50,346]\u001b[0m Trial 152 finished with value: 0.8804347826086957 and parameters: {'objective': 'CrossEntropy', 'colsample_bylevel': 0.030843276691400134, 'depth': 7, 'boosting_type': 'Ordered', 'bootstrap_type': 'Bernoulli', 'subsample': 0.25360121596535773}. Best is trial 52 with value: 0.9347826086956522.\u001b[0m\n",
      "\u001b[32m[I 2021-11-17 11:38:51,466]\u001b[0m Trial 153 finished with value: 0.8532608695652174 and parameters: {'objective': 'CrossEntropy', 'colsample_bylevel': 0.028037642842820017, 'depth': 10, 'boosting_type': 'Ordered', 'bootstrap_type': 'Bernoulli', 'subsample': 0.3317045802526424}. Best is trial 52 with value: 0.9347826086956522.\u001b[0m\n",
      "\u001b[32m[I 2021-11-17 11:38:52,570]\u001b[0m Trial 154 finished with value: 0.8858695652173914 and parameters: {'objective': 'CrossEntropy', 'colsample_bylevel': 0.022848505216641342, 'depth': 7, 'boosting_type': 'Ordered', 'bootstrap_type': 'Bernoulli', 'subsample': 0.39565098305646224}. Best is trial 52 with value: 0.9347826086956522.\u001b[0m\n",
      "\u001b[32m[I 2021-11-17 11:38:53,709]\u001b[0m Trial 155 finished with value: 0.8532608695652174 and parameters: {'objective': 'CrossEntropy', 'colsample_bylevel': 0.032593513719752706, 'depth': 6, 'boosting_type': 'Ordered', 'bootstrap_type': 'Bernoulli', 'subsample': 0.6017166809689158}. Best is trial 52 with value: 0.9347826086956522.\u001b[0m\n",
      "\u001b[32m[I 2021-11-17 11:38:54,059]\u001b[0m Trial 156 finished with value: 0.8967391304347826 and parameters: {'objective': 'Logloss', 'colsample_bylevel': 0.05040935173438124, 'depth': 7, 'boosting_type': 'Plain', 'bootstrap_type': 'MVS'}. Best is trial 52 with value: 0.9347826086956522.\u001b[0m\n",
      "\u001b[32m[I 2021-11-17 11:38:54,511]\u001b[0m Trial 157 finished with value: 0.8695652173913043 and parameters: {'objective': 'CrossEntropy', 'colsample_bylevel': 0.055784733489601654, 'depth': 5, 'boosting_type': 'Plain', 'bootstrap_type': 'Bayesian', 'bagging_temperature': 7.136104359051744}. Best is trial 52 with value: 0.9347826086956522.\u001b[0m\n",
      "\u001b[32m[I 2021-11-17 11:38:54,923]\u001b[0m Trial 158 finished with value: 0.8641304347826086 and parameters: {'objective': 'CrossEntropy', 'colsample_bylevel': 0.0532461110417406, 'depth': 6, 'boosting_type': 'Plain', 'bootstrap_type': 'Bernoulli', 'subsample': 0.208203722522002}. Best is trial 52 with value: 0.9347826086956522.\u001b[0m\n",
      "\u001b[32m[I 2021-11-17 11:38:55,313]\u001b[0m Trial 159 finished with value: 0.9130434782608695 and parameters: {'objective': 'Logloss', 'colsample_bylevel': 0.05906035812658925, 'depth': 6, 'boosting_type': 'Plain', 'bootstrap_type': 'MVS'}. Best is trial 52 with value: 0.9347826086956522.\u001b[0m\n",
      "\u001b[32m[I 2021-11-17 11:38:55,653]\u001b[0m Trial 160 finished with value: 0.8369565217391305 and parameters: {'objective': 'Logloss', 'colsample_bylevel': 0.06679067211454681, 'depth': 5, 'boosting_type': 'Plain', 'bootstrap_type': 'MVS'}. Best is trial 52 with value: 0.9347826086956522.\u001b[0m\n",
      "\u001b[32m[I 2021-11-17 11:38:55,913]\u001b[0m Trial 161 finished with value: 0.8586956521739131 and parameters: {'objective': 'Logloss', 'colsample_bylevel': 0.062304616099521586, 'depth': 6, 'boosting_type': 'Plain', 'bootstrap_type': 'MVS'}. Best is trial 52 with value: 0.9347826086956522.\u001b[0m\n",
      "\u001b[32m[I 2021-11-17 11:38:56,227]\u001b[0m Trial 162 finished with value: 0.907608695652174 and parameters: {'objective': 'Logloss', 'colsample_bylevel': 0.059553605838175726, 'depth': 8, 'boosting_type': 'Plain', 'bootstrap_type': 'MVS'}. Best is trial 52 with value: 0.9347826086956522.\u001b[0m\n",
      "\u001b[32m[I 2021-11-17 11:38:56,673]\u001b[0m Trial 163 finished with value: 0.8913043478260869 and parameters: {'objective': 'Logloss', 'colsample_bylevel': 0.05930954946457182, 'depth': 8, 'boosting_type': 'Plain', 'bootstrap_type': 'MVS'}. Best is trial 52 with value: 0.9347826086956522.\u001b[0m\n",
      "\u001b[32m[I 2021-11-17 11:38:57,108]\u001b[0m Trial 164 finished with value: 0.8532608695652174 and parameters: {'objective': 'Logloss', 'colsample_bylevel': 0.05764506309117316, 'depth': 9, 'boosting_type': 'Plain', 'bootstrap_type': 'MVS'}. Best is trial 52 with value: 0.9347826086956522.\u001b[0m\n",
      "\u001b[32m[I 2021-11-17 11:38:57,332]\u001b[0m Trial 165 finished with value: 0.8532608695652174 and parameters: {'objective': 'Logloss', 'colsample_bylevel': 0.06529115634801957, 'depth': 8, 'boosting_type': 'Plain', 'bootstrap_type': 'MVS'}. Best is trial 52 with value: 0.9347826086956522.\u001b[0m\n",
      "\u001b[32m[I 2021-11-17 11:38:57,695]\u001b[0m Trial 166 finished with value: 0.8152173913043478 and parameters: {'objective': 'Logloss', 'colsample_bylevel': 0.01899232045909224, 'depth': 6, 'boosting_type': 'Plain', 'bootstrap_type': 'MVS'}. Best is trial 52 with value: 0.9347826086956522.\u001b[0m\n",
      "\u001b[32m[I 2021-11-17 11:38:58,113]\u001b[0m Trial 167 finished with value: 0.8967391304347826 and parameters: {'objective': 'Logloss', 'colsample_bylevel': 0.06005769041020418, 'depth': 8, 'boosting_type': 'Plain', 'bootstrap_type': 'MVS'}. Best is trial 52 with value: 0.9347826086956522.\u001b[0m\n",
      "\u001b[32m[I 2021-11-17 11:38:58,609]\u001b[0m Trial 168 finished with value: 0.8913043478260869 and parameters: {'objective': 'Logloss', 'colsample_bylevel': 0.06318360155538996, 'depth': 7, 'boosting_type': 'Plain', 'bootstrap_type': 'MVS'}. Best is trial 52 with value: 0.9347826086956522.\u001b[0m\n",
      "\u001b[32m[I 2021-11-17 11:38:59,079]\u001b[0m Trial 169 finished with value: 0.8858695652173914 and parameters: {'objective': 'Logloss', 'colsample_bylevel': 0.05869174839520719, 'depth': 5, 'boosting_type': 'Plain', 'bootstrap_type': 'MVS'}. Best is trial 52 with value: 0.9347826086956522.\u001b[0m\n",
      "\u001b[32m[I 2021-11-17 11:38:59,349]\u001b[0m Trial 170 finished with value: 0.875 and parameters: {'objective': 'Logloss', 'colsample_bylevel': 0.054646146375266505, 'depth': 8, 'boosting_type': 'Plain', 'bootstrap_type': 'MVS'}. Best is trial 52 with value: 0.9347826086956522.\u001b[0m\n",
      "\u001b[32m[I 2021-11-17 11:38:59,769]\u001b[0m Trial 171 finished with value: 0.8967391304347826 and parameters: {'objective': 'CrossEntropy', 'colsample_bylevel': 0.05671972245961097, 'depth': 6, 'boosting_type': 'Plain', 'bootstrap_type': 'Bernoulli', 'subsample': 0.20124425150787448}. Best is trial 52 with value: 0.9347826086956522.\u001b[0m\n",
      "\u001b[32m[I 2021-11-17 11:39:00,008]\u001b[0m Trial 172 finished with value: 0.8369565217391305 and parameters: {'objective': 'Logloss', 'colsample_bylevel': 0.05181738304562942, 'depth': 7, 'boosting_type': 'Plain', 'bootstrap_type': 'MVS'}. Best is trial 52 with value: 0.9347826086956522.\u001b[0m\n",
      "\u001b[32m[I 2021-11-17 11:39:00,445]\u001b[0m Trial 173 finished with value: 0.8967391304347826 and parameters: {'objective': 'Logloss', 'colsample_bylevel': 0.0613613334750766, 'depth': 4, 'boosting_type': 'Plain', 'bootstrap_type': 'MVS'}. Best is trial 52 with value: 0.9347826086956522.\u001b[0m\n",
      "\u001b[32m[I 2021-11-17 11:39:00,892]\u001b[0m Trial 174 finished with value: 0.907608695652174 and parameters: {'objective': 'CrossEntropy', 'colsample_bylevel': 0.06957070755591288, 'depth': 8, 'boosting_type': 'Plain', 'bootstrap_type': 'Bernoulli', 'subsample': 0.1638471560007961}. Best is trial 52 with value: 0.9347826086956522.\u001b[0m\n",
      "\u001b[32m[I 2021-11-17 11:39:01,235]\u001b[0m Trial 175 finished with value: 0.8858695652173914 and parameters: {'objective': 'Logloss', 'colsample_bylevel': 0.06446208543909204, 'depth': 8, 'boosting_type': 'Plain', 'bootstrap_type': 'Bernoulli', 'subsample': 0.15288594893120253}. Best is trial 52 with value: 0.9347826086956522.\u001b[0m\n",
      "\u001b[32m[I 2021-11-17 11:39:01,916]\u001b[0m Trial 176 finished with value: 0.9021739130434783 and parameters: {'objective': 'CrossEntropy', 'colsample_bylevel': 0.07013139426635653, 'depth': 9, 'boosting_type': 'Plain', 'bootstrap_type': 'Bernoulli', 'subsample': 0.17513233176851878}. Best is trial 52 with value: 0.9347826086956522.\u001b[0m\n",
      "\u001b[32m[I 2021-11-17 11:39:02,346]\u001b[0m Trial 177 finished with value: 0.8532608695652174 and parameters: {'objective': 'Logloss', 'colsample_bylevel': 0.07725966341178786, 'depth': 8, 'boosting_type': 'Plain', 'bootstrap_type': 'Bernoulli', 'subsample': 0.12710961183382682}. Best is trial 52 with value: 0.9347826086956522.\u001b[0m\n",
      "\u001b[32m[I 2021-11-17 11:39:02,749]\u001b[0m Trial 178 finished with value: 0.8913043478260869 and parameters: {'objective': 'CrossEntropy', 'colsample_bylevel': 0.07429947873133, 'depth': 6, 'boosting_type': 'Plain', 'bootstrap_type': 'Bernoulli', 'subsample': 0.23659208236503576}. Best is trial 52 with value: 0.9347826086956522.\u001b[0m\n",
      "\u001b[32m[I 2021-11-17 11:39:03,423]\u001b[0m Trial 179 finished with value: 0.8804347826086957 and parameters: {'objective': 'Logloss', 'colsample_bylevel': 0.06723334660652545, 'depth': 9, 'boosting_type': 'Plain', 'bootstrap_type': 'Bernoulli', 'subsample': 0.6813897669974479}. Best is trial 52 with value: 0.9347826086956522.\u001b[0m\n",
      "\u001b[32m[I 2021-11-17 11:39:03,832]\u001b[0m Trial 180 finished with value: 0.8586956521739131 and parameters: {'objective': 'Logloss', 'colsample_bylevel': 0.06145887241069534, 'depth': 8, 'boosting_type': 'Plain', 'bootstrap_type': 'MVS'}. Best is trial 52 with value: 0.9347826086956522.\u001b[0m\n",
      "\u001b[32m[I 2021-11-17 11:39:04,108]\u001b[0m Trial 181 finished with value: 0.8641304347826086 and parameters: {'objective': 'Logloss', 'colsample_bylevel': 0.05899642425420382, 'depth': 7, 'boosting_type': 'Plain', 'bootstrap_type': 'MVS'}. Best is trial 52 with value: 0.9347826086956522.\u001b[0m\n",
      "\u001b[32m[I 2021-11-17 11:39:04,500]\u001b[0m Trial 182 finished with value: 0.8858695652173914 and parameters: {'objective': 'CrossEntropy', 'colsample_bylevel': 0.08036861284818869, 'depth': 8, 'boosting_type': 'Plain', 'bootstrap_type': 'Bernoulli', 'subsample': 0.4253030316495948}. Best is trial 52 with value: 0.9347826086956522.\u001b[0m\n",
      "\u001b[32m[I 2021-11-17 11:39:05,036]\u001b[0m Trial 183 finished with value: 0.9184782608695652 and parameters: {'objective': 'Logloss', 'colsample_bylevel': 0.05324460348683575, 'depth': 7, 'boosting_type': 'Plain', 'bootstrap_type': 'MVS'}. Best is trial 52 with value: 0.9347826086956522.\u001b[0m\n",
      "\u001b[32m[I 2021-11-17 11:39:05,327]\u001b[0m Trial 184 finished with value: 0.8478260869565217 and parameters: {'objective': 'Logloss', 'colsample_bylevel': 0.05728092310637327, 'depth': 7, 'boosting_type': 'Plain', 'bootstrap_type': 'MVS'}. Best is trial 52 with value: 0.9347826086956522.\u001b[0m\n",
      "\u001b[32m[I 2021-11-17 11:39:05,790]\u001b[0m Trial 185 finished with value: 0.8641304347826086 and parameters: {'objective': 'Logloss', 'colsample_bylevel': 0.054229671503471404, 'depth': 6, 'boosting_type': 'Plain', 'bootstrap_type': 'MVS'}. Best is trial 52 with value: 0.9347826086956522.\u001b[0m\n",
      "\u001b[32m[I 2021-11-17 11:39:06,333]\u001b[0m Trial 186 finished with value: 0.8858695652173914 and parameters: {'objective': 'Logloss', 'colsample_bylevel': 0.06284591497854813, 'depth': 7, 'boosting_type': 'Plain', 'bootstrap_type': 'MVS'}. Best is trial 52 with value: 0.9347826086956522.\u001b[0m\n",
      "\u001b[32m[I 2021-11-17 11:39:06,598]\u001b[0m Trial 187 finished with value: 0.842391304347826 and parameters: {'objective': 'Logloss', 'colsample_bylevel': 0.06047588591386693, 'depth': 6, 'boosting_type': 'Plain', 'bootstrap_type': 'Bayesian', 'bagging_temperature': 1.500213657994101}. Best is trial 52 with value: 0.9347826086956522.\u001b[0m\n",
      "\u001b[32m[I 2021-11-17 11:39:06,866]\u001b[0m Trial 188 finished with value: 0.8532608695652174 and parameters: {'objective': 'CrossEntropy', 'colsample_bylevel': 0.06538804120832943, 'depth': 7, 'boosting_type': 'Plain', 'bootstrap_type': 'MVS'}. Best is trial 52 with value: 0.9347826086956522.\u001b[0m\n",
      "\u001b[32m[I 2021-11-17 11:39:07,122]\u001b[0m Trial 189 finished with value: 0.842391304347826 and parameters: {'objective': 'Logloss', 'colsample_bylevel': 0.05595108771743753, 'depth': 8, 'boosting_type': 'Plain', 'bootstrap_type': 'Bernoulli', 'subsample': 0.9648229770583572}. Best is trial 52 with value: 0.9347826086956522.\u001b[0m\n",
      "\u001b[32m[I 2021-11-17 11:39:07,575]\u001b[0m Trial 190 finished with value: 0.8586956521739131 and parameters: {'objective': 'Logloss', 'colsample_bylevel': 0.0593128586786032, 'depth': 6, 'boosting_type': 'Plain', 'bootstrap_type': 'Bernoulli', 'subsample': 0.5908055851990959}. Best is trial 52 with value: 0.9347826086956522.\u001b[0m\n",
      "\u001b[32m[I 2021-11-17 11:39:08,002]\u001b[0m Trial 191 finished with value: 0.8695652173913043 and parameters: {'objective': 'Logloss', 'colsample_bylevel': 0.05913931200921031, 'depth': 6, 'boosting_type': 'Plain', 'bootstrap_type': 'MVS'}. Best is trial 52 with value: 0.9347826086956522.\u001b[0m\n",
      "\u001b[32m[I 2021-11-17 11:39:08,338]\u001b[0m Trial 192 finished with value: 0.8695652173913043 and parameters: {'objective': 'CrossEntropy', 'colsample_bylevel': 0.05578733595597326, 'depth': 6, 'boosting_type': 'Plain', 'bootstrap_type': 'Bernoulli', 'subsample': 0.17100231954187942}. Best is trial 52 with value: 0.9347826086956522.\u001b[0m\n",
      "\u001b[32m[I 2021-11-17 11:39:08,832]\u001b[0m Trial 193 finished with value: 0.8695652173913043 and parameters: {'objective': 'CrossEntropy', 'colsample_bylevel': 0.07583022045441998, 'depth': 9, 'boosting_type': 'Plain', 'bootstrap_type': 'Bernoulli', 'subsample': 0.16283129963766485}. Best is trial 52 with value: 0.9347826086956522.\u001b[0m\n",
      "\u001b[32m[I 2021-11-17 11:39:09,293]\u001b[0m Trial 194 finished with value: 0.8967391304347826 and parameters: {'objective': 'CrossEntropy', 'colsample_bylevel': 0.052820219882006206, 'depth': 7, 'boosting_type': 'Plain', 'bootstrap_type': 'MVS'}. Best is trial 52 with value: 0.9347826086956522.\u001b[0m\n",
      "\u001b[32m[I 2021-11-17 11:39:09,703]\u001b[0m Trial 195 finished with value: 0.9130434782608695 and parameters: {'objective': 'Logloss', 'colsample_bylevel': 0.049174718356156694, 'depth': 7, 'boosting_type': 'Plain', 'bootstrap_type': 'MVS'}. Best is trial 52 with value: 0.9347826086956522.\u001b[0m\n",
      "\u001b[32m[I 2021-11-17 11:39:10,161]\u001b[0m Trial 196 finished with value: 0.9184782608695652 and parameters: {'objective': 'Logloss', 'colsample_bylevel': 0.048104062722341405, 'depth': 7, 'boosting_type': 'Plain', 'bootstrap_type': 'MVS'}. Best is trial 52 with value: 0.9347826086956522.\u001b[0m\n",
      "\u001b[32m[I 2021-11-17 11:39:10,575]\u001b[0m Trial 197 finished with value: 0.8858695652173914 and parameters: {'objective': 'Logloss', 'colsample_bylevel': 0.047071235218335054, 'depth': 7, 'boosting_type': 'Plain', 'bootstrap_type': 'MVS'}. Best is trial 52 with value: 0.9347826086956522.\u001b[0m\n",
      "\u001b[32m[I 2021-11-17 11:39:10,992]\u001b[0m Trial 198 finished with value: 0.907608695652174 and parameters: {'objective': 'Logloss', 'colsample_bylevel': 0.045262242931524116, 'depth': 7, 'boosting_type': 'Plain', 'bootstrap_type': 'MVS'}. Best is trial 52 with value: 0.9347826086956522.\u001b[0m\n",
      "\u001b[32m[I 2021-11-17 11:39:11,415]\u001b[0m Trial 199 finished with value: 0.9184782608695652 and parameters: {'objective': 'Logloss', 'colsample_bylevel': 0.0447035932222059, 'depth': 7, 'boosting_type': 'Plain', 'bootstrap_type': 'MVS'}. Best is trial 52 with value: 0.9347826086956522.\u001b[0m\n",
      "\u001b[32m[I 2021-11-17 11:39:11,670]\u001b[0m Trial 200 finished with value: 0.8695652173913043 and parameters: {'objective': 'Logloss', 'colsample_bylevel': 0.04368778397934819, 'depth': 7, 'boosting_type': 'Plain', 'bootstrap_type': 'MVS'}. Best is trial 52 with value: 0.9347826086956522.\u001b[0m\n",
      "\u001b[32m[I 2021-11-17 11:39:12,045]\u001b[0m Trial 201 finished with value: 0.8586956521739131 and parameters: {'objective': 'Logloss', 'colsample_bylevel': 0.051150523431304856, 'depth': 7, 'boosting_type': 'Plain', 'bootstrap_type': 'MVS'}. Best is trial 52 with value: 0.9347826086956522.\u001b[0m\n",
      "\u001b[32m[I 2021-11-17 11:39:12,477]\u001b[0m Trial 202 finished with value: 0.8641304347826086 and parameters: {'objective': 'Logloss', 'colsample_bylevel': 0.04687185281206086, 'depth': 7, 'boosting_type': 'Plain', 'bootstrap_type': 'MVS'}. Best is trial 52 with value: 0.9347826086956522.\u001b[0m\n",
      "\u001b[32m[I 2021-11-17 11:39:12,822]\u001b[0m Trial 203 finished with value: 0.875 and parameters: {'objective': 'Logloss', 'colsample_bylevel': 0.04579287419056721, 'depth': 7, 'boosting_type': 'Plain', 'bootstrap_type': 'MVS'}. Best is trial 52 with value: 0.9347826086956522.\u001b[0m\n",
      "\u001b[32m[I 2021-11-17 11:39:13,269]\u001b[0m Trial 204 finished with value: 0.8858695652173914 and parameters: {'objective': 'Logloss', 'colsample_bylevel': 0.04804479201827467, 'depth': 7, 'boosting_type': 'Plain', 'bootstrap_type': 'MVS'}. Best is trial 52 with value: 0.9347826086956522.\u001b[0m\n",
      "\u001b[32m[I 2021-11-17 11:39:13,738]\u001b[0m Trial 205 finished with value: 0.875 and parameters: {'objective': 'Logloss', 'colsample_bylevel': 0.048627479513174976, 'depth': 8, 'boosting_type': 'Plain', 'bootstrap_type': 'MVS'}. Best is trial 52 with value: 0.9347826086956522.\u001b[0m\n",
      "\u001b[32m[I 2021-11-17 11:39:14,116]\u001b[0m Trial 206 finished with value: 0.8967391304347826 and parameters: {'objective': 'Logloss', 'colsample_bylevel': 0.062060627395548136, 'depth': 8, 'boosting_type': 'Plain', 'bootstrap_type': 'MVS'}. Best is trial 52 with value: 0.9347826086956522.\u001b[0m\n",
      "\u001b[32m[I 2021-11-17 11:39:14,400]\u001b[0m Trial 207 finished with value: 0.8478260869565217 and parameters: {'objective': 'Logloss', 'colsample_bylevel': 0.04111967995366282, 'depth': 7, 'boosting_type': 'Plain', 'bootstrap_type': 'MVS'}. Best is trial 52 with value: 0.9347826086956522.\u001b[0m\n",
      "\u001b[32m[I 2021-11-17 11:39:14,720]\u001b[0m Trial 208 finished with value: 0.875 and parameters: {'objective': 'Logloss', 'colsample_bylevel': 0.042197281985469445, 'depth': 7, 'boosting_type': 'Plain', 'bootstrap_type': 'MVS'}. Best is trial 52 with value: 0.9347826086956522.\u001b[0m\n",
      "\u001b[32m[I 2021-11-17 11:39:15,072]\u001b[0m Trial 209 finished with value: 0.8586956521739131 and parameters: {'objective': 'Logloss', 'colsample_bylevel': 0.057555116216702555, 'depth': 8, 'boosting_type': 'Plain', 'bootstrap_type': 'MVS'}. Best is trial 52 with value: 0.9347826086956522.\u001b[0m\n",
      "\u001b[32m[I 2021-11-17 11:39:15,409]\u001b[0m Trial 210 finished with value: 0.8532608695652174 and parameters: {'objective': 'CrossEntropy', 'colsample_bylevel': 0.05010776023534766, 'depth': 8, 'boosting_type': 'Plain', 'bootstrap_type': 'Bernoulli', 'subsample': 0.5106436120363855}. Best is trial 52 with value: 0.9347826086956522.\u001b[0m\n",
      "\u001b[32m[I 2021-11-17 11:39:15,867]\u001b[0m Trial 211 finished with value: 0.8858695652173914 and parameters: {'objective': 'Logloss', 'colsample_bylevel': 0.04559579991194795, 'depth': 7, 'boosting_type': 'Plain', 'bootstrap_type': 'MVS'}. Best is trial 52 with value: 0.9347826086956522.\u001b[0m\n",
      "\u001b[32m[I 2021-11-17 11:39:16,230]\u001b[0m Trial 212 finished with value: 0.8532608695652174 and parameters: {'objective': 'Logloss', 'colsample_bylevel': 0.052225735804445644, 'depth': 7, 'boosting_type': 'Plain', 'bootstrap_type': 'MVS'}. Best is trial 52 with value: 0.9347826086956522.\u001b[0m\n",
      "\u001b[32m[I 2021-11-17 11:39:16,502]\u001b[0m Trial 213 finished with value: 0.8641304347826086 and parameters: {'objective': 'Logloss', 'colsample_bylevel': 0.04920037468651485, 'depth': 6, 'boosting_type': 'Plain', 'bootstrap_type': 'MVS'}. Best is trial 52 with value: 0.9347826086956522.\u001b[0m\n",
      "\u001b[32m[I 2021-11-17 11:39:16,881]\u001b[0m Trial 214 finished with value: 0.842391304347826 and parameters: {'objective': 'Logloss', 'colsample_bylevel': 0.044884139735410326, 'depth': 6, 'boosting_type': 'Plain', 'bootstrap_type': 'Bernoulli', 'subsample': 0.26821767294058424}. Best is trial 52 with value: 0.9347826086956522.\u001b[0m\n",
      "\u001b[32m[I 2021-11-17 11:39:17,127]\u001b[0m Trial 215 finished with value: 0.842391304347826 and parameters: {'objective': 'Logloss', 'colsample_bylevel': 0.05315983328007866, 'depth': 2, 'boosting_type': 'Plain', 'bootstrap_type': 'MVS'}. Best is trial 52 with value: 0.9347826086956522.\u001b[0m\n",
      "\u001b[32m[I 2021-11-17 11:39:17,357]\u001b[0m Trial 216 finished with value: 0.8695652173913043 and parameters: {'objective': 'Logloss', 'colsample_bylevel': 0.05421410748853636, 'depth': 7, 'boosting_type': 'Plain', 'bootstrap_type': 'MVS'}. Best is trial 52 with value: 0.9347826086956522.\u001b[0m\n",
      "\u001b[32m[I 2021-11-17 11:39:18,595]\u001b[0m Trial 217 finished with value: 0.907608695652174 and parameters: {'objective': 'CrossEntropy', 'colsample_bylevel': 0.06087229872864864, 'depth': 6, 'boosting_type': 'Ordered', 'bootstrap_type': 'Bernoulli', 'subsample': 0.3510617474352338}. Best is trial 52 with value: 0.9347826086956522.\u001b[0m\n",
      "\u001b[32m[I 2021-11-17 11:39:18,973]\u001b[0m Trial 218 finished with value: 0.8967391304347826 and parameters: {'objective': 'Logloss', 'colsample_bylevel': 0.05799106707532019, 'depth': 7, 'boosting_type': 'Plain', 'bootstrap_type': 'MVS'}. Best is trial 52 with value: 0.9347826086956522.\u001b[0m\n",
      "\u001b[32m[I 2021-11-17 11:39:19,572]\u001b[0m Trial 219 finished with value: 0.8206521739130435 and parameters: {'objective': 'CrossEntropy', 'colsample_bylevel': 0.06003595273878503, 'depth': 6, 'boosting_type': 'Ordered', 'bootstrap_type': 'Bernoulli', 'subsample': 0.5334403356169582}. Best is trial 52 with value: 0.9347826086956522.\u001b[0m\n",
      "\u001b[32m[I 2021-11-17 11:39:20,988]\u001b[0m Trial 220 finished with value: 0.8858695652173914 and parameters: {'objective': 'Logloss', 'colsample_bylevel': 0.04981726450088775, 'depth': 7, 'boosting_type': 'Ordered', 'bootstrap_type': 'Bernoulli', 'subsample': 0.3576868266481232}. Best is trial 52 with value: 0.9347826086956522.\u001b[0m\n",
      "\u001b[32m[I 2021-11-17 11:39:22,699]\u001b[0m Trial 221 finished with value: 0.875 and parameters: {'objective': 'CrossEntropy', 'colsample_bylevel': 0.06098400535829326, 'depth': 6, 'boosting_type': 'Ordered', 'bootstrap_type': 'Bernoulli', 'subsample': 0.34309787472472486}. Best is trial 52 with value: 0.9347826086956522.\u001b[0m\n",
      "\u001b[32m[I 2021-11-17 11:39:24,150]\u001b[0m Trial 222 finished with value: 0.907608695652174 and parameters: {'objective': 'Logloss', 'colsample_bylevel': 0.047446527996432855, 'depth': 6, 'boosting_type': 'Ordered', 'bootstrap_type': 'MVS'}. Best is trial 52 with value: 0.9347826086956522.\u001b[0m\n",
      "\u001b[32m[I 2021-11-17 11:39:25,460]\u001b[0m Trial 223 finished with value: 0.9021739130434783 and parameters: {'objective': 'Logloss', 'colsample_bylevel': 0.03876382258601336, 'depth': 6, 'boosting_type': 'Ordered', 'bootstrap_type': 'MVS'}. Best is trial 52 with value: 0.9347826086956522.\u001b[0m\n",
      "\u001b[32m[I 2021-11-17 11:39:25,933]\u001b[0m Trial 224 finished with value: 0.8804347826086957 and parameters: {'objective': 'CrossEntropy', 'colsample_bylevel': 0.06342747952554702, 'depth': 8, 'boosting_type': 'Plain', 'bootstrap_type': 'MVS'}. Best is trial 52 with value: 0.9347826086956522.\u001b[0m\n",
      "\u001b[32m[I 2021-11-17 11:39:26,203]\u001b[0m Trial 225 finished with value: 0.875 and parameters: {'objective': 'Logloss', 'colsample_bylevel': 0.044219283856397215, 'depth': 4, 'boosting_type': 'Plain', 'bootstrap_type': 'MVS'}. Best is trial 52 with value: 0.9347826086956522.\u001b[0m\n",
      "\u001b[32m[I 2021-11-17 11:39:27,427]\u001b[0m Trial 226 finished with value: 0.9021739130434783 and parameters: {'objective': 'CrossEntropy', 'colsample_bylevel': 0.06156486981088678, 'depth': 6, 'boosting_type': 'Ordered', 'bootstrap_type': 'Bernoulli', 'subsample': 0.135524272351289}. Best is trial 52 with value: 0.9347826086956522.\u001b[0m\n",
      "\u001b[32m[I 2021-11-17 11:39:28,784]\u001b[0m Trial 227 finished with value: 0.8695652173913043 and parameters: {'objective': 'Logloss', 'colsample_bylevel': 0.04703809791805641, 'depth': 6, 'boosting_type': 'Ordered', 'bootstrap_type': 'MVS'}. Best is trial 52 with value: 0.9347826086956522.\u001b[0m\n",
      "\u001b[32m[I 2021-11-17 11:39:29,120]\u001b[0m Trial 228 finished with value: 0.8586956521739131 and parameters: {'objective': 'Logloss', 'colsample_bylevel': 0.05654587826180998, 'depth': 7, 'boosting_type': 'Plain', 'bootstrap_type': 'MVS'}. Best is trial 52 with value: 0.9347826086956522.\u001b[0m\n",
      "\u001b[32m[I 2021-11-17 11:39:29,517]\u001b[0m Trial 229 finished with value: 0.8586956521739131 and parameters: {'objective': 'CrossEntropy', 'colsample_bylevel': 0.05874164447399742, 'depth': 5, 'boosting_type': 'Plain', 'bootstrap_type': 'Bernoulli', 'subsample': 0.2983540378237997}. Best is trial 52 with value: 0.9347826086956522.\u001b[0m\n",
      "\u001b[32m[I 2021-11-17 11:39:30,409]\u001b[0m Trial 230 finished with value: 0.8695652173913043 and parameters: {'objective': 'Logloss', 'colsample_bylevel': 0.05463843877568059, 'depth': 6, 'boosting_type': 'Ordered', 'bootstrap_type': 'Bernoulli', 'subsample': 0.23146888196339857}. Best is trial 52 with value: 0.9347826086956522.\u001b[0m\n",
      "\u001b[32m[I 2021-11-17 11:39:31,484]\u001b[0m Trial 231 finished with value: 0.8586956521739131 and parameters: {'objective': 'CrossEntropy', 'colsample_bylevel': 0.06075730964160391, 'depth': 10, 'boosting_type': 'Ordered', 'bootstrap_type': 'MVS'}. Best is trial 52 with value: 0.9347826086956522.\u001b[0m\n",
      "\u001b[32m[I 2021-11-17 11:39:32,596]\u001b[0m Trial 232 finished with value: 0.875 and parameters: {'objective': 'Logloss', 'colsample_bylevel': 0.05063606816816756, 'depth': 6, 'boosting_type': 'Ordered', 'bootstrap_type': 'MVS'}. Best is trial 52 with value: 0.9347826086956522.\u001b[0m\n",
      "\u001b[32m[I 2021-11-17 11:39:33,782]\u001b[0m Trial 233 finished with value: 0.8858695652173914 and parameters: {'objective': 'CrossEntropy', 'colsample_bylevel': 0.04794637380289519, 'depth': 7, 'boosting_type': 'Ordered', 'bootstrap_type': 'Bernoulli', 'subsample': 0.37938087838978324}. Best is trial 52 with value: 0.9347826086956522.\u001b[0m\n",
      "\u001b[32m[I 2021-11-17 11:39:34,168]\u001b[0m Trial 234 finished with value: 0.9021739130434783 and parameters: {'objective': 'Logloss', 'colsample_bylevel': 0.06381563188246898, 'depth': 5, 'boosting_type': 'Plain', 'bootstrap_type': 'Bernoulli', 'subsample': 0.569207226643904}. Best is trial 52 with value: 0.9347826086956522.\u001b[0m\n",
      "\u001b[32m[I 2021-11-17 11:39:34,505]\u001b[0m Trial 235 finished with value: 0.8641304347826086 and parameters: {'objective': 'Logloss', 'colsample_bylevel': 0.08443374999479784, 'depth': 8, 'boosting_type': 'Plain', 'bootstrap_type': 'MVS'}. Best is trial 52 with value: 0.9347826086956522.\u001b[0m\n",
      "\u001b[32m[I 2021-11-17 11:39:34,775]\u001b[0m Trial 236 finished with value: 0.8695652173913043 and parameters: {'objective': 'Logloss', 'colsample_bylevel': 0.0958316118517922, 'depth': 6, 'boosting_type': 'Plain', 'bootstrap_type': 'Bayesian', 'bagging_temperature': 4.543088437529076}. Best is trial 52 with value: 0.9347826086956522.\u001b[0m\n",
      "\u001b[32m[I 2021-11-17 11:39:35,518]\u001b[0m Trial 237 finished with value: 0.8641304347826086 and parameters: {'objective': 'CrossEntropy', 'colsample_bylevel': 0.05803537108537714, 'depth': 6, 'boosting_type': 'Ordered', 'bootstrap_type': 'Bernoulli', 'subsample': 0.4853459240305159}. Best is trial 52 with value: 0.9347826086956522.\u001b[0m\n",
      "\u001b[32m[I 2021-11-17 11:39:35,895]\u001b[0m Trial 238 finished with value: 0.8913043478260869 and parameters: {'objective': 'CrossEntropy', 'colsample_bylevel': 0.05996914503180406, 'depth': 7, 'boosting_type': 'Plain', 'bootstrap_type': 'MVS'}. Best is trial 52 with value: 0.9347826086956522.\u001b[0m\n",
      "\u001b[32m[I 2021-11-17 11:39:36,319]\u001b[0m Trial 239 finished with value: 0.8532608695652174 and parameters: {'objective': 'Logloss', 'colsample_bylevel': 0.04267243477263665, 'depth': 6, 'boosting_type': 'Plain', 'bootstrap_type': 'MVS'}. Best is trial 52 with value: 0.9347826086956522.\u001b[0m\n",
      "\u001b[32m[I 2021-11-17 11:39:36,684]\u001b[0m Trial 240 finished with value: 0.8804347826086957 and parameters: {'objective': 'CrossEntropy', 'colsample_bylevel': 0.04672516318936985, 'depth': 7, 'boosting_type': 'Plain', 'bootstrap_type': 'Bernoulli', 'subsample': 0.40584384139909646}. Best is trial 52 with value: 0.9347826086956522.\u001b[0m\n",
      "\u001b[32m[I 2021-11-17 11:39:36,951]\u001b[0m Trial 241 finished with value: 0.8586956521739131 and parameters: {'objective': 'Logloss', 'colsample_bylevel': 0.06241195147159233, 'depth': 8, 'boosting_type': 'Plain', 'bootstrap_type': 'MVS'}. Best is trial 52 with value: 0.9347826086956522.\u001b[0m\n",
      "\u001b[32m[I 2021-11-17 11:39:37,221]\u001b[0m Trial 242 finished with value: 0.8913043478260869 and parameters: {'objective': 'Logloss', 'colsample_bylevel': 0.056591782630172824, 'depth': 6, 'boosting_type': 'Plain', 'bootstrap_type': 'Bernoulli', 'subsample': 0.44051389217612047}. Best is trial 52 with value: 0.9347826086956522.\u001b[0m\n",
      "\u001b[32m[I 2021-11-17 11:39:37,641]\u001b[0m Trial 243 finished with value: 0.8913043478260869 and parameters: {'objective': 'Logloss', 'colsample_bylevel': 0.025810725864021333, 'depth': 7, 'boosting_type': 'Plain', 'bootstrap_type': 'MVS'}. Best is trial 52 with value: 0.9347826086956522.\u001b[0m\n",
      "\u001b[32m[I 2021-11-17 11:39:38,096]\u001b[0m Trial 244 finished with value: 0.9239130434782609 and parameters: {'objective': 'Logloss', 'colsample_bylevel': 0.0489075297869908, 'depth': 7, 'boosting_type': 'Plain', 'bootstrap_type': 'Bernoulli', 'subsample': 0.5445796748572229}. Best is trial 52 with value: 0.9347826086956522.\u001b[0m\n",
      "\u001b[32m[I 2021-11-17 11:39:38,500]\u001b[0m Trial 245 finished with value: 0.9021739130434783 and parameters: {'objective': 'Logloss', 'colsample_bylevel': 0.0501350147952487, 'depth': 6, 'boosting_type': 'Plain', 'bootstrap_type': 'Bernoulli', 'subsample': 0.6222721027029829}. Best is trial 52 with value: 0.9347826086956522.\u001b[0m\n",
      "\u001b[32m[I 2021-11-17 11:39:38,755]\u001b[0m Trial 246 finished with value: 0.8532608695652174 and parameters: {'objective': 'Logloss', 'colsample_bylevel': 0.04841608588935354, 'depth': 7, 'boosting_type': 'Plain', 'bootstrap_type': 'Bernoulli', 'subsample': 0.5436676328455583}. Best is trial 52 with value: 0.9347826086956522.\u001b[0m\n",
      "\u001b[32m[I 2021-11-17 11:39:39,136]\u001b[0m Trial 247 finished with value: 0.8369565217391305 and parameters: {'objective': 'Logloss', 'colsample_bylevel': 0.05174203822515584, 'depth': 7, 'boosting_type': 'Plain', 'bootstrap_type': 'MVS'}. Best is trial 52 with value: 0.9347826086956522.\u001b[0m\n",
      "\u001b[32m[I 2021-11-17 11:39:39,572]\u001b[0m Trial 248 finished with value: 0.8913043478260869 and parameters: {'objective': 'Logloss', 'colsample_bylevel': 0.04577795798301643, 'depth': 7, 'boosting_type': 'Plain', 'bootstrap_type': 'MVS'}. Best is trial 52 with value: 0.9347826086956522.\u001b[0m\n",
      "\u001b[32m[I 2021-11-17 11:39:40,080]\u001b[0m Trial 249 finished with value: 0.8695652173913043 and parameters: {'objective': 'Logloss', 'colsample_bylevel': 0.059327953617128816, 'depth': 8, 'boosting_type': 'Plain', 'bootstrap_type': 'Bernoulli', 'subsample': 0.4600698943663212}. Best is trial 52 with value: 0.9347826086956522.\u001b[0m\n",
      "\u001b[32m[I 2021-11-17 11:39:40,419]\u001b[0m Trial 250 finished with value: 0.8804347826086957 and parameters: {'objective': 'CrossEntropy', 'colsample_bylevel': 0.07123015608350848, 'depth': 7, 'boosting_type': 'Plain', 'bootstrap_type': 'MVS'}. Best is trial 52 with value: 0.9347826086956522.\u001b[0m\n",
      "\u001b[32m[I 2021-11-17 11:39:40,852]\u001b[0m Trial 251 finished with value: 0.8913043478260869 and parameters: {'objective': 'Logloss', 'colsample_bylevel': 0.09127551182987766, 'depth': 7, 'boosting_type': 'Plain', 'bootstrap_type': 'Bernoulli', 'subsample': 0.5081929957484044}. Best is trial 52 with value: 0.9347826086956522.\u001b[0m\n",
      "\u001b[32m[I 2021-11-17 11:39:41,207]\u001b[0m Trial 252 finished with value: 0.8804347826086957 and parameters: {'objective': 'CrossEntropy', 'colsample_bylevel': 0.05777745986148892, 'depth': 8, 'boosting_type': 'Plain', 'bootstrap_type': 'Bernoulli', 'subsample': 0.5799396148247362}. Best is trial 52 with value: 0.9347826086956522.\u001b[0m\n",
      "\u001b[32m[I 2021-11-17 11:39:41,512]\u001b[0m Trial 253 finished with value: 0.8586956521739131 and parameters: {'objective': 'Logloss', 'colsample_bylevel': 0.05343370185985607, 'depth': 3, 'boosting_type': 'Plain', 'bootstrap_type': 'MVS'}. Best is trial 52 with value: 0.9347826086956522.\u001b[0m\n",
      "\u001b[32m[I 2021-11-17 11:39:42,882]\u001b[0m Trial 254 finished with value: 0.8586956521739131 and parameters: {'objective': 'Logloss', 'colsample_bylevel': 0.048181541871550354, 'depth': 6, 'boosting_type': 'Ordered', 'bootstrap_type': 'MVS'}. Best is trial 52 with value: 0.9347826086956522.\u001b[0m\n",
      "\u001b[32m[I 2021-11-17 11:39:43,317]\u001b[0m Trial 255 finished with value: 0.8967391304347826 and parameters: {'objective': 'CrossEntropy', 'colsample_bylevel': 0.05528909963020762, 'depth': 5, 'boosting_type': 'Plain', 'bootstrap_type': 'Bernoulli', 'subsample': 0.5257188394456456}. Best is trial 52 with value: 0.9347826086956522.\u001b[0m\n",
      "\u001b[32m[I 2021-11-17 11:39:43,651]\u001b[0m Trial 256 finished with value: 0.8695652173913043 and parameters: {'objective': 'Logloss', 'colsample_bylevel': 0.08124377131934331, 'depth': 7, 'boosting_type': 'Plain', 'bootstrap_type': 'MVS'}. Best is trial 52 with value: 0.9347826086956522.\u001b[0m\n",
      "\u001b[32m[I 2021-11-17 11:39:44,043]\u001b[0m Trial 257 finished with value: 0.8532608695652174 and parameters: {'objective': 'Logloss', 'colsample_bylevel': 0.049532138268591985, 'depth': 8, 'boosting_type': 'Plain', 'bootstrap_type': 'MVS'}. Best is trial 52 with value: 0.9347826086956522.\u001b[0m\n",
      "\u001b[32m[I 2021-11-17 11:39:44,506]\u001b[0m Trial 258 finished with value: 0.8967391304347826 and parameters: {'objective': 'Logloss', 'colsample_bylevel': 0.06197740749235802, 'depth': 11, 'boosting_type': 'Plain', 'bootstrap_type': 'Bernoulli', 'subsample': 0.6385471503406814}. Best is trial 52 with value: 0.9347826086956522.\u001b[0m\n",
      "\u001b[32m[I 2021-11-17 11:39:44,816]\u001b[0m Trial 259 finished with value: 0.8315217391304348 and parameters: {'objective': 'CrossEntropy', 'colsample_bylevel': 0.012297468813425964, 'depth': 7, 'boosting_type': 'Plain', 'bootstrap_type': 'Bernoulli', 'subsample': 0.5580900453769827}. Best is trial 52 with value: 0.9347826086956522.\u001b[0m\n",
      "\u001b[32m[I 2021-11-17 11:39:46,211]\u001b[0m Trial 260 finished with value: 0.8858695652173914 and parameters: {'objective': 'Logloss', 'colsample_bylevel': 0.06505031311370316, 'depth': 6, 'boosting_type': 'Ordered', 'bootstrap_type': 'Bayesian', 'bagging_temperature': 8.549933743838897}. Best is trial 52 with value: 0.9347826086956522.\u001b[0m\n",
      "\u001b[32m[I 2021-11-17 11:39:46,673]\u001b[0m Trial 261 finished with value: 0.875 and parameters: {'objective': 'Logloss', 'colsample_bylevel': 0.05159785667839615, 'depth': 6, 'boosting_type': 'Plain', 'bootstrap_type': 'MVS'}. Best is trial 52 with value: 0.9347826086956522.\u001b[0m\n",
      "\u001b[32m[I 2021-11-17 11:39:46,992]\u001b[0m Trial 262 finished with value: 0.8586956521739131 and parameters: {'objective': 'CrossEntropy', 'colsample_bylevel': 0.04686762180580776, 'depth': 6, 'boosting_type': 'Plain', 'bootstrap_type': 'Bernoulli', 'subsample': 0.2634093324127937}. Best is trial 52 with value: 0.9347826086956522.\u001b[0m\n",
      "\u001b[32m[I 2021-11-17 11:39:47,498]\u001b[0m Trial 263 finished with value: 0.8858695652173914 and parameters: {'objective': 'Logloss', 'colsample_bylevel': 0.060776828533742076, 'depth': 7, 'boosting_type': 'Plain', 'bootstrap_type': 'MVS'}. Best is trial 52 with value: 0.9347826086956522.\u001b[0m\n",
      "\u001b[32m[I 2021-11-17 11:39:47,790]\u001b[0m Trial 264 finished with value: 0.8913043478260869 and parameters: {'objective': 'Logloss', 'colsample_bylevel': 0.05684797397027127, 'depth': 6, 'boosting_type': 'Plain', 'bootstrap_type': 'MVS'}. Best is trial 52 with value: 0.9347826086956522.\u001b[0m\n",
      "\u001b[32m[I 2021-11-17 11:39:48,381]\u001b[0m Trial 265 finished with value: 0.8478260869565217 and parameters: {'objective': 'CrossEntropy', 'colsample_bylevel': 0.04930420334359802, 'depth': 8, 'boosting_type': 'Ordered', 'bootstrap_type': 'Bernoulli', 'subsample': 0.5937805051956887}. Best is trial 52 with value: 0.9347826086956522.\u001b[0m\n",
      "\u001b[32m[I 2021-11-17 11:39:48,701]\u001b[0m Trial 266 finished with value: 0.8858695652173914 and parameters: {'objective': 'CrossEntropy', 'colsample_bylevel': 0.0372065900525006, 'depth': 5, 'boosting_type': 'Plain', 'bootstrap_type': 'Bernoulli', 'subsample': 0.31443290365146825}. Best is trial 52 with value: 0.9347826086956522.\u001b[0m\n",
      "\u001b[32m[I 2021-11-17 11:39:48,986]\u001b[0m Trial 267 finished with value: 0.8369565217391305 and parameters: {'objective': 'Logloss', 'colsample_bylevel': 0.07371881988150727, 'depth': 7, 'boosting_type': 'Plain', 'bootstrap_type': 'Bernoulli', 'subsample': 0.6110164814234246}. Best is trial 52 with value: 0.9347826086956522.\u001b[0m\n",
      "\u001b[32m[I 2021-11-17 11:39:49,376]\u001b[0m Trial 268 finished with value: 0.8695652173913043 and parameters: {'objective': 'Logloss', 'colsample_bylevel': 0.043510368338317215, 'depth': 7, 'boosting_type': 'Plain', 'bootstrap_type': 'MVS'}. Best is trial 52 with value: 0.9347826086956522.\u001b[0m\n",
      "\u001b[32m[I 2021-11-17 11:39:49,754]\u001b[0m Trial 269 finished with value: 0.8478260869565217 and parameters: {'objective': 'Logloss', 'colsample_bylevel': 0.05827561861404613, 'depth': 9, 'boosting_type': 'Plain', 'bootstrap_type': 'MVS'}. Best is trial 52 with value: 0.9347826086956522.\u001b[0m\n",
      "\u001b[32m[I 2021-11-17 11:39:50,301]\u001b[0m Trial 270 finished with value: 0.9021739130434783 and parameters: {'objective': 'CrossEntropy', 'colsample_bylevel': 0.05959547024186977, 'depth': 8, 'boosting_type': 'Plain', 'bootstrap_type': 'MVS'}. Best is trial 52 with value: 0.9347826086956522.\u001b[0m\n",
      "\u001b[32m[I 2021-11-17 11:39:51,118]\u001b[0m Trial 271 finished with value: 0.8641304347826086 and parameters: {'objective': 'Logloss', 'colsample_bylevel': 0.054843080503953, 'depth': 6, 'boosting_type': 'Ordered', 'bootstrap_type': 'Bernoulli', 'subsample': 0.7198731234229068}. Best is trial 52 with value: 0.9347826086956522.\u001b[0m\n",
      "\u001b[32m[I 2021-11-17 11:39:51,654]\u001b[0m Trial 272 finished with value: 0.907608695652174 and parameters: {'objective': 'Logloss', 'colsample_bylevel': 0.06699788937060308, 'depth': 7, 'boosting_type': 'Plain', 'bootstrap_type': 'MVS'}. Best is trial 52 with value: 0.9347826086956522.\u001b[0m\n",
      "\u001b[32m[I 2021-11-17 11:39:51,989]\u001b[0m Trial 273 finished with value: 0.8858695652173914 and parameters: {'objective': 'Logloss', 'colsample_bylevel': 0.06575740204455054, 'depth': 7, 'boosting_type': 'Plain', 'bootstrap_type': 'MVS'}. Best is trial 52 with value: 0.9347826086956522.\u001b[0m\n",
      "\u001b[32m[I 2021-11-17 11:39:52,224]\u001b[0m Trial 274 finished with value: 0.8369565217391305 and parameters: {'objective': 'CrossEntropy', 'colsample_bylevel': 0.06332045565850816, 'depth': 7, 'boosting_type': 'Plain', 'bootstrap_type': 'Bernoulli', 'subsample': 0.6940283097288098}. Best is trial 52 with value: 0.9347826086956522.\u001b[0m\n",
      "\u001b[32m[I 2021-11-17 11:39:52,522]\u001b[0m Trial 275 finished with value: 0.8695652173913043 and parameters: {'objective': 'Logloss', 'colsample_bylevel': 0.06868404037925938, 'depth': 7, 'boosting_type': 'Plain', 'bootstrap_type': 'MVS'}. Best is trial 52 with value: 0.9347826086956522.\u001b[0m\n",
      "\u001b[32m[I 2021-11-17 11:39:52,793]\u001b[0m Trial 276 finished with value: 0.842391304347826 and parameters: {'objective': 'CrossEntropy', 'colsample_bylevel': 0.059908186132450504, 'depth': 9, 'boosting_type': 'Plain', 'bootstrap_type': 'Bernoulli', 'subsample': 0.47648281753377114}. Best is trial 52 with value: 0.9347826086956522.\u001b[0m\n",
      "\u001b[32m[I 2021-11-17 11:39:53,485]\u001b[0m Trial 277 finished with value: 0.8804347826086957 and parameters: {'objective': 'Logloss', 'colsample_bylevel': 0.06965485156406342, 'depth': 8, 'boosting_type': 'Plain', 'bootstrap_type': 'MVS'}. Best is trial 52 with value: 0.9347826086956522.\u001b[0m\n",
      "\u001b[32m[I 2021-11-17 11:39:55,184]\u001b[0m Trial 278 finished with value: 0.907608695652174 and parameters: {'objective': 'Logloss', 'colsample_bylevel': 0.061923199486607614, 'depth': 6, 'boosting_type': 'Ordered', 'bootstrap_type': 'Bernoulli', 'subsample': 0.6652283029079379}. Best is trial 52 with value: 0.9347826086956522.\u001b[0m\n",
      "\u001b[32m[I 2021-11-17 11:39:55,920]\u001b[0m Trial 279 finished with value: 0.842391304347826 and parameters: {'objective': 'Logloss', 'colsample_bylevel': 0.061633686940549146, 'depth': 1, 'boosting_type': 'Ordered', 'bootstrap_type': 'Bernoulli', 'subsample': 0.6617902852893429}. Best is trial 52 with value: 0.9347826086956522.\u001b[0m\n",
      "\u001b[32m[I 2021-11-17 11:39:57,290]\u001b[0m Trial 280 finished with value: 0.8315217391304348 and parameters: {'objective': 'Logloss', 'colsample_bylevel': 0.06494505647973715, 'depth': 7, 'boosting_type': 'Ordered', 'bootstrap_type': 'MVS'}. Best is trial 52 with value: 0.9347826086956522.\u001b[0m\n",
      "\u001b[32m[I 2021-11-17 11:39:57,729]\u001b[0m Trial 281 finished with value: 0.8804347826086957 and parameters: {'objective': 'Logloss', 'colsample_bylevel': 0.06620707495487783, 'depth': 4, 'boosting_type': 'Plain', 'bootstrap_type': 'Bayesian', 'bagging_temperature': 6.385431985662199}. Best is trial 52 with value: 0.9347826086956522.\u001b[0m\n",
      "\u001b[32m[I 2021-11-17 11:39:59,322]\u001b[0m Trial 282 finished with value: 0.8967391304347826 and parameters: {'objective': 'CrossEntropy', 'colsample_bylevel': 0.06291034378092775, 'depth': 6, 'boosting_type': 'Ordered', 'bootstrap_type': 'Bernoulli', 'subsample': 0.7628656436383299}. Best is trial 52 with value: 0.9347826086956522.\u001b[0m\n",
      "\u001b[32m[I 2021-11-17 11:40:00,716]\u001b[0m Trial 283 finished with value: 0.907608695652174 and parameters: {'objective': 'CrossEntropy', 'colsample_bylevel': 0.06773327316749816, 'depth': 6, 'boosting_type': 'Ordered', 'bootstrap_type': 'Bernoulli', 'subsample': 0.6767585008702152}. Best is trial 52 with value: 0.9347826086956522.\u001b[0m\n",
      "\u001b[32m[I 2021-11-17 11:40:02,020]\u001b[0m Trial 284 finished with value: 0.8804347826086957 and parameters: {'objective': 'CrossEntropy', 'colsample_bylevel': 0.042092609248004564, 'depth': 6, 'boosting_type': 'Ordered', 'bootstrap_type': 'Bernoulli', 'subsample': 0.5578622939064336}. Best is trial 52 with value: 0.9347826086956522.\u001b[0m\n",
      "\u001b[32m[I 2021-11-17 11:40:02,652]\u001b[0m Trial 285 finished with value: 0.842391304347826 and parameters: {'objective': 'Logloss', 'colsample_bylevel': 0.05365261553221683, 'depth': 6, 'boosting_type': 'Ordered', 'bootstrap_type': 'MVS'}. Best is trial 52 with value: 0.9347826086956522.\u001b[0m\n",
      "\u001b[32m[I 2021-11-17 11:40:03,081]\u001b[0m Trial 286 finished with value: 0.8858695652173914 and parameters: {'objective': 'Logloss', 'colsample_bylevel': 0.051620475357710846, 'depth': 8, 'boosting_type': 'Plain', 'bootstrap_type': 'MVS'}. Best is trial 52 with value: 0.9347826086956522.\u001b[0m\n",
      "\u001b[32m[I 2021-11-17 11:40:03,579]\u001b[0m Trial 287 finished with value: 0.8858695652173914 and parameters: {'objective': 'Logloss', 'colsample_bylevel': 0.05654078092067514, 'depth': 8, 'boosting_type': 'Plain', 'bootstrap_type': 'MVS'}. Best is trial 52 with value: 0.9347826086956522.\u001b[0m\n",
      "\u001b[32m[I 2021-11-17 11:40:05,298]\u001b[0m Trial 288 finished with value: 0.907608695652174 and parameters: {'objective': 'CrossEntropy', 'colsample_bylevel': 0.06776562417685315, 'depth': 6, 'boosting_type': 'Ordered', 'bootstrap_type': 'Bernoulli', 'subsample': 0.6484438217474074}. Best is trial 52 with value: 0.9347826086956522.\u001b[0m\n",
      "\u001b[32m[I 2021-11-17 11:40:06,203]\u001b[0m Trial 289 finished with value: 0.8913043478260869 and parameters: {'objective': 'CrossEntropy', 'colsample_bylevel': 0.06792114417749684, 'depth': 7, 'boosting_type': 'Ordered', 'bootstrap_type': 'Bernoulli', 'subsample': 0.678881954586825}. Best is trial 52 with value: 0.9347826086956522.\u001b[0m\n",
      "\u001b[32m[I 2021-11-17 11:40:07,343]\u001b[0m Trial 290 finished with value: 0.8913043478260869 and parameters: {'objective': 'Logloss', 'colsample_bylevel': 0.06410431833059115, 'depth': 6, 'boosting_type': 'Ordered', 'bootstrap_type': 'Bernoulli', 'subsample': 0.6557047783769104}. Best is trial 52 with value: 0.9347826086956522.\u001b[0m\n",
      "\u001b[32m[I 2021-11-17 11:40:07,943]\u001b[0m Trial 291 finished with value: 0.875 and parameters: {'objective': 'CrossEntropy', 'colsample_bylevel': 0.06737631370839167, 'depth': 5, 'boosting_type': 'Ordered', 'bootstrap_type': 'Bernoulli', 'subsample': 0.7355288156380007}. Best is trial 52 with value: 0.9347826086956522.\u001b[0m\n",
      "\u001b[32m[I 2021-11-17 11:40:08,402]\u001b[0m Trial 292 finished with value: 0.9130434782608695 and parameters: {'objective': 'Logloss', 'colsample_bylevel': 0.058753663212272565, 'depth': 4, 'boosting_type': 'Plain', 'bootstrap_type': 'MVS'}. Best is trial 52 with value: 0.9347826086956522.\u001b[0m\n",
      "\u001b[32m[I 2021-11-17 11:40:09,117]\u001b[0m Trial 293 finished with value: 0.8532608695652174 and parameters: {'objective': 'Logloss', 'colsample_bylevel': 0.07140354642222385, 'depth': 3, 'boosting_type': 'Ordered', 'bootstrap_type': 'MVS'}. Best is trial 52 with value: 0.9347826086956522.\u001b[0m\n",
      "\u001b[32m[I 2021-11-17 11:40:09,526]\u001b[0m Trial 294 finished with value: 0.9293478260869565 and parameters: {'objective': 'Logloss', 'colsample_bylevel': 0.06421351148474168, 'depth': 2, 'boosting_type': 'Plain', 'bootstrap_type': 'MVS'}. Best is trial 52 with value: 0.9347826086956522.\u001b[0m\n",
      "\u001b[32m[I 2021-11-17 11:40:09,853]\u001b[0m Trial 295 finished with value: 0.8369565217391305 and parameters: {'objective': 'Logloss', 'colsample_bylevel': 0.0668118660316587, 'depth': 3, 'boosting_type': 'Plain', 'bootstrap_type': 'MVS'}. Best is trial 52 with value: 0.9347826086956522.\u001b[0m\n",
      "\u001b[32m[I 2021-11-17 11:40:10,090]\u001b[0m Trial 296 finished with value: 0.8532608695652174 and parameters: {'objective': 'Logloss', 'colsample_bylevel': 0.06069092206820305, 'depth': 2, 'boosting_type': 'Plain', 'bootstrap_type': 'MVS'}. Best is trial 52 with value: 0.9347826086956522.\u001b[0m\n",
      "\u001b[32m[I 2021-11-17 11:40:10,373]\u001b[0m Trial 297 finished with value: 0.8532608695652174 and parameters: {'objective': 'CrossEntropy', 'colsample_bylevel': 0.06319123871542924, 'depth': 10, 'boosting_type': 'Plain', 'bootstrap_type': 'Bernoulli', 'subsample': 0.7023590268568499}. Best is trial 52 with value: 0.9347826086956522.\u001b[0m\n",
      "\u001b[32m[I 2021-11-17 11:40:10,785]\u001b[0m Trial 298 finished with value: 0.8478260869565217 and parameters: {'objective': 'CrossEntropy', 'colsample_bylevel': 0.06466575507053188, 'depth': 2, 'boosting_type': 'Plain', 'bootstrap_type': 'Bernoulli', 'subsample': 0.6256172699175022}. Best is trial 52 with value: 0.9347826086956522.\u001b[0m\n",
      "\u001b[32m[I 2021-11-17 11:40:11,150]\u001b[0m Trial 299 finished with value: 0.8858695652173914 and parameters: {'objective': 'CrossEntropy', 'colsample_bylevel': 0.0683993292903814, 'depth': 2, 'boosting_type': 'Plain', 'bootstrap_type': 'Bernoulli', 'subsample': 0.10355986826610557}. Best is trial 52 with value: 0.9347826086956522.\u001b[0m\n"
     ]
    }
   ],
   "source": [
    "hyper_para_vals = optuna.create_study(direction=\"maximize\")\n",
    "hyper_para_vals.optimize(hyper_para_tuning, n_trials=300, timeout=600)"
   ]
  },
  {
   "cell_type": "code",
   "execution_count": 40,
   "id": "1c3df663",
   "metadata": {
    "execution": {
     "iopub.execute_input": "2021-11-17T11:40:11.556266Z",
     "iopub.status.busy": "2021-11-17T11:40:11.545819Z",
     "iopub.status.idle": "2021-11-17T11:40:11.571923Z",
     "shell.execute_reply": "2021-11-17T11:40:11.572465Z",
     "shell.execute_reply.started": "2021-11-07T06:35:36.911142Z"
    },
    "papermill": {
     "duration": 0.247204,
     "end_time": "2021-11-17T11:40:11.572800",
     "exception": false,
     "start_time": "2021-11-17T11:40:11.325596",
     "status": "completed"
    },
    "tags": []
   },
   "outputs": [
    {
     "name": "stdout",
     "output_type": "stream",
     "text": [
      "Number of finished trials: 300\n",
      "Best trial:\n",
      "  Value: 0.9347826086956522\n",
      "  Params: \n",
      "    objective: CrossEntropy\n",
      "    colsample_bylevel: 0.05857420246935079\n",
      "    depth: 8\n",
      "    boosting_type: Plain\n",
      "    bootstrap_type: Bernoulli\n",
      "    subsample: 0.5639073331681008\n"
     ]
    }
   ],
   "source": [
    "print(\"Number of finished trials: {}\".format(len(hyper_para_vals.trials)))\n",
    "\n",
    "print(\"Best trial:\")\n",
    "trial = hyper_para_vals.best_trial\n",
    "\n",
    "print(\"  Value: {}\".format(trial.value))\n",
    "\n",
    "print(\"  Params: \")\n",
    "for key, value in trial.params.items():\n",
    "    print(\"    {}: {}\".format(key, value))"
   ]
  },
  {
   "cell_type": "code",
   "execution_count": 41,
   "id": "45660599",
   "metadata": {
    "execution": {
     "iopub.execute_input": "2021-11-17T11:40:11.922214Z",
     "iopub.status.busy": "2021-11-17T11:40:11.921364Z",
     "iopub.status.idle": "2021-11-17T11:40:13.804381Z",
     "shell.execute_reply": "2021-11-17T11:40:13.803733Z",
     "shell.execute_reply.started": "2021-11-07T06:35:36.912401Z"
    },
    "papermill": {
     "duration": 2.06109,
     "end_time": "2021-11-17T11:40:13.804546",
     "exception": false,
     "start_time": "2021-11-17T11:40:11.743456",
     "status": "completed"
    },
    "tags": []
   },
   "outputs": [
    {
     "name": "stdout",
     "output_type": "stream",
     "text": [
      "train accuracy: 0.8978201634877384 \n",
      " test accuracy: 0.8858695652173914\n",
      "\n",
      "\n",
      "classification report for extra tree classifier\n",
      "              precision    recall  f1-score   support\n",
      "\n",
      "           0       0.83      0.89      0.86        71\n",
      "           1       0.93      0.88      0.90       113\n",
      "\n",
      "    accuracy                           0.89       184\n",
      "   macro avg       0.88      0.89      0.88       184\n",
      "weighted avg       0.89      0.89      0.89       184\n",
      "\n",
      "\n",
      "\n",
      "confusion matrix for extra tree classifier\n"
     ]
    },
    {
     "data": {
      "image/png": "[encoded data removed]",
      "text/plain": [
       "<Figure size 432x288 with 2 Axes>"
      ]
     },
     "metadata": {
      "needs_background": "light"
     },
     "output_type": "display_data"
    }
   ],
   "source": [
    "c = CatBoostClassifier(silent=True,objective='Logloss',colsample_bylevel=0.07668035398982363, depth=5, boosting_type='Ordered',bootstrap_type='Bernoulli',subsample=0.994709550179773)\n",
    "model13=c.fit(x_train, y_train)\n",
    "print(\"train accuracy:\",model13.score(x_train, y_train),\"\\n\",\"test accuracy:\",model13.score(x_test,y_test))\n",
    "\n",
    "cpred = c.predict(x_test)\n",
    "print(\"\\n\")\n",
    "print(\"classification report for extra tree classifier\")\n",
    "print(classification_report(cpred,y_test))\n",
    "print(\"\\n\")\n",
    "print(\"confusion matrix for extra tree classifier\")\n",
    "displr = plot_confusion_matrix(c, x_test, y_test ,cmap=plt.cm.OrRd , values_format='d')\n"
   ]
  },
  {
   "cell_type": "markdown",
   "id": "e7d7cbb5",
   "metadata": {
    "papermill": {
     "duration": 0.168511,
     "end_time": "2021-11-17T11:40:14.141012",
     "exception": false,
     "start_time": "2021-11-17T11:40:13.972501",
     "status": "completed"
    },
    "tags": []
   },
   "source": [
    "## 💎 Results\n",
    "\n",
    "<font size=\"4\"> This hyper parameter tuning did not outperform the model with deafault hyper parameters. This may be due to the fact that our hyper parameter space is quite small. more exhaustive search may provide higher performance. </font>\n",
    "\n",
    "<font size=\"4\"> From the above fitted models <span style=\"color:red;\">CatBoost classifier</span> has the highest classification accuracy of <span style=\"color:red;\">90.76% </span>."
   ]
  },
  {
   "cell_type": "markdown",
   "id": "e8e58803",
   "metadata": {
    "papermill": {
     "duration": 0.16677,
     "end_time": "2021-11-17T11:40:14.475015",
     "exception": false,
     "start_time": "2021-11-17T11:40:14.308245",
     "status": "completed"
    },
    "tags": []
   },
   "source": [
    "<font size=\"4\"><b>Highly appreciate your questions or feedback related to this notebook.Stay fit and healthy. THANK YOU 😊 </b></font>"
   ]
  },
  {
   "cell_type": "markdown",
   "id": "d5f06770",
   "metadata": {
    "papermill": {
     "duration": 0.167126,
     "end_time": "2021-11-17T11:40:14.813390",
     "exception": false,
     "start_time": "2021-11-17T11:40:14.646264",
     "status": "completed"
    },
    "tags": []
   },
   "source": [
    "<center><img src=\"https://media.giphy.com/media/MXiWqZBY45qiJ818nX/giphy.gif\" style=\"width:480px;height:280px;\"></center>\n"
   ]
  }
 ],
 "metadata": {
  "kernelspec": {
   "display_name": "Python 3",
   "language": "python",
   "name": "python3"
  },
  "language_info": {
   "codemirror_mode": {
    "name": "ipython",
    "version": 3
   },
   "file_extension": ".py",
   "mimetype": "text/x-python",
   "name": "python",
   "nbconvert_exporter": "python",
   "pygments_lexer": "ipython3",
   "version": "3.7.10"
  },
  "papermill": {
   "default_parameters": {},
   "duration": 202.07974,
   "end_time": "2021-11-17T11:40:16.300577",
   "environment_variables": {},
   "exception": null,
   "input_path": "__notebook__.ipynb",
   "output_path": "__notebook__.ipynb",
   "parameters": {},
   "start_time": "2021-11-17T11:36:54.220837",
   "version": "2.3.3"
  }
 },
 "nbformat": 4,
 "nbformat_minor": 5
}
